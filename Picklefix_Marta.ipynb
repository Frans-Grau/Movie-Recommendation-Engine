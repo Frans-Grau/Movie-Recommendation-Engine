{
  "nbformat": 4,
  "nbformat_minor": 0,
  "metadata": {
    "colab": {
      "provenance": [],
      "collapsed_sections": [],
      "authorship_tag": "ABX9TyN8FYy5qqlaOw3RLS9BNTRb",
      "include_colab_link": true
    },
    "kernelspec": {
      "name": "python3",
      "display_name": "Python 3"
    },
    "language_info": {
      "name": "python"
    }
  },
  "cells": [
    {
      "cell_type": "markdown",
      "metadata": {
        "id": "view-in-github",
        "colab_type": "text"
      },
      "source": [
        "<a href=\"https://colab.research.google.com/github/LuisaPolicarpo/Project3/blob/main/Picklefix_Marta.ipynb\" target=\"_parent\"><img src=\"https://colab.research.google.com/assets/colab-badge.svg\" alt=\"Open In Colab\"/></a>"
      ]
    },
    {
      "cell_type": "code",
      "execution_count": 2,
      "metadata": {
        "id": "04xhMSp3u4tY"
      },
      "outputs": [],
      "source": [
        "import pandas as pd\n",
        "import pickle"
      ]
    },
    {
      "cell_type": "code",
      "source": [
        "title_basics01 = pd.read_csv('https://datasets.imdbws.com/title.basics.tsv.gz', compression = 'gzip', sep = '\\t')\n"
      ],
      "metadata": {
        "colab": {
          "base_uri": "https://localhost:8080/"
        },
        "id": "vuhQ91bOu7JL",
        "outputId": "4bbb803a-fc9d-4a4e-ee5f-57f1555b3e27"
      },
      "execution_count": 4,
      "outputs": [
        {
          "output_type": "stream",
          "name": "stderr",
          "text": [
            "/usr/local/lib/python3.7/dist-packages/IPython/core/interactiveshell.py:3326: DtypeWarning: Columns (4) have mixed types.Specify dtype option on import or set low_memory=False.\n",
            "  exec(code_obj, self.user_global_ns, self.user_ns)\n"
          ]
        }
      ]
    },
    {
      "cell_type": "code",
      "source": [
        "title_basics01.to_pickle(\"title_basics_p.pickle\")"
      ],
      "metadata": {
        "id": "HgSJs8tkwAWH"
      },
      "execution_count": 5,
      "outputs": []
    },
    {
      "cell_type": "code",
      "source": [
        "title_ratings01 = pd.read_csv('https://datasets.imdbws.com/title.ratings.tsv.gz', compression = 'gzip', sep = '\\t')\n",
        "title_akas01 = pd.read_csv('https://datasets.imdbws.com/title.akas.tsv.gz', compression = 'gzip', sep = '\\t')\n",
        "title_crew01 = pd.read_csv('https://datasets.imdbws.com/title.crew.tsv.gz', compression = 'gzip', sep = '\\t')"
      ],
      "metadata": {
        "id": "t8A9q8-Ozlh1"
      },
      "execution_count": null,
      "outputs": []
    },
    {
      "cell_type": "code",
      "source": [
        "title_basics = pd.read_pickle('title_basics_p.pickle')\n",
        "title_ratings01.to_pickle(\"title_ratings_p.pickle\")\n",
        "title_akas01.to_pickle(\"title_akas_p.pickle\")\n",
        "title_crew01.to_pickle(\"title_crew_p.pickle\")"
      ],
      "metadata": {
        "id": "hinFacSCzudb"
      },
      "execution_count": null,
      "outputs": []
    }
  ]
}