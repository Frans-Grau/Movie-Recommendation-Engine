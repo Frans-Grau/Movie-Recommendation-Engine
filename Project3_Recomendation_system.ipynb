{
  "nbformat": 4,
  "nbformat_minor": 0,
  "metadata": {
    "colab": {
      "provenance": [],
      "collapsed_sections": [],
      "authorship_tag": "ABX9TyPCkgJqTUkPuTRgfAocFHhJ",
      "include_colab_link": true
    },
    "kernelspec": {
      "name": "python3",
      "display_name": "Python 3"
    },
    "language_info": {
      "name": "python"
    }
  },
  "cells": [
    {
      "cell_type": "markdown",
      "metadata": {
        "id": "view-in-github",
        "colab_type": "text"
      },
      "source": [
        "<a href=\"https://colab.research.google.com/github/LuisaPolicarpo/Project3/blob/main/Project3_Recomendation_system.ipynb\" target=\"_parent\"><img src=\"https://colab.research.google.com/assets/colab-badge.svg\" alt=\"Open In Colab\"/></a>"
      ]
    },
    {
      "cell_type": "code",
      "execution_count": null,
      "metadata": {
        "id": "Ry68sBH32JHz"
      },
      "outputs": [],
      "source": [
        "import pandas as pd\n",
        "\n",
        "from sklearn.linear_model import LogisticRegression\n",
        "from sklearn.model_selection import train_test_split"
      ]
    },
    {
      "cell_type": "code",
      "source": [
        "#Import table\n",
        "df_inovmovie = pd.read_pickle('/content/drive/MyDrive/Colab Notebooks/Projects/Project3_my copy/title_basics_p.pkl')"
      ],
      "metadata": {
        "id": "daIcE3242u9b"
      },
      "execution_count": null,
      "outputs": []
    },
    {
      "cell_type": "code",
      "source": [
        "df_inovmovie.columns"
      ],
      "metadata": {
        "id": "tE1TmBug260r"
      },
      "execution_count": null,
      "outputs": []
    },
    {
      "cell_type": "code",
      "source": [
        "#KNN model\n",
        "\n",
        "X = df_inovmovie[[]]\n",
        "\n",
        "distanceKNN = NearestNeighbors(n_neighbors=5).fit(X)\n",
        "\n",
        "Name = ['The Shawshank Redemption']\n",
        "\n",
        "array1, array2 = distanceKNN.kneighbors(Name, []])\n",
        "array1, array2"
      ],
      "metadata": {
        "id": "YAAcRU3E2yB_"
      },
      "execution_count": null,
      "outputs": []
    },
    {
      "cell_type": "code",
      "source": [
        "list_1 = array1.tolist()\n",
        "list_2 = array2.tolist()\n",
        "\n",
        "flat_list1 = list(np.concatenate(list_1).flat)\n",
        "flat_list2 = list(np.concatenate(list_2).flat)\n",
        "\n",
        "d = {'Distance': flat_list1,'#': flat_list2}\n",
        "df12 = pd.DataFrame(d)\n",
        "\n",
        "dfnl_df12 = pd.merge(df_notLegendary, df12, how='inner')\n",
        "dfnl_df12.sort_values(by = 'Distance').head(5)"
      ],
      "metadata": {
        "id": "dl1RlX7i5huy"
      },
      "execution_count": null,
      "outputs": []
    }
  ]
}