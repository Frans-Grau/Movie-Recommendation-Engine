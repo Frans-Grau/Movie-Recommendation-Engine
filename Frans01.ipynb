{
 "cells": [
  {
   "cell_type": "code",
   "execution_count": 15,
   "metadata": {},
   "outputs": [],
   "source": [
    "### TITLE RATINGS & TITLE EPISODE \n",
    "\n",
    "## TITLE RATINGS - Contains the IMDb rating and votes information for titles.\n",
    "# tconst (string) - alphanumeric unique identifier of the title\n",
    "# averageRating – weighted average of all the individual user ratings\n",
    "# numVotes - number of votes the title has received\n",
    "\n",
    "## TITLE EPISODE - Contains the tv episode information.\n",
    "# tconst (string) - alphanumeric identifier of episode\n",
    "# parentTconst (string) - alphanumeric identifier of the parent TV Series\n",
    "# seasonNumber (integer) – season number the episode belongs to\n",
    "# episodeNumber (integer) – episode number of the tconst in the TV series"
   ]
  },
  {
   "cell_type": "code",
   "execution_count": 16,
   "metadata": {},
   "outputs": [],
   "source": [
    "# import pandas as pd\n",
    "# import pickle\n",
    "# ratings01 = pd.read_csv('https://datasets.imdbws.com/title.ratings.tsv.gz', compression = 'gzip', sep = '\\t')\n",
    "# title_episode01 = pd.read_csv('https://datasets.imdbws.com/title.episode.tsv.gz', compression = 'gzip', sep = '\\t')"
   ]
  },
  {
   "cell_type": "code",
   "execution_count": 17,
   "metadata": {},
   "outputs": [],
   "source": [
    "# # To Pickle \n",
    "# ratings01.to_pickle(\"zz-ratings.pickle\")\n",
    "# title_episode01.to_pickle(\"zz-title-episodes.pickle\")"
   ]
  },
  {
   "cell_type": "code",
   "execution_count": 18,
   "metadata": {},
   "outputs": [],
   "source": [
    "# ratings = pd.read_pickle(\"zz-ratings.pickle\")\n",
    "# title_episode = pd.read_pickle(\"zz-title-episodes.pickle\")"
   ]
  },
  {
   "cell_type": "code",
   "execution_count": 19,
   "metadata": {},
   "outputs": [],
   "source": [
    "# TITLE RATINGS - overview / data type\n",
    "# ratings.info() \n",
    "\n",
    "# tconst - 1238560 - non-null - object (str)\n",
    "# averageRating - 1238560 - non-null - float64\n",
    "# numVotes - 1238560 - non-null - int64"
   ]
  }
 ],
 "metadata": {
  "kernelspec": {
   "display_name": "Python 3.9.13 ('Data')",
   "language": "python",
   "name": "python3"
  },
  "language_info": {
   "codemirror_mode": {
    "name": "ipython",
    "version": 3
   },
   "file_extension": ".py",
   "mimetype": "text/x-python",
   "name": "python",
   "nbconvert_exporter": "python",
   "pygments_lexer": "ipython3",
   "version": "3.9.13"
  },
  "orig_nbformat": 4,
  "vscode": {
   "interpreter": {
    "hash": "25876271bee417cea62ac4a874d4e4ae52fe419c2f0f6d8a5704a6b7fa872526"
   }
  }
 },
 "nbformat": 4,
 "nbformat_minor": 2
}
