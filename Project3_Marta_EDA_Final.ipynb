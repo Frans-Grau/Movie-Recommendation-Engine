{
  "cells": [
    {
      "cell_type": "markdown",
      "metadata": {
        "id": "view-in-github",
        "colab_type": "text"
      },
      "source": [
        "<a href=\"https://colab.research.google.com/github/LuisaPolicarpo/Project3/blob/main/Project3_Marta_EDA_Final.ipynb\" target=\"_parent\"><img src=\"https://colab.research.google.com/assets/colab-badge.svg\" alt=\"Open In Colab\"/></a>"
      ]
    },
    {
      "cell_type": "code",
      "source": [
        "#IMDB dataset - general info\n",
        "# title.akas.tsv.gz - Contains the following information for titles:\n",
        "# titleId (string) - a tconst, an alphanumeric unique identifier of the title\n",
        "# ordering (integer) – a number to uniquely identify rows for a given titleId\n",
        "# title (string) – the localized title\n",
        "# region (string) - the region for this version of the title\n",
        "# language (string) - the language of the title\n",
        "# types (array) - Enumerated set of attributes for this alternative title. One or more of the following: \"alternative\", \"dvd\", \"festival\", \"tv\", \"video\", \"working\", \"original\", \"imdbDisplay\". New values may be added in the future without warning\n",
        "# attributes (array) - Additional terms to describe this alternative title, not enumerated\n",
        "# isOriginalTitle (boolean) – 0: not original title; 1: original title\n",
        "\n",
        "# Marta\n",
        "# title.basics.tsv.gz - Contains the following information for titles:\n",
        "# tconst (string) - alphanumeric unique identifier of the title\n",
        "# titleType (string) – the type/format of the title (e.g. movie, short, tvseries, tvepisode, video, etc)\n",
        "# primaryTitle (string) – the more popular title / the title used by the filmmakers on promotional materials at the point of release\n",
        "# originalTitle (string) - original title, in the original language\n",
        "# isAdult (boolean) - 0: non-adult title; 1: adult title\n",
        "# startYear (YYYY) – represents the release year of a title. In the case of TV Series, it is the series start year\n",
        "# endYear (YYYY) – TV Series end year. ‘\\N’ for all other title types\n",
        "# runtimeMinutes – primary runtime of the title, in minutes\n",
        "# genres (string array) – includes up to three genres associated with the title\n",
        "\n",
        "# Marta\n",
        "# title.crew.tsv.gz – Contains the director and writer information for all the titles in IMDb. Fields include:\n",
        "# tconst (string) - alphanumeric unique identifier of the title\n",
        "# directors (array of nconsts) - director(s) of the given title\n",
        "# writers (array of nconsts) – writer(s) of the given title\n",
        "\n",
        "# title.episode.tsv.gz – Contains the tv episode information. Fields include:\n",
        "# tconst (string) - alphanumeric identifier of episode\n",
        "# parentTconst (string) - alphanumeric identifier of the parent TV Series\n",
        "# seasonNumber (integer) – season number the episode belongs to\n",
        "# episodeNumber (integer) – episode number of the tconst in the TV series\n",
        "\n",
        "# title.principals.tsv.gz – Contains the principal cast/crew for titles\n",
        "# tconst (string) - alphanumeric unique identifier of the title\n",
        "# ordering (integer) – a number to uniquely identify rows for a given titleId\n",
        "# nconst (string) - alphanumeric unique identifier of the name/person\n",
        "# category (string) - the category of job that person was in\n",
        "# job (string) - the specific job title if applicable, else '\\N'\n",
        "# characters (string) - the name of the character played if applicable, else '\\N'\n",
        "\n",
        "#self-category: \n",
        "# Appear in titles with the genre Documentary\n",
        "# Appear in titles with the keyword TV-special (e.g. the Academy Awards ceremony broadcast)\n",
        "# Appear in titles with the keyword non-fiction (e.g. Talk-Shows)\n",
        "# Are credited as \"himself, herself, self, themselves\" (e.g. in Making-of featurettes or Reality TV)\n",
        "# are displayed in a separate section called \"Self\" and other roles will appear in their respective groupings.\n",
        "\n",
        "# title.ratings.tsv.gz – Contains the IMDb rating and votes information for titles\n",
        "# tconst (string) - alphanumeric unique identifier of the title\n",
        "# averageRating – weighted average of all the individual user ratings\n",
        "# numVotes - number of votes the title has received\n",
        "\n",
        "# name.basics.tsv.gz – Contains the following information for names:\n",
        "# nconst (string) - alphanumeric unique identifier of the name/person\n",
        "# primaryName (string)– name by which the person is most often credited\n",
        "# birthYear – in YYYY format\n",
        "# deathYear – in YYYY format if applicable, else '\\N'\n",
        "# primaryProfession (array of strings)– the top-3 professions of the person\n",
        "# knownForTitles (array of tconsts) – titles the person is known for"
      ],
      "metadata": {
        "id": "UyhFwkQbmWwb"
      },
      "execution_count": null,
      "outputs": []
    },
    {
      "cell_type": "code",
      "execution_count": null,
      "metadata": {
        "id": "MKzcEsgQgc6F",
        "colab": {
          "base_uri": "https://localhost:8080/"
        },
        "outputId": "ef389152-bda3-4560-c66f-5f48ca2d86a5"
      },
      "outputs": [
        {
          "output_type": "stream",
          "name": "stderr",
          "text": [
            "[nltk_data] Downloading package punkt to /root/nltk_data...\n",
            "[nltk_data]   Package punkt is already up-to-date!\n",
            "[nltk_data] Downloading package stopwords to /root/nltk_data...\n",
            "[nltk_data]   Package stopwords is already up-to-date!\n"
          ]
        }
      ],
      "source": [
        "import pandas as pd\n",
        "import numpy as np\n",
        "import pickle\n",
        "import seaborn as sns\n",
        "import matplotlib.pyplot as plt\n",
        "from datetime import datetime\n",
        "import regex as re\n",
        "import nltk\n",
        "nltk.download('punkt')\n",
        "nltk.download('stopwords')\n",
        "\n",
        "my_stopwords = nltk.corpus.stopwords.words('english')"
      ]
    },
    {
      "cell_type": "code",
      "source": [
        "from google.colab import drive\n",
        "drive.mount('/content/drive')"
      ],
      "metadata": {
        "colab": {
          "base_uri": "https://localhost:8080/"
        },
        "id": "e8NzdwuVgpg5",
        "outputId": "b1b5e40f-4478-4514-dd49-61a2c5cff06a"
      },
      "execution_count": null,
      "outputs": [
        {
          "output_type": "stream",
          "name": "stdout",
          "text": [
            "Drive already mounted at /content/drive; to attempt to forcibly remount, call drive.mount(\"/content/drive\", force_remount=True).\n"
          ]
        }
      ]
    },
    {
      "cell_type": "code",
      "source": [
        "%cd drive/MyDrive"
      ],
      "metadata": {
        "colab": {
          "base_uri": "https://localhost:8080/"
        },
        "id": "myU6pOpci2O6",
        "outputId": "92cd3d34-4196-4eb0-923d-195cd187fee9"
      },
      "execution_count": null,
      "outputs": [
        {
          "output_type": "stream",
          "name": "stdout",
          "text": [
            "/content/drive/MyDrive\n"
          ]
        }
      ]
    },
    {
      "cell_type": "code",
      "source": [
        "#IMDB_title.basics\n",
        "title_basics = pd.read_pickle('/content/drive/MyDrive/Colab Notebooks/Projects/Project3_my copy/title_basics_p.pkl')\n",
        "title_basics"
      ],
      "metadata": {
        "colab": {
          "base_uri": "https://localhost:8080/",
          "height": 423
        },
        "id": "hpj7B4TQllVu",
        "outputId": "c750e05c-5654-4cb6-e4d3-cf93ae69745e"
      },
      "execution_count": null,
      "outputs": [
        {
          "output_type": "execute_result",
          "data": {
            "text/plain": [
              "            tconst  titleType               primaryTitle  \\\n",
              "0        tt0000001      short                 Carmencita   \n",
              "1        tt0000002      short     Le clown et ses chiens   \n",
              "2        tt0000003      short             Pauvre Pierrot   \n",
              "3        tt0000004      short                Un bon bock   \n",
              "4        tt0000005      short           Blacksmith Scene   \n",
              "...            ...        ...                        ...   \n",
              "9324309  tt9916848  tvEpisode              Episode #3.17   \n",
              "9324310  tt9916850  tvEpisode              Episode #3.19   \n",
              "9324311  tt9916852  tvEpisode              Episode #3.20   \n",
              "9324312  tt9916856      short                   The Wind   \n",
              "9324313  tt9916880  tvEpisode  Horrid Henry Knows It All   \n",
              "\n",
              "                     originalTitle isAdult startYear endYear runtimeMinutes  \\\n",
              "0                       Carmencita       0      1894      \\N              1   \n",
              "1           Le clown et ses chiens       0      1892      \\N              5   \n",
              "2                   Pauvre Pierrot       0      1892      \\N              4   \n",
              "3                      Un bon bock       0      1892      \\N             12   \n",
              "4                 Blacksmith Scene       0      1893      \\N              1   \n",
              "...                            ...     ...       ...     ...            ...   \n",
              "9324309              Episode #3.17       0      2010      \\N             \\N   \n",
              "9324310              Episode #3.19       0      2010      \\N             \\N   \n",
              "9324311              Episode #3.20       0      2010      \\N             \\N   \n",
              "9324312                   The Wind       0      2015      \\N             27   \n",
              "9324313  Horrid Henry Knows It All       0      2014      \\N             10   \n",
              "\n",
              "                             genres  \n",
              "0                 Documentary,Short  \n",
              "1                   Animation,Short  \n",
              "2          Animation,Comedy,Romance  \n",
              "3                   Animation,Short  \n",
              "4                      Comedy,Short  \n",
              "...                             ...  \n",
              "9324309         Action,Drama,Family  \n",
              "9324310         Action,Drama,Family  \n",
              "9324311         Action,Drama,Family  \n",
              "9324312                       Short  \n",
              "9324313  Adventure,Animation,Comedy  \n",
              "\n",
              "[9324314 rows x 9 columns]"
            ],
            "text/html": [
              "\n",
              "  <div id=\"df-3f92bd7b-739a-49c6-82eb-3dd232e63b85\">\n",
              "    <div class=\"colab-df-container\">\n",
              "      <div>\n",
              "<style scoped>\n",
              "    .dataframe tbody tr th:only-of-type {\n",
              "        vertical-align: middle;\n",
              "    }\n",
              "\n",
              "    .dataframe tbody tr th {\n",
              "        vertical-align: top;\n",
              "    }\n",
              "\n",
              "    .dataframe thead th {\n",
              "        text-align: right;\n",
              "    }\n",
              "</style>\n",
              "<table border=\"1\" class=\"dataframe\">\n",
              "  <thead>\n",
              "    <tr style=\"text-align: right;\">\n",
              "      <th></th>\n",
              "      <th>tconst</th>\n",
              "      <th>titleType</th>\n",
              "      <th>primaryTitle</th>\n",
              "      <th>originalTitle</th>\n",
              "      <th>isAdult</th>\n",
              "      <th>startYear</th>\n",
              "      <th>endYear</th>\n",
              "      <th>runtimeMinutes</th>\n",
              "      <th>genres</th>\n",
              "    </tr>\n",
              "  </thead>\n",
              "  <tbody>\n",
              "    <tr>\n",
              "      <th>0</th>\n",
              "      <td>tt0000001</td>\n",
              "      <td>short</td>\n",
              "      <td>Carmencita</td>\n",
              "      <td>Carmencita</td>\n",
              "      <td>0</td>\n",
              "      <td>1894</td>\n",
              "      <td>\\N</td>\n",
              "      <td>1</td>\n",
              "      <td>Documentary,Short</td>\n",
              "    </tr>\n",
              "    <tr>\n",
              "      <th>1</th>\n",
              "      <td>tt0000002</td>\n",
              "      <td>short</td>\n",
              "      <td>Le clown et ses chiens</td>\n",
              "      <td>Le clown et ses chiens</td>\n",
              "      <td>0</td>\n",
              "      <td>1892</td>\n",
              "      <td>\\N</td>\n",
              "      <td>5</td>\n",
              "      <td>Animation,Short</td>\n",
              "    </tr>\n",
              "    <tr>\n",
              "      <th>2</th>\n",
              "      <td>tt0000003</td>\n",
              "      <td>short</td>\n",
              "      <td>Pauvre Pierrot</td>\n",
              "      <td>Pauvre Pierrot</td>\n",
              "      <td>0</td>\n",
              "      <td>1892</td>\n",
              "      <td>\\N</td>\n",
              "      <td>4</td>\n",
              "      <td>Animation,Comedy,Romance</td>\n",
              "    </tr>\n",
              "    <tr>\n",
              "      <th>3</th>\n",
              "      <td>tt0000004</td>\n",
              "      <td>short</td>\n",
              "      <td>Un bon bock</td>\n",
              "      <td>Un bon bock</td>\n",
              "      <td>0</td>\n",
              "      <td>1892</td>\n",
              "      <td>\\N</td>\n",
              "      <td>12</td>\n",
              "      <td>Animation,Short</td>\n",
              "    </tr>\n",
              "    <tr>\n",
              "      <th>4</th>\n",
              "      <td>tt0000005</td>\n",
              "      <td>short</td>\n",
              "      <td>Blacksmith Scene</td>\n",
              "      <td>Blacksmith Scene</td>\n",
              "      <td>0</td>\n",
              "      <td>1893</td>\n",
              "      <td>\\N</td>\n",
              "      <td>1</td>\n",
              "      <td>Comedy,Short</td>\n",
              "    </tr>\n",
              "    <tr>\n",
              "      <th>...</th>\n",
              "      <td>...</td>\n",
              "      <td>...</td>\n",
              "      <td>...</td>\n",
              "      <td>...</td>\n",
              "      <td>...</td>\n",
              "      <td>...</td>\n",
              "      <td>...</td>\n",
              "      <td>...</td>\n",
              "      <td>...</td>\n",
              "    </tr>\n",
              "    <tr>\n",
              "      <th>9324309</th>\n",
              "      <td>tt9916848</td>\n",
              "      <td>tvEpisode</td>\n",
              "      <td>Episode #3.17</td>\n",
              "      <td>Episode #3.17</td>\n",
              "      <td>0</td>\n",
              "      <td>2010</td>\n",
              "      <td>\\N</td>\n",
              "      <td>\\N</td>\n",
              "      <td>Action,Drama,Family</td>\n",
              "    </tr>\n",
              "    <tr>\n",
              "      <th>9324310</th>\n",
              "      <td>tt9916850</td>\n",
              "      <td>tvEpisode</td>\n",
              "      <td>Episode #3.19</td>\n",
              "      <td>Episode #3.19</td>\n",
              "      <td>0</td>\n",
              "      <td>2010</td>\n",
              "      <td>\\N</td>\n",
              "      <td>\\N</td>\n",
              "      <td>Action,Drama,Family</td>\n",
              "    </tr>\n",
              "    <tr>\n",
              "      <th>9324311</th>\n",
              "      <td>tt9916852</td>\n",
              "      <td>tvEpisode</td>\n",
              "      <td>Episode #3.20</td>\n",
              "      <td>Episode #3.20</td>\n",
              "      <td>0</td>\n",
              "      <td>2010</td>\n",
              "      <td>\\N</td>\n",
              "      <td>\\N</td>\n",
              "      <td>Action,Drama,Family</td>\n",
              "    </tr>\n",
              "    <tr>\n",
              "      <th>9324312</th>\n",
              "      <td>tt9916856</td>\n",
              "      <td>short</td>\n",
              "      <td>The Wind</td>\n",
              "      <td>The Wind</td>\n",
              "      <td>0</td>\n",
              "      <td>2015</td>\n",
              "      <td>\\N</td>\n",
              "      <td>27</td>\n",
              "      <td>Short</td>\n",
              "    </tr>\n",
              "    <tr>\n",
              "      <th>9324313</th>\n",
              "      <td>tt9916880</td>\n",
              "      <td>tvEpisode</td>\n",
              "      <td>Horrid Henry Knows It All</td>\n",
              "      <td>Horrid Henry Knows It All</td>\n",
              "      <td>0</td>\n",
              "      <td>2014</td>\n",
              "      <td>\\N</td>\n",
              "      <td>10</td>\n",
              "      <td>Adventure,Animation,Comedy</td>\n",
              "    </tr>\n",
              "  </tbody>\n",
              "</table>\n",
              "<p>9324314 rows × 9 columns</p>\n",
              "</div>\n",
              "      <button class=\"colab-df-convert\" onclick=\"convertToInteractive('df-3f92bd7b-739a-49c6-82eb-3dd232e63b85')\"\n",
              "              title=\"Convert this dataframe to an interactive table.\"\n",
              "              style=\"display:none;\">\n",
              "        \n",
              "  <svg xmlns=\"http://www.w3.org/2000/svg\" height=\"24px\"viewBox=\"0 0 24 24\"\n",
              "       width=\"24px\">\n",
              "    <path d=\"M0 0h24v24H0V0z\" fill=\"none\"/>\n",
              "    <path d=\"M18.56 5.44l.94 2.06.94-2.06 2.06-.94-2.06-.94-.94-2.06-.94 2.06-2.06.94zm-11 1L8.5 8.5l.94-2.06 2.06-.94-2.06-.94L8.5 2.5l-.94 2.06-2.06.94zm10 10l.94 2.06.94-2.06 2.06-.94-2.06-.94-.94-2.06-.94 2.06-2.06.94z\"/><path d=\"M17.41 7.96l-1.37-1.37c-.4-.4-.92-.59-1.43-.59-.52 0-1.04.2-1.43.59L10.3 9.45l-7.72 7.72c-.78.78-.78 2.05 0 2.83L4 21.41c.39.39.9.59 1.41.59.51 0 1.02-.2 1.41-.59l7.78-7.78 2.81-2.81c.8-.78.8-2.07 0-2.86zM5.41 20L4 18.59l7.72-7.72 1.47 1.35L5.41 20z\"/>\n",
              "  </svg>\n",
              "      </button>\n",
              "      \n",
              "  <style>\n",
              "    .colab-df-container {\n",
              "      display:flex;\n",
              "      flex-wrap:wrap;\n",
              "      gap: 12px;\n",
              "    }\n",
              "\n",
              "    .colab-df-convert {\n",
              "      background-color: #E8F0FE;\n",
              "      border: none;\n",
              "      border-radius: 50%;\n",
              "      cursor: pointer;\n",
              "      display: none;\n",
              "      fill: #1967D2;\n",
              "      height: 32px;\n",
              "      padding: 0 0 0 0;\n",
              "      width: 32px;\n",
              "    }\n",
              "\n",
              "    .colab-df-convert:hover {\n",
              "      background-color: #E2EBFA;\n",
              "      box-shadow: 0px 1px 2px rgba(60, 64, 67, 0.3), 0px 1px 3px 1px rgba(60, 64, 67, 0.15);\n",
              "      fill: #174EA6;\n",
              "    }\n",
              "\n",
              "    [theme=dark] .colab-df-convert {\n",
              "      background-color: #3B4455;\n",
              "      fill: #D2E3FC;\n",
              "    }\n",
              "\n",
              "    [theme=dark] .colab-df-convert:hover {\n",
              "      background-color: #434B5C;\n",
              "      box-shadow: 0px 1px 3px 1px rgba(0, 0, 0, 0.15);\n",
              "      filter: drop-shadow(0px 1px 2px rgba(0, 0, 0, 0.3));\n",
              "      fill: #FFFFFF;\n",
              "    }\n",
              "  </style>\n",
              "\n",
              "      <script>\n",
              "        const buttonEl =\n",
              "          document.querySelector('#df-3f92bd7b-739a-49c6-82eb-3dd232e63b85 button.colab-df-convert');\n",
              "        buttonEl.style.display =\n",
              "          google.colab.kernel.accessAllowed ? 'block' : 'none';\n",
              "\n",
              "        async function convertToInteractive(key) {\n",
              "          const element = document.querySelector('#df-3f92bd7b-739a-49c6-82eb-3dd232e63b85');\n",
              "          const dataTable =\n",
              "            await google.colab.kernel.invokeFunction('convertToInteractive',\n",
              "                                                     [key], {});\n",
              "          if (!dataTable) return;\n",
              "\n",
              "          const docLinkHtml = 'Like what you see? Visit the ' +\n",
              "            '<a target=\"_blank\" href=https://colab.research.google.com/notebooks/data_table.ipynb>data table notebook</a>'\n",
              "            + ' to learn more about interactive tables.';\n",
              "          element.innerHTML = '';\n",
              "          dataTable['output_type'] = 'display_data';\n",
              "          await google.colab.output.renderOutput(dataTable, element);\n",
              "          const docLink = document.createElement('div');\n",
              "          docLink.innerHTML = docLinkHtml;\n",
              "          element.appendChild(docLink);\n",
              "        }\n",
              "      </script>\n",
              "    </div>\n",
              "  </div>\n",
              "  "
            ]
          },
          "metadata": {},
          "execution_count": 5
        }
      ]
    },
    {
      "cell_type": "code",
      "source": [
        "#IMDB_title.akas\n",
        "title_akas = pd.read_pickle('/content/drive/MyDrive/Colab Notebooks/Projects/Project3_my copy/title_akas_p.pickle')\n",
        "title_akas"
      ],
      "metadata": {
        "id": "Bx3Sc5OHlq1k",
        "colab": {
          "base_uri": "https://localhost:8080/",
          "height": 423
        },
        "outputId": "f00b5ddc-e684-4c6a-f3b0-529549364438"
      },
      "execution_count": null,
      "outputs": [
        {
          "output_type": "execute_result",
          "data": {
            "text/plain": [
              "            titleId  ordering                      title region language  \\\n",
              "0         tt0000001         1                 Карменсіта     UA       \\N   \n",
              "1         tt0000001         2                 Carmencita     DE       \\N   \n",
              "2         tt0000001         3  Carmencita - spanyol tánc     HU       \\N   \n",
              "3         tt0000001         4                 Καρμενσίτα     GR       \\N   \n",
              "4         tt0000001         5                 Карменсита     RU       \\N   \n",
              "...             ...       ...                        ...    ...      ...   \n",
              "33626383  tt9916852         5             Episódio #3.20     PT       pt   \n",
              "33626384  tt9916852         6             Episodio #3.20     IT       it   \n",
              "33626385  tt9916852         7               एपिसोड #3.20     IN       hi   \n",
              "33626386  tt9916856         1                   The Wind     DE       \\N   \n",
              "33626387  tt9916856         2                   The Wind     \\N       \\N   \n",
              "\n",
              "                types     attributes isOriginalTitle  \n",
              "0         imdbDisplay             \\N               0  \n",
              "1                  \\N  literal title               0  \n",
              "2         imdbDisplay             \\N               0  \n",
              "3         imdbDisplay             \\N               0  \n",
              "4         imdbDisplay             \\N               0  \n",
              "...               ...            ...             ...  \n",
              "33626383           \\N             \\N               0  \n",
              "33626384           \\N             \\N               0  \n",
              "33626385           \\N             \\N               0  \n",
              "33626386  imdbDisplay             \\N               0  \n",
              "33626387     original             \\N               1  \n",
              "\n",
              "[33626388 rows x 8 columns]"
            ],
            "text/html": [
              "\n",
              "  <div id=\"df-3b84d98e-20d5-4e6c-88fb-fa8b199c463e\">\n",
              "    <div class=\"colab-df-container\">\n",
              "      <div>\n",
              "<style scoped>\n",
              "    .dataframe tbody tr th:only-of-type {\n",
              "        vertical-align: middle;\n",
              "    }\n",
              "\n",
              "    .dataframe tbody tr th {\n",
              "        vertical-align: top;\n",
              "    }\n",
              "\n",
              "    .dataframe thead th {\n",
              "        text-align: right;\n",
              "    }\n",
              "</style>\n",
              "<table border=\"1\" class=\"dataframe\">\n",
              "  <thead>\n",
              "    <tr style=\"text-align: right;\">\n",
              "      <th></th>\n",
              "      <th>titleId</th>\n",
              "      <th>ordering</th>\n",
              "      <th>title</th>\n",
              "      <th>region</th>\n",
              "      <th>language</th>\n",
              "      <th>types</th>\n",
              "      <th>attributes</th>\n",
              "      <th>isOriginalTitle</th>\n",
              "    </tr>\n",
              "  </thead>\n",
              "  <tbody>\n",
              "    <tr>\n",
              "      <th>0</th>\n",
              "      <td>tt0000001</td>\n",
              "      <td>1</td>\n",
              "      <td>Карменсіта</td>\n",
              "      <td>UA</td>\n",
              "      <td>\\N</td>\n",
              "      <td>imdbDisplay</td>\n",
              "      <td>\\N</td>\n",
              "      <td>0</td>\n",
              "    </tr>\n",
              "    <tr>\n",
              "      <th>1</th>\n",
              "      <td>tt0000001</td>\n",
              "      <td>2</td>\n",
              "      <td>Carmencita</td>\n",
              "      <td>DE</td>\n",
              "      <td>\\N</td>\n",
              "      <td>\\N</td>\n",
              "      <td>literal title</td>\n",
              "      <td>0</td>\n",
              "    </tr>\n",
              "    <tr>\n",
              "      <th>2</th>\n",
              "      <td>tt0000001</td>\n",
              "      <td>3</td>\n",
              "      <td>Carmencita - spanyol tánc</td>\n",
              "      <td>HU</td>\n",
              "      <td>\\N</td>\n",
              "      <td>imdbDisplay</td>\n",
              "      <td>\\N</td>\n",
              "      <td>0</td>\n",
              "    </tr>\n",
              "    <tr>\n",
              "      <th>3</th>\n",
              "      <td>tt0000001</td>\n",
              "      <td>4</td>\n",
              "      <td>Καρμενσίτα</td>\n",
              "      <td>GR</td>\n",
              "      <td>\\N</td>\n",
              "      <td>imdbDisplay</td>\n",
              "      <td>\\N</td>\n",
              "      <td>0</td>\n",
              "    </tr>\n",
              "    <tr>\n",
              "      <th>4</th>\n",
              "      <td>tt0000001</td>\n",
              "      <td>5</td>\n",
              "      <td>Карменсита</td>\n",
              "      <td>RU</td>\n",
              "      <td>\\N</td>\n",
              "      <td>imdbDisplay</td>\n",
              "      <td>\\N</td>\n",
              "      <td>0</td>\n",
              "    </tr>\n",
              "    <tr>\n",
              "      <th>...</th>\n",
              "      <td>...</td>\n",
              "      <td>...</td>\n",
              "      <td>...</td>\n",
              "      <td>...</td>\n",
              "      <td>...</td>\n",
              "      <td>...</td>\n",
              "      <td>...</td>\n",
              "      <td>...</td>\n",
              "    </tr>\n",
              "    <tr>\n",
              "      <th>33626383</th>\n",
              "      <td>tt9916852</td>\n",
              "      <td>5</td>\n",
              "      <td>Episódio #3.20</td>\n",
              "      <td>PT</td>\n",
              "      <td>pt</td>\n",
              "      <td>\\N</td>\n",
              "      <td>\\N</td>\n",
              "      <td>0</td>\n",
              "    </tr>\n",
              "    <tr>\n",
              "      <th>33626384</th>\n",
              "      <td>tt9916852</td>\n",
              "      <td>6</td>\n",
              "      <td>Episodio #3.20</td>\n",
              "      <td>IT</td>\n",
              "      <td>it</td>\n",
              "      <td>\\N</td>\n",
              "      <td>\\N</td>\n",
              "      <td>0</td>\n",
              "    </tr>\n",
              "    <tr>\n",
              "      <th>33626385</th>\n",
              "      <td>tt9916852</td>\n",
              "      <td>7</td>\n",
              "      <td>एपिसोड #3.20</td>\n",
              "      <td>IN</td>\n",
              "      <td>hi</td>\n",
              "      <td>\\N</td>\n",
              "      <td>\\N</td>\n",
              "      <td>0</td>\n",
              "    </tr>\n",
              "    <tr>\n",
              "      <th>33626386</th>\n",
              "      <td>tt9916856</td>\n",
              "      <td>1</td>\n",
              "      <td>The Wind</td>\n",
              "      <td>DE</td>\n",
              "      <td>\\N</td>\n",
              "      <td>imdbDisplay</td>\n",
              "      <td>\\N</td>\n",
              "      <td>0</td>\n",
              "    </tr>\n",
              "    <tr>\n",
              "      <th>33626387</th>\n",
              "      <td>tt9916856</td>\n",
              "      <td>2</td>\n",
              "      <td>The Wind</td>\n",
              "      <td>\\N</td>\n",
              "      <td>\\N</td>\n",
              "      <td>original</td>\n",
              "      <td>\\N</td>\n",
              "      <td>1</td>\n",
              "    </tr>\n",
              "  </tbody>\n",
              "</table>\n",
              "<p>33626388 rows × 8 columns</p>\n",
              "</div>\n",
              "      <button class=\"colab-df-convert\" onclick=\"convertToInteractive('df-3b84d98e-20d5-4e6c-88fb-fa8b199c463e')\"\n",
              "              title=\"Convert this dataframe to an interactive table.\"\n",
              "              style=\"display:none;\">\n",
              "        \n",
              "  <svg xmlns=\"http://www.w3.org/2000/svg\" height=\"24px\"viewBox=\"0 0 24 24\"\n",
              "       width=\"24px\">\n",
              "    <path d=\"M0 0h24v24H0V0z\" fill=\"none\"/>\n",
              "    <path d=\"M18.56 5.44l.94 2.06.94-2.06 2.06-.94-2.06-.94-.94-2.06-.94 2.06-2.06.94zm-11 1L8.5 8.5l.94-2.06 2.06-.94-2.06-.94L8.5 2.5l-.94 2.06-2.06.94zm10 10l.94 2.06.94-2.06 2.06-.94-2.06-.94-.94-2.06-.94 2.06-2.06.94z\"/><path d=\"M17.41 7.96l-1.37-1.37c-.4-.4-.92-.59-1.43-.59-.52 0-1.04.2-1.43.59L10.3 9.45l-7.72 7.72c-.78.78-.78 2.05 0 2.83L4 21.41c.39.39.9.59 1.41.59.51 0 1.02-.2 1.41-.59l7.78-7.78 2.81-2.81c.8-.78.8-2.07 0-2.86zM5.41 20L4 18.59l7.72-7.72 1.47 1.35L5.41 20z\"/>\n",
              "  </svg>\n",
              "      </button>\n",
              "      \n",
              "  <style>\n",
              "    .colab-df-container {\n",
              "      display:flex;\n",
              "      flex-wrap:wrap;\n",
              "      gap: 12px;\n",
              "    }\n",
              "\n",
              "    .colab-df-convert {\n",
              "      background-color: #E8F0FE;\n",
              "      border: none;\n",
              "      border-radius: 50%;\n",
              "      cursor: pointer;\n",
              "      display: none;\n",
              "      fill: #1967D2;\n",
              "      height: 32px;\n",
              "      padding: 0 0 0 0;\n",
              "      width: 32px;\n",
              "    }\n",
              "\n",
              "    .colab-df-convert:hover {\n",
              "      background-color: #E2EBFA;\n",
              "      box-shadow: 0px 1px 2px rgba(60, 64, 67, 0.3), 0px 1px 3px 1px rgba(60, 64, 67, 0.15);\n",
              "      fill: #174EA6;\n",
              "    }\n",
              "\n",
              "    [theme=dark] .colab-df-convert {\n",
              "      background-color: #3B4455;\n",
              "      fill: #D2E3FC;\n",
              "    }\n",
              "\n",
              "    [theme=dark] .colab-df-convert:hover {\n",
              "      background-color: #434B5C;\n",
              "      box-shadow: 0px 1px 3px 1px rgba(0, 0, 0, 0.15);\n",
              "      filter: drop-shadow(0px 1px 2px rgba(0, 0, 0, 0.3));\n",
              "      fill: #FFFFFF;\n",
              "    }\n",
              "  </style>\n",
              "\n",
              "      <script>\n",
              "        const buttonEl =\n",
              "          document.querySelector('#df-3b84d98e-20d5-4e6c-88fb-fa8b199c463e button.colab-df-convert');\n",
              "        buttonEl.style.display =\n",
              "          google.colab.kernel.accessAllowed ? 'block' : 'none';\n",
              "\n",
              "        async function convertToInteractive(key) {\n",
              "          const element = document.querySelector('#df-3b84d98e-20d5-4e6c-88fb-fa8b199c463e');\n",
              "          const dataTable =\n",
              "            await google.colab.kernel.invokeFunction('convertToInteractive',\n",
              "                                                     [key], {});\n",
              "          if (!dataTable) return;\n",
              "\n",
              "          const docLinkHtml = 'Like what you see? Visit the ' +\n",
              "            '<a target=\"_blank\" href=https://colab.research.google.com/notebooks/data_table.ipynb>data table notebook</a>'\n",
              "            + ' to learn more about interactive tables.';\n",
              "          element.innerHTML = '';\n",
              "          dataTable['output_type'] = 'display_data';\n",
              "          await google.colab.output.renderOutput(dataTable, element);\n",
              "          const docLink = document.createElement('div');\n",
              "          docLink.innerHTML = docLinkHtml;\n",
              "          element.appendChild(docLink);\n",
              "        }\n",
              "      </script>\n",
              "    </div>\n",
              "  </div>\n",
              "  "
            ]
          },
          "metadata": {},
          "execution_count": 6
        }
      ]
    },
    {
      "cell_type": "code",
      "source": [
        "#IMDB_title.crew\n",
        "title_crew = pd.read_pickle('/content/drive/MyDrive/Colab Notebooks/Projects/Project3_my copy/title_crew_p.pickle')\n",
        "title_crew"
      ],
      "metadata": {
        "id": "eMBRolXipwwA",
        "colab": {
          "base_uri": "https://localhost:8080/",
          "height": 423
        },
        "outputId": "c7e66c94-02ff-4464-94f2-1cadf97e5535"
      },
      "execution_count": null,
      "outputs": [
        {
          "output_type": "execute_result",
          "data": {
            "text/plain": [
              "            tconst            directors                        writers\n",
              "0        tt0000001            nm0005690                             \\N\n",
              "1        tt0000002            nm0721526                             \\N\n",
              "2        tt0000003            nm0721526                             \\N\n",
              "3        tt0000004            nm0721526                             \\N\n",
              "4        tt0000005            nm0005690                             \\N\n",
              "...            ...                  ...                            ...\n",
              "9324309  tt9916848  nm5519454,nm5519375  nm6182221,nm1628284,nm2921377\n",
              "9324310  tt9916850  nm5519454,nm5519375  nm6182221,nm1628284,nm2921377\n",
              "9324311  tt9916852  nm5519454,nm5519375  nm6182221,nm1628284,nm2921377\n",
              "9324312  tt9916856           nm10538645                      nm6951431\n",
              "9324313  tt9916880            nm0996406            nm1482639,nm2586970\n",
              "\n",
              "[9324314 rows x 3 columns]"
            ],
            "text/html": [
              "\n",
              "  <div id=\"df-755e43ae-de86-4cef-97cf-f77cbb3b5945\">\n",
              "    <div class=\"colab-df-container\">\n",
              "      <div>\n",
              "<style scoped>\n",
              "    .dataframe tbody tr th:only-of-type {\n",
              "        vertical-align: middle;\n",
              "    }\n",
              "\n",
              "    .dataframe tbody tr th {\n",
              "        vertical-align: top;\n",
              "    }\n",
              "\n",
              "    .dataframe thead th {\n",
              "        text-align: right;\n",
              "    }\n",
              "</style>\n",
              "<table border=\"1\" class=\"dataframe\">\n",
              "  <thead>\n",
              "    <tr style=\"text-align: right;\">\n",
              "      <th></th>\n",
              "      <th>tconst</th>\n",
              "      <th>directors</th>\n",
              "      <th>writers</th>\n",
              "    </tr>\n",
              "  </thead>\n",
              "  <tbody>\n",
              "    <tr>\n",
              "      <th>0</th>\n",
              "      <td>tt0000001</td>\n",
              "      <td>nm0005690</td>\n",
              "      <td>\\N</td>\n",
              "    </tr>\n",
              "    <tr>\n",
              "      <th>1</th>\n",
              "      <td>tt0000002</td>\n",
              "      <td>nm0721526</td>\n",
              "      <td>\\N</td>\n",
              "    </tr>\n",
              "    <tr>\n",
              "      <th>2</th>\n",
              "      <td>tt0000003</td>\n",
              "      <td>nm0721526</td>\n",
              "      <td>\\N</td>\n",
              "    </tr>\n",
              "    <tr>\n",
              "      <th>3</th>\n",
              "      <td>tt0000004</td>\n",
              "      <td>nm0721526</td>\n",
              "      <td>\\N</td>\n",
              "    </tr>\n",
              "    <tr>\n",
              "      <th>4</th>\n",
              "      <td>tt0000005</td>\n",
              "      <td>nm0005690</td>\n",
              "      <td>\\N</td>\n",
              "    </tr>\n",
              "    <tr>\n",
              "      <th>...</th>\n",
              "      <td>...</td>\n",
              "      <td>...</td>\n",
              "      <td>...</td>\n",
              "    </tr>\n",
              "    <tr>\n",
              "      <th>9324309</th>\n",
              "      <td>tt9916848</td>\n",
              "      <td>nm5519454,nm5519375</td>\n",
              "      <td>nm6182221,nm1628284,nm2921377</td>\n",
              "    </tr>\n",
              "    <tr>\n",
              "      <th>9324310</th>\n",
              "      <td>tt9916850</td>\n",
              "      <td>nm5519454,nm5519375</td>\n",
              "      <td>nm6182221,nm1628284,nm2921377</td>\n",
              "    </tr>\n",
              "    <tr>\n",
              "      <th>9324311</th>\n",
              "      <td>tt9916852</td>\n",
              "      <td>nm5519454,nm5519375</td>\n",
              "      <td>nm6182221,nm1628284,nm2921377</td>\n",
              "    </tr>\n",
              "    <tr>\n",
              "      <th>9324312</th>\n",
              "      <td>tt9916856</td>\n",
              "      <td>nm10538645</td>\n",
              "      <td>nm6951431</td>\n",
              "    </tr>\n",
              "    <tr>\n",
              "      <th>9324313</th>\n",
              "      <td>tt9916880</td>\n",
              "      <td>nm0996406</td>\n",
              "      <td>nm1482639,nm2586970</td>\n",
              "    </tr>\n",
              "  </tbody>\n",
              "</table>\n",
              "<p>9324314 rows × 3 columns</p>\n",
              "</div>\n",
              "      <button class=\"colab-df-convert\" onclick=\"convertToInteractive('df-755e43ae-de86-4cef-97cf-f77cbb3b5945')\"\n",
              "              title=\"Convert this dataframe to an interactive table.\"\n",
              "              style=\"display:none;\">\n",
              "        \n",
              "  <svg xmlns=\"http://www.w3.org/2000/svg\" height=\"24px\"viewBox=\"0 0 24 24\"\n",
              "       width=\"24px\">\n",
              "    <path d=\"M0 0h24v24H0V0z\" fill=\"none\"/>\n",
              "    <path d=\"M18.56 5.44l.94 2.06.94-2.06 2.06-.94-2.06-.94-.94-2.06-.94 2.06-2.06.94zm-11 1L8.5 8.5l.94-2.06 2.06-.94-2.06-.94L8.5 2.5l-.94 2.06-2.06.94zm10 10l.94 2.06.94-2.06 2.06-.94-2.06-.94-.94-2.06-.94 2.06-2.06.94z\"/><path d=\"M17.41 7.96l-1.37-1.37c-.4-.4-.92-.59-1.43-.59-.52 0-1.04.2-1.43.59L10.3 9.45l-7.72 7.72c-.78.78-.78 2.05 0 2.83L4 21.41c.39.39.9.59 1.41.59.51 0 1.02-.2 1.41-.59l7.78-7.78 2.81-2.81c.8-.78.8-2.07 0-2.86zM5.41 20L4 18.59l7.72-7.72 1.47 1.35L5.41 20z\"/>\n",
              "  </svg>\n",
              "      </button>\n",
              "      \n",
              "  <style>\n",
              "    .colab-df-container {\n",
              "      display:flex;\n",
              "      flex-wrap:wrap;\n",
              "      gap: 12px;\n",
              "    }\n",
              "\n",
              "    .colab-df-convert {\n",
              "      background-color: #E8F0FE;\n",
              "      border: none;\n",
              "      border-radius: 50%;\n",
              "      cursor: pointer;\n",
              "      display: none;\n",
              "      fill: #1967D2;\n",
              "      height: 32px;\n",
              "      padding: 0 0 0 0;\n",
              "      width: 32px;\n",
              "    }\n",
              "\n",
              "    .colab-df-convert:hover {\n",
              "      background-color: #E2EBFA;\n",
              "      box-shadow: 0px 1px 2px rgba(60, 64, 67, 0.3), 0px 1px 3px 1px rgba(60, 64, 67, 0.15);\n",
              "      fill: #174EA6;\n",
              "    }\n",
              "\n",
              "    [theme=dark] .colab-df-convert {\n",
              "      background-color: #3B4455;\n",
              "      fill: #D2E3FC;\n",
              "    }\n",
              "\n",
              "    [theme=dark] .colab-df-convert:hover {\n",
              "      background-color: #434B5C;\n",
              "      box-shadow: 0px 1px 3px 1px rgba(0, 0, 0, 0.15);\n",
              "      filter: drop-shadow(0px 1px 2px rgba(0, 0, 0, 0.3));\n",
              "      fill: #FFFFFF;\n",
              "    }\n",
              "  </style>\n",
              "\n",
              "      <script>\n",
              "        const buttonEl =\n",
              "          document.querySelector('#df-755e43ae-de86-4cef-97cf-f77cbb3b5945 button.colab-df-convert');\n",
              "        buttonEl.style.display =\n",
              "          google.colab.kernel.accessAllowed ? 'block' : 'none';\n",
              "\n",
              "        async function convertToInteractive(key) {\n",
              "          const element = document.querySelector('#df-755e43ae-de86-4cef-97cf-f77cbb3b5945');\n",
              "          const dataTable =\n",
              "            await google.colab.kernel.invokeFunction('convertToInteractive',\n",
              "                                                     [key], {});\n",
              "          if (!dataTable) return;\n",
              "\n",
              "          const docLinkHtml = 'Like what you see? Visit the ' +\n",
              "            '<a target=\"_blank\" href=https://colab.research.google.com/notebooks/data_table.ipynb>data table notebook</a>'\n",
              "            + ' to learn more about interactive tables.';\n",
              "          element.innerHTML = '';\n",
              "          dataTable['output_type'] = 'display_data';\n",
              "          await google.colab.output.renderOutput(dataTable, element);\n",
              "          const docLink = document.createElement('div');\n",
              "          docLink.innerHTML = docLinkHtml;\n",
              "          element.appendChild(docLink);\n",
              "        }\n",
              "      </script>\n",
              "    </div>\n",
              "  </div>\n",
              "  "
            ]
          },
          "metadata": {},
          "execution_count": 7
        }
      ]
    },
    {
      "cell_type": "code",
      "source": [
        "#IMDB_title.ratings\n",
        "title_ratings = pd.read_pickle('/content/drive/MyDrive/Colab Notebooks/Projects/Project3_my copy/title_ratings_p.pickle')\n",
        "title_ratings"
      ],
      "metadata": {
        "id": "l7jlZwXl4jjd",
        "colab": {
          "base_uri": "https://localhost:8080/",
          "height": 423
        },
        "outputId": "6a319fb4-abc4-47e8-d8fd-45d61d35d978"
      },
      "execution_count": null,
      "outputs": [
        {
          "output_type": "execute_result",
          "data": {
            "text/plain": [
              "            tconst  averageRating  numVotes\n",
              "0        tt0000001            5.7      1920\n",
              "1        tt0000002            5.8       260\n",
              "2        tt0000003            6.5      1728\n",
              "3        tt0000004            5.6       173\n",
              "4        tt0000005            6.2      2541\n",
              "...            ...            ...       ...\n",
              "1241069  tt9916690            7.4         6\n",
              "1241070  tt9916720            5.3       270\n",
              "1241071  tt9916730            9.0         6\n",
              "1241072  tt9916766            6.7        21\n",
              "1241073  tt9916778            7.3        35\n",
              "\n",
              "[1241074 rows x 3 columns]"
            ],
            "text/html": [
              "\n",
              "  <div id=\"df-b06c1747-7825-4c67-8205-f566f4f8175f\">\n",
              "    <div class=\"colab-df-container\">\n",
              "      <div>\n",
              "<style scoped>\n",
              "    .dataframe tbody tr th:only-of-type {\n",
              "        vertical-align: middle;\n",
              "    }\n",
              "\n",
              "    .dataframe tbody tr th {\n",
              "        vertical-align: top;\n",
              "    }\n",
              "\n",
              "    .dataframe thead th {\n",
              "        text-align: right;\n",
              "    }\n",
              "</style>\n",
              "<table border=\"1\" class=\"dataframe\">\n",
              "  <thead>\n",
              "    <tr style=\"text-align: right;\">\n",
              "      <th></th>\n",
              "      <th>tconst</th>\n",
              "      <th>averageRating</th>\n",
              "      <th>numVotes</th>\n",
              "    </tr>\n",
              "  </thead>\n",
              "  <tbody>\n",
              "    <tr>\n",
              "      <th>0</th>\n",
              "      <td>tt0000001</td>\n",
              "      <td>5.7</td>\n",
              "      <td>1920</td>\n",
              "    </tr>\n",
              "    <tr>\n",
              "      <th>1</th>\n",
              "      <td>tt0000002</td>\n",
              "      <td>5.8</td>\n",
              "      <td>260</td>\n",
              "    </tr>\n",
              "    <tr>\n",
              "      <th>2</th>\n",
              "      <td>tt0000003</td>\n",
              "      <td>6.5</td>\n",
              "      <td>1728</td>\n",
              "    </tr>\n",
              "    <tr>\n",
              "      <th>3</th>\n",
              "      <td>tt0000004</td>\n",
              "      <td>5.6</td>\n",
              "      <td>173</td>\n",
              "    </tr>\n",
              "    <tr>\n",
              "      <th>4</th>\n",
              "      <td>tt0000005</td>\n",
              "      <td>6.2</td>\n",
              "      <td>2541</td>\n",
              "    </tr>\n",
              "    <tr>\n",
              "      <th>...</th>\n",
              "      <td>...</td>\n",
              "      <td>...</td>\n",
              "      <td>...</td>\n",
              "    </tr>\n",
              "    <tr>\n",
              "      <th>1241069</th>\n",
              "      <td>tt9916690</td>\n",
              "      <td>7.4</td>\n",
              "      <td>6</td>\n",
              "    </tr>\n",
              "    <tr>\n",
              "      <th>1241070</th>\n",
              "      <td>tt9916720</td>\n",
              "      <td>5.3</td>\n",
              "      <td>270</td>\n",
              "    </tr>\n",
              "    <tr>\n",
              "      <th>1241071</th>\n",
              "      <td>tt9916730</td>\n",
              "      <td>9.0</td>\n",
              "      <td>6</td>\n",
              "    </tr>\n",
              "    <tr>\n",
              "      <th>1241072</th>\n",
              "      <td>tt9916766</td>\n",
              "      <td>6.7</td>\n",
              "      <td>21</td>\n",
              "    </tr>\n",
              "    <tr>\n",
              "      <th>1241073</th>\n",
              "      <td>tt9916778</td>\n",
              "      <td>7.3</td>\n",
              "      <td>35</td>\n",
              "    </tr>\n",
              "  </tbody>\n",
              "</table>\n",
              "<p>1241074 rows × 3 columns</p>\n",
              "</div>\n",
              "      <button class=\"colab-df-convert\" onclick=\"convertToInteractive('df-b06c1747-7825-4c67-8205-f566f4f8175f')\"\n",
              "              title=\"Convert this dataframe to an interactive table.\"\n",
              "              style=\"display:none;\">\n",
              "        \n",
              "  <svg xmlns=\"http://www.w3.org/2000/svg\" height=\"24px\"viewBox=\"0 0 24 24\"\n",
              "       width=\"24px\">\n",
              "    <path d=\"M0 0h24v24H0V0z\" fill=\"none\"/>\n",
              "    <path d=\"M18.56 5.44l.94 2.06.94-2.06 2.06-.94-2.06-.94-.94-2.06-.94 2.06-2.06.94zm-11 1L8.5 8.5l.94-2.06 2.06-.94-2.06-.94L8.5 2.5l-.94 2.06-2.06.94zm10 10l.94 2.06.94-2.06 2.06-.94-2.06-.94-.94-2.06-.94 2.06-2.06.94z\"/><path d=\"M17.41 7.96l-1.37-1.37c-.4-.4-.92-.59-1.43-.59-.52 0-1.04.2-1.43.59L10.3 9.45l-7.72 7.72c-.78.78-.78 2.05 0 2.83L4 21.41c.39.39.9.59 1.41.59.51 0 1.02-.2 1.41-.59l7.78-7.78 2.81-2.81c.8-.78.8-2.07 0-2.86zM5.41 20L4 18.59l7.72-7.72 1.47 1.35L5.41 20z\"/>\n",
              "  </svg>\n",
              "      </button>\n",
              "      \n",
              "  <style>\n",
              "    .colab-df-container {\n",
              "      display:flex;\n",
              "      flex-wrap:wrap;\n",
              "      gap: 12px;\n",
              "    }\n",
              "\n",
              "    .colab-df-convert {\n",
              "      background-color: #E8F0FE;\n",
              "      border: none;\n",
              "      border-radius: 50%;\n",
              "      cursor: pointer;\n",
              "      display: none;\n",
              "      fill: #1967D2;\n",
              "      height: 32px;\n",
              "      padding: 0 0 0 0;\n",
              "      width: 32px;\n",
              "    }\n",
              "\n",
              "    .colab-df-convert:hover {\n",
              "      background-color: #E2EBFA;\n",
              "      box-shadow: 0px 1px 2px rgba(60, 64, 67, 0.3), 0px 1px 3px 1px rgba(60, 64, 67, 0.15);\n",
              "      fill: #174EA6;\n",
              "    }\n",
              "\n",
              "    [theme=dark] .colab-df-convert {\n",
              "      background-color: #3B4455;\n",
              "      fill: #D2E3FC;\n",
              "    }\n",
              "\n",
              "    [theme=dark] .colab-df-convert:hover {\n",
              "      background-color: #434B5C;\n",
              "      box-shadow: 0px 1px 3px 1px rgba(0, 0, 0, 0.15);\n",
              "      filter: drop-shadow(0px 1px 2px rgba(0, 0, 0, 0.3));\n",
              "      fill: #FFFFFF;\n",
              "    }\n",
              "  </style>\n",
              "\n",
              "      <script>\n",
              "        const buttonEl =\n",
              "          document.querySelector('#df-b06c1747-7825-4c67-8205-f566f4f8175f button.colab-df-convert');\n",
              "        buttonEl.style.display =\n",
              "          google.colab.kernel.accessAllowed ? 'block' : 'none';\n",
              "\n",
              "        async function convertToInteractive(key) {\n",
              "          const element = document.querySelector('#df-b06c1747-7825-4c67-8205-f566f4f8175f');\n",
              "          const dataTable =\n",
              "            await google.colab.kernel.invokeFunction('convertToInteractive',\n",
              "                                                     [key], {});\n",
              "          if (!dataTable) return;\n",
              "\n",
              "          const docLinkHtml = 'Like what you see? Visit the ' +\n",
              "            '<a target=\"_blank\" href=https://colab.research.google.com/notebooks/data_table.ipynb>data table notebook</a>'\n",
              "            + ' to learn more about interactive tables.';\n",
              "          element.innerHTML = '';\n",
              "          dataTable['output_type'] = 'display_data';\n",
              "          await google.colab.output.renderOutput(dataTable, element);\n",
              "          const docLink = document.createElement('div');\n",
              "          docLink.innerHTML = docLinkHtml;\n",
              "          element.appendChild(docLink);\n",
              "        }\n",
              "      </script>\n",
              "    </div>\n",
              "  </div>\n",
              "  "
            ]
          },
          "metadata": {},
          "execution_count": 8
        }
      ]
    },
    {
      "cell_type": "code",
      "source": [
        "#Checks about tconts from title_basics in name_basics are ok\n",
        "# condition = name_basics['tconst'] == 'tt0000001'\n",
        "# condition.unique()"
      ],
      "metadata": {
        "id": "SH0E8pgIqQTE"
      },
      "execution_count": null,
      "outputs": []
    },
    {
      "cell_type": "markdown",
      "source": [
        "## Know the data"
      ],
      "metadata": {
        "id": "ln7K92wwnKFz"
      }
    },
    {
      "cell_type": "markdown",
      "source": [
        "# M1) title_basics"
      ],
      "metadata": {
        "id": "pXGENX13oJcf"
      }
    },
    {
      "cell_type": "code",
      "source": [
        "#Check the types of variables and null values\n",
        "title_basics.info()"
      ],
      "metadata": {
        "id": "_499Km8-nGYs",
        "colab": {
          "base_uri": "https://localhost:8080/"
        },
        "outputId": "1505c2ce-af51-495e-d528-eb1e2ae0e33a"
      },
      "execution_count": null,
      "outputs": [
        {
          "output_type": "stream",
          "name": "stdout",
          "text": [
            "<class 'pandas.core.frame.DataFrame'>\n",
            "RangeIndex: 9324314 entries, 0 to 9324313\n",
            "Data columns (total 9 columns):\n",
            " #   Column          Dtype \n",
            "---  ------          ----- \n",
            " 0   tconst          object\n",
            " 1   titleType       object\n",
            " 2   primaryTitle    object\n",
            " 3   originalTitle   object\n",
            " 4   isAdult         object\n",
            " 5   startYear       object\n",
            " 6   endYear         object\n",
            " 7   runtimeMinutes  object\n",
            " 8   genres          object\n",
            "dtypes: object(9)\n",
            "memory usage: 640.2+ MB\n"
          ]
        }
      ]
    },
    {
      "cell_type": "code",
      "source": [
        "# object ok = tconst, titleTyoe, primaryTitle, originalTitle\n",
        "\n",
        "# isAdult: is bool, check if there are only 0 and 1\n",
        "\n",
        "# runtimeMinutes : should be int"
      ],
      "metadata": {
        "id": "lOgHhLGlpz2s"
      },
      "execution_count": null,
      "outputs": []
    },
    {
      "cell_type": "code",
      "source": [
        "#TODO=: convert runtimeminutes to int??\n",
        "type(title_basics['runtimeMinutes'][0]) #-> str"
      ],
      "metadata": {
        "id": "i4Gh_C23CFQE",
        "colab": {
          "base_uri": "https://localhost:8080/"
        },
        "outputId": "a3ef2edc-adf5-44db-c7dc-147f63898083"
      },
      "execution_count": null,
      "outputs": [
        {
          "output_type": "execute_result",
          "data": {
            "text/plain": [
              "str"
            ]
          },
          "metadata": {},
          "execution_count": 12
        }
      ]
    },
    {
      "cell_type": "code",
      "source": [
        "#check which variables the isAdult column has\n",
        "title_basics['isAdult'].unique()"
      ],
      "metadata": {
        "id": "V06vSNpOqEeB",
        "colab": {
          "base_uri": "https://localhost:8080/"
        },
        "outputId": "a69f47ab-c9a5-4595-c4a7-8d4c6b3e4875"
      },
      "execution_count": null,
      "outputs": [
        {
          "output_type": "execute_result",
          "data": {
            "text/plain": [
              "array([0, 1, 2019, 1981, 2020, 2017, '0', '1', '\\\\N', 2014, 2005],\n",
              "      dtype=object)"
            ]
          },
          "metadata": {},
          "execution_count": 13
        }
      ]
    },
    {
      "cell_type": "code",
      "source": [
        "#check which variables the isAdult column has and count them\n",
        "title_basics['isAdult'].value_counts()"
      ],
      "metadata": {
        "id": "xer3CDfBwSWZ",
        "colab": {
          "base_uri": "https://localhost:8080/"
        },
        "outputId": "cf9a547c-845b-4ec0-e5d5-3e3e9533c43c"
      },
      "execution_count": null,
      "outputs": [
        {
          "output_type": "execute_result",
          "data": {
            "text/plain": [
              "0       8971333\n",
              "1        287436\n",
              "0         63384\n",
              "1          2151\n",
              "2019          3\n",
              "2020          2\n",
              "1981          1\n",
              "2017          1\n",
              "\\N            1\n",
              "2014          1\n",
              "2005          1\n",
              "Name: isAdult, dtype: int64"
            ]
          },
          "metadata": {},
          "execution_count": 14
        }
      ]
    },
    {
      "cell_type": "code",
      "source": [
        "#countercheck\n",
        "condition = title_basics['isAdult'] == 2019\n",
        "condition.unique()"
      ],
      "metadata": {
        "id": "y-4k7nrR4My0",
        "colab": {
          "base_uri": "https://localhost:8080/"
        },
        "outputId": "0be78c54-f81e-4b1f-ae7e-242c20817351"
      },
      "execution_count": null,
      "outputs": [
        {
          "output_type": "execute_result",
          "data": {
            "text/plain": [
              "array([False,  True])"
            ]
          },
          "metadata": {},
          "execution_count": 15
        }
      ]
    },
    {
      "cell_type": "code",
      "source": [
        "# go to imbd site and check what happens in theses tv episodes: \n",
        "condition = title_basics['isAdult'] == 2019\n",
        "title_basics.loc[condition]\n",
        "\n",
        "# Answer:\n",
        "# it's the year when they aired the episode for 2020, 2019, 1981, 2017, 2014, 2005"
      ],
      "metadata": {
        "id": "Z0l7rAKIwlvr",
        "colab": {
          "base_uri": "https://localhost:8080/",
          "height": 143
        },
        "outputId": "51e35ce5-7ced-4b08-9369-60ae134d0c18"
      },
      "execution_count": null,
      "outputs": [
        {
          "output_type": "execute_result",
          "data": {
            "text/plain": [
              "             tconst  titleType  \\\n",
              "1097683  tt10233364  tvEpisode   \n",
              "1508854  tt10970874  tvEpisode   \n",
              "9280915   tt9822816  tvEpisode   \n",
              "\n",
              "                                              primaryTitle originalTitle  \\\n",
              "1097683  Rolling in the Deep Dish\\tRolling in the Deep ...             0   \n",
              "1508854  Die Bauhaus-Stadt Tel Aviv - Vorbild für die M...             0   \n",
              "9280915  Zwischen Vertuschung und Aufklärung - Missbrau...             0   \n",
              "\n",
              "        isAdult startYear endYear runtimeMinutes genres  \n",
              "1097683    2019        \\N      \\N     Reality-TV    NaN  \n",
              "1508854    2019        \\N      \\N      Talk-Show    NaN  \n",
              "9280915    2019        \\N      \\N      Talk-Show    NaN  "
            ],
            "text/html": [
              "\n",
              "  <div id=\"df-c5e795ab-f912-48f2-8f7e-bb2324d20071\">\n",
              "    <div class=\"colab-df-container\">\n",
              "      <div>\n",
              "<style scoped>\n",
              "    .dataframe tbody tr th:only-of-type {\n",
              "        vertical-align: middle;\n",
              "    }\n",
              "\n",
              "    .dataframe tbody tr th {\n",
              "        vertical-align: top;\n",
              "    }\n",
              "\n",
              "    .dataframe thead th {\n",
              "        text-align: right;\n",
              "    }\n",
              "</style>\n",
              "<table border=\"1\" class=\"dataframe\">\n",
              "  <thead>\n",
              "    <tr style=\"text-align: right;\">\n",
              "      <th></th>\n",
              "      <th>tconst</th>\n",
              "      <th>titleType</th>\n",
              "      <th>primaryTitle</th>\n",
              "      <th>originalTitle</th>\n",
              "      <th>isAdult</th>\n",
              "      <th>startYear</th>\n",
              "      <th>endYear</th>\n",
              "      <th>runtimeMinutes</th>\n",
              "      <th>genres</th>\n",
              "    </tr>\n",
              "  </thead>\n",
              "  <tbody>\n",
              "    <tr>\n",
              "      <th>1097683</th>\n",
              "      <td>tt10233364</td>\n",
              "      <td>tvEpisode</td>\n",
              "      <td>Rolling in the Deep Dish\\tRolling in the Deep ...</td>\n",
              "      <td>0</td>\n",
              "      <td>2019</td>\n",
              "      <td>\\N</td>\n",
              "      <td>\\N</td>\n",
              "      <td>Reality-TV</td>\n",
              "      <td>NaN</td>\n",
              "    </tr>\n",
              "    <tr>\n",
              "      <th>1508854</th>\n",
              "      <td>tt10970874</td>\n",
              "      <td>tvEpisode</td>\n",
              "      <td>Die Bauhaus-Stadt Tel Aviv - Vorbild für die M...</td>\n",
              "      <td>0</td>\n",
              "      <td>2019</td>\n",
              "      <td>\\N</td>\n",
              "      <td>\\N</td>\n",
              "      <td>Talk-Show</td>\n",
              "      <td>NaN</td>\n",
              "    </tr>\n",
              "    <tr>\n",
              "      <th>9280915</th>\n",
              "      <td>tt9822816</td>\n",
              "      <td>tvEpisode</td>\n",
              "      <td>Zwischen Vertuschung und Aufklärung - Missbrau...</td>\n",
              "      <td>0</td>\n",
              "      <td>2019</td>\n",
              "      <td>\\N</td>\n",
              "      <td>\\N</td>\n",
              "      <td>Talk-Show</td>\n",
              "      <td>NaN</td>\n",
              "    </tr>\n",
              "  </tbody>\n",
              "</table>\n",
              "</div>\n",
              "      <button class=\"colab-df-convert\" onclick=\"convertToInteractive('df-c5e795ab-f912-48f2-8f7e-bb2324d20071')\"\n",
              "              title=\"Convert this dataframe to an interactive table.\"\n",
              "              style=\"display:none;\">\n",
              "        \n",
              "  <svg xmlns=\"http://www.w3.org/2000/svg\" height=\"24px\"viewBox=\"0 0 24 24\"\n",
              "       width=\"24px\">\n",
              "    <path d=\"M0 0h24v24H0V0z\" fill=\"none\"/>\n",
              "    <path d=\"M18.56 5.44l.94 2.06.94-2.06 2.06-.94-2.06-.94-.94-2.06-.94 2.06-2.06.94zm-11 1L8.5 8.5l.94-2.06 2.06-.94-2.06-.94L8.5 2.5l-.94 2.06-2.06.94zm10 10l.94 2.06.94-2.06 2.06-.94-2.06-.94-.94-2.06-.94 2.06-2.06.94z\"/><path d=\"M17.41 7.96l-1.37-1.37c-.4-.4-.92-.59-1.43-.59-.52 0-1.04.2-1.43.59L10.3 9.45l-7.72 7.72c-.78.78-.78 2.05 0 2.83L4 21.41c.39.39.9.59 1.41.59.51 0 1.02-.2 1.41-.59l7.78-7.78 2.81-2.81c.8-.78.8-2.07 0-2.86zM5.41 20L4 18.59l7.72-7.72 1.47 1.35L5.41 20z\"/>\n",
              "  </svg>\n",
              "      </button>\n",
              "      \n",
              "  <style>\n",
              "    .colab-df-container {\n",
              "      display:flex;\n",
              "      flex-wrap:wrap;\n",
              "      gap: 12px;\n",
              "    }\n",
              "\n",
              "    .colab-df-convert {\n",
              "      background-color: #E8F0FE;\n",
              "      border: none;\n",
              "      border-radius: 50%;\n",
              "      cursor: pointer;\n",
              "      display: none;\n",
              "      fill: #1967D2;\n",
              "      height: 32px;\n",
              "      padding: 0 0 0 0;\n",
              "      width: 32px;\n",
              "    }\n",
              "\n",
              "    .colab-df-convert:hover {\n",
              "      background-color: #E2EBFA;\n",
              "      box-shadow: 0px 1px 2px rgba(60, 64, 67, 0.3), 0px 1px 3px 1px rgba(60, 64, 67, 0.15);\n",
              "      fill: #174EA6;\n",
              "    }\n",
              "\n",
              "    [theme=dark] .colab-df-convert {\n",
              "      background-color: #3B4455;\n",
              "      fill: #D2E3FC;\n",
              "    }\n",
              "\n",
              "    [theme=dark] .colab-df-convert:hover {\n",
              "      background-color: #434B5C;\n",
              "      box-shadow: 0px 1px 3px 1px rgba(0, 0, 0, 0.15);\n",
              "      filter: drop-shadow(0px 1px 2px rgba(0, 0, 0, 0.3));\n",
              "      fill: #FFFFFF;\n",
              "    }\n",
              "  </style>\n",
              "\n",
              "      <script>\n",
              "        const buttonEl =\n",
              "          document.querySelector('#df-c5e795ab-f912-48f2-8f7e-bb2324d20071 button.colab-df-convert');\n",
              "        buttonEl.style.display =\n",
              "          google.colab.kernel.accessAllowed ? 'block' : 'none';\n",
              "\n",
              "        async function convertToInteractive(key) {\n",
              "          const element = document.querySelector('#df-c5e795ab-f912-48f2-8f7e-bb2324d20071');\n",
              "          const dataTable =\n",
              "            await google.colab.kernel.invokeFunction('convertToInteractive',\n",
              "                                                     [key], {});\n",
              "          if (!dataTable) return;\n",
              "\n",
              "          const docLinkHtml = 'Like what you see? Visit the ' +\n",
              "            '<a target=\"_blank\" href=https://colab.research.google.com/notebooks/data_table.ipynb>data table notebook</a>'\n",
              "            + ' to learn more about interactive tables.';\n",
              "          element.innerHTML = '';\n",
              "          dataTable['output_type'] = 'display_data';\n",
              "          await google.colab.output.renderOutput(dataTable, element);\n",
              "          const docLink = document.createElement('div');\n",
              "          docLink.innerHTML = docLinkHtml;\n",
              "          element.appendChild(docLink);\n",
              "        }\n",
              "      </script>\n",
              "    </div>\n",
              "  </div>\n",
              "  "
            ]
          },
          "metadata": {},
          "execution_count": 16
        }
      ]
    },
    {
      "cell_type": "code",
      "source": [
        "#check if other tv episodes show the date as start year or if they are //N \n",
        "condition = title_basics['titleType'] == 'tvEpisode'\n",
        "title_basics.loc[condition]\n",
        "\n",
        "title_basics['startYear'].loc[condition].value_counts()\n",
        "#title_basics['endYear'].loc[condition].value_counts()\n",
        "\n",
        "#The startyear column has 1105935 /N for the titletype = tv episodes\n",
        "#The endyear column is empty for all the titletype = tv episodes\n"
      ],
      "metadata": {
        "id": "uz1hEky4ymwV",
        "colab": {
          "base_uri": "https://localhost:8080/"
        },
        "outputId": "b4b61ef8-6fb5-4e9c-e98b-a42018e2b31d"
      },
      "execution_count": null,
      "outputs": [
        {
          "output_type": "execute_result",
          "data": {
            "text/plain": [
              "\\N      1110064\n",
              "2021     348354\n",
              "2018     320945\n",
              "2017     317463\n",
              "2019     316428\n",
              "         ...   \n",
              "1925          3\n",
              "2029          2\n",
              "2027          2\n",
              "1906          1\n",
              "1900          1\n",
              "Name: startYear, Length: 107, dtype: int64"
            ]
          },
          "metadata": {},
          "execution_count": 17
        }
      ]
    },
    {
      "cell_type": "code",
      "source": [
        "#TODO replace the years checked in the startYear column"
      ],
      "metadata": {
        "id": "VZSlswT96rEL"
      },
      "execution_count": null,
      "outputs": []
    },
    {
      "cell_type": "code",
      "source": [
        "condition = title_basics['isAdult'] == 0 | 1\n",
        "title_basics.loc[condition]"
      ],
      "metadata": {
        "id": "heHSc6eVz9z1",
        "colab": {
          "base_uri": "https://localhost:8080/",
          "height": 423
        },
        "outputId": "e5c1e63b-abef-4453-f069-cdeb6e021db2"
      },
      "execution_count": null,
      "outputs": [
        {
          "output_type": "execute_result",
          "data": {
            "text/plain": [
              "            tconst  titleType                          primaryTitle  \\\n",
              "59140    tt0060313      movie                        Dingle, Dangle   \n",
              "60704    tt0061926      movie                          Lust Weekend   \n",
              "61120    tt0062361      movie                             Thigh Spy   \n",
              "61175    tt0062417      movie              Un épais manteau de sang   \n",
              "61479    tt0062727      short                      Of Special Merit   \n",
              "...            ...        ...                                   ...   \n",
              "9323788  tt9915710      video                           Sodomizer 5   \n",
              "9323813  tt9915772  tvEpisode  Cassidy Banks loves the Hitachi Wand   \n",
              "9323817  tt9915788  tvEpisode         Teen travel mates hot fucking   \n",
              "9324026  tt9916254      video                  Big Tit Cream Pie 32   \n",
              "9324032  tt9916266  tvEpisode     Abella Danger Meets Vlad for Anal   \n",
              "\n",
              "                                originalTitle isAdult startYear endYear  \\\n",
              "59140                          Dingle, Dangle       1      1966      \\N   \n",
              "60704                            Lust Weekend       1      1967      \\N   \n",
              "61120                               Thigh Spy       1      1967      \\N   \n",
              "61175                Un épais manteau de sang       1      1968      \\N   \n",
              "61479                      Besonders wertvoll       1      1968      \\N   \n",
              "...                                       ...     ...       ...     ...   \n",
              "9323788                           Sodomizer 5       1      1996      \\N   \n",
              "9323813  Cassidy Banks loves the Hitachi Wand       1        \\N      \\N   \n",
              "9323817         Teen travel mates hot fucking       1        \\N      \\N   \n",
              "9324026                  Big Tit Cream Pie 32       1      2015      \\N   \n",
              "9324032     Abella Danger Meets Vlad for Anal       1      2019      \\N   \n",
              "\n",
              "        runtimeMinutes       genres  \n",
              "59140               61       Comedy  \n",
              "60704               70        Drama  \n",
              "61120               70        Drama  \n",
              "61175               88        Drama  \n",
              "61479               11  Adult,Short  \n",
              "...                ...          ...  \n",
              "9323788             85        Adult  \n",
              "9323813             \\N  Adult,Short  \n",
              "9323817             \\N        Adult  \n",
              "9324026            226        Adult  \n",
              "9324032             \\N        Adult  \n",
              "\n",
              "[287436 rows x 9 columns]"
            ],
            "text/html": [
              "\n",
              "  <div id=\"df-8b4a7d46-517b-4eb7-9054-c6eef23ce5df\">\n",
              "    <div class=\"colab-df-container\">\n",
              "      <div>\n",
              "<style scoped>\n",
              "    .dataframe tbody tr th:only-of-type {\n",
              "        vertical-align: middle;\n",
              "    }\n",
              "\n",
              "    .dataframe tbody tr th {\n",
              "        vertical-align: top;\n",
              "    }\n",
              "\n",
              "    .dataframe thead th {\n",
              "        text-align: right;\n",
              "    }\n",
              "</style>\n",
              "<table border=\"1\" class=\"dataframe\">\n",
              "  <thead>\n",
              "    <tr style=\"text-align: right;\">\n",
              "      <th></th>\n",
              "      <th>tconst</th>\n",
              "      <th>titleType</th>\n",
              "      <th>primaryTitle</th>\n",
              "      <th>originalTitle</th>\n",
              "      <th>isAdult</th>\n",
              "      <th>startYear</th>\n",
              "      <th>endYear</th>\n",
              "      <th>runtimeMinutes</th>\n",
              "      <th>genres</th>\n",
              "    </tr>\n",
              "  </thead>\n",
              "  <tbody>\n",
              "    <tr>\n",
              "      <th>59140</th>\n",
              "      <td>tt0060313</td>\n",
              "      <td>movie</td>\n",
              "      <td>Dingle, Dangle</td>\n",
              "      <td>Dingle, Dangle</td>\n",
              "      <td>1</td>\n",
              "      <td>1966</td>\n",
              "      <td>\\N</td>\n",
              "      <td>61</td>\n",
              "      <td>Comedy</td>\n",
              "    </tr>\n",
              "    <tr>\n",
              "      <th>60704</th>\n",
              "      <td>tt0061926</td>\n",
              "      <td>movie</td>\n",
              "      <td>Lust Weekend</td>\n",
              "      <td>Lust Weekend</td>\n",
              "      <td>1</td>\n",
              "      <td>1967</td>\n",
              "      <td>\\N</td>\n",
              "      <td>70</td>\n",
              "      <td>Drama</td>\n",
              "    </tr>\n",
              "    <tr>\n",
              "      <th>61120</th>\n",
              "      <td>tt0062361</td>\n",
              "      <td>movie</td>\n",
              "      <td>Thigh Spy</td>\n",
              "      <td>Thigh Spy</td>\n",
              "      <td>1</td>\n",
              "      <td>1967</td>\n",
              "      <td>\\N</td>\n",
              "      <td>70</td>\n",
              "      <td>Drama</td>\n",
              "    </tr>\n",
              "    <tr>\n",
              "      <th>61175</th>\n",
              "      <td>tt0062417</td>\n",
              "      <td>movie</td>\n",
              "      <td>Un épais manteau de sang</td>\n",
              "      <td>Un épais manteau de sang</td>\n",
              "      <td>1</td>\n",
              "      <td>1968</td>\n",
              "      <td>\\N</td>\n",
              "      <td>88</td>\n",
              "      <td>Drama</td>\n",
              "    </tr>\n",
              "    <tr>\n",
              "      <th>61479</th>\n",
              "      <td>tt0062727</td>\n",
              "      <td>short</td>\n",
              "      <td>Of Special Merit</td>\n",
              "      <td>Besonders wertvoll</td>\n",
              "      <td>1</td>\n",
              "      <td>1968</td>\n",
              "      <td>\\N</td>\n",
              "      <td>11</td>\n",
              "      <td>Adult,Short</td>\n",
              "    </tr>\n",
              "    <tr>\n",
              "      <th>...</th>\n",
              "      <td>...</td>\n",
              "      <td>...</td>\n",
              "      <td>...</td>\n",
              "      <td>...</td>\n",
              "      <td>...</td>\n",
              "      <td>...</td>\n",
              "      <td>...</td>\n",
              "      <td>...</td>\n",
              "      <td>...</td>\n",
              "    </tr>\n",
              "    <tr>\n",
              "      <th>9323788</th>\n",
              "      <td>tt9915710</td>\n",
              "      <td>video</td>\n",
              "      <td>Sodomizer 5</td>\n",
              "      <td>Sodomizer 5</td>\n",
              "      <td>1</td>\n",
              "      <td>1996</td>\n",
              "      <td>\\N</td>\n",
              "      <td>85</td>\n",
              "      <td>Adult</td>\n",
              "    </tr>\n",
              "    <tr>\n",
              "      <th>9323813</th>\n",
              "      <td>tt9915772</td>\n",
              "      <td>tvEpisode</td>\n",
              "      <td>Cassidy Banks loves the Hitachi Wand</td>\n",
              "      <td>Cassidy Banks loves the Hitachi Wand</td>\n",
              "      <td>1</td>\n",
              "      <td>\\N</td>\n",
              "      <td>\\N</td>\n",
              "      <td>\\N</td>\n",
              "      <td>Adult,Short</td>\n",
              "    </tr>\n",
              "    <tr>\n",
              "      <th>9323817</th>\n",
              "      <td>tt9915788</td>\n",
              "      <td>tvEpisode</td>\n",
              "      <td>Teen travel mates hot fucking</td>\n",
              "      <td>Teen travel mates hot fucking</td>\n",
              "      <td>1</td>\n",
              "      <td>\\N</td>\n",
              "      <td>\\N</td>\n",
              "      <td>\\N</td>\n",
              "      <td>Adult</td>\n",
              "    </tr>\n",
              "    <tr>\n",
              "      <th>9324026</th>\n",
              "      <td>tt9916254</td>\n",
              "      <td>video</td>\n",
              "      <td>Big Tit Cream Pie 32</td>\n",
              "      <td>Big Tit Cream Pie 32</td>\n",
              "      <td>1</td>\n",
              "      <td>2015</td>\n",
              "      <td>\\N</td>\n",
              "      <td>226</td>\n",
              "      <td>Adult</td>\n",
              "    </tr>\n",
              "    <tr>\n",
              "      <th>9324032</th>\n",
              "      <td>tt9916266</td>\n",
              "      <td>tvEpisode</td>\n",
              "      <td>Abella Danger Meets Vlad for Anal</td>\n",
              "      <td>Abella Danger Meets Vlad for Anal</td>\n",
              "      <td>1</td>\n",
              "      <td>2019</td>\n",
              "      <td>\\N</td>\n",
              "      <td>\\N</td>\n",
              "      <td>Adult</td>\n",
              "    </tr>\n",
              "  </tbody>\n",
              "</table>\n",
              "<p>287436 rows × 9 columns</p>\n",
              "</div>\n",
              "      <button class=\"colab-df-convert\" onclick=\"convertToInteractive('df-8b4a7d46-517b-4eb7-9054-c6eef23ce5df')\"\n",
              "              title=\"Convert this dataframe to an interactive table.\"\n",
              "              style=\"display:none;\">\n",
              "        \n",
              "  <svg xmlns=\"http://www.w3.org/2000/svg\" height=\"24px\"viewBox=\"0 0 24 24\"\n",
              "       width=\"24px\">\n",
              "    <path d=\"M0 0h24v24H0V0z\" fill=\"none\"/>\n",
              "    <path d=\"M18.56 5.44l.94 2.06.94-2.06 2.06-.94-2.06-.94-.94-2.06-.94 2.06-2.06.94zm-11 1L8.5 8.5l.94-2.06 2.06-.94-2.06-.94L8.5 2.5l-.94 2.06-2.06.94zm10 10l.94 2.06.94-2.06 2.06-.94-2.06-.94-.94-2.06-.94 2.06-2.06.94z\"/><path d=\"M17.41 7.96l-1.37-1.37c-.4-.4-.92-.59-1.43-.59-.52 0-1.04.2-1.43.59L10.3 9.45l-7.72 7.72c-.78.78-.78 2.05 0 2.83L4 21.41c.39.39.9.59 1.41.59.51 0 1.02-.2 1.41-.59l7.78-7.78 2.81-2.81c.8-.78.8-2.07 0-2.86zM5.41 20L4 18.59l7.72-7.72 1.47 1.35L5.41 20z\"/>\n",
              "  </svg>\n",
              "      </button>\n",
              "      \n",
              "  <style>\n",
              "    .colab-df-container {\n",
              "      display:flex;\n",
              "      flex-wrap:wrap;\n",
              "      gap: 12px;\n",
              "    }\n",
              "\n",
              "    .colab-df-convert {\n",
              "      background-color: #E8F0FE;\n",
              "      border: none;\n",
              "      border-radius: 50%;\n",
              "      cursor: pointer;\n",
              "      display: none;\n",
              "      fill: #1967D2;\n",
              "      height: 32px;\n",
              "      padding: 0 0 0 0;\n",
              "      width: 32px;\n",
              "    }\n",
              "\n",
              "    .colab-df-convert:hover {\n",
              "      background-color: #E2EBFA;\n",
              "      box-shadow: 0px 1px 2px rgba(60, 64, 67, 0.3), 0px 1px 3px 1px rgba(60, 64, 67, 0.15);\n",
              "      fill: #174EA6;\n",
              "    }\n",
              "\n",
              "    [theme=dark] .colab-df-convert {\n",
              "      background-color: #3B4455;\n",
              "      fill: #D2E3FC;\n",
              "    }\n",
              "\n",
              "    [theme=dark] .colab-df-convert:hover {\n",
              "      background-color: #434B5C;\n",
              "      box-shadow: 0px 1px 3px 1px rgba(0, 0, 0, 0.15);\n",
              "      filter: drop-shadow(0px 1px 2px rgba(0, 0, 0, 0.3));\n",
              "      fill: #FFFFFF;\n",
              "    }\n",
              "  </style>\n",
              "\n",
              "      <script>\n",
              "        const buttonEl =\n",
              "          document.querySelector('#df-8b4a7d46-517b-4eb7-9054-c6eef23ce5df button.colab-df-convert');\n",
              "        buttonEl.style.display =\n",
              "          google.colab.kernel.accessAllowed ? 'block' : 'none';\n",
              "\n",
              "        async function convertToInteractive(key) {\n",
              "          const element = document.querySelector('#df-8b4a7d46-517b-4eb7-9054-c6eef23ce5df');\n",
              "          const dataTable =\n",
              "            await google.colab.kernel.invokeFunction('convertToInteractive',\n",
              "                                                     [key], {});\n",
              "          if (!dataTable) return;\n",
              "\n",
              "          const docLinkHtml = 'Like what you see? Visit the ' +\n",
              "            '<a target=\"_blank\" href=https://colab.research.google.com/notebooks/data_table.ipynb>data table notebook</a>'\n",
              "            + ' to learn more about interactive tables.';\n",
              "          element.innerHTML = '';\n",
              "          dataTable['output_type'] = 'display_data';\n",
              "          await google.colab.output.renderOutput(dataTable, element);\n",
              "          const docLink = document.createElement('div');\n",
              "          docLink.innerHTML = docLinkHtml;\n",
              "          element.appendChild(docLink);\n",
              "        }\n",
              "      </script>\n",
              "    </div>\n",
              "  </div>\n",
              "  "
            ]
          },
          "metadata": {},
          "execution_count": 19
        }
      ]
    },
    {
      "cell_type": "code",
      "source": [
        "condition = title_basics['isAdult'] == '0'\n",
        "title_basics.loc[condition]"
      ],
      "metadata": {
        "id": "mUFYw-yL0cwQ",
        "colab": {
          "base_uri": "https://localhost:8080/",
          "height": 423
        },
        "outputId": "57a669cc-38d7-4c6e-dbd9-046cb8520828"
      },
      "execution_count": null,
      "outputs": [
        {
          "output_type": "execute_result",
          "data": {
            "text/plain": [
              "             tconst  titleType                             primaryTitle  \\\n",
              "2949120  tt13608912  tvEpisode                            Episode #4.72   \n",
              "2949121  tt13608914  tvEpisode                            Episode #4.74   \n",
              "2949122  tt13608916  tvEpisode                            Episode #4.76   \n",
              "2949123  tt13608918  tvEpisode                            Episode #4.75   \n",
              "2949124   tt1360891    tvMovie  Vanished: The Cold Case of Kathie Durst   \n",
              "...             ...        ...                                      ...   \n",
              "3014651   tt1373104      short                          The Jealous Dog   \n",
              "3014652  tt13731054  tvEpisode                                 Ebb Tide   \n",
              "3014653   tt1373105      short                           Il caro viveri   \n",
              "3014654   tt1373106      short                     Il cavalier Fantasma   \n",
              "3014655   tt1373107      movie                                    Cemal   \n",
              "\n",
              "                                   originalTitle isAdult startYear endYear  \\\n",
              "2949120                            Episode #4.72       0        \\N      \\N   \n",
              "2949121                            Episode #4.74       0        \\N      \\N   \n",
              "2949122                            Episode #4.76       0        \\N      \\N   \n",
              "2949123                            Episode #4.75       0        \\N      \\N   \n",
              "2949124  Vanished: The Cold Case of Kathie Durst       0      2001      \\N   \n",
              "...                                          ...     ...       ...     ...   \n",
              "3014651                           Il cane geloso       0      1907      \\N   \n",
              "3014652                                 Ebb Tide       0      2013      \\N   \n",
              "3014653                           Il caro viveri       0      1912      \\N   \n",
              "3014654                     Il cavalier Fantasma       0      1911      \\N   \n",
              "3014655                                    Cemal       0      1977      \\N   \n",
              "\n",
              "        runtimeMinutes             genres  \n",
              "2949120             \\N          Talk-Show  \n",
              "2949121             \\N          Talk-Show  \n",
              "2949122             \\N          Talk-Show  \n",
              "2949123             \\N          Talk-Show  \n",
              "2949124             \\N  Crime,Documentary  \n",
              "...                ...                ...  \n",
              "3014651             \\N              Short  \n",
              "3014652             \\N             Comedy  \n",
              "3014653             \\N              Short  \n",
              "3014654             \\N              Short  \n",
              "3014655             57    Adventure,Crime  \n",
              "\n",
              "[63384 rows x 9 columns]"
            ],
            "text/html": [
              "\n",
              "  <div id=\"df-96204f0d-945c-42cb-9c57-5cba49b4bf2a\">\n",
              "    <div class=\"colab-df-container\">\n",
              "      <div>\n",
              "<style scoped>\n",
              "    .dataframe tbody tr th:only-of-type {\n",
              "        vertical-align: middle;\n",
              "    }\n",
              "\n",
              "    .dataframe tbody tr th {\n",
              "        vertical-align: top;\n",
              "    }\n",
              "\n",
              "    .dataframe thead th {\n",
              "        text-align: right;\n",
              "    }\n",
              "</style>\n",
              "<table border=\"1\" class=\"dataframe\">\n",
              "  <thead>\n",
              "    <tr style=\"text-align: right;\">\n",
              "      <th></th>\n",
              "      <th>tconst</th>\n",
              "      <th>titleType</th>\n",
              "      <th>primaryTitle</th>\n",
              "      <th>originalTitle</th>\n",
              "      <th>isAdult</th>\n",
              "      <th>startYear</th>\n",
              "      <th>endYear</th>\n",
              "      <th>runtimeMinutes</th>\n",
              "      <th>genres</th>\n",
              "    </tr>\n",
              "  </thead>\n",
              "  <tbody>\n",
              "    <tr>\n",
              "      <th>2949120</th>\n",
              "      <td>tt13608912</td>\n",
              "      <td>tvEpisode</td>\n",
              "      <td>Episode #4.72</td>\n",
              "      <td>Episode #4.72</td>\n",
              "      <td>0</td>\n",
              "      <td>\\N</td>\n",
              "      <td>\\N</td>\n",
              "      <td>\\N</td>\n",
              "      <td>Talk-Show</td>\n",
              "    </tr>\n",
              "    <tr>\n",
              "      <th>2949121</th>\n",
              "      <td>tt13608914</td>\n",
              "      <td>tvEpisode</td>\n",
              "      <td>Episode #4.74</td>\n",
              "      <td>Episode #4.74</td>\n",
              "      <td>0</td>\n",
              "      <td>\\N</td>\n",
              "      <td>\\N</td>\n",
              "      <td>\\N</td>\n",
              "      <td>Talk-Show</td>\n",
              "    </tr>\n",
              "    <tr>\n",
              "      <th>2949122</th>\n",
              "      <td>tt13608916</td>\n",
              "      <td>tvEpisode</td>\n",
              "      <td>Episode #4.76</td>\n",
              "      <td>Episode #4.76</td>\n",
              "      <td>0</td>\n",
              "      <td>\\N</td>\n",
              "      <td>\\N</td>\n",
              "      <td>\\N</td>\n",
              "      <td>Talk-Show</td>\n",
              "    </tr>\n",
              "    <tr>\n",
              "      <th>2949123</th>\n",
              "      <td>tt13608918</td>\n",
              "      <td>tvEpisode</td>\n",
              "      <td>Episode #4.75</td>\n",
              "      <td>Episode #4.75</td>\n",
              "      <td>0</td>\n",
              "      <td>\\N</td>\n",
              "      <td>\\N</td>\n",
              "      <td>\\N</td>\n",
              "      <td>Talk-Show</td>\n",
              "    </tr>\n",
              "    <tr>\n",
              "      <th>2949124</th>\n",
              "      <td>tt1360891</td>\n",
              "      <td>tvMovie</td>\n",
              "      <td>Vanished: The Cold Case of Kathie Durst</td>\n",
              "      <td>Vanished: The Cold Case of Kathie Durst</td>\n",
              "      <td>0</td>\n",
              "      <td>2001</td>\n",
              "      <td>\\N</td>\n",
              "      <td>\\N</td>\n",
              "      <td>Crime,Documentary</td>\n",
              "    </tr>\n",
              "    <tr>\n",
              "      <th>...</th>\n",
              "      <td>...</td>\n",
              "      <td>...</td>\n",
              "      <td>...</td>\n",
              "      <td>...</td>\n",
              "      <td>...</td>\n",
              "      <td>...</td>\n",
              "      <td>...</td>\n",
              "      <td>...</td>\n",
              "      <td>...</td>\n",
              "    </tr>\n",
              "    <tr>\n",
              "      <th>3014651</th>\n",
              "      <td>tt1373104</td>\n",
              "      <td>short</td>\n",
              "      <td>The Jealous Dog</td>\n",
              "      <td>Il cane geloso</td>\n",
              "      <td>0</td>\n",
              "      <td>1907</td>\n",
              "      <td>\\N</td>\n",
              "      <td>\\N</td>\n",
              "      <td>Short</td>\n",
              "    </tr>\n",
              "    <tr>\n",
              "      <th>3014652</th>\n",
              "      <td>tt13731054</td>\n",
              "      <td>tvEpisode</td>\n",
              "      <td>Ebb Tide</td>\n",
              "      <td>Ebb Tide</td>\n",
              "      <td>0</td>\n",
              "      <td>2013</td>\n",
              "      <td>\\N</td>\n",
              "      <td>\\N</td>\n",
              "      <td>Comedy</td>\n",
              "    </tr>\n",
              "    <tr>\n",
              "      <th>3014653</th>\n",
              "      <td>tt1373105</td>\n",
              "      <td>short</td>\n",
              "      <td>Il caro viveri</td>\n",
              "      <td>Il caro viveri</td>\n",
              "      <td>0</td>\n",
              "      <td>1912</td>\n",
              "      <td>\\N</td>\n",
              "      <td>\\N</td>\n",
              "      <td>Short</td>\n",
              "    </tr>\n",
              "    <tr>\n",
              "      <th>3014654</th>\n",
              "      <td>tt1373106</td>\n",
              "      <td>short</td>\n",
              "      <td>Il cavalier Fantasma</td>\n",
              "      <td>Il cavalier Fantasma</td>\n",
              "      <td>0</td>\n",
              "      <td>1911</td>\n",
              "      <td>\\N</td>\n",
              "      <td>\\N</td>\n",
              "      <td>Short</td>\n",
              "    </tr>\n",
              "    <tr>\n",
              "      <th>3014655</th>\n",
              "      <td>tt1373107</td>\n",
              "      <td>movie</td>\n",
              "      <td>Cemal</td>\n",
              "      <td>Cemal</td>\n",
              "      <td>0</td>\n",
              "      <td>1977</td>\n",
              "      <td>\\N</td>\n",
              "      <td>57</td>\n",
              "      <td>Adventure,Crime</td>\n",
              "    </tr>\n",
              "  </tbody>\n",
              "</table>\n",
              "<p>63384 rows × 9 columns</p>\n",
              "</div>\n",
              "      <button class=\"colab-df-convert\" onclick=\"convertToInteractive('df-96204f0d-945c-42cb-9c57-5cba49b4bf2a')\"\n",
              "              title=\"Convert this dataframe to an interactive table.\"\n",
              "              style=\"display:none;\">\n",
              "        \n",
              "  <svg xmlns=\"http://www.w3.org/2000/svg\" height=\"24px\"viewBox=\"0 0 24 24\"\n",
              "       width=\"24px\">\n",
              "    <path d=\"M0 0h24v24H0V0z\" fill=\"none\"/>\n",
              "    <path d=\"M18.56 5.44l.94 2.06.94-2.06 2.06-.94-2.06-.94-.94-2.06-.94 2.06-2.06.94zm-11 1L8.5 8.5l.94-2.06 2.06-.94-2.06-.94L8.5 2.5l-.94 2.06-2.06.94zm10 10l.94 2.06.94-2.06 2.06-.94-2.06-.94-.94-2.06-.94 2.06-2.06.94z\"/><path d=\"M17.41 7.96l-1.37-1.37c-.4-.4-.92-.59-1.43-.59-.52 0-1.04.2-1.43.59L10.3 9.45l-7.72 7.72c-.78.78-.78 2.05 0 2.83L4 21.41c.39.39.9.59 1.41.59.51 0 1.02-.2 1.41-.59l7.78-7.78 2.81-2.81c.8-.78.8-2.07 0-2.86zM5.41 20L4 18.59l7.72-7.72 1.47 1.35L5.41 20z\"/>\n",
              "  </svg>\n",
              "      </button>\n",
              "      \n",
              "  <style>\n",
              "    .colab-df-container {\n",
              "      display:flex;\n",
              "      flex-wrap:wrap;\n",
              "      gap: 12px;\n",
              "    }\n",
              "\n",
              "    .colab-df-convert {\n",
              "      background-color: #E8F0FE;\n",
              "      border: none;\n",
              "      border-radius: 50%;\n",
              "      cursor: pointer;\n",
              "      display: none;\n",
              "      fill: #1967D2;\n",
              "      height: 32px;\n",
              "      padding: 0 0 0 0;\n",
              "      width: 32px;\n",
              "    }\n",
              "\n",
              "    .colab-df-convert:hover {\n",
              "      background-color: #E2EBFA;\n",
              "      box-shadow: 0px 1px 2px rgba(60, 64, 67, 0.3), 0px 1px 3px 1px rgba(60, 64, 67, 0.15);\n",
              "      fill: #174EA6;\n",
              "    }\n",
              "\n",
              "    [theme=dark] .colab-df-convert {\n",
              "      background-color: #3B4455;\n",
              "      fill: #D2E3FC;\n",
              "    }\n",
              "\n",
              "    [theme=dark] .colab-df-convert:hover {\n",
              "      background-color: #434B5C;\n",
              "      box-shadow: 0px 1px 3px 1px rgba(0, 0, 0, 0.15);\n",
              "      filter: drop-shadow(0px 1px 2px rgba(0, 0, 0, 0.3));\n",
              "      fill: #FFFFFF;\n",
              "    }\n",
              "  </style>\n",
              "\n",
              "      <script>\n",
              "        const buttonEl =\n",
              "          document.querySelector('#df-96204f0d-945c-42cb-9c57-5cba49b4bf2a button.colab-df-convert');\n",
              "        buttonEl.style.display =\n",
              "          google.colab.kernel.accessAllowed ? 'block' : 'none';\n",
              "\n",
              "        async function convertToInteractive(key) {\n",
              "          const element = document.querySelector('#df-96204f0d-945c-42cb-9c57-5cba49b4bf2a');\n",
              "          const dataTable =\n",
              "            await google.colab.kernel.invokeFunction('convertToInteractive',\n",
              "                                                     [key], {});\n",
              "          if (!dataTable) return;\n",
              "\n",
              "          const docLinkHtml = 'Like what you see? Visit the ' +\n",
              "            '<a target=\"_blank\" href=https://colab.research.google.com/notebooks/data_table.ipynb>data table notebook</a>'\n",
              "            + ' to learn more about interactive tables.';\n",
              "          element.innerHTML = '';\n",
              "          dataTable['output_type'] = 'display_data';\n",
              "          await google.colab.output.renderOutput(dataTable, element);\n",
              "          const docLink = document.createElement('div');\n",
              "          docLink.innerHTML = docLinkHtml;\n",
              "          element.appendChild(docLink);\n",
              "        }\n",
              "      </script>\n",
              "    </div>\n",
              "  </div>\n",
              "  "
            ]
          },
          "metadata": {},
          "execution_count": 20
        }
      ]
    },
    {
      "cell_type": "code",
      "source": [
        "#check value_counts other columns\n",
        "#total entries: 9301902\n",
        "\n",
        "title_basics['tconst'].nunique()\n",
        "#9301902\n",
        "\n",
        "#Are there any /N values?\n",
        "condition = title_basics['tconst'] == '/N'\n",
        "condition.apply(lambda x : '1' if x == 1 else 0).sum()\n",
        "#Answer: 0"
      ],
      "metadata": {
        "id": "MCviSTxw7dJx",
        "colab": {
          "base_uri": "https://localhost:8080/"
        },
        "outputId": "c5e836b2-91df-48f0-d011-48168b137b6e"
      },
      "execution_count": null,
      "outputs": [
        {
          "output_type": "execute_result",
          "data": {
            "text/plain": [
              "0"
            ]
          },
          "metadata": {},
          "execution_count": 21
        }
      ]
    },
    {
      "cell_type": "code",
      "source": [
        "title_basics['titleType'].nunique()\n",
        "\n",
        "#11 unique values\n",
        "# how many rows I can use from the dataset (are they usable)? are the other values /N?"
      ],
      "metadata": {
        "id": "hUDi7KfL8hdf",
        "colab": {
          "base_uri": "https://localhost:8080/"
        },
        "outputId": "78fa0ad2-7f3d-4c88-bd9f-df844c776467"
      },
      "execution_count": null,
      "outputs": [
        {
          "output_type": "execute_result",
          "data": {
            "text/plain": [
              "11"
            ]
          },
          "metadata": {},
          "execution_count": 22
        }
      ]
    },
    {
      "cell_type": "code",
      "source": [
        "title_basics['titleType'].value_counts()"
      ],
      "metadata": {
        "colab": {
          "base_uri": "https://localhost:8080/"
        },
        "id": "pbpl_uo0WQKb",
        "outputId": "22c809fb-afc2-4179-da48-658d63bb3b3b"
      },
      "execution_count": null,
      "outputs": [
        {
          "output_type": "execute_result",
          "data": {
            "text/plain": [
              "tvEpisode       7036854\n",
              "short            896614\n",
              "movie            625336\n",
              "video            266487\n",
              "tvSeries         233145\n",
              "tvMovie          138011\n",
              "tvMiniSeries      45697\n",
              "tvSpecial         38834\n",
              "videoGame         32631\n",
              "tvShort           10703\n",
              "tvPilot               2\n",
              "Name: titleType, dtype: int64"
            ]
          },
          "metadata": {},
          "execution_count": 23
        }
      ]
    },
    {
      "cell_type": "code",
      "source": [
        "title_basics[title_basics['titleType'] == 'movie'].nunique()"
      ],
      "metadata": {
        "colab": {
          "base_uri": "https://localhost:8080/"
        },
        "id": "rm_LVI7vWf3F",
        "outputId": "fdc84036-4ee4-422b-8291-f22f72f65188"
      },
      "execution_count": null,
      "outputs": [
        {
          "output_type": "execute_result",
          "data": {
            "text/plain": [
              "tconst            625336\n",
              "titleType              1\n",
              "primaryTitle      540686\n",
              "originalTitle     552200\n",
              "isAdult                4\n",
              "startYear            136\n",
              "endYear                1\n",
              "runtimeMinutes       499\n",
              "genres              1470\n",
              "dtype: int64"
            ]
          },
          "metadata": {},
          "execution_count": 24
        }
      ]
    },
    {
      "cell_type": "code",
      "source": [
        "title_basics['primaryTitle'].nunique()\n",
        "#4262092 unique values\n",
        "#some are repeated\n",
        "\n",
        "#Are there any /N values?\n",
        "condition = title_basics['primaryTitle'] == '/N'\n",
        "condition.apply(lambda x : '1' if x == 1 else 0).sum()\n",
        "#Answer: No"
      ],
      "metadata": {
        "id": "qy8CqP9T8l_r",
        "colab": {
          "base_uri": "https://localhost:8080/"
        },
        "outputId": "cbd13ec2-4272-4283-8b14-b79ecaf96318"
      },
      "execution_count": null,
      "outputs": [
        {
          "output_type": "execute_result",
          "data": {
            "text/plain": [
              "0"
            ]
          },
          "metadata": {},
          "execution_count": 25
        }
      ]
    },
    {
      "cell_type": "code",
      "source": [
        "title_basics['originalTitle'].nunique()\n",
        "# 4282726 unique values (more 2634 than the primary title)\n",
        "# some are repeated\n",
        "\n",
        "# #Are there any /N values?\n",
        "condition = title_basics['originalTitle'] == '/N'\n",
        "condition.apply(lambda x : '1' if x == 1 else 0).sum()\n",
        "# Answer: No"
      ],
      "metadata": {
        "id": "lJwkBI7pAC7N",
        "colab": {
          "base_uri": "https://localhost:8080/"
        },
        "outputId": "438885cb-e50e-4c60-c6d7-b7c19f08552c"
      },
      "execution_count": null,
      "outputs": [
        {
          "output_type": "execute_result",
          "data": {
            "text/plain": [
              "0"
            ]
          },
          "metadata": {},
          "execution_count": 26
        }
      ]
    },
    {
      "cell_type": "code",
      "source": [
        "title_basics['startYear'].value_counts()\n",
        "# we have \\N = 1243835 entries"
      ],
      "metadata": {
        "id": "utRNNPVGAl9d",
        "colab": {
          "base_uri": "https://localhost:8080/"
        },
        "outputId": "67133f8b-324c-4ba2-a509-d2837277c8c6"
      },
      "execution_count": null,
      "outputs": [
        {
          "output_type": "execute_result",
          "data": {
            "text/plain": [
              "\\N      1248377\n",
              "2021     434410\n",
              "2018     423574\n",
              "2017     420551\n",
              "2019     412354\n",
              "         ...   \n",
              "1882          2\n",
              "1881          2\n",
              "1874          1\n",
              "1883          1\n",
              "1885          1\n",
              "Name: startYear, Length: 151, dtype: int64"
            ]
          },
          "metadata": {},
          "execution_count": 27
        }
      ]
    },
    {
      "cell_type": "code",
      "source": [
        "title_basics['endYear'].value_counts()\n",
        "# we have \\N = 9204461 entries out of 9301902, which means that only 97441 values are non-null which is only 1% ----- check if this is the same number as episodes"
      ],
      "metadata": {
        "id": "oUvR1hVau0m1",
        "colab": {
          "base_uri": "https://localhost:8080/"
        },
        "outputId": "89e27a29-3356-4c15-f801-134665e1f881"
      },
      "execution_count": null,
      "outputs": [
        {
          "output_type": "execute_result",
          "data": {
            "text/plain": [
              "\\N      9226557\n",
              "2017       5981\n",
              "2018       5916\n",
              "2019       5838\n",
              "2020       5398\n",
              "         ...   \n",
              "1942          1\n",
              "1944          1\n",
              "1934          1\n",
              "2028          1\n",
              "1906          1\n",
              "Name: endYear, Length: 96, dtype: int64"
            ]
          },
          "metadata": {},
          "execution_count": 28
        }
      ]
    },
    {
      "cell_type": "code",
      "source": [
        "# title_basics['endYear'].apply(lambda x : '1' if x == r'\\N' else 0).sum()"
      ],
      "metadata": {
        "id": "k1OQ690v8i44"
      },
      "execution_count": null,
      "outputs": []
    },
    {
      "cell_type": "code",
      "source": [
        "TVseries = title_basics['titleType'] == 'tvEpisode'\n",
        "TVseries.sum()\n",
        "#there are 7018334 TVepisodes on the title_basics collumn"
      ],
      "metadata": {
        "id": "E5p7qD-tCwFz",
        "colab": {
          "base_uri": "https://localhost:8080/"
        },
        "outputId": "cf06a4bd-ed16-46c1-adbc-4bc1445fd143"
      },
      "execution_count": null,
      "outputs": [
        {
          "output_type": "execute_result",
          "data": {
            "text/plain": [
              "7036854"
            ]
          },
          "metadata": {},
          "execution_count": 30
        }
      ]
    },
    {
      "cell_type": "code",
      "source": [
        "TVseries =  (title_basics['titleType'] == 'tvEpisode') & (title_basics['endYear'] == r'\\N')\n",
        "TVseries.sum()"
      ],
      "metadata": {
        "id": "65yEjuLtEx4A",
        "colab": {
          "base_uri": "https://localhost:8080/"
        },
        "outputId": "03fe6851-6e9b-4e31-b0dc-8a7f5e6dddcf"
      },
      "execution_count": null,
      "outputs": [
        {
          "output_type": "execute_result",
          "data": {
            "text/plain": [
              "7036854"
            ]
          },
          "metadata": {},
          "execution_count": 31
        }
      ]
    },
    {
      "cell_type": "code",
      "source": [
        "check = (title_basics['endYear'] == r'\\N') & (title_basics['titleType'] == 'tvEpisode')\n",
        "title_basics.loc[check].count()"
      ],
      "metadata": {
        "id": "ofDXGM02KuBy",
        "colab": {
          "base_uri": "https://localhost:8080/"
        },
        "outputId": "228c06c7-90a4-4f15-ce41-2c54af0c43fc"
      },
      "execution_count": null,
      "outputs": [
        {
          "output_type": "execute_result",
          "data": {
            "text/plain": [
              "tconst            7036854\n",
              "titleType         7036854\n",
              "primaryTitle      7036843\n",
              "originalTitle     7036843\n",
              "isAdult           7036854\n",
              "startYear         7036854\n",
              "endYear           7036854\n",
              "runtimeMinutes    7036854\n",
              "genres            7036844\n",
              "dtype: int64"
            ]
          },
          "metadata": {},
          "execution_count": 32
        }
      ]
    },
    {
      "cell_type": "code",
      "source": [
        "check = (title_basics['startYear'] == r'\\N') & (title_basics['titleType'] == 'tvEpisode')\n",
        "title_basics.loc[check].count()"
      ],
      "metadata": {
        "id": "FRDzFvF-X341",
        "colab": {
          "base_uri": "https://localhost:8080/"
        },
        "outputId": "e619fb35-4b75-4f83-aa7c-7c8c080ff204"
      },
      "execution_count": null,
      "outputs": [
        {
          "output_type": "execute_result",
          "data": {
            "text/plain": [
              "tconst            1110064\n",
              "titleType         1110064\n",
              "primaryTitle      1110061\n",
              "originalTitle     1110061\n",
              "isAdult           1110064\n",
              "startYear         1110064\n",
              "endYear           1110064\n",
              "runtimeMinutes    1110064\n",
              "genres            1110054\n",
              "dtype: int64"
            ]
          },
          "metadata": {},
          "execution_count": 33
        }
      ]
    },
    {
      "cell_type": "code",
      "source": [
        "# # on isAdult column - change all other than 0 and 1 to null\n",
        "\n",
        "# def check_safety(rating):\n",
        "#   safe_for_children = ''\n",
        "#   if rating == 'G':\n",
        "#     safe_for_children = 'yes'\n",
        "#   else:\n",
        "#     safe_for_children = 'no' \n",
        "#   return safe_for_children\n",
        "\n",
        "# movies['safe_for_children'] = movies['content_rating'].apply(check_safety)\n",
        "# movies.head()\n"
      ],
      "metadata": {
        "id": "LLoJfTkErvxj"
      },
      "execution_count": null,
      "outputs": []
    },
    {
      "cell_type": "code",
      "source": [
        "#There are no values on genres\n",
        "title_basics['genres'].value_counts()"
      ],
      "metadata": {
        "id": "XUE3I8V4OpTM",
        "colab": {
          "base_uri": "https://localhost:8080/"
        },
        "outputId": "bb1beb77-fe7e-45fd-a348-2184f836bca2"
      },
      "execution_count": null,
      "outputs": [
        {
          "output_type": "execute_result",
          "data": {
            "text/plain": [
              "Drama                       1058664\n",
              "Comedy                       637975\n",
              "Talk-Show                    564956\n",
              "News                         462972\n",
              "Documentary                  447505\n",
              "                             ...   \n",
              "Crime,History,Romance             1\n",
              "Adventure,News,Talk-Show          1\n",
              "Adult,Animation,Sport             1\n",
              "Action,Adult,Sport                1\n",
              "Adventure,Sci-Fi,Sport            1\n",
              "Name: genres, Length: 2330, dtype: int64"
            ]
          },
          "metadata": {},
          "execution_count": 35
        }
      ]
    },
    {
      "cell_type": "code",
      "source": [
        "condition = title_basics[['isAdult', 'startYear', 'endYear', 'runtimeMinutes', 'genres']] == r'\\N'\n",
        "condition_pivot = condition.pivot_table(values = title_basics[['isAdult', 'startYear', 'endYear', 'runtimeMinutes', 'genres']], index = title_basics['titleType'], aggfunc = 'sum')\n",
        "condition_pivot['total'] = title_basics['titleType'].value_counts()\n",
        "condition_pivot"
      ],
      "metadata": {
        "id": "R1zWeUNvJRbT",
        "colab": {
          "base_uri": "https://localhost:8080/",
          "height": 425
        },
        "outputId": "ecd87acc-8051-4ae0-e25c-4150db7fe082"
      },
      "execution_count": null,
      "outputs": [
        {
          "output_type": "execute_result",
          "data": {
            "text/plain": [
              "              endYear  genres  isAdult  runtimeMinutes  startYear    total\n",
              "titleType                                                                 \n",
              "movie          625336   72006        0          230562      84015   625336\n",
              "short          896614     190        0          315862      27318   896614\n",
              "tvEpisode     7036854  305413        1         5881895    1110064  7036854\n",
              "tvMiniSeries    24502    2734        0           28895       2951    45697\n",
              "tvMovie        138011   11500        0           44492       3697   138011\n",
              "tvPilot             2       2        0               2          0        2\n",
              "tvSeries       156584   19175        0          141086      18035   233145\n",
              "tvShort         10703      12        0            1256         97    10703\n",
              "tvSpecial       38833    5581        0           20235        235    38834\n",
              "video          266487    8549        0           86356       1398   266487\n",
              "videoGame       32631    4972        0           32298        567    32631"
            ],
            "text/html": [
              "\n",
              "  <div id=\"df-e81bc344-ff6d-486e-82ff-65cce5231da7\">\n",
              "    <div class=\"colab-df-container\">\n",
              "      <div>\n",
              "<style scoped>\n",
              "    .dataframe tbody tr th:only-of-type {\n",
              "        vertical-align: middle;\n",
              "    }\n",
              "\n",
              "    .dataframe tbody tr th {\n",
              "        vertical-align: top;\n",
              "    }\n",
              "\n",
              "    .dataframe thead th {\n",
              "        text-align: right;\n",
              "    }\n",
              "</style>\n",
              "<table border=\"1\" class=\"dataframe\">\n",
              "  <thead>\n",
              "    <tr style=\"text-align: right;\">\n",
              "      <th></th>\n",
              "      <th>endYear</th>\n",
              "      <th>genres</th>\n",
              "      <th>isAdult</th>\n",
              "      <th>runtimeMinutes</th>\n",
              "      <th>startYear</th>\n",
              "      <th>total</th>\n",
              "    </tr>\n",
              "    <tr>\n",
              "      <th>titleType</th>\n",
              "      <th></th>\n",
              "      <th></th>\n",
              "      <th></th>\n",
              "      <th></th>\n",
              "      <th></th>\n",
              "      <th></th>\n",
              "    </tr>\n",
              "  </thead>\n",
              "  <tbody>\n",
              "    <tr>\n",
              "      <th>movie</th>\n",
              "      <td>625336</td>\n",
              "      <td>72006</td>\n",
              "      <td>0</td>\n",
              "      <td>230562</td>\n",
              "      <td>84015</td>\n",
              "      <td>625336</td>\n",
              "    </tr>\n",
              "    <tr>\n",
              "      <th>short</th>\n",
              "      <td>896614</td>\n",
              "      <td>190</td>\n",
              "      <td>0</td>\n",
              "      <td>315862</td>\n",
              "      <td>27318</td>\n",
              "      <td>896614</td>\n",
              "    </tr>\n",
              "    <tr>\n",
              "      <th>tvEpisode</th>\n",
              "      <td>7036854</td>\n",
              "      <td>305413</td>\n",
              "      <td>1</td>\n",
              "      <td>5881895</td>\n",
              "      <td>1110064</td>\n",
              "      <td>7036854</td>\n",
              "    </tr>\n",
              "    <tr>\n",
              "      <th>tvMiniSeries</th>\n",
              "      <td>24502</td>\n",
              "      <td>2734</td>\n",
              "      <td>0</td>\n",
              "      <td>28895</td>\n",
              "      <td>2951</td>\n",
              "      <td>45697</td>\n",
              "    </tr>\n",
              "    <tr>\n",
              "      <th>tvMovie</th>\n",
              "      <td>138011</td>\n",
              "      <td>11500</td>\n",
              "      <td>0</td>\n",
              "      <td>44492</td>\n",
              "      <td>3697</td>\n",
              "      <td>138011</td>\n",
              "    </tr>\n",
              "    <tr>\n",
              "      <th>tvPilot</th>\n",
              "      <td>2</td>\n",
              "      <td>2</td>\n",
              "      <td>0</td>\n",
              "      <td>2</td>\n",
              "      <td>0</td>\n",
              "      <td>2</td>\n",
              "    </tr>\n",
              "    <tr>\n",
              "      <th>tvSeries</th>\n",
              "      <td>156584</td>\n",
              "      <td>19175</td>\n",
              "      <td>0</td>\n",
              "      <td>141086</td>\n",
              "      <td>18035</td>\n",
              "      <td>233145</td>\n",
              "    </tr>\n",
              "    <tr>\n",
              "      <th>tvShort</th>\n",
              "      <td>10703</td>\n",
              "      <td>12</td>\n",
              "      <td>0</td>\n",
              "      <td>1256</td>\n",
              "      <td>97</td>\n",
              "      <td>10703</td>\n",
              "    </tr>\n",
              "    <tr>\n",
              "      <th>tvSpecial</th>\n",
              "      <td>38833</td>\n",
              "      <td>5581</td>\n",
              "      <td>0</td>\n",
              "      <td>20235</td>\n",
              "      <td>235</td>\n",
              "      <td>38834</td>\n",
              "    </tr>\n",
              "    <tr>\n",
              "      <th>video</th>\n",
              "      <td>266487</td>\n",
              "      <td>8549</td>\n",
              "      <td>0</td>\n",
              "      <td>86356</td>\n",
              "      <td>1398</td>\n",
              "      <td>266487</td>\n",
              "    </tr>\n",
              "    <tr>\n",
              "      <th>videoGame</th>\n",
              "      <td>32631</td>\n",
              "      <td>4972</td>\n",
              "      <td>0</td>\n",
              "      <td>32298</td>\n",
              "      <td>567</td>\n",
              "      <td>32631</td>\n",
              "    </tr>\n",
              "  </tbody>\n",
              "</table>\n",
              "</div>\n",
              "      <button class=\"colab-df-convert\" onclick=\"convertToInteractive('df-e81bc344-ff6d-486e-82ff-65cce5231da7')\"\n",
              "              title=\"Convert this dataframe to an interactive table.\"\n",
              "              style=\"display:none;\">\n",
              "        \n",
              "  <svg xmlns=\"http://www.w3.org/2000/svg\" height=\"24px\"viewBox=\"0 0 24 24\"\n",
              "       width=\"24px\">\n",
              "    <path d=\"M0 0h24v24H0V0z\" fill=\"none\"/>\n",
              "    <path d=\"M18.56 5.44l.94 2.06.94-2.06 2.06-.94-2.06-.94-.94-2.06-.94 2.06-2.06.94zm-11 1L8.5 8.5l.94-2.06 2.06-.94-2.06-.94L8.5 2.5l-.94 2.06-2.06.94zm10 10l.94 2.06.94-2.06 2.06-.94-2.06-.94-.94-2.06-.94 2.06-2.06.94z\"/><path d=\"M17.41 7.96l-1.37-1.37c-.4-.4-.92-.59-1.43-.59-.52 0-1.04.2-1.43.59L10.3 9.45l-7.72 7.72c-.78.78-.78 2.05 0 2.83L4 21.41c.39.39.9.59 1.41.59.51 0 1.02-.2 1.41-.59l7.78-7.78 2.81-2.81c.8-.78.8-2.07 0-2.86zM5.41 20L4 18.59l7.72-7.72 1.47 1.35L5.41 20z\"/>\n",
              "  </svg>\n",
              "      </button>\n",
              "      \n",
              "  <style>\n",
              "    .colab-df-container {\n",
              "      display:flex;\n",
              "      flex-wrap:wrap;\n",
              "      gap: 12px;\n",
              "    }\n",
              "\n",
              "    .colab-df-convert {\n",
              "      background-color: #E8F0FE;\n",
              "      border: none;\n",
              "      border-radius: 50%;\n",
              "      cursor: pointer;\n",
              "      display: none;\n",
              "      fill: #1967D2;\n",
              "      height: 32px;\n",
              "      padding: 0 0 0 0;\n",
              "      width: 32px;\n",
              "    }\n",
              "\n",
              "    .colab-df-convert:hover {\n",
              "      background-color: #E2EBFA;\n",
              "      box-shadow: 0px 1px 2px rgba(60, 64, 67, 0.3), 0px 1px 3px 1px rgba(60, 64, 67, 0.15);\n",
              "      fill: #174EA6;\n",
              "    }\n",
              "\n",
              "    [theme=dark] .colab-df-convert {\n",
              "      background-color: #3B4455;\n",
              "      fill: #D2E3FC;\n",
              "    }\n",
              "\n",
              "    [theme=dark] .colab-df-convert:hover {\n",
              "      background-color: #434B5C;\n",
              "      box-shadow: 0px 1px 3px 1px rgba(0, 0, 0, 0.15);\n",
              "      filter: drop-shadow(0px 1px 2px rgba(0, 0, 0, 0.3));\n",
              "      fill: #FFFFFF;\n",
              "    }\n",
              "  </style>\n",
              "\n",
              "      <script>\n",
              "        const buttonEl =\n",
              "          document.querySelector('#df-e81bc344-ff6d-486e-82ff-65cce5231da7 button.colab-df-convert');\n",
              "        buttonEl.style.display =\n",
              "          google.colab.kernel.accessAllowed ? 'block' : 'none';\n",
              "\n",
              "        async function convertToInteractive(key) {\n",
              "          const element = document.querySelector('#df-e81bc344-ff6d-486e-82ff-65cce5231da7');\n",
              "          const dataTable =\n",
              "            await google.colab.kernel.invokeFunction('convertToInteractive',\n",
              "                                                     [key], {});\n",
              "          if (!dataTable) return;\n",
              "\n",
              "          const docLinkHtml = 'Like what you see? Visit the ' +\n",
              "            '<a target=\"_blank\" href=https://colab.research.google.com/notebooks/data_table.ipynb>data table notebook</a>'\n",
              "            + ' to learn more about interactive tables.';\n",
              "          element.innerHTML = '';\n",
              "          dataTable['output_type'] = 'display_data';\n",
              "          await google.colab.output.renderOutput(dataTable, element);\n",
              "          const docLink = document.createElement('div');\n",
              "          docLink.innerHTML = docLinkHtml;\n",
              "          element.appendChild(docLink);\n",
              "        }\n",
              "      </script>\n",
              "    </div>\n",
              "  </div>\n",
              "  "
            ]
          },
          "metadata": {},
          "execution_count": 36
        }
      ]
    },
    {
      "cell_type": "code",
      "source": [
        "import seaborn as sns\n",
        "import matplotlib.pyplot as plt\n",
        "\n",
        "# sns.barplot(data=condition_pivot, x = 'titleType')\n",
        "# plt.show()\n",
        "\n",
        "ax = condition_pivot.plot(kind='barh', stacked=True)"
      ],
      "metadata": {
        "id": "iMt_zQzANFjd",
        "colab": {
          "base_uri": "https://localhost:8080/",
          "height": 278
        },
        "outputId": "4c009f1f-08b8-42c0-85fb-cc60cccdd652"
      },
      "execution_count": null,
      "outputs": [
        {
          "output_type": "display_data",
          "data": {
            "text/plain": [
              "<Figure size 432x288 with 1 Axes>"
            ],
            "image/png": "[encoded data removed]"
          },
          "metadata": {
            "needs_background": "light"
          }
        }
      ]
    },
    {
      "cell_type": "code",
      "source": [
        "import seaborn as sns\n",
        "import matplotlib.pyplot as plt\n",
        "\n",
        "fig, axes = plt.subplots(figsize=(10,6))\n",
        "ax = sns.barplot(x = condition_pivot.index.values, y = condition_pivot['endYear'], data = condition_pivot)\n",
        "ax.tick_params(axis='x', rotation=-45)"
      ],
      "metadata": {
        "id": "zYwYSzx6RLpt",
        "colab": {
          "base_uri": "https://localhost:8080/",
          "height": 425
        },
        "outputId": "13369254-c02c-4ec0-eed5-2e8f715a4ba5"
      },
      "execution_count": null,
      "outputs": [
        {
          "output_type": "display_data",
          "data": {
            "text/plain": [
              "<Figure size 720x432 with 1 Axes>"
            ],
            "image/png": "[encoded data removed]"
          },
          "metadata": {
            "needs_background": "light"
          }
        }
      ]
    },
    {
      "cell_type": "code",
      "source": [
        "title_basics['genres'].unique()"
      ],
      "metadata": {
        "colab": {
          "base_uri": "https://localhost:8080/"
        },
        "id": "CuTeBITvtkE5",
        "outputId": "0cf5fdce-dc20-48b4-d94e-38af0bba5a9a"
      },
      "execution_count": null,
      "outputs": [
        {
          "output_type": "execute_result",
          "data": {
            "text/plain": [
              "array(['Documentary,Short', 'Animation,Short', 'Animation,Comedy,Romance',\n",
              "       ..., 'Biography,Crime,Music', 'Mystery,Reality-TV,Thriller',\n",
              "       'Musical,Reality-TV,Talk-Show'], dtype=object)"
            ]
          },
          "metadata": {},
          "execution_count": 39
        }
      ]
    },
    {
      "cell_type": "markdown",
      "source": [
        "# M2) Tile crew"
      ],
      "metadata": {
        "id": "_dbymPuboD9L"
      }
    },
    {
      "cell_type": "code",
      "source": [
        "title_crew.info()"
      ],
      "metadata": {
        "id": "ZHmfQc25oAOz",
        "colab": {
          "base_uri": "https://localhost:8080/"
        },
        "outputId": "d0e9749b-75b3-4fe0-e895-e5d528759685"
      },
      "execution_count": null,
      "outputs": [
        {
          "output_type": "stream",
          "name": "stdout",
          "text": [
            "<class 'pandas.core.frame.DataFrame'>\n",
            "RangeIndex: 9324314 entries, 0 to 9324313\n",
            "Data columns (total 3 columns):\n",
            " #   Column     Dtype \n",
            "---  ------     ----- \n",
            " 0   tconst     object\n",
            " 1   directors  object\n",
            " 2   writers    object\n",
            "dtypes: object(3)\n",
            "memory usage: 213.4+ MB\n"
          ]
        }
      ]
    },
    {
      "cell_type": "markdown",
      "source": [
        "# M3) Akas"
      ],
      "metadata": {
        "id": "4sb364KJw7Lk"
      }
    },
    {
      "cell_type": "code",
      "source": [
        "title_akas"
      ],
      "metadata": {
        "id": "3703HG8Fz5u9",
        "colab": {
          "base_uri": "https://localhost:8080/",
          "height": 423
        },
        "outputId": "3c44ea76-9dd8-48b9-a690-b67ff61be0aa"
      },
      "execution_count": null,
      "outputs": [
        {
          "output_type": "execute_result",
          "data": {
            "text/plain": [
              "            titleId  ordering                      title region language  \\\n",
              "0         tt0000001         1                 Карменсіта     UA       \\N   \n",
              "1         tt0000001         2                 Carmencita     DE       \\N   \n",
              "2         tt0000001         3  Carmencita - spanyol tánc     HU       \\N   \n",
              "3         tt0000001         4                 Καρμενσίτα     GR       \\N   \n",
              "4         tt0000001         5                 Карменсита     RU       \\N   \n",
              "...             ...       ...                        ...    ...      ...   \n",
              "33626383  tt9916852         5             Episódio #3.20     PT       pt   \n",
              "33626384  tt9916852         6             Episodio #3.20     IT       it   \n",
              "33626385  tt9916852         7               एपिसोड #3.20     IN       hi   \n",
              "33626386  tt9916856         1                   The Wind     DE       \\N   \n",
              "33626387  tt9916856         2                   The Wind     \\N       \\N   \n",
              "\n",
              "                types     attributes isOriginalTitle  \n",
              "0         imdbDisplay             \\N               0  \n",
              "1                  \\N  literal title               0  \n",
              "2         imdbDisplay             \\N               0  \n",
              "3         imdbDisplay             \\N               0  \n",
              "4         imdbDisplay             \\N               0  \n",
              "...               ...            ...             ...  \n",
              "33626383           \\N             \\N               0  \n",
              "33626384           \\N             \\N               0  \n",
              "33626385           \\N             \\N               0  \n",
              "33626386  imdbDisplay             \\N               0  \n",
              "33626387     original             \\N               1  \n",
              "\n",
              "[33626388 rows x 8 columns]"
            ],
            "text/html": [
              "\n",
              "  <div id=\"df-ed9e6f26-9534-4e8a-ba36-f73c26b7b8d3\">\n",
              "    <div class=\"colab-df-container\">\n",
              "      <div>\n",
              "<style scoped>\n",
              "    .dataframe tbody tr th:only-of-type {\n",
              "        vertical-align: middle;\n",
              "    }\n",
              "\n",
              "    .dataframe tbody tr th {\n",
              "        vertical-align: top;\n",
              "    }\n",
              "\n",
              "    .dataframe thead th {\n",
              "        text-align: right;\n",
              "    }\n",
              "</style>\n",
              "<table border=\"1\" class=\"dataframe\">\n",
              "  <thead>\n",
              "    <tr style=\"text-align: right;\">\n",
              "      <th></th>\n",
              "      <th>titleId</th>\n",
              "      <th>ordering</th>\n",
              "      <th>title</th>\n",
              "      <th>region</th>\n",
              "      <th>language</th>\n",
              "      <th>types</th>\n",
              "      <th>attributes</th>\n",
              "      <th>isOriginalTitle</th>\n",
              "    </tr>\n",
              "  </thead>\n",
              "  <tbody>\n",
              "    <tr>\n",
              "      <th>0</th>\n",
              "      <td>tt0000001</td>\n",
              "      <td>1</td>\n",
              "      <td>Карменсіта</td>\n",
              "      <td>UA</td>\n",
              "      <td>\\N</td>\n",
              "      <td>imdbDisplay</td>\n",
              "      <td>\\N</td>\n",
              "      <td>0</td>\n",
              "    </tr>\n",
              "    <tr>\n",
              "      <th>1</th>\n",
              "      <td>tt0000001</td>\n",
              "      <td>2</td>\n",
              "      <td>Carmencita</td>\n",
              "      <td>DE</td>\n",
              "      <td>\\N</td>\n",
              "      <td>\\N</td>\n",
              "      <td>literal title</td>\n",
              "      <td>0</td>\n",
              "    </tr>\n",
              "    <tr>\n",
              "      <th>2</th>\n",
              "      <td>tt0000001</td>\n",
              "      <td>3</td>\n",
              "      <td>Carmencita - spanyol tánc</td>\n",
              "      <td>HU</td>\n",
              "      <td>\\N</td>\n",
              "      <td>imdbDisplay</td>\n",
              "      <td>\\N</td>\n",
              "      <td>0</td>\n",
              "    </tr>\n",
              "    <tr>\n",
              "      <th>3</th>\n",
              "      <td>tt0000001</td>\n",
              "      <td>4</td>\n",
              "      <td>Καρμενσίτα</td>\n",
              "      <td>GR</td>\n",
              "      <td>\\N</td>\n",
              "      <td>imdbDisplay</td>\n",
              "      <td>\\N</td>\n",
              "      <td>0</td>\n",
              "    </tr>\n",
              "    <tr>\n",
              "      <th>4</th>\n",
              "      <td>tt0000001</td>\n",
              "      <td>5</td>\n",
              "      <td>Карменсита</td>\n",
              "      <td>RU</td>\n",
              "      <td>\\N</td>\n",
              "      <td>imdbDisplay</td>\n",
              "      <td>\\N</td>\n",
              "      <td>0</td>\n",
              "    </tr>\n",
              "    <tr>\n",
              "      <th>...</th>\n",
              "      <td>...</td>\n",
              "      <td>...</td>\n",
              "      <td>...</td>\n",
              "      <td>...</td>\n",
              "      <td>...</td>\n",
              "      <td>...</td>\n",
              "      <td>...</td>\n",
              "      <td>...</td>\n",
              "    </tr>\n",
              "    <tr>\n",
              "      <th>33626383</th>\n",
              "      <td>tt9916852</td>\n",
              "      <td>5</td>\n",
              "      <td>Episódio #3.20</td>\n",
              "      <td>PT</td>\n",
              "      <td>pt</td>\n",
              "      <td>\\N</td>\n",
              "      <td>\\N</td>\n",
              "      <td>0</td>\n",
              "    </tr>\n",
              "    <tr>\n",
              "      <th>33626384</th>\n",
              "      <td>tt9916852</td>\n",
              "      <td>6</td>\n",
              "      <td>Episodio #3.20</td>\n",
              "      <td>IT</td>\n",
              "      <td>it</td>\n",
              "      <td>\\N</td>\n",
              "      <td>\\N</td>\n",
              "      <td>0</td>\n",
              "    </tr>\n",
              "    <tr>\n",
              "      <th>33626385</th>\n",
              "      <td>tt9916852</td>\n",
              "      <td>7</td>\n",
              "      <td>एपिसोड #3.20</td>\n",
              "      <td>IN</td>\n",
              "      <td>hi</td>\n",
              "      <td>\\N</td>\n",
              "      <td>\\N</td>\n",
              "      <td>0</td>\n",
              "    </tr>\n",
              "    <tr>\n",
              "      <th>33626386</th>\n",
              "      <td>tt9916856</td>\n",
              "      <td>1</td>\n",
              "      <td>The Wind</td>\n",
              "      <td>DE</td>\n",
              "      <td>\\N</td>\n",
              "      <td>imdbDisplay</td>\n",
              "      <td>\\N</td>\n",
              "      <td>0</td>\n",
              "    </tr>\n",
              "    <tr>\n",
              "      <th>33626387</th>\n",
              "      <td>tt9916856</td>\n",
              "      <td>2</td>\n",
              "      <td>The Wind</td>\n",
              "      <td>\\N</td>\n",
              "      <td>\\N</td>\n",
              "      <td>original</td>\n",
              "      <td>\\N</td>\n",
              "      <td>1</td>\n",
              "    </tr>\n",
              "  </tbody>\n",
              "</table>\n",
              "<p>33626388 rows × 8 columns</p>\n",
              "</div>\n",
              "      <button class=\"colab-df-convert\" onclick=\"convertToInteractive('df-ed9e6f26-9534-4e8a-ba36-f73c26b7b8d3')\"\n",
              "              title=\"Convert this dataframe to an interactive table.\"\n",
              "              style=\"display:none;\">\n",
              "        \n",
              "  <svg xmlns=\"http://www.w3.org/2000/svg\" height=\"24px\"viewBox=\"0 0 24 24\"\n",
              "       width=\"24px\">\n",
              "    <path d=\"M0 0h24v24H0V0z\" fill=\"none\"/>\n",
              "    <path d=\"M18.56 5.44l.94 2.06.94-2.06 2.06-.94-2.06-.94-.94-2.06-.94 2.06-2.06.94zm-11 1L8.5 8.5l.94-2.06 2.06-.94-2.06-.94L8.5 2.5l-.94 2.06-2.06.94zm10 10l.94 2.06.94-2.06 2.06-.94-2.06-.94-.94-2.06-.94 2.06-2.06.94z\"/><path d=\"M17.41 7.96l-1.37-1.37c-.4-.4-.92-.59-1.43-.59-.52 0-1.04.2-1.43.59L10.3 9.45l-7.72 7.72c-.78.78-.78 2.05 0 2.83L4 21.41c.39.39.9.59 1.41.59.51 0 1.02-.2 1.41-.59l7.78-7.78 2.81-2.81c.8-.78.8-2.07 0-2.86zM5.41 20L4 18.59l7.72-7.72 1.47 1.35L5.41 20z\"/>\n",
              "  </svg>\n",
              "      </button>\n",
              "      \n",
              "  <style>\n",
              "    .colab-df-container {\n",
              "      display:flex;\n",
              "      flex-wrap:wrap;\n",
              "      gap: 12px;\n",
              "    }\n",
              "\n",
              "    .colab-df-convert {\n",
              "      background-color: #E8F0FE;\n",
              "      border: none;\n",
              "      border-radius: 50%;\n",
              "      cursor: pointer;\n",
              "      display: none;\n",
              "      fill: #1967D2;\n",
              "      height: 32px;\n",
              "      padding: 0 0 0 0;\n",
              "      width: 32px;\n",
              "    }\n",
              "\n",
              "    .colab-df-convert:hover {\n",
              "      background-color: #E2EBFA;\n",
              "      box-shadow: 0px 1px 2px rgba(60, 64, 67, 0.3), 0px 1px 3px 1px rgba(60, 64, 67, 0.15);\n",
              "      fill: #174EA6;\n",
              "    }\n",
              "\n",
              "    [theme=dark] .colab-df-convert {\n",
              "      background-color: #3B4455;\n",
              "      fill: #D2E3FC;\n",
              "    }\n",
              "\n",
              "    [theme=dark] .colab-df-convert:hover {\n",
              "      background-color: #434B5C;\n",
              "      box-shadow: 0px 1px 3px 1px rgba(0, 0, 0, 0.15);\n",
              "      filter: drop-shadow(0px 1px 2px rgba(0, 0, 0, 0.3));\n",
              "      fill: #FFFFFF;\n",
              "    }\n",
              "  </style>\n",
              "\n",
              "      <script>\n",
              "        const buttonEl =\n",
              "          document.querySelector('#df-ed9e6f26-9534-4e8a-ba36-f73c26b7b8d3 button.colab-df-convert');\n",
              "        buttonEl.style.display =\n",
              "          google.colab.kernel.accessAllowed ? 'block' : 'none';\n",
              "\n",
              "        async function convertToInteractive(key) {\n",
              "          const element = document.querySelector('#df-ed9e6f26-9534-4e8a-ba36-f73c26b7b8d3');\n",
              "          const dataTable =\n",
              "            await google.colab.kernel.invokeFunction('convertToInteractive',\n",
              "                                                     [key], {});\n",
              "          if (!dataTable) return;\n",
              "\n",
              "          const docLinkHtml = 'Like what you see? Visit the ' +\n",
              "            '<a target=\"_blank\" href=https://colab.research.google.com/notebooks/data_table.ipynb>data table notebook</a>'\n",
              "            + ' to learn more about interactive tables.';\n",
              "          element.innerHTML = '';\n",
              "          dataTable['output_type'] = 'display_data';\n",
              "          await google.colab.output.renderOutput(dataTable, element);\n",
              "          const docLink = document.createElement('div');\n",
              "          docLink.innerHTML = docLinkHtml;\n",
              "          element.appendChild(docLink);\n",
              "        }\n",
              "      </script>\n",
              "    </div>\n",
              "  </div>\n",
              "  "
            ]
          },
          "metadata": {},
          "execution_count": 41
        }
      ]
    },
    {
      "cell_type": "code",
      "source": [
        "condition1 = title_akas[['region', 'language']] != r'\\N'\n",
        "condition1_pivot = condition1.pivot_table(values = title_akas[['region', 'language']], index = title_akas['titleId'], aggfunc = 'count')\n",
        "condition1_pivot['total'] = title_akas['titleId'].value_counts()\n",
        "condition1_pivot"
      ],
      "metadata": {
        "id": "nnTTZfvOxp7u",
        "colab": {
          "base_uri": "https://localhost:8080/",
          "height": 455
        },
        "outputId": "7d21c0bc-d931-42d3-f952-d80ff34e31e6"
      },
      "execution_count": null,
      "outputs": [
        {
          "output_type": "execute_result",
          "data": {
            "text/plain": [
              "           language  region  total\n",
              "titleId                           \n",
              "tt0000001         8       8      8\n",
              "tt0000002         8       8      8\n",
              "tt0000003         9       9      9\n",
              "tt0000004         8       8      8\n",
              "tt0000005        12      12     12\n",
              "...             ...     ...    ...\n",
              "tt9916846         7       7      7\n",
              "tt9916848         7       7      7\n",
              "tt9916850         7       7      7\n",
              "tt9916852         7       7      7\n",
              "tt9916856         2       2      2\n",
              "\n",
              "[6630715 rows x 3 columns]"
            ],
            "text/html": [
              "\n",
              "  <div id=\"df-cdcc3816-450a-44a6-9812-980d5f193f28\">\n",
              "    <div class=\"colab-df-container\">\n",
              "      <div>\n",
              "<style scoped>\n",
              "    .dataframe tbody tr th:only-of-type {\n",
              "        vertical-align: middle;\n",
              "    }\n",
              "\n",
              "    .dataframe tbody tr th {\n",
              "        vertical-align: top;\n",
              "    }\n",
              "\n",
              "    .dataframe thead th {\n",
              "        text-align: right;\n",
              "    }\n",
              "</style>\n",
              "<table border=\"1\" class=\"dataframe\">\n",
              "  <thead>\n",
              "    <tr style=\"text-align: right;\">\n",
              "      <th></th>\n",
              "      <th>language</th>\n",
              "      <th>region</th>\n",
              "      <th>total</th>\n",
              "    </tr>\n",
              "    <tr>\n",
              "      <th>titleId</th>\n",
              "      <th></th>\n",
              "      <th></th>\n",
              "      <th></th>\n",
              "    </tr>\n",
              "  </thead>\n",
              "  <tbody>\n",
              "    <tr>\n",
              "      <th>tt0000001</th>\n",
              "      <td>8</td>\n",
              "      <td>8</td>\n",
              "      <td>8</td>\n",
              "    </tr>\n",
              "    <tr>\n",
              "      <th>tt0000002</th>\n",
              "      <td>8</td>\n",
              "      <td>8</td>\n",
              "      <td>8</td>\n",
              "    </tr>\n",
              "    <tr>\n",
              "      <th>tt0000003</th>\n",
              "      <td>9</td>\n",
              "      <td>9</td>\n",
              "      <td>9</td>\n",
              "    </tr>\n",
              "    <tr>\n",
              "      <th>tt0000004</th>\n",
              "      <td>8</td>\n",
              "      <td>8</td>\n",
              "      <td>8</td>\n",
              "    </tr>\n",
              "    <tr>\n",
              "      <th>tt0000005</th>\n",
              "      <td>12</td>\n",
              "      <td>12</td>\n",
              "      <td>12</td>\n",
              "    </tr>\n",
              "    <tr>\n",
              "      <th>...</th>\n",
              "      <td>...</td>\n",
              "      <td>...</td>\n",
              "      <td>...</td>\n",
              "    </tr>\n",
              "    <tr>\n",
              "      <th>tt9916846</th>\n",
              "      <td>7</td>\n",
              "      <td>7</td>\n",
              "      <td>7</td>\n",
              "    </tr>\n",
              "    <tr>\n",
              "      <th>tt9916848</th>\n",
              "      <td>7</td>\n",
              "      <td>7</td>\n",
              "      <td>7</td>\n",
              "    </tr>\n",
              "    <tr>\n",
              "      <th>tt9916850</th>\n",
              "      <td>7</td>\n",
              "      <td>7</td>\n",
              "      <td>7</td>\n",
              "    </tr>\n",
              "    <tr>\n",
              "      <th>tt9916852</th>\n",
              "      <td>7</td>\n",
              "      <td>7</td>\n",
              "      <td>7</td>\n",
              "    </tr>\n",
              "    <tr>\n",
              "      <th>tt9916856</th>\n",
              "      <td>2</td>\n",
              "      <td>2</td>\n",
              "      <td>2</td>\n",
              "    </tr>\n",
              "  </tbody>\n",
              "</table>\n",
              "<p>6630715 rows × 3 columns</p>\n",
              "</div>\n",
              "      <button class=\"colab-df-convert\" onclick=\"convertToInteractive('df-cdcc3816-450a-44a6-9812-980d5f193f28')\"\n",
              "              title=\"Convert this dataframe to an interactive table.\"\n",
              "              style=\"display:none;\">\n",
              "        \n",
              "  <svg xmlns=\"http://www.w3.org/2000/svg\" height=\"24px\"viewBox=\"0 0 24 24\"\n",
              "       width=\"24px\">\n",
              "    <path d=\"M0 0h24v24H0V0z\" fill=\"none\"/>\n",
              "    <path d=\"M18.56 5.44l.94 2.06.94-2.06 2.06-.94-2.06-.94-.94-2.06-.94 2.06-2.06.94zm-11 1L8.5 8.5l.94-2.06 2.06-.94-2.06-.94L8.5 2.5l-.94 2.06-2.06.94zm10 10l.94 2.06.94-2.06 2.06-.94-2.06-.94-.94-2.06-.94 2.06-2.06.94z\"/><path d=\"M17.41 7.96l-1.37-1.37c-.4-.4-.92-.59-1.43-.59-.52 0-1.04.2-1.43.59L10.3 9.45l-7.72 7.72c-.78.78-.78 2.05 0 2.83L4 21.41c.39.39.9.59 1.41.59.51 0 1.02-.2 1.41-.59l7.78-7.78 2.81-2.81c.8-.78.8-2.07 0-2.86zM5.41 20L4 18.59l7.72-7.72 1.47 1.35L5.41 20z\"/>\n",
              "  </svg>\n",
              "      </button>\n",
              "      \n",
              "  <style>\n",
              "    .colab-df-container {\n",
              "      display:flex;\n",
              "      flex-wrap:wrap;\n",
              "      gap: 12px;\n",
              "    }\n",
              "\n",
              "    .colab-df-convert {\n",
              "      background-color: #E8F0FE;\n",
              "      border: none;\n",
              "      border-radius: 50%;\n",
              "      cursor: pointer;\n",
              "      display: none;\n",
              "      fill: #1967D2;\n",
              "      height: 32px;\n",
              "      padding: 0 0 0 0;\n",
              "      width: 32px;\n",
              "    }\n",
              "\n",
              "    .colab-df-convert:hover {\n",
              "      background-color: #E2EBFA;\n",
              "      box-shadow: 0px 1px 2px rgba(60, 64, 67, 0.3), 0px 1px 3px 1px rgba(60, 64, 67, 0.15);\n",
              "      fill: #174EA6;\n",
              "    }\n",
              "\n",
              "    [theme=dark] .colab-df-convert {\n",
              "      background-color: #3B4455;\n",
              "      fill: #D2E3FC;\n",
              "    }\n",
              "\n",
              "    [theme=dark] .colab-df-convert:hover {\n",
              "      background-color: #434B5C;\n",
              "      box-shadow: 0px 1px 3px 1px rgba(0, 0, 0, 0.15);\n",
              "      filter: drop-shadow(0px 1px 2px rgba(0, 0, 0, 0.3));\n",
              "      fill: #FFFFFF;\n",
              "    }\n",
              "  </style>\n",
              "\n",
              "      <script>\n",
              "        const buttonEl =\n",
              "          document.querySelector('#df-cdcc3816-450a-44a6-9812-980d5f193f28 button.colab-df-convert');\n",
              "        buttonEl.style.display =\n",
              "          google.colab.kernel.accessAllowed ? 'block' : 'none';\n",
              "\n",
              "        async function convertToInteractive(key) {\n",
              "          const element = document.querySelector('#df-cdcc3816-450a-44a6-9812-980d5f193f28');\n",
              "          const dataTable =\n",
              "            await google.colab.kernel.invokeFunction('convertToInteractive',\n",
              "                                                     [key], {});\n",
              "          if (!dataTable) return;\n",
              "\n",
              "          const docLinkHtml = 'Like what you see? Visit the ' +\n",
              "            '<a target=\"_blank\" href=https://colab.research.google.com/notebooks/data_table.ipynb>data table notebook</a>'\n",
              "            + ' to learn more about interactive tables.';\n",
              "          element.innerHTML = '';\n",
              "          dataTable['output_type'] = 'display_data';\n",
              "          await google.colab.output.renderOutput(dataTable, element);\n",
              "          const docLink = document.createElement('div');\n",
              "          docLink.innerHTML = docLinkHtml;\n",
              "          element.appendChild(docLink);\n",
              "        }\n",
              "      </script>\n",
              "    </div>\n",
              "  </div>\n",
              "  "
            ]
          },
          "metadata": {},
          "execution_count": 42
        }
      ]
    },
    {
      "cell_type": "markdown",
      "source": [
        "# M4) title_ratings"
      ],
      "metadata": {
        "id": "B0YjLwQ4WXQe"
      }
    },
    {
      "cell_type": "code",
      "source": [
        "title_ratings\n",
        "#We have 1238672 titles rated\n",
        "#There are no Null values\n",
        "#How many movies/movies and shorts have been rated?"
      ],
      "metadata": {
        "colab": {
          "base_uri": "https://localhost:8080/",
          "height": 423
        },
        "id": "bWIfPfXYXxC5",
        "outputId": "47fc12ef-6843-4aa9-c80c-2dff0b908e32"
      },
      "execution_count": null,
      "outputs": [
        {
          "output_type": "execute_result",
          "data": {
            "text/plain": [
              "            tconst  averageRating  numVotes\n",
              "0        tt0000001            5.7      1920\n",
              "1        tt0000002            5.8       260\n",
              "2        tt0000003            6.5      1728\n",
              "3        tt0000004            5.6       173\n",
              "4        tt0000005            6.2      2541\n",
              "...            ...            ...       ...\n",
              "1241069  tt9916690            7.4         6\n",
              "1241070  tt9916720            5.3       270\n",
              "1241071  tt9916730            9.0         6\n",
              "1241072  tt9916766            6.7        21\n",
              "1241073  tt9916778            7.3        35\n",
              "\n",
              "[1241074 rows x 3 columns]"
            ],
            "text/html": [
              "\n",
              "  <div id=\"df-9d06e7eb-039b-4601-9188-e3916979351f\">\n",
              "    <div class=\"colab-df-container\">\n",
              "      <div>\n",
              "<style scoped>\n",
              "    .dataframe tbody tr th:only-of-type {\n",
              "        vertical-align: middle;\n",
              "    }\n",
              "\n",
              "    .dataframe tbody tr th {\n",
              "        vertical-align: top;\n",
              "    }\n",
              "\n",
              "    .dataframe thead th {\n",
              "        text-align: right;\n",
              "    }\n",
              "</style>\n",
              "<table border=\"1\" class=\"dataframe\">\n",
              "  <thead>\n",
              "    <tr style=\"text-align: right;\">\n",
              "      <th></th>\n",
              "      <th>tconst</th>\n",
              "      <th>averageRating</th>\n",
              "      <th>numVotes</th>\n",
              "    </tr>\n",
              "  </thead>\n",
              "  <tbody>\n",
              "    <tr>\n",
              "      <th>0</th>\n",
              "      <td>tt0000001</td>\n",
              "      <td>5.7</td>\n",
              "      <td>1920</td>\n",
              "    </tr>\n",
              "    <tr>\n",
              "      <th>1</th>\n",
              "      <td>tt0000002</td>\n",
              "      <td>5.8</td>\n",
              "      <td>260</td>\n",
              "    </tr>\n",
              "    <tr>\n",
              "      <th>2</th>\n",
              "      <td>tt0000003</td>\n",
              "      <td>6.5</td>\n",
              "      <td>1728</td>\n",
              "    </tr>\n",
              "    <tr>\n",
              "      <th>3</th>\n",
              "      <td>tt0000004</td>\n",
              "      <td>5.6</td>\n",
              "      <td>173</td>\n",
              "    </tr>\n",
              "    <tr>\n",
              "      <th>4</th>\n",
              "      <td>tt0000005</td>\n",
              "      <td>6.2</td>\n",
              "      <td>2541</td>\n",
              "    </tr>\n",
              "    <tr>\n",
              "      <th>...</th>\n",
              "      <td>...</td>\n",
              "      <td>...</td>\n",
              "      <td>...</td>\n",
              "    </tr>\n",
              "    <tr>\n",
              "      <th>1241069</th>\n",
              "      <td>tt9916690</td>\n",
              "      <td>7.4</td>\n",
              "      <td>6</td>\n",
              "    </tr>\n",
              "    <tr>\n",
              "      <th>1241070</th>\n",
              "      <td>tt9916720</td>\n",
              "      <td>5.3</td>\n",
              "      <td>270</td>\n",
              "    </tr>\n",
              "    <tr>\n",
              "      <th>1241071</th>\n",
              "      <td>tt9916730</td>\n",
              "      <td>9.0</td>\n",
              "      <td>6</td>\n",
              "    </tr>\n",
              "    <tr>\n",
              "      <th>1241072</th>\n",
              "      <td>tt9916766</td>\n",
              "      <td>6.7</td>\n",
              "      <td>21</td>\n",
              "    </tr>\n",
              "    <tr>\n",
              "      <th>1241073</th>\n",
              "      <td>tt9916778</td>\n",
              "      <td>7.3</td>\n",
              "      <td>35</td>\n",
              "    </tr>\n",
              "  </tbody>\n",
              "</table>\n",
              "<p>1241074 rows × 3 columns</p>\n",
              "</div>\n",
              "      <button class=\"colab-df-convert\" onclick=\"convertToInteractive('df-9d06e7eb-039b-4601-9188-e3916979351f')\"\n",
              "              title=\"Convert this dataframe to an interactive table.\"\n",
              "              style=\"display:none;\">\n",
              "        \n",
              "  <svg xmlns=\"http://www.w3.org/2000/svg\" height=\"24px\"viewBox=\"0 0 24 24\"\n",
              "       width=\"24px\">\n",
              "    <path d=\"M0 0h24v24H0V0z\" fill=\"none\"/>\n",
              "    <path d=\"M18.56 5.44l.94 2.06.94-2.06 2.06-.94-2.06-.94-.94-2.06-.94 2.06-2.06.94zm-11 1L8.5 8.5l.94-2.06 2.06-.94-2.06-.94L8.5 2.5l-.94 2.06-2.06.94zm10 10l.94 2.06.94-2.06 2.06-.94-2.06-.94-.94-2.06-.94 2.06-2.06.94z\"/><path d=\"M17.41 7.96l-1.37-1.37c-.4-.4-.92-.59-1.43-.59-.52 0-1.04.2-1.43.59L10.3 9.45l-7.72 7.72c-.78.78-.78 2.05 0 2.83L4 21.41c.39.39.9.59 1.41.59.51 0 1.02-.2 1.41-.59l7.78-7.78 2.81-2.81c.8-.78.8-2.07 0-2.86zM5.41 20L4 18.59l7.72-7.72 1.47 1.35L5.41 20z\"/>\n",
              "  </svg>\n",
              "      </button>\n",
              "      \n",
              "  <style>\n",
              "    .colab-df-container {\n",
              "      display:flex;\n",
              "      flex-wrap:wrap;\n",
              "      gap: 12px;\n",
              "    }\n",
              "\n",
              "    .colab-df-convert {\n",
              "      background-color: #E8F0FE;\n",
              "      border: none;\n",
              "      border-radius: 50%;\n",
              "      cursor: pointer;\n",
              "      display: none;\n",
              "      fill: #1967D2;\n",
              "      height: 32px;\n",
              "      padding: 0 0 0 0;\n",
              "      width: 32px;\n",
              "    }\n",
              "\n",
              "    .colab-df-convert:hover {\n",
              "      background-color: #E2EBFA;\n",
              "      box-shadow: 0px 1px 2px rgba(60, 64, 67, 0.3), 0px 1px 3px 1px rgba(60, 64, 67, 0.15);\n",
              "      fill: #174EA6;\n",
              "    }\n",
              "\n",
              "    [theme=dark] .colab-df-convert {\n",
              "      background-color: #3B4455;\n",
              "      fill: #D2E3FC;\n",
              "    }\n",
              "\n",
              "    [theme=dark] .colab-df-convert:hover {\n",
              "      background-color: #434B5C;\n",
              "      box-shadow: 0px 1px 3px 1px rgba(0, 0, 0, 0.15);\n",
              "      filter: drop-shadow(0px 1px 2px rgba(0, 0, 0, 0.3));\n",
              "      fill: #FFFFFF;\n",
              "    }\n",
              "  </style>\n",
              "\n",
              "      <script>\n",
              "        const buttonEl =\n",
              "          document.querySelector('#df-9d06e7eb-039b-4601-9188-e3916979351f button.colab-df-convert');\n",
              "        buttonEl.style.display =\n",
              "          google.colab.kernel.accessAllowed ? 'block' : 'none';\n",
              "\n",
              "        async function convertToInteractive(key) {\n",
              "          const element = document.querySelector('#df-9d06e7eb-039b-4601-9188-e3916979351f');\n",
              "          const dataTable =\n",
              "            await google.colab.kernel.invokeFunction('convertToInteractive',\n",
              "                                                     [key], {});\n",
              "          if (!dataTable) return;\n",
              "\n",
              "          const docLinkHtml = 'Like what you see? Visit the ' +\n",
              "            '<a target=\"_blank\" href=https://colab.research.google.com/notebooks/data_table.ipynb>data table notebook</a>'\n",
              "            + ' to learn more about interactive tables.';\n",
              "          element.innerHTML = '';\n",
              "          dataTable['output_type'] = 'display_data';\n",
              "          await google.colab.output.renderOutput(dataTable, element);\n",
              "          const docLink = document.createElement('div');\n",
              "          docLink.innerHTML = docLinkHtml;\n",
              "          element.appendChild(docLink);\n",
              "        }\n",
              "      </script>\n",
              "    </div>\n",
              "  </div>\n",
              "  "
            ]
          },
          "metadata": {},
          "execution_count": 43
        }
      ]
    },
    {
      "cell_type": "code",
      "source": [
        "#There are no Null values\n",
        "condition1 = title_ratings[['tconst', 'averageRating', 'numVotes']] == r'\\N'\n",
        "condition1.sum()"
      ],
      "metadata": {
        "colab": {
          "base_uri": "https://localhost:8080/"
        },
        "id": "EVm_SwKtWR3j",
        "outputId": "d8ac8ec1-a121-417e-d03c-b8dd309e5097"
      },
      "execution_count": null,
      "outputs": [
        {
          "output_type": "execute_result",
          "data": {
            "text/plain": [
              "tconst           0\n",
              "averageRating    0\n",
              "numVotes         0\n",
              "dtype: int64"
            ]
          },
          "metadata": {},
          "execution_count": 44
        }
      ]
    },
    {
      "cell_type": "markdown",
      "source": [
        "# Title_Basics_ratings = Merge between tittle basics and Title ratings"
      ],
      "metadata": {
        "id": "FLqLAVywb4V8"
      }
    },
    {
      "cell_type": "code",
      "source": [
        "Title_basics_ratings = pd.merge(title_basics, title_ratings, how='outer', on=['tconst', 'tconst'])\n",
        "Title_basics_ratings"
      ],
      "metadata": {
        "colab": {
          "base_uri": "https://localhost:8080/",
          "height": 423
        },
        "id": "QK6U3ivgZape",
        "outputId": "e388f776-e8c3-4aa2-b2ad-34543f606892"
      },
      "execution_count": null,
      "outputs": [
        {
          "output_type": "execute_result",
          "data": {
            "text/plain": [
              "            tconst  titleType               primaryTitle  \\\n",
              "0        tt0000001      short                 Carmencita   \n",
              "1        tt0000002      short     Le clown et ses chiens   \n",
              "2        tt0000003      short             Pauvre Pierrot   \n",
              "3        tt0000004      short                Un bon bock   \n",
              "4        tt0000005      short           Blacksmith Scene   \n",
              "...            ...        ...                        ...   \n",
              "9324309  tt9916848  tvEpisode              Episode #3.17   \n",
              "9324310  tt9916850  tvEpisode              Episode #3.19   \n",
              "9324311  tt9916852  tvEpisode              Episode #3.20   \n",
              "9324312  tt9916856      short                   The Wind   \n",
              "9324313  tt9916880  tvEpisode  Horrid Henry Knows It All   \n",
              "\n",
              "                     originalTitle isAdult startYear endYear runtimeMinutes  \\\n",
              "0                       Carmencita       0      1894      \\N              1   \n",
              "1           Le clown et ses chiens       0      1892      \\N              5   \n",
              "2                   Pauvre Pierrot       0      1892      \\N              4   \n",
              "3                      Un bon bock       0      1892      \\N             12   \n",
              "4                 Blacksmith Scene       0      1893      \\N              1   \n",
              "...                            ...     ...       ...     ...            ...   \n",
              "9324309              Episode #3.17       0      2010      \\N             \\N   \n",
              "9324310              Episode #3.19       0      2010      \\N             \\N   \n",
              "9324311              Episode #3.20       0      2010      \\N             \\N   \n",
              "9324312                   The Wind       0      2015      \\N             27   \n",
              "9324313  Horrid Henry Knows It All       0      2014      \\N             10   \n",
              "\n",
              "                             genres  averageRating  numVotes  \n",
              "0                 Documentary,Short            5.7    1920.0  \n",
              "1                   Animation,Short            5.8     260.0  \n",
              "2          Animation,Comedy,Romance            6.5    1728.0  \n",
              "3                   Animation,Short            5.6     173.0  \n",
              "4                      Comedy,Short            6.2    2541.0  \n",
              "...                             ...            ...       ...  \n",
              "9324309         Action,Drama,Family            NaN       NaN  \n",
              "9324310         Action,Drama,Family            NaN       NaN  \n",
              "9324311         Action,Drama,Family            NaN       NaN  \n",
              "9324312                       Short            NaN       NaN  \n",
              "9324313  Adventure,Animation,Comedy            NaN       NaN  \n",
              "\n",
              "[9324314 rows x 11 columns]"
            ],
            "text/html": [
              "\n",
              "  <div id=\"df-9ad3c4c9-6047-41b9-9ec1-74a20b47b762\">\n",
              "    <div class=\"colab-df-container\">\n",
              "      <div>\n",
              "<style scoped>\n",
              "    .dataframe tbody tr th:only-of-type {\n",
              "        vertical-align: middle;\n",
              "    }\n",
              "\n",
              "    .dataframe tbody tr th {\n",
              "        vertical-align: top;\n",
              "    }\n",
              "\n",
              "    .dataframe thead th {\n",
              "        text-align: right;\n",
              "    }\n",
              "</style>\n",
              "<table border=\"1\" class=\"dataframe\">\n",
              "  <thead>\n",
              "    <tr style=\"text-align: right;\">\n",
              "      <th></th>\n",
              "      <th>tconst</th>\n",
              "      <th>titleType</th>\n",
              "      <th>primaryTitle</th>\n",
              "      <th>originalTitle</th>\n",
              "      <th>isAdult</th>\n",
              "      <th>startYear</th>\n",
              "      <th>endYear</th>\n",
              "      <th>runtimeMinutes</th>\n",
              "      <th>genres</th>\n",
              "      <th>averageRating</th>\n",
              "      <th>numVotes</th>\n",
              "    </tr>\n",
              "  </thead>\n",
              "  <tbody>\n",
              "    <tr>\n",
              "      <th>0</th>\n",
              "      <td>tt0000001</td>\n",
              "      <td>short</td>\n",
              "      <td>Carmencita</td>\n",
              "      <td>Carmencita</td>\n",
              "      <td>0</td>\n",
              "      <td>1894</td>\n",
              "      <td>\\N</td>\n",
              "      <td>1</td>\n",
              "      <td>Documentary,Short</td>\n",
              "      <td>5.7</td>\n",
              "      <td>1920.0</td>\n",
              "    </tr>\n",
              "    <tr>\n",
              "      <th>1</th>\n",
              "      <td>tt0000002</td>\n",
              "      <td>short</td>\n",
              "      <td>Le clown et ses chiens</td>\n",
              "      <td>Le clown et ses chiens</td>\n",
              "      <td>0</td>\n",
              "      <td>1892</td>\n",
              "      <td>\\N</td>\n",
              "      <td>5</td>\n",
              "      <td>Animation,Short</td>\n",
              "      <td>5.8</td>\n",
              "      <td>260.0</td>\n",
              "    </tr>\n",
              "    <tr>\n",
              "      <th>2</th>\n",
              "      <td>tt0000003</td>\n",
              "      <td>short</td>\n",
              "      <td>Pauvre Pierrot</td>\n",
              "      <td>Pauvre Pierrot</td>\n",
              "      <td>0</td>\n",
              "      <td>1892</td>\n",
              "      <td>\\N</td>\n",
              "      <td>4</td>\n",
              "      <td>Animation,Comedy,Romance</td>\n",
              "      <td>6.5</td>\n",
              "      <td>1728.0</td>\n",
              "    </tr>\n",
              "    <tr>\n",
              "      <th>3</th>\n",
              "      <td>tt0000004</td>\n",
              "      <td>short</td>\n",
              "      <td>Un bon bock</td>\n",
              "      <td>Un bon bock</td>\n",
              "      <td>0</td>\n",
              "      <td>1892</td>\n",
              "      <td>\\N</td>\n",
              "      <td>12</td>\n",
              "      <td>Animation,Short</td>\n",
              "      <td>5.6</td>\n",
              "      <td>173.0</td>\n",
              "    </tr>\n",
              "    <tr>\n",
              "      <th>4</th>\n",
              "      <td>tt0000005</td>\n",
              "      <td>short</td>\n",
              "      <td>Blacksmith Scene</td>\n",
              "      <td>Blacksmith Scene</td>\n",
              "      <td>0</td>\n",
              "      <td>1893</td>\n",
              "      <td>\\N</td>\n",
              "      <td>1</td>\n",
              "      <td>Comedy,Short</td>\n",
              "      <td>6.2</td>\n",
              "      <td>2541.0</td>\n",
              "    </tr>\n",
              "    <tr>\n",
              "      <th>...</th>\n",
              "      <td>...</td>\n",
              "      <td>...</td>\n",
              "      <td>...</td>\n",
              "      <td>...</td>\n",
              "      <td>...</td>\n",
              "      <td>...</td>\n",
              "      <td>...</td>\n",
              "      <td>...</td>\n",
              "      <td>...</td>\n",
              "      <td>...</td>\n",
              "      <td>...</td>\n",
              "    </tr>\n",
              "    <tr>\n",
              "      <th>9324309</th>\n",
              "      <td>tt9916848</td>\n",
              "      <td>tvEpisode</td>\n",
              "      <td>Episode #3.17</td>\n",
              "      <td>Episode #3.17</td>\n",
              "      <td>0</td>\n",
              "      <td>2010</td>\n",
              "      <td>\\N</td>\n",
              "      <td>\\N</td>\n",
              "      <td>Action,Drama,Family</td>\n",
              "      <td>NaN</td>\n",
              "      <td>NaN</td>\n",
              "    </tr>\n",
              "    <tr>\n",
              "      <th>9324310</th>\n",
              "      <td>tt9916850</td>\n",
              "      <td>tvEpisode</td>\n",
              "      <td>Episode #3.19</td>\n",
              "      <td>Episode #3.19</td>\n",
              "      <td>0</td>\n",
              "      <td>2010</td>\n",
              "      <td>\\N</td>\n",
              "      <td>\\N</td>\n",
              "      <td>Action,Drama,Family</td>\n",
              "      <td>NaN</td>\n",
              "      <td>NaN</td>\n",
              "    </tr>\n",
              "    <tr>\n",
              "      <th>9324311</th>\n",
              "      <td>tt9916852</td>\n",
              "      <td>tvEpisode</td>\n",
              "      <td>Episode #3.20</td>\n",
              "      <td>Episode #3.20</td>\n",
              "      <td>0</td>\n",
              "      <td>2010</td>\n",
              "      <td>\\N</td>\n",
              "      <td>\\N</td>\n",
              "      <td>Action,Drama,Family</td>\n",
              "      <td>NaN</td>\n",
              "      <td>NaN</td>\n",
              "    </tr>\n",
              "    <tr>\n",
              "      <th>9324312</th>\n",
              "      <td>tt9916856</td>\n",
              "      <td>short</td>\n",
              "      <td>The Wind</td>\n",
              "      <td>The Wind</td>\n",
              "      <td>0</td>\n",
              "      <td>2015</td>\n",
              "      <td>\\N</td>\n",
              "      <td>27</td>\n",
              "      <td>Short</td>\n",
              "      <td>NaN</td>\n",
              "      <td>NaN</td>\n",
              "    </tr>\n",
              "    <tr>\n",
              "      <th>9324313</th>\n",
              "      <td>tt9916880</td>\n",
              "      <td>tvEpisode</td>\n",
              "      <td>Horrid Henry Knows It All</td>\n",
              "      <td>Horrid Henry Knows It All</td>\n",
              "      <td>0</td>\n",
              "      <td>2014</td>\n",
              "      <td>\\N</td>\n",
              "      <td>10</td>\n",
              "      <td>Adventure,Animation,Comedy</td>\n",
              "      <td>NaN</td>\n",
              "      <td>NaN</td>\n",
              "    </tr>\n",
              "  </tbody>\n",
              "</table>\n",
              "<p>9324314 rows × 11 columns</p>\n",
              "</div>\n",
              "      <button class=\"colab-df-convert\" onclick=\"convertToInteractive('df-9ad3c4c9-6047-41b9-9ec1-74a20b47b762')\"\n",
              "              title=\"Convert this dataframe to an interactive table.\"\n",
              "              style=\"display:none;\">\n",
              "        \n",
              "  <svg xmlns=\"http://www.w3.org/2000/svg\" height=\"24px\"viewBox=\"0 0 24 24\"\n",
              "       width=\"24px\">\n",
              "    <path d=\"M0 0h24v24H0V0z\" fill=\"none\"/>\n",
              "    <path d=\"M18.56 5.44l.94 2.06.94-2.06 2.06-.94-2.06-.94-.94-2.06-.94 2.06-2.06.94zm-11 1L8.5 8.5l.94-2.06 2.06-.94-2.06-.94L8.5 2.5l-.94 2.06-2.06.94zm10 10l.94 2.06.94-2.06 2.06-.94-2.06-.94-.94-2.06-.94 2.06-2.06.94z\"/><path d=\"M17.41 7.96l-1.37-1.37c-.4-.4-.92-.59-1.43-.59-.52 0-1.04.2-1.43.59L10.3 9.45l-7.72 7.72c-.78.78-.78 2.05 0 2.83L4 21.41c.39.39.9.59 1.41.59.51 0 1.02-.2 1.41-.59l7.78-7.78 2.81-2.81c.8-.78.8-2.07 0-2.86zM5.41 20L4 18.59l7.72-7.72 1.47 1.35L5.41 20z\"/>\n",
              "  </svg>\n",
              "      </button>\n",
              "      \n",
              "  <style>\n",
              "    .colab-df-container {\n",
              "      display:flex;\n",
              "      flex-wrap:wrap;\n",
              "      gap: 12px;\n",
              "    }\n",
              "\n",
              "    .colab-df-convert {\n",
              "      background-color: #E8F0FE;\n",
              "      border: none;\n",
              "      border-radius: 50%;\n",
              "      cursor: pointer;\n",
              "      display: none;\n",
              "      fill: #1967D2;\n",
              "      height: 32px;\n",
              "      padding: 0 0 0 0;\n",
              "      width: 32px;\n",
              "    }\n",
              "\n",
              "    .colab-df-convert:hover {\n",
              "      background-color: #E2EBFA;\n",
              "      box-shadow: 0px 1px 2px rgba(60, 64, 67, 0.3), 0px 1px 3px 1px rgba(60, 64, 67, 0.15);\n",
              "      fill: #174EA6;\n",
              "    }\n",
              "\n",
              "    [theme=dark] .colab-df-convert {\n",
              "      background-color: #3B4455;\n",
              "      fill: #D2E3FC;\n",
              "    }\n",
              "\n",
              "    [theme=dark] .colab-df-convert:hover {\n",
              "      background-color: #434B5C;\n",
              "      box-shadow: 0px 1px 3px 1px rgba(0, 0, 0, 0.15);\n",
              "      filter: drop-shadow(0px 1px 2px rgba(0, 0, 0, 0.3));\n",
              "      fill: #FFFFFF;\n",
              "    }\n",
              "  </style>\n",
              "\n",
              "      <script>\n",
              "        const buttonEl =\n",
              "          document.querySelector('#df-9ad3c4c9-6047-41b9-9ec1-74a20b47b762 button.colab-df-convert');\n",
              "        buttonEl.style.display =\n",
              "          google.colab.kernel.accessAllowed ? 'block' : 'none';\n",
              "\n",
              "        async function convertToInteractive(key) {\n",
              "          const element = document.querySelector('#df-9ad3c4c9-6047-41b9-9ec1-74a20b47b762');\n",
              "          const dataTable =\n",
              "            await google.colab.kernel.invokeFunction('convertToInteractive',\n",
              "                                                     [key], {});\n",
              "          if (!dataTable) return;\n",
              "\n",
              "          const docLinkHtml = 'Like what you see? Visit the ' +\n",
              "            '<a target=\"_blank\" href=https://colab.research.google.com/notebooks/data_table.ipynb>data table notebook</a>'\n",
              "            + ' to learn more about interactive tables.';\n",
              "          element.innerHTML = '';\n",
              "          dataTable['output_type'] = 'display_data';\n",
              "          await google.colab.output.renderOutput(dataTable, element);\n",
              "          const docLink = document.createElement('div');\n",
              "          docLink.innerHTML = docLinkHtml;\n",
              "          element.appendChild(docLink);\n",
              "        }\n",
              "      </script>\n",
              "    </div>\n",
              "  </div>\n",
              "  "
            ]
          },
          "metadata": {},
          "execution_count": 45
        }
      ]
    },
    {
      "cell_type": "code",
      "source": [
        "condition_br = Title_basics_ratings.loc[((Title_basics_ratings['titleType'] == 'movie') | (Title_basics_ratings['titleType'] =='short')) & (Title_basics_ratings['startYear'] <= '2022')]\n",
        "condition_br.head(10)\n",
        "# condition_br.sort_values(['numVotes', 'averageRating'], ascending = False).head(10)"
      ],
      "metadata": {
        "colab": {
          "base_uri": "https://localhost:8080/",
          "height": 363
        },
        "id": "8you_N9XgkD_",
        "outputId": "b935f68f-1c13-4d4f-873d-6b6d91d146e5"
      },
      "execution_count": null,
      "outputs": [
        {
          "output_type": "execute_result",
          "data": {
            "text/plain": [
              "      tconst titleType                                 primaryTitle  \\\n",
              "0  tt0000001     short                                   Carmencita   \n",
              "1  tt0000002     short                       Le clown et ses chiens   \n",
              "2  tt0000003     short                               Pauvre Pierrot   \n",
              "3  tt0000004     short                                  Un bon bock   \n",
              "4  tt0000005     short                             Blacksmith Scene   \n",
              "5  tt0000006     short                            Chinese Opium Den   \n",
              "6  tt0000007     short  Corbett and Courtney Before the Kinetograph   \n",
              "7  tt0000008     short       Edison Kinetoscopic Record of a Sneeze   \n",
              "8  tt0000009     movie                                   Miss Jerry   \n",
              "9  tt0000010     short                          Leaving the Factory   \n",
              "\n",
              "                                 originalTitle isAdult startYear endYear  \\\n",
              "0                                   Carmencita       0      1894      \\N   \n",
              "1                       Le clown et ses chiens       0      1892      \\N   \n",
              "2                               Pauvre Pierrot       0      1892      \\N   \n",
              "3                                  Un bon bock       0      1892      \\N   \n",
              "4                             Blacksmith Scene       0      1893      \\N   \n",
              "5                            Chinese Opium Den       0      1894      \\N   \n",
              "6  Corbett and Courtney Before the Kinetograph       0      1894      \\N   \n",
              "7       Edison Kinetoscopic Record of a Sneeze       0      1894      \\N   \n",
              "8                                   Miss Jerry       0      1894      \\N   \n",
              "9          La sortie de l'usine Lumière à Lyon       0      1895      \\N   \n",
              "\n",
              "  runtimeMinutes                    genres  averageRating  numVotes  \n",
              "0              1         Documentary,Short            5.7    1920.0  \n",
              "1              5           Animation,Short            5.8     260.0  \n",
              "2              4  Animation,Comedy,Romance            6.5    1728.0  \n",
              "3             12           Animation,Short            5.6     173.0  \n",
              "4              1              Comedy,Short            6.2    2541.0  \n",
              "5              1                     Short            5.1     175.0  \n",
              "6              1               Short,Sport            5.4     797.0  \n",
              "7              1         Documentary,Short            5.4    2063.0  \n",
              "8             45                   Romance            5.2     200.0  \n",
              "9              1         Documentary,Short            6.9    6951.0  "
            ],
            "text/html": [
              "\n",
              "  <div id=\"df-859d79f9-9724-4951-bf4d-aa59de026b72\">\n",
              "    <div class=\"colab-df-container\">\n",
              "      <div>\n",
              "<style scoped>\n",
              "    .dataframe tbody tr th:only-of-type {\n",
              "        vertical-align: middle;\n",
              "    }\n",
              "\n",
              "    .dataframe tbody tr th {\n",
              "        vertical-align: top;\n",
              "    }\n",
              "\n",
              "    .dataframe thead th {\n",
              "        text-align: right;\n",
              "    }\n",
              "</style>\n",
              "<table border=\"1\" class=\"dataframe\">\n",
              "  <thead>\n",
              "    <tr style=\"text-align: right;\">\n",
              "      <th></th>\n",
              "      <th>tconst</th>\n",
              "      <th>titleType</th>\n",
              "      <th>primaryTitle</th>\n",
              "      <th>originalTitle</th>\n",
              "      <th>isAdult</th>\n",
              "      <th>startYear</th>\n",
              "      <th>endYear</th>\n",
              "      <th>runtimeMinutes</th>\n",
              "      <th>genres</th>\n",
              "      <th>averageRating</th>\n",
              "      <th>numVotes</th>\n",
              "    </tr>\n",
              "  </thead>\n",
              "  <tbody>\n",
              "    <tr>\n",
              "      <th>0</th>\n",
              "      <td>tt0000001</td>\n",
              "      <td>short</td>\n",
              "      <td>Carmencita</td>\n",
              "      <td>Carmencita</td>\n",
              "      <td>0</td>\n",
              "      <td>1894</td>\n",
              "      <td>\\N</td>\n",
              "      <td>1</td>\n",
              "      <td>Documentary,Short</td>\n",
              "      <td>5.7</td>\n",
              "      <td>1920.0</td>\n",
              "    </tr>\n",
              "    <tr>\n",
              "      <th>1</th>\n",
              "      <td>tt0000002</td>\n",
              "      <td>short</td>\n",
              "      <td>Le clown et ses chiens</td>\n",
              "      <td>Le clown et ses chiens</td>\n",
              "      <td>0</td>\n",
              "      <td>1892</td>\n",
              "      <td>\\N</td>\n",
              "      <td>5</td>\n",
              "      <td>Animation,Short</td>\n",
              "      <td>5.8</td>\n",
              "      <td>260.0</td>\n",
              "    </tr>\n",
              "    <tr>\n",
              "      <th>2</th>\n",
              "      <td>tt0000003</td>\n",
              "      <td>short</td>\n",
              "      <td>Pauvre Pierrot</td>\n",
              "      <td>Pauvre Pierrot</td>\n",
              "      <td>0</td>\n",
              "      <td>1892</td>\n",
              "      <td>\\N</td>\n",
              "      <td>4</td>\n",
              "      <td>Animation,Comedy,Romance</td>\n",
              "      <td>6.5</td>\n",
              "      <td>1728.0</td>\n",
              "    </tr>\n",
              "    <tr>\n",
              "      <th>3</th>\n",
              "      <td>tt0000004</td>\n",
              "      <td>short</td>\n",
              "      <td>Un bon bock</td>\n",
              "      <td>Un bon bock</td>\n",
              "      <td>0</td>\n",
              "      <td>1892</td>\n",
              "      <td>\\N</td>\n",
              "      <td>12</td>\n",
              "      <td>Animation,Short</td>\n",
              "      <td>5.6</td>\n",
              "      <td>173.0</td>\n",
              "    </tr>\n",
              "    <tr>\n",
              "      <th>4</th>\n",
              "      <td>tt0000005</td>\n",
              "      <td>short</td>\n",
              "      <td>Blacksmith Scene</td>\n",
              "      <td>Blacksmith Scene</td>\n",
              "      <td>0</td>\n",
              "      <td>1893</td>\n",
              "      <td>\\N</td>\n",
              "      <td>1</td>\n",
              "      <td>Comedy,Short</td>\n",
              "      <td>6.2</td>\n",
              "      <td>2541.0</td>\n",
              "    </tr>\n",
              "    <tr>\n",
              "      <th>5</th>\n",
              "      <td>tt0000006</td>\n",
              "      <td>short</td>\n",
              "      <td>Chinese Opium Den</td>\n",
              "      <td>Chinese Opium Den</td>\n",
              "      <td>0</td>\n",
              "      <td>1894</td>\n",
              "      <td>\\N</td>\n",
              "      <td>1</td>\n",
              "      <td>Short</td>\n",
              "      <td>5.1</td>\n",
              "      <td>175.0</td>\n",
              "    </tr>\n",
              "    <tr>\n",
              "      <th>6</th>\n",
              "      <td>tt0000007</td>\n",
              "      <td>short</td>\n",
              "      <td>Corbett and Courtney Before the Kinetograph</td>\n",
              "      <td>Corbett and Courtney Before the Kinetograph</td>\n",
              "      <td>0</td>\n",
              "      <td>1894</td>\n",
              "      <td>\\N</td>\n",
              "      <td>1</td>\n",
              "      <td>Short,Sport</td>\n",
              "      <td>5.4</td>\n",
              "      <td>797.0</td>\n",
              "    </tr>\n",
              "    <tr>\n",
              "      <th>7</th>\n",
              "      <td>tt0000008</td>\n",
              "      <td>short</td>\n",
              "      <td>Edison Kinetoscopic Record of a Sneeze</td>\n",
              "      <td>Edison Kinetoscopic Record of a Sneeze</td>\n",
              "      <td>0</td>\n",
              "      <td>1894</td>\n",
              "      <td>\\N</td>\n",
              "      <td>1</td>\n",
              "      <td>Documentary,Short</td>\n",
              "      <td>5.4</td>\n",
              "      <td>2063.0</td>\n",
              "    </tr>\n",
              "    <tr>\n",
              "      <th>8</th>\n",
              "      <td>tt0000009</td>\n",
              "      <td>movie</td>\n",
              "      <td>Miss Jerry</td>\n",
              "      <td>Miss Jerry</td>\n",
              "      <td>0</td>\n",
              "      <td>1894</td>\n",
              "      <td>\\N</td>\n",
              "      <td>45</td>\n",
              "      <td>Romance</td>\n",
              "      <td>5.2</td>\n",
              "      <td>200.0</td>\n",
              "    </tr>\n",
              "    <tr>\n",
              "      <th>9</th>\n",
              "      <td>tt0000010</td>\n",
              "      <td>short</td>\n",
              "      <td>Leaving the Factory</td>\n",
              "      <td>La sortie de l'usine Lumière à Lyon</td>\n",
              "      <td>0</td>\n",
              "      <td>1895</td>\n",
              "      <td>\\N</td>\n",
              "      <td>1</td>\n",
              "      <td>Documentary,Short</td>\n",
              "      <td>6.9</td>\n",
              "      <td>6951.0</td>\n",
              "    </tr>\n",
              "  </tbody>\n",
              "</table>\n",
              "</div>\n",
              "      <button class=\"colab-df-convert\" onclick=\"convertToInteractive('df-859d79f9-9724-4951-bf4d-aa59de026b72')\"\n",
              "              title=\"Convert this dataframe to an interactive table.\"\n",
              "              style=\"display:none;\">\n",
              "        \n",
              "  <svg xmlns=\"http://www.w3.org/2000/svg\" height=\"24px\"viewBox=\"0 0 24 24\"\n",
              "       width=\"24px\">\n",
              "    <path d=\"M0 0h24v24H0V0z\" fill=\"none\"/>\n",
              "    <path d=\"M18.56 5.44l.94 2.06.94-2.06 2.06-.94-2.06-.94-.94-2.06-.94 2.06-2.06.94zm-11 1L8.5 8.5l.94-2.06 2.06-.94-2.06-.94L8.5 2.5l-.94 2.06-2.06.94zm10 10l.94 2.06.94-2.06 2.06-.94-2.06-.94-.94-2.06-.94 2.06-2.06.94z\"/><path d=\"M17.41 7.96l-1.37-1.37c-.4-.4-.92-.59-1.43-.59-.52 0-1.04.2-1.43.59L10.3 9.45l-7.72 7.72c-.78.78-.78 2.05 0 2.83L4 21.41c.39.39.9.59 1.41.59.51 0 1.02-.2 1.41-.59l7.78-7.78 2.81-2.81c.8-.78.8-2.07 0-2.86zM5.41 20L4 18.59l7.72-7.72 1.47 1.35L5.41 20z\"/>\n",
              "  </svg>\n",
              "      </button>\n",
              "      \n",
              "  <style>\n",
              "    .colab-df-container {\n",
              "      display:flex;\n",
              "      flex-wrap:wrap;\n",
              "      gap: 12px;\n",
              "    }\n",
              "\n",
              "    .colab-df-convert {\n",
              "      background-color: #E8F0FE;\n",
              "      border: none;\n",
              "      border-radius: 50%;\n",
              "      cursor: pointer;\n",
              "      display: none;\n",
              "      fill: #1967D2;\n",
              "      height: 32px;\n",
              "      padding: 0 0 0 0;\n",
              "      width: 32px;\n",
              "    }\n",
              "\n",
              "    .colab-df-convert:hover {\n",
              "      background-color: #E2EBFA;\n",
              "      box-shadow: 0px 1px 2px rgba(60, 64, 67, 0.3), 0px 1px 3px 1px rgba(60, 64, 67, 0.15);\n",
              "      fill: #174EA6;\n",
              "    }\n",
              "\n",
              "    [theme=dark] .colab-df-convert {\n",
              "      background-color: #3B4455;\n",
              "      fill: #D2E3FC;\n",
              "    }\n",
              "\n",
              "    [theme=dark] .colab-df-convert:hover {\n",
              "      background-color: #434B5C;\n",
              "      box-shadow: 0px 1px 3px 1px rgba(0, 0, 0, 0.15);\n",
              "      filter: drop-shadow(0px 1px 2px rgba(0, 0, 0, 0.3));\n",
              "      fill: #FFFFFF;\n",
              "    }\n",
              "  </style>\n",
              "\n",
              "      <script>\n",
              "        const buttonEl =\n",
              "          document.querySelector('#df-859d79f9-9724-4951-bf4d-aa59de026b72 button.colab-df-convert');\n",
              "        buttonEl.style.display =\n",
              "          google.colab.kernel.accessAllowed ? 'block' : 'none';\n",
              "\n",
              "        async function convertToInteractive(key) {\n",
              "          const element = document.querySelector('#df-859d79f9-9724-4951-bf4d-aa59de026b72');\n",
              "          const dataTable =\n",
              "            await google.colab.kernel.invokeFunction('convertToInteractive',\n",
              "                                                     [key], {});\n",
              "          if (!dataTable) return;\n",
              "\n",
              "          const docLinkHtml = 'Like what you see? Visit the ' +\n",
              "            '<a target=\"_blank\" href=https://colab.research.google.com/notebooks/data_table.ipynb>data table notebook</a>'\n",
              "            + ' to learn more about interactive tables.';\n",
              "          element.innerHTML = '';\n",
              "          dataTable['output_type'] = 'display_data';\n",
              "          await google.colab.output.renderOutput(dataTable, element);\n",
              "          const docLink = document.createElement('div');\n",
              "          docLink.innerHTML = docLinkHtml;\n",
              "          element.appendChild(docLink);\n",
              "        }\n",
              "      </script>\n",
              "    </div>\n",
              "  </div>\n",
              "  "
            ]
          },
          "metadata": {},
          "execution_count": 46
        }
      ]
    },
    {
      "cell_type": "code",
      "source": [
        "condition_br['titleType'].value_counts()"
      ],
      "metadata": {
        "colab": {
          "base_uri": "https://localhost:8080/"
        },
        "id": "t9hRh9E5ToZR",
        "outputId": "b1070c19-318d-46fd-e31b-e0782d149c95"
      },
      "execution_count": null,
      "outputs": [
        {
          "output_type": "execute_result",
          "data": {
            "text/plain": [
              "short    868113\n",
              "movie    538414\n",
              "Name: titleType, dtype: int64"
            ]
          },
          "metadata": {},
          "execution_count": 47
        }
      ]
    },
    {
      "cell_type": "code",
      "source": [
        "condition_br_test = Title_basics_ratings.loc[((Title_basics_ratings['titleType'] == 'movie') | (Title_basics_ratings['titleType'] =='short')) & (Title_basics_ratings['startYear'] > '2022')]\n",
        "condition_br_test['titleType'].value_counts()"
      ],
      "metadata": {
        "colab": {
          "base_uri": "https://localhost:8080/"
        },
        "id": "iCktxkLkUIhJ",
        "outputId": "d0a4bfe9-c388-4ef1-953c-6259401d6295"
      },
      "execution_count": null,
      "outputs": [
        {
          "output_type": "execute_result",
          "data": {
            "text/plain": [
              "movie    86922\n",
              "short    28501\n",
              "Name: titleType, dtype: int64"
            ]
          },
          "metadata": {},
          "execution_count": 48
        }
      ]
    },
    {
      "cell_type": "code",
      "source": [
        "condition_br['numVotes'].sum()"
      ],
      "metadata": {
        "colab": {
          "base_uri": "https://localhost:8080/"
        },
        "id": "F3tbjLs-qnS2",
        "outputId": "c2364355-365d-4f05-b13f-6befd270f405"
      },
      "execution_count": null,
      "outputs": [
        {
          "output_type": "execute_result",
          "data": {
            "text/plain": [
              "1014497616.0"
            ]
          },
          "metadata": {},
          "execution_count": 49
        }
      ]
    },
    {
      "cell_type": "code",
      "source": [
        "condition_br.info()"
      ],
      "metadata": {
        "colab": {
          "base_uri": "https://localhost:8080/"
        },
        "id": "ElwexNluFqPR",
        "outputId": "cac7c87f-0172-4177-ae7f-733145acb075"
      },
      "execution_count": null,
      "outputs": [
        {
          "output_type": "stream",
          "name": "stdout",
          "text": [
            "<class 'pandas.core.frame.DataFrame'>\n",
            "Int64Index: 1406527 entries, 0 to 9324312\n",
            "Data columns (total 11 columns):\n",
            " #   Column          Non-Null Count    Dtype  \n",
            "---  ------          --------------    -----  \n",
            " 0   tconst          1406527 non-null  object \n",
            " 1   titleType       1406527 non-null  object \n",
            " 2   primaryTitle    1406527 non-null  object \n",
            " 3   originalTitle   1406527 non-null  object \n",
            " 4   isAdult         1406527 non-null  object \n",
            " 5   startYear       1406527 non-null  object \n",
            " 6   endYear         1406527 non-null  object \n",
            " 7   runtimeMinutes  1406527 non-null  object \n",
            " 8   genres          1406527 non-null  object \n",
            " 9   averageRating   423731 non-null   float64\n",
            " 10  numVotes        423731 non-null   float64\n",
            "dtypes: float64(2), object(9)\n",
            "memory usage: 128.8+ MB\n"
          ]
        }
      ]
    },
    {
      "cell_type": "markdown",
      "source": [
        "## Analysing what value to consider for top's"
      ],
      "metadata": {
        "id": "qtneo9a1eR2y"
      }
    },
    {
      "cell_type": "markdown",
      "source": [
        "The ratings were analysed and were disregarded because a film that has only 2 votes but scores 10, would be on top."
      ],
      "metadata": {
        "id": "kjbiGCDgY59N"
      }
    },
    {
      "cell_type": "code",
      "source": [
        "title_ratings.corr()"
      ],
      "metadata": {
        "colab": {
          "base_uri": "https://localhost:8080/",
          "height": 112
        },
        "id": "btg6AOIfYuAC",
        "outputId": "bb9ea232-35f0-42ec-ecf4-15966351528b"
      },
      "execution_count": null,
      "outputs": [
        {
          "output_type": "execute_result",
          "data": {
            "text/plain": [
              "               averageRating  numVotes\n",
              "averageRating       1.000000  0.010738\n",
              "numVotes            0.010738  1.000000"
            ],
            "text/html": [
              "\n",
              "  <div id=\"df-7a115dbe-3017-411a-ab97-f2ac81034e92\">\n",
              "    <div class=\"colab-df-container\">\n",
              "      <div>\n",
              "<style scoped>\n",
              "    .dataframe tbody tr th:only-of-type {\n",
              "        vertical-align: middle;\n",
              "    }\n",
              "\n",
              "    .dataframe tbody tr th {\n",
              "        vertical-align: top;\n",
              "    }\n",
              "\n",
              "    .dataframe thead th {\n",
              "        text-align: right;\n",
              "    }\n",
              "</style>\n",
              "<table border=\"1\" class=\"dataframe\">\n",
              "  <thead>\n",
              "    <tr style=\"text-align: right;\">\n",
              "      <th></th>\n",
              "      <th>averageRating</th>\n",
              "      <th>numVotes</th>\n",
              "    </tr>\n",
              "  </thead>\n",
              "  <tbody>\n",
              "    <tr>\n",
              "      <th>averageRating</th>\n",
              "      <td>1.000000</td>\n",
              "      <td>0.010738</td>\n",
              "    </tr>\n",
              "    <tr>\n",
              "      <th>numVotes</th>\n",
              "      <td>0.010738</td>\n",
              "      <td>1.000000</td>\n",
              "    </tr>\n",
              "  </tbody>\n",
              "</table>\n",
              "</div>\n",
              "      <button class=\"colab-df-convert\" onclick=\"convertToInteractive('df-7a115dbe-3017-411a-ab97-f2ac81034e92')\"\n",
              "              title=\"Convert this dataframe to an interactive table.\"\n",
              "              style=\"display:none;\">\n",
              "        \n",
              "  <svg xmlns=\"http://www.w3.org/2000/svg\" height=\"24px\"viewBox=\"0 0 24 24\"\n",
              "       width=\"24px\">\n",
              "    <path d=\"M0 0h24v24H0V0z\" fill=\"none\"/>\n",
              "    <path d=\"M18.56 5.44l.94 2.06.94-2.06 2.06-.94-2.06-.94-.94-2.06-.94 2.06-2.06.94zm-11 1L8.5 8.5l.94-2.06 2.06-.94-2.06-.94L8.5 2.5l-.94 2.06-2.06.94zm10 10l.94 2.06.94-2.06 2.06-.94-2.06-.94-.94-2.06-.94 2.06-2.06.94z\"/><path d=\"M17.41 7.96l-1.37-1.37c-.4-.4-.92-.59-1.43-.59-.52 0-1.04.2-1.43.59L10.3 9.45l-7.72 7.72c-.78.78-.78 2.05 0 2.83L4 21.41c.39.39.9.59 1.41.59.51 0 1.02-.2 1.41-.59l7.78-7.78 2.81-2.81c.8-.78.8-2.07 0-2.86zM5.41 20L4 18.59l7.72-7.72 1.47 1.35L5.41 20z\"/>\n",
              "  </svg>\n",
              "      </button>\n",
              "      \n",
              "  <style>\n",
              "    .colab-df-container {\n",
              "      display:flex;\n",
              "      flex-wrap:wrap;\n",
              "      gap: 12px;\n",
              "    }\n",
              "\n",
              "    .colab-df-convert {\n",
              "      background-color: #E8F0FE;\n",
              "      border: none;\n",
              "      border-radius: 50%;\n",
              "      cursor: pointer;\n",
              "      display: none;\n",
              "      fill: #1967D2;\n",
              "      height: 32px;\n",
              "      padding: 0 0 0 0;\n",
              "      width: 32px;\n",
              "    }\n",
              "\n",
              "    .colab-df-convert:hover {\n",
              "      background-color: #E2EBFA;\n",
              "      box-shadow: 0px 1px 2px rgba(60, 64, 67, 0.3), 0px 1px 3px 1px rgba(60, 64, 67, 0.15);\n",
              "      fill: #174EA6;\n",
              "    }\n",
              "\n",
              "    [theme=dark] .colab-df-convert {\n",
              "      background-color: #3B4455;\n",
              "      fill: #D2E3FC;\n",
              "    }\n",
              "\n",
              "    [theme=dark] .colab-df-convert:hover {\n",
              "      background-color: #434B5C;\n",
              "      box-shadow: 0px 1px 3px 1px rgba(0, 0, 0, 0.15);\n",
              "      filter: drop-shadow(0px 1px 2px rgba(0, 0, 0, 0.3));\n",
              "      fill: #FFFFFF;\n",
              "    }\n",
              "  </style>\n",
              "\n",
              "      <script>\n",
              "        const buttonEl =\n",
              "          document.querySelector('#df-7a115dbe-3017-411a-ab97-f2ac81034e92 button.colab-df-convert');\n",
              "        buttonEl.style.display =\n",
              "          google.colab.kernel.accessAllowed ? 'block' : 'none';\n",
              "\n",
              "        async function convertToInteractive(key) {\n",
              "          const element = document.querySelector('#df-7a115dbe-3017-411a-ab97-f2ac81034e92');\n",
              "          const dataTable =\n",
              "            await google.colab.kernel.invokeFunction('convertToInteractive',\n",
              "                                                     [key], {});\n",
              "          if (!dataTable) return;\n",
              "\n",
              "          const docLinkHtml = 'Like what you see? Visit the ' +\n",
              "            '<a target=\"_blank\" href=https://colab.research.google.com/notebooks/data_table.ipynb>data table notebook</a>'\n",
              "            + ' to learn more about interactive tables.';\n",
              "          element.innerHTML = '';\n",
              "          dataTable['output_type'] = 'display_data';\n",
              "          await google.colab.output.renderOutput(dataTable, element);\n",
              "          const docLink = document.createElement('div');\n",
              "          docLink.innerHTML = docLinkHtml;\n",
              "          element.appendChild(docLink);\n",
              "        }\n",
              "      </script>\n",
              "    </div>\n",
              "  </div>\n",
              "  "
            ]
          },
          "metadata": {},
          "execution_count": 51
        }
      ]
    },
    {
      "cell_type": "code",
      "source": [
        "title_ratings_count = title_ratings.groupby(['averageRating','numVotes']).count().reset_index()\n",
        "title_ratings_count\n",
        "\n",
        "sns.set(rc={'figure.figsize':(20,12)})\n",
        "sns.scatterplot(data = title_ratings_count, x= 'tconst', y = 'numVotes',  hue = 'averageRating', palette='crest')"
      ],
      "metadata": {
        "colab": {
          "base_uri": "https://localhost:8080/",
          "height": 749
        },
        "id": "d05mqfeGY3jH",
        "outputId": "b1c7eec4-dbe9-4e73-9e47-2220d6edc61f"
      },
      "execution_count": null,
      "outputs": [
        {
          "output_type": "execute_result",
          "data": {
            "text/plain": [
              "<matplotlib.axes._subplots.AxesSubplot at 0x7fcf98d44110>"
            ]
          },
          "metadata": {},
          "execution_count": 52
        },
        {
          "output_type": "display_data",
          "data": {
            "text/plain": [
              "<Figure size 1440x864 with 1 Axes>"
            ],
            "image/png": "[encoded data removed]"
          },
          "metadata": {}
        }
      ]
    },
    {
      "cell_type": "markdown",
      "source": [
        "Could we find a value above wish we can consider?"
      ],
      "metadata": {
        "id": "X-0yvjcWaQEl"
      }
    },
    {
      "cell_type": "code",
      "source": [
        "condition_br['numVotes'].quantile(.5)\n",
        "\n",
        "#Answer: The value isnt meaningfull. There is great dispersion."
      ],
      "metadata": {
        "colab": {
          "base_uri": "https://localhost:8080/"
        },
        "id": "dadOBRNpaTYL",
        "outputId": "b28e7844-27e2-472b-ef32-2f405031f5a2"
      },
      "execution_count": null,
      "outputs": [
        {
          "output_type": "execute_result",
          "data": {
            "text/plain": [
              "32.0"
            ]
          },
          "metadata": {},
          "execution_count": 53
        }
      ]
    },
    {
      "cell_type": "code",
      "source": [
        "condition_br.describe()"
      ],
      "metadata": {
        "colab": {
          "base_uri": "https://localhost:8080/",
          "height": 300
        },
        "id": "b2WEDpR5afHX",
        "outputId": "35033416-7883-4e68-cb57-2ec01f20f44a"
      },
      "execution_count": null,
      "outputs": [
        {
          "output_type": "execute_result",
          "data": {
            "text/plain": [
              "       averageRating      numVotes\n",
              "count  423731.000000  4.237310e+05\n",
              "mean        6.402804  2.394202e+03\n",
              "std         1.427587  2.824689e+04\n",
              "min         1.000000  5.000000e+00\n",
              "25%         5.500000  1.300000e+01\n",
              "50%         6.500000  3.200000e+01\n",
              "75%         7.300000  1.550000e+02\n",
              "max        10.000000  2.653689e+06"
            ],
            "text/html": [
              "\n",
              "  <div id=\"df-13a8ba4a-7cea-46ac-843b-2ed02cf95e66\">\n",
              "    <div class=\"colab-df-container\">\n",
              "      <div>\n",
              "<style scoped>\n",
              "    .dataframe tbody tr th:only-of-type {\n",
              "        vertical-align: middle;\n",
              "    }\n",
              "\n",
              "    .dataframe tbody tr th {\n",
              "        vertical-align: top;\n",
              "    }\n",
              "\n",
              "    .dataframe thead th {\n",
              "        text-align: right;\n",
              "    }\n",
              "</style>\n",
              "<table border=\"1\" class=\"dataframe\">\n",
              "  <thead>\n",
              "    <tr style=\"text-align: right;\">\n",
              "      <th></th>\n",
              "      <th>averageRating</th>\n",
              "      <th>numVotes</th>\n",
              "    </tr>\n",
              "  </thead>\n",
              "  <tbody>\n",
              "    <tr>\n",
              "      <th>count</th>\n",
              "      <td>423731.000000</td>\n",
              "      <td>4.237310e+05</td>\n",
              "    </tr>\n",
              "    <tr>\n",
              "      <th>mean</th>\n",
              "      <td>6.402804</td>\n",
              "      <td>2.394202e+03</td>\n",
              "    </tr>\n",
              "    <tr>\n",
              "      <th>std</th>\n",
              "      <td>1.427587</td>\n",
              "      <td>2.824689e+04</td>\n",
              "    </tr>\n",
              "    <tr>\n",
              "      <th>min</th>\n",
              "      <td>1.000000</td>\n",
              "      <td>5.000000e+00</td>\n",
              "    </tr>\n",
              "    <tr>\n",
              "      <th>25%</th>\n",
              "      <td>5.500000</td>\n",
              "      <td>1.300000e+01</td>\n",
              "    </tr>\n",
              "    <tr>\n",
              "      <th>50%</th>\n",
              "      <td>6.500000</td>\n",
              "      <td>3.200000e+01</td>\n",
              "    </tr>\n",
              "    <tr>\n",
              "      <th>75%</th>\n",
              "      <td>7.300000</td>\n",
              "      <td>1.550000e+02</td>\n",
              "    </tr>\n",
              "    <tr>\n",
              "      <th>max</th>\n",
              "      <td>10.000000</td>\n",
              "      <td>2.653689e+06</td>\n",
              "    </tr>\n",
              "  </tbody>\n",
              "</table>\n",
              "</div>\n",
              "      <button class=\"colab-df-convert\" onclick=\"convertToInteractive('df-13a8ba4a-7cea-46ac-843b-2ed02cf95e66')\"\n",
              "              title=\"Convert this dataframe to an interactive table.\"\n",
              "              style=\"display:none;\">\n",
              "        \n",
              "  <svg xmlns=\"http://www.w3.org/2000/svg\" height=\"24px\"viewBox=\"0 0 24 24\"\n",
              "       width=\"24px\">\n",
              "    <path d=\"M0 0h24v24H0V0z\" fill=\"none\"/>\n",
              "    <path d=\"M18.56 5.44l.94 2.06.94-2.06 2.06-.94-2.06-.94-.94-2.06-.94 2.06-2.06.94zm-11 1L8.5 8.5l.94-2.06 2.06-.94-2.06-.94L8.5 2.5l-.94 2.06-2.06.94zm10 10l.94 2.06.94-2.06 2.06-.94-2.06-.94-.94-2.06-.94 2.06-2.06.94z\"/><path d=\"M17.41 7.96l-1.37-1.37c-.4-.4-.92-.59-1.43-.59-.52 0-1.04.2-1.43.59L10.3 9.45l-7.72 7.72c-.78.78-.78 2.05 0 2.83L4 21.41c.39.39.9.59 1.41.59.51 0 1.02-.2 1.41-.59l7.78-7.78 2.81-2.81c.8-.78.8-2.07 0-2.86zM5.41 20L4 18.59l7.72-7.72 1.47 1.35L5.41 20z\"/>\n",
              "  </svg>\n",
              "      </button>\n",
              "      \n",
              "  <style>\n",
              "    .colab-df-container {\n",
              "      display:flex;\n",
              "      flex-wrap:wrap;\n",
              "      gap: 12px;\n",
              "    }\n",
              "\n",
              "    .colab-df-convert {\n",
              "      background-color: #E8F0FE;\n",
              "      border: none;\n",
              "      border-radius: 50%;\n",
              "      cursor: pointer;\n",
              "      display: none;\n",
              "      fill: #1967D2;\n",
              "      height: 32px;\n",
              "      padding: 0 0 0 0;\n",
              "      width: 32px;\n",
              "    }\n",
              "\n",
              "    .colab-df-convert:hover {\n",
              "      background-color: #E2EBFA;\n",
              "      box-shadow: 0px 1px 2px rgba(60, 64, 67, 0.3), 0px 1px 3px 1px rgba(60, 64, 67, 0.15);\n",
              "      fill: #174EA6;\n",
              "    }\n",
              "\n",
              "    [theme=dark] .colab-df-convert {\n",
              "      background-color: #3B4455;\n",
              "      fill: #D2E3FC;\n",
              "    }\n",
              "\n",
              "    [theme=dark] .colab-df-convert:hover {\n",
              "      background-color: #434B5C;\n",
              "      box-shadow: 0px 1px 3px 1px rgba(0, 0, 0, 0.15);\n",
              "      filter: drop-shadow(0px 1px 2px rgba(0, 0, 0, 0.3));\n",
              "      fill: #FFFFFF;\n",
              "    }\n",
              "  </style>\n",
              "\n",
              "      <script>\n",
              "        const buttonEl =\n",
              "          document.querySelector('#df-13a8ba4a-7cea-46ac-843b-2ed02cf95e66 button.colab-df-convert');\n",
              "        buttonEl.style.display =\n",
              "          google.colab.kernel.accessAllowed ? 'block' : 'none';\n",
              "\n",
              "        async function convertToInteractive(key) {\n",
              "          const element = document.querySelector('#df-13a8ba4a-7cea-46ac-843b-2ed02cf95e66');\n",
              "          const dataTable =\n",
              "            await google.colab.kernel.invokeFunction('convertToInteractive',\n",
              "                                                     [key], {});\n",
              "          if (!dataTable) return;\n",
              "\n",
              "          const docLinkHtml = 'Like what you see? Visit the ' +\n",
              "            '<a target=\"_blank\" href=https://colab.research.google.com/notebooks/data_table.ipynb>data table notebook</a>'\n",
              "            + ' to learn more about interactive tables.';\n",
              "          element.innerHTML = '';\n",
              "          dataTable['output_type'] = 'display_data';\n",
              "          await google.colab.output.renderOutput(dataTable, element);\n",
              "          const docLink = document.createElement('div');\n",
              "          docLink.innerHTML = docLinkHtml;\n",
              "          element.appendChild(docLink);\n",
              "        }\n",
              "      </script>\n",
              "    </div>\n",
              "  </div>\n",
              "  "
            ]
          },
          "metadata": {},
          "execution_count": 54
        }
      ]
    },
    {
      "cell_type": "code",
      "source": [
        "sns.histplot(data = condition_br['wheighted_avg'])"
      ],
      "metadata": {
        "colab": {
          "base_uri": "https://localhost:8080/",
          "height": 528
        },
        "id": "CGEbtfiHajIn",
        "outputId": "80fee035-fff5-4ac4-849e-20e64cc22c20"
      },
      "execution_count": null,
      "outputs": [
        {
          "output_type": "error",
          "ename": "KeyError",
          "evalue": "ignored",
          "traceback": [
            "\u001b[0;31m---------------------------------------------------------------------------\u001b[0m",
            "\u001b[0;31mKeyError\u001b[0m                                  Traceback (most recent call last)",
            "\u001b[0;32m/usr/local/lib/python3.7/dist-packages/pandas/core/indexes/base.py\u001b[0m in \u001b[0;36mget_loc\u001b[0;34m(self, key, method, tolerance)\u001b[0m\n\u001b[1;32m   3360\u001b[0m             \u001b[0;32mtry\u001b[0m\u001b[0;34m:\u001b[0m\u001b[0;34m\u001b[0m\u001b[0;34m\u001b[0m\u001b[0m\n\u001b[0;32m-> 3361\u001b[0;31m                 \u001b[0;32mreturn\u001b[0m \u001b[0mself\u001b[0m\u001b[0;34m.\u001b[0m\u001b[0m_engine\u001b[0m\u001b[0;34m.\u001b[0m\u001b[0mget_loc\u001b[0m\u001b[0;34m(\u001b[0m\u001b[0mcasted_key\u001b[0m\u001b[0;34m)\u001b[0m\u001b[0;34m\u001b[0m\u001b[0;34m\u001b[0m\u001b[0m\n\u001b[0m\u001b[1;32m   3362\u001b[0m             \u001b[0;32mexcept\u001b[0m \u001b[0mKeyError\u001b[0m \u001b[0;32mas\u001b[0m \u001b[0merr\u001b[0m\u001b[0;34m:\u001b[0m\u001b[0;34m\u001b[0m\u001b[0;34m\u001b[0m\u001b[0m\n",
            "\u001b[0;32m/usr/local/lib/python3.7/dist-packages/pandas/_libs/index.pyx\u001b[0m in \u001b[0;36mpandas._libs.index.IndexEngine.get_loc\u001b[0;34m()\u001b[0m\n",
            "\u001b[0;32m/usr/local/lib/python3.7/dist-packages/pandas/_libs/index.pyx\u001b[0m in \u001b[0;36mpandas._libs.index.IndexEngine.get_loc\u001b[0;34m()\u001b[0m\n",
            "\u001b[0;32mpandas/_libs/hashtable_class_helper.pxi\u001b[0m in \u001b[0;36mpandas._libs.hashtable.PyObjectHashTable.get_item\u001b[0;34m()\u001b[0m\n",
            "\u001b[0;32mpandas/_libs/hashtable_class_helper.pxi\u001b[0m in \u001b[0;36mpandas._libs.hashtable.PyObjectHashTable.get_item\u001b[0;34m()\u001b[0m\n",
            "\u001b[0;31mKeyError\u001b[0m: 'wheighted_avg'",
            "\nThe above exception was the direct cause of the following exception:\n",
            "\u001b[0;31mKeyError\u001b[0m                                  Traceback (most recent call last)",
            "\u001b[0;32m<ipython-input-55-5751b54367a4>\u001b[0m in \u001b[0;36m<module>\u001b[0;34m\u001b[0m\n\u001b[0;32m----> 1\u001b[0;31m \u001b[0msns\u001b[0m\u001b[0;34m.\u001b[0m\u001b[0mhistplot\u001b[0m\u001b[0;34m(\u001b[0m\u001b[0mdata\u001b[0m \u001b[0;34m=\u001b[0m \u001b[0mcondition_br\u001b[0m\u001b[0;34m[\u001b[0m\u001b[0;34m'wheighted_avg'\u001b[0m\u001b[0;34m]\u001b[0m\u001b[0;34m)\u001b[0m\u001b[0;34m\u001b[0m\u001b[0;34m\u001b[0m\u001b[0m\n\u001b[0m",
            "\u001b[0;32m/usr/local/lib/python3.7/dist-packages/pandas/core/frame.py\u001b[0m in \u001b[0;36m__getitem__\u001b[0;34m(self, key)\u001b[0m\n\u001b[1;32m   3456\u001b[0m             \u001b[0;32mif\u001b[0m \u001b[0mself\u001b[0m\u001b[0;34m.\u001b[0m\u001b[0mcolumns\u001b[0m\u001b[0;34m.\u001b[0m\u001b[0mnlevels\u001b[0m \u001b[0;34m>\u001b[0m \u001b[0;36m1\u001b[0m\u001b[0;34m:\u001b[0m\u001b[0;34m\u001b[0m\u001b[0;34m\u001b[0m\u001b[0m\n\u001b[1;32m   3457\u001b[0m                 \u001b[0;32mreturn\u001b[0m \u001b[0mself\u001b[0m\u001b[0;34m.\u001b[0m\u001b[0m_getitem_multilevel\u001b[0m\u001b[0;34m(\u001b[0m\u001b[0mkey\u001b[0m\u001b[0;34m)\u001b[0m\u001b[0;34m\u001b[0m\u001b[0;34m\u001b[0m\u001b[0m\n\u001b[0;32m-> 3458\u001b[0;31m             \u001b[0mindexer\u001b[0m \u001b[0;34m=\u001b[0m \u001b[0mself\u001b[0m\u001b[0;34m.\u001b[0m\u001b[0mcolumns\u001b[0m\u001b[0;34m.\u001b[0m\u001b[0mget_loc\u001b[0m\u001b[0;34m(\u001b[0m\u001b[0mkey\u001b[0m\u001b[0;34m)\u001b[0m\u001b[0;34m\u001b[0m\u001b[0;34m\u001b[0m\u001b[0m\n\u001b[0m\u001b[1;32m   3459\u001b[0m             \u001b[0;32mif\u001b[0m \u001b[0mis_integer\u001b[0m\u001b[0;34m(\u001b[0m\u001b[0mindexer\u001b[0m\u001b[0;34m)\u001b[0m\u001b[0;34m:\u001b[0m\u001b[0;34m\u001b[0m\u001b[0;34m\u001b[0m\u001b[0m\n\u001b[1;32m   3460\u001b[0m                 \u001b[0mindexer\u001b[0m \u001b[0;34m=\u001b[0m \u001b[0;34m[\u001b[0m\u001b[0mindexer\u001b[0m\u001b[0;34m]\u001b[0m\u001b[0;34m\u001b[0m\u001b[0;34m\u001b[0m\u001b[0m\n",
            "\u001b[0;32m/usr/local/lib/python3.7/dist-packages/pandas/core/indexes/base.py\u001b[0m in \u001b[0;36mget_loc\u001b[0;34m(self, key, method, tolerance)\u001b[0m\n\u001b[1;32m   3361\u001b[0m                 \u001b[0;32mreturn\u001b[0m \u001b[0mself\u001b[0m\u001b[0;34m.\u001b[0m\u001b[0m_engine\u001b[0m\u001b[0;34m.\u001b[0m\u001b[0mget_loc\u001b[0m\u001b[0;34m(\u001b[0m\u001b[0mcasted_key\u001b[0m\u001b[0;34m)\u001b[0m\u001b[0;34m\u001b[0m\u001b[0;34m\u001b[0m\u001b[0m\n\u001b[1;32m   3362\u001b[0m             \u001b[0;32mexcept\u001b[0m \u001b[0mKeyError\u001b[0m \u001b[0;32mas\u001b[0m \u001b[0merr\u001b[0m\u001b[0;34m:\u001b[0m\u001b[0;34m\u001b[0m\u001b[0;34m\u001b[0m\u001b[0m\n\u001b[0;32m-> 3363\u001b[0;31m                 \u001b[0;32mraise\u001b[0m \u001b[0mKeyError\u001b[0m\u001b[0;34m(\u001b[0m\u001b[0mkey\u001b[0m\u001b[0;34m)\u001b[0m \u001b[0;32mfrom\u001b[0m \u001b[0merr\u001b[0m\u001b[0;34m\u001b[0m\u001b[0;34m\u001b[0m\u001b[0m\n\u001b[0m\u001b[1;32m   3364\u001b[0m \u001b[0;34m\u001b[0m\u001b[0m\n\u001b[1;32m   3365\u001b[0m         \u001b[0;32mif\u001b[0m \u001b[0mis_scalar\u001b[0m\u001b[0;34m(\u001b[0m\u001b[0mkey\u001b[0m\u001b[0;34m)\u001b[0m \u001b[0;32mand\u001b[0m \u001b[0misna\u001b[0m\u001b[0;34m(\u001b[0m\u001b[0mkey\u001b[0m\u001b[0;34m)\u001b[0m \u001b[0;32mand\u001b[0m \u001b[0;32mnot\u001b[0m \u001b[0mself\u001b[0m\u001b[0;34m.\u001b[0m\u001b[0mhasnans\u001b[0m\u001b[0;34m:\u001b[0m\u001b[0;34m\u001b[0m\u001b[0;34m\u001b[0m\u001b[0m\n",
            "\u001b[0;31mKeyError\u001b[0m: 'wheighted_avg'"
          ]
        }
      ]
    },
    {
      "cell_type": "code",
      "source": [
        "condition_br.info()"
      ],
      "metadata": {
        "id": "x5Teb1-5awCV"
      },
      "execution_count": null,
      "outputs": []
    },
    {
      "cell_type": "markdown",
      "source": [
        "Conclusion: To choose a minimum number ofvotes to consider based on the median or other quantiles is not very logical."
      ],
      "metadata": {
        "id": "MrA7hSN1bEAP"
      }
    },
    {
      "cell_type": "markdown",
      "source": [
        "Discussion on Weighted average: Could be a good indicator because it has in count both the ratings as the number of votes, but the values aren't meaningfull, that is, they don't show in a scale from 1to 10, that people relate to. When we try to scale it (using a 3 simple rule for the ['weighted'].max() as the 10), the shawshank redemption (top movie) is so far from the rest that the values still arent meaningfull. "
      ],
      "metadata": {
        "id": "XzEv4TQCW55K"
      }
    },
    {
      "cell_type": "code",
      "source": [
        "#weighted average for scoring\n",
        "condition_br['wheighted_avg'] = (condition_br['averageRating']*condition_br['numVotes'])/condition_br['numVotes'].sum()\n",
        "condition_ = condition_br.sort_values(['wheighted_avg'], ascending = False).head(10)"
      ],
      "metadata": {
        "id": "sF8_QsHvdr17"
      },
      "execution_count": null,
      "outputs": []
    },
    {
      "cell_type": "code",
      "source": [
        "#does it represent the number of votes?\n",
        "sns.scatterplot(data = condition_br, x = 'numVotes', y = 'wheighted_avg')"
      ],
      "metadata": {
        "id": "wqwlkHnDd2VA"
      },
      "execution_count": null,
      "outputs": []
    },
    {
      "cell_type": "code",
      "source": [
        "#does it represent the average ratings?\n",
        "sns.scatterplot(data = condition_br, x = 'averageRating', y = 'wheighted_avg')"
      ],
      "metadata": {
        "id": "jxvt4S4AeBg5"
      },
      "execution_count": null,
      "outputs": []
    },
    {
      "cell_type": "code",
      "source": [
        "#3 simple rule for the weighted to be meaningfull\n",
        "condition_br['wheighted_rule'] = (condition_br['wheighted']*10)/(condition_br['wheighted'].max())\n",
        "condition_br['wheighted_rule'].value_counts()\n",
        "# condition_test = condition_br.loc[condition_br['wheighted_rule'] == 10]\n",
        "# condition_test"
      ],
      "metadata": {
        "id": "u1enkAwsbtyt"
      },
      "execution_count": null,
      "outputs": []
    },
    {
      "cell_type": "code",
      "source": [
        "#scoring bins\n",
        "#using np\n",
        "def score(x):\n",
        "  if x in np.percentile(condition_br['wheighted'],10):\n",
        "    return 1\n",
        "  elif x in np.percentile(condition_br['wheighted'],20):\n",
        "    return 2\n",
        "  elif x in np.percentile(condition_br['wheighted'],30):\n",
        "    return 3\n",
        "  elif x in np.percentile(condition_br['wheighted'],40):\n",
        "    return 4\n",
        "  elif x in np.percentile(condition_br['wheighted'],50):\n",
        "    return 5\n",
        "  elif x in np.percentile(condition_br['wheighted'],60):\n",
        "    return 6\n",
        "  elif x in np.percentile(condition_br['wheighted'],70):\n",
        "    return 7\n",
        "  elif x in np.percentile(condition_br['wheighted'],80):\n",
        "    return 8\n",
        "  elif x in np.percentile(condition_br['wheighted'],90):\n",
        "    return 9\n",
        "  else:\n",
        "    return 10\n",
        "\n",
        "condition_br['wheighted'] = condition_br['wheighted'].apply(score)\n",
        "condition_br"
      ],
      "metadata": {
        "id": "dtGNcdoJb0FT"
      },
      "execution_count": null,
      "outputs": []
    },
    {
      "cell_type": "code",
      "source": [
        "#using pandas\n",
        "def score(x):\n",
        "  if x in condition_br.quantile(.10):\n",
        "    return 1\n",
        "  elif x in condition_br.quantile(.20):\n",
        "    return 2\n",
        "  elif x in condition_br.quantile(.30):\n",
        "    return 3\n",
        "  elif x in condition_br.quantile(.40):\n",
        "    return 4\n",
        "  elif x in condition_br.quantile(.50):\n",
        "    return 5\n",
        "  elif x in condition_br.quantile(.60):\n",
        "    return 6\n",
        "  elif x in condition_br.quantile(.70):\n",
        "    return 7\n",
        "  elif x in condition_br.quantile(.80):\n",
        "    return 8\n",
        "  elif x in condition_br.quantile(.09):\n",
        "    return 9\n",
        "  else:\n",
        "    return 10\n",
        "\n",
        "condition_br['wheighted_score'] = condition_br['wheighted'].apply(score)\n",
        "condition_br"
      ],
      "metadata": {
        "id": "eu9sgY_PcArm"
      },
      "execution_count": null,
      "outputs": []
    },
    {
      "cell_type": "code",
      "source": [
        "condition_br['wheighted_score_test'] = pd.qcut(condition_br['wheighted'], q = 10, labels = [1, 2, 3, 4, 5, 6, 7, 8, 9, 10])\n",
        "condition_br['wheighted_score_test2'] = pd.qcut(condition_br['wheighted'], q = 11, labels = [0, 1, 2, 3, 4, 5, 6, 7, 8, 9, 10])\n",
        "condition_br['wheighted_score_test2'].fillna(0)"
      ],
      "metadata": {
        "id": "B0O601YAcWKv"
      },
      "execution_count": null,
      "outputs": []
    },
    {
      "cell_type": "code",
      "source": [
        "type(condition_br['wheighted_score_test2'][0])"
      ],
      "metadata": {
        "id": "s50xf2lAcYzH"
      },
      "execution_count": null,
      "outputs": []
    },
    {
      "cell_type": "code",
      "source": [
        "condition_br['wheighted_score_test2'].value_counts()"
      ],
      "metadata": {
        "id": "PnvtnZrzccoy"
      },
      "execution_count": null,
      "outputs": []
    },
    {
      "cell_type": "code",
      "source": [
        "#trying to convert the discrete variable to continuous (didn't work)\n",
        "#condition_br['wheighted_score_test2'].astype('int32').dtypes \n",
        "condition_br['wheighted_score_test2'].to_numpy()"
      ],
      "metadata": {
        "id": "2L8P2ZW3cguR"
      },
      "execution_count": null,
      "outputs": []
    },
    {
      "cell_type": "markdown",
      "source": [
        "Because we scored in bins and couldn't go back to make it a continuous variable scoring system, there was no difference between, we abandoned this hypothesis because all 9's or all 10's would be in the same group and we couldn't distinguish the top 3/5/10 movies from the others on the same category."
      ],
      "metadata": {
        "id": "Dbe1kOoTcxGp"
      }
    },
    {
      "cell_type": "code",
      "source": [
        "#try to multiply the weif«ghted by a factor to give a meaningfull value\n",
        "condition_br['wheighted_rule_test'] = condition_br['wheighted']*100000\n",
        "condition_br['wheighted_rule_test'].describe()\n",
        "\n",
        "#Answer: this also didnt work, because the max weighted value is too far from all the other values, and we would end up with an average weighted across the df very low."
      ],
      "metadata": {
        "id": "Cg3_6uL8cI6r"
      },
      "execution_count": null,
      "outputs": []
    },
    {
      "cell_type": "markdown",
      "source": [
        "\n",
        "Conclusion: We decided to go another way, we searched and found the weighted average formula of IMDB wich was the one we decided for. Nevertheless, our top movies are a little diferente because, as was explained in IMDB, they also give more 'power' to the voters that vote more times and we dont have access to that information."
      ],
      "metadata": {
        "id": "8PpNulJsbySV"
      }
    },
    {
      "cell_type": "code",
      "source": [
        "#Calculate the IMDB weighted average\n",
        "C = condition_br['averageRating'].mean()\n",
        "\n",
        "condition_br['wheighted_IMDB'] = ((condition_br['numVotes']/(condition_br['numVotes']+25000))*condition_br['averageRating']) + ((25000/(condition_br['numVotes']+25000))*C)\n",
        "condition_br_movies = condition_br.sort_values(by='wheighted_IMDB', ascending = False).head(10)\n",
        "condition_br_movies"
      ],
      "metadata": {
        "id": "CbUJL_woZ_nk"
      },
      "execution_count": null,
      "outputs": []
    },
    {
      "cell_type": "code",
      "source": [
        "sns.boxplot(data = condition_br['wheighted_IMDB'])"
      ],
      "metadata": {
        "id": "-FyyHw8lUz2X"
      },
      "execution_count": null,
      "outputs": []
    },
    {
      "cell_type": "code",
      "source": [
        "n"
      ],
      "metadata": {
        "id": "BJz_lBjMeXNJ"
      },
      "execution_count": null,
      "outputs": []
    },
    {
      "cell_type": "markdown",
      "source": [
        "#Year analysis and Top's"
      ],
      "metadata": {
        "id": "Hy-hxUrdp2dH"
      }
    },
    {
      "cell_type": "markdown",
      "source": [
        "We decided to use the IMDB weighted average for the Top's\n",
        "\n",
        "\n"
      ],
      "metadata": {
        "id": "1Q8p5k8tbKFT"
      }
    },
    {
      "cell_type": "markdown",
      "source": [
        "## 1) Year analysis"
      ],
      "metadata": {
        "id": "nJLQYQuCqACS"
      }
    },
    {
      "cell_type": "code",
      "source": [
        "condition_ms = condition_br.loc[((title_basics['titleType'] == 'movie') | (title_basics['titleType'] =='short')) & (title_basics['startYear'] <= '2022')]\n",
        "#condition_ms\n",
        "years_pivot = condition_ms.pivot_table(values = 'tconst', index = 'startYear', aggfunc = 'count')\n",
        "years_pivot = years_pivot.rename(columns={'tconst' : 'n_entries'})\n",
        "years_pivot\n",
        "\n",
        "years_pivot.columns = ['n_titles']\n",
        "years_pivot\n",
        "# years_pivot_res = years_pivot.reset_index()\n",
        "# years_pivot_res\n",
        "\n",
        "#first movie/short = 1874 on IMDB (is a percussor, because public screening of ten of the Lumière brothers' short films in Paris on 28 December 1895 can be regarded as the breakthrough of projected cinematographic motion pictures.)"
      ],
      "metadata": {
        "id": "FtqIJD-yqp84"
      },
      "execution_count": null,
      "outputs": []
    },
    {
      "cell_type": "code",
      "source": [
        "check = years_pivot['n_titles'] == years_pivot['n_titles'].max()\n",
        "years_pivot.loc[check]"
      ],
      "metadata": {
        "id": "xEKbDakbBPd6"
      },
      "execution_count": null,
      "outputs": []
    },
    {
      "cell_type": "code",
      "source": [
        "sns.set_style(\"white\")\n",
        "\n",
        "fig,ax = plt.subplots(figsize=(10,6))\n",
        "fig.suptitle('Number of Movies & Shorts vs. time')\n",
        "\n",
        "sns_years = sns.lineplot(data = years_pivot, x = years_pivot.index.values, y = 'n_titles')\n",
        "plt.xticks(['1900', '1925', '1950', '1975', '2000', '2022'])\n",
        "\n",
        "fig01 = sns_years.get_figure()\n",
        "fig01.savefig(\"sns_years.png\")"
      ],
      "metadata": {
        "id": "fuI_32y9yRhW"
      },
      "execution_count": null,
      "outputs": []
    },
    {
      "cell_type": "markdown",
      "source": [
        "## 2) Top rated movies"
      ],
      "metadata": {
        "id": "qNmrQVtmqeUB"
      }
    },
    {
      "cell_type": "code",
      "source": [
        "title_ratings"
      ],
      "metadata": {
        "id": "biD2rKurVaRY"
      },
      "execution_count": null,
      "outputs": []
    },
    {
      "cell_type": "code",
      "source": [
        "condition_ms = condition_br.loc[((title_basics['titleType'] == 'movie') | (title_basics['titleType'] =='short')) & (title_basics['startYear'] <= '2022')]\n",
        "condition_ms\n",
        "\n",
        "condition_ms.pivot_table(values = 'wheighted_IMDB', index = 'startYear', aggfunc = 'mean').sort_values(by = 'wheighted_IMDB', ascending = False).head()"
      ],
      "metadata": {
        "id": "_9wGkR2JU5BW"
      },
      "execution_count": null,
      "outputs": []
    },
    {
      "cell_type": "code",
      "source": [
        "C = condition_br['averageRating'].mean()\n",
        "\n",
        "condition_br['wheighted_IMDB'] = ((condition_br['numVotes']/(condition_br['numVotes']+25000))*condition_br['averageRating']) + ((25000/(condition_br['numVotes']+25000))*C)\n",
        "condition_br_movies = condition_br.sort_values(by='wheighted_IMDB', ascending = False).head(10)\n",
        "condition_br_movies"
      ],
      "metadata": {
        "id": "VxaU09GpMGjR"
      },
      "execution_count": null,
      "outputs": []
    },
    {
      "cell_type": "code",
      "source": [
        "sns.set_style(\"white\")\n",
        "\n",
        "fig, ax = plt.subplots(figsize = (10,5))\n",
        "fig.suptitle('Top ten Movies & Shorts')\n",
        "\n",
        "# pal = sns.color_palette(\"Blues\")\n",
        "sns_titles = sns.barplot(data = condition_br_movies, x = 'wheighted_IMDB', y = 'primaryTitle', color = 'steelblue', orient = 'h')\n",
        "\n",
        "fig03 = sns_titles.get_figure()\n",
        "fig03.savefig(\"sns_titles.png\", bbox_inches = \"tight\")"
      ],
      "metadata": {
        "id": "-aXgp-OMWPna"
      },
      "execution_count": null,
      "outputs": []
    },
    {
      "cell_type": "markdown",
      "source": [
        "# TOP rated genres"
      ],
      "metadata": {
        "id": "TqShhbSqgnx5"
      }
    },
    {
      "cell_type": "code",
      "source": [
        "Title_basics_ratings = pd.merge(title_basics, title_ratings, how='outer', on=['tconst', 'tconst'])\n",
        "condition_br = Title_basics_ratings.loc[((Title_basics_ratings['titleType'] == 'movie') | (Title_basics_ratings['titleType'] =='short')) & (Title_basics_ratings['startYear'] <= '2022')]\n",
        "# condition_br['wheighted'] = (condition_br['averageRating']*condition_br['numVotes'])/(condition_br['numVotes'].sum())"
      ],
      "metadata": {
        "id": "uRyODk7fgmrZ"
      },
      "execution_count": null,
      "outputs": []
    },
    {
      "cell_type": "code",
      "source": [
        "condition_br['wheighted'] = (condition_br['averageRating']*condition_br['numVotes'])/(condition_br['numVotes'].sum())\n",
        "condition_br.describe()"
      ],
      "metadata": {
        "id": "qcY8A-TqX49W"
      },
      "execution_count": null,
      "outputs": []
    },
    {
      "cell_type": "code",
      "source": [
        "#With IMDB formula\n",
        "C = condition_br['averageRating'].mean()\n",
        "\n",
        "condition_br['wheighted_IMDB'] = ((condition_br['numVotes']/(condition_br['numVotes']+25000))*condition_br['averageRating']) + ((25000/(condition_br['numVotes']+25000))*C)\n",
        "condition_br['wheighted_IMDB'].describe()"
      ],
      "metadata": {
        "id": "2xmlJGp4thD-"
      },
      "execution_count": null,
      "outputs": []
    },
    {
      "cell_type": "code",
      "source": [
        "condition_br[\"genres\"] = condition_br.genres.str.split(',')"
      ],
      "metadata": {
        "id": "0FBqa7gYpqZh"
      },
      "execution_count": null,
      "outputs": []
    },
    {
      "cell_type": "code",
      "source": [
        "conditon_br_split = condition_br.explode(\"genres\")\n",
        "conditon_br_split"
      ],
      "metadata": {
        "id": "duaVNp28oBd2"
      },
      "execution_count": null,
      "outputs": []
    },
    {
      "cell_type": "code",
      "source": [
        "genres_group = conditon_br_split.groupby(['genres']).agg({'wheighted': 'mean', 'averageRating': 'mean', 'tconst' : 'count', 'wheighted_IMDB' : 'mean'}).reset_index()\n",
        "genres_group_loc = genres_group.sort_values(['wheighted_IMDB'], ascending = False).head(10)\n",
        "genres_group_loc.columns = ['genres', 'weighted_avg', 'averageRating', 'n_titles', 'wheighted_IMDB']\n",
        "genres_group_loc.sort_values(by='wheighted_IMDB', ascending = False)"
      ],
      "metadata": {
        "id": "AJMe9OadrYIp"
      },
      "execution_count": null,
      "outputs": []
    },
    {
      "cell_type": "code",
      "source": [
        "sns.set_style(\"white\")\n",
        "\n",
        "fig, ax = plt.subplots(figsize = (10,5))\n",
        "fig.suptitle('Top ten Movies & Shorts Genres')\n",
        "\n",
        "pal = sns.color_palette(\"Blues\", len(genres_group_loc['n_titles']))\n",
        "sns_genres = sns.barplot(data = genres_group_loc, x = 'genres', y = 'weighted_avg', hue = 'n_titles', palette = 'PuBu', dodge=False)\n",
        "\n",
        "fig02 = sns_genres.get_figure()\n",
        "fig02.savefig(\"sns_genres.png\")\n"
      ],
      "metadata": {
        "id": "Tgc3w9HimrgQ"
      },
      "execution_count": null,
      "outputs": []
    },
    {
      "cell_type": "code",
      "source": [
        "#Another way to vary the color by the values:\n",
        "\n",
        "# fig, ax = plt.subplots(figsize = (10,5))\n",
        "# fig.suptitle('Top ten Movies & Shorts Genres')\n",
        "\n",
        "# pal = sns.color_palette(\"Blues\", len(genres_group_loc['n_titles']))\n",
        "# sns.barplot(data = genres_group_loc, x = 'genres', y = 'weighted_avg', hue = 'n_titles', palette = np.array(pal[::1]), dodge=False)"
      ],
      "metadata": {
        "id": "4jSXUB6_sFS7"
      },
      "execution_count": null,
      "outputs": []
    },
    {
      "cell_type": "markdown",
      "source": [
        "# General data"
      ],
      "metadata": {
        "id": "o-HVvBGkJQCd"
      }
    },
    {
      "cell_type": "code",
      "source": [
        "#Checking values in the Title_basics_ratings table\n",
        "test = Title_basics_ratings.loc[Title_basics_ratings['originalTitle'] == 'The Shawshank Redemption']\n",
        "test"
      ],
      "metadata": {
        "id": "sExo9PlwLKCG"
      },
      "execution_count": null,
      "outputs": []
    },
    {
      "cell_type": "code",
      "source": [
        "#Checking possibilities: Best 10 Documentaries using string contains\n",
        "condition_br = condition_br[condition_br['genres'].str.contains('Documentary')]\n",
        "condition_br.sort_values(['score'], ascending = False).head(10)"
      ],
      "metadata": {
        "id": "gNRHmOSLew3l"
      },
      "execution_count": null,
      "outputs": []
    },
    {
      "cell_type": "code",
      "source": [
        "# Trying to do a pieplot\n",
        "size_of_groups=[868113,538414, ]\n",
        "names = ['short', 'movie']\n",
        "\n",
        "# Create a pieplot\n",
        "plt.pie(size_of_groups)\n",
        "\n",
        "# add a circle at the center to transform it in a donut chart\n",
        "my_circle=plt.Circle( (0,0), 0.7, color='white')\n",
        "\n",
        "plt.pie(size_of_groups, labels=names, colors=['steelblue','skyblue'])\n",
        "p=plt.gcf()\n",
        "p.gca().add_artist(my_circle)\n",
        "\n",
        "plt.show()"
      ],
      "metadata": {
        "id": "pxC0_y1dJWk3"
      },
      "execution_count": null,
      "outputs": []
    }
  ],
  "metadata": {
    "kernelspec": {
      "display_name": "Python 3.10.7 64-bit",
      "language": "python",
      "name": "python3"
    },
    "language_info": {
      "codemirror_mode": {
        "name": "ipython",
        "version": 3
      },
      "file_extension": ".py",
      "mimetype": "text/x-python",
      "name": "python",
      "nbconvert_exporter": "python",
      "pygments_lexer": "ipython3",
      "version": "3.10.7"
    },
    "orig_nbformat": 4,
    "vscode": {
      "interpreter": {
        "hash": "d74960114c2e5d04a77495b49d6433637925ede632b126762ef4bc6304710b18"
      }
    },
    "colab": {
      "provenance": [],
      "collapsed_sections": [],
      "include_colab_link": true
    }
  },
  "nbformat": 4,
  "nbformat_minor": 0
}