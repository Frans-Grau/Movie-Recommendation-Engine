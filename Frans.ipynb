{
  "cells": [
    {
      "cell_type": "code",
      "execution_count": 8,
      "metadata": {
        "id": "pakNYYubI0wb",
        "outputId": "140c0151-640a-48e8-c0a0-554b5a9cfffb"
      },
      "outputs": [],
      "source": [
        "### TITLE RATINGS & TITLE EPISODE \n",
        "\n",
        "## TITLE RATINGS - Contains the IMDb rating and votes information for titles.\n",
        "# tconst (string) - alphanumeric unique identifier of the title\n",
        "# averageRating – weighted average of all the individual user ratings\n",
        "# numVotes - number of votes the title has received\n",
        "\n",
        "## TITLE EPISODE - Contains the tv episode information.\n",
        "# tconst (string) - alphanumeric identifier of episode\n",
        "# parentTconst (string) - alphanumeric identifier of the parent TV Series\n",
        "# seasonNumber (integer) – season number the episode belongs to\n",
        "# episodeNumber (integer) – episode number of the tconst in the TV series"
      ]
    },
    {
      "cell_type": "code",
      "execution_count": 11,
      "metadata": {},
      "outputs": [
        {
          "data": {
            "text/html": [
              "<div>\n",
              "<style scoped>\n",
              "    .dataframe tbody tr th:only-of-type {\n",
              "        vertical-align: middle;\n",
              "    }\n",
              "\n",
              "    .dataframe tbody tr th {\n",
              "        vertical-align: top;\n",
              "    }\n",
              "\n",
              "    .dataframe thead th {\n",
              "        text-align: right;\n",
              "    }\n",
              "</style>\n",
              "<table border=\"1\" class=\"dataframe\">\n",
              "  <thead>\n",
              "    <tr style=\"text-align: right;\">\n",
              "      <th></th>\n",
              "      <th>tconst</th>\n",
              "      <th>averageRating</th>\n",
              "      <th>numVotes</th>\n",
              "    </tr>\n",
              "  </thead>\n",
              "  <tbody>\n",
              "    <tr>\n",
              "      <th>0</th>\n",
              "      <td>tt0000001</td>\n",
              "      <td>5.7</td>\n",
              "      <td>1918</td>\n",
              "    </tr>\n",
              "    <tr>\n",
              "      <th>1</th>\n",
              "      <td>tt0000002</td>\n",
              "      <td>5.8</td>\n",
              "      <td>260</td>\n",
              "    </tr>\n",
              "    <tr>\n",
              "      <th>2</th>\n",
              "      <td>tt0000003</td>\n",
              "      <td>6.5</td>\n",
              "      <td>1726</td>\n",
              "    </tr>\n",
              "    <tr>\n",
              "      <th>3</th>\n",
              "      <td>tt0000004</td>\n",
              "      <td>5.6</td>\n",
              "      <td>173</td>\n",
              "    </tr>\n",
              "    <tr>\n",
              "      <th>4</th>\n",
              "      <td>tt0000005</td>\n",
              "      <td>6.2</td>\n",
              "      <td>2541</td>\n",
              "    </tr>\n",
              "  </tbody>\n",
              "</table>\n",
              "</div>"
            ],
            "text/plain": [
              "      tconst  averageRating  numVotes\n",
              "0  tt0000001            5.7      1918\n",
              "1  tt0000002            5.8       260\n",
              "2  tt0000003            6.5      1726\n",
              "3  tt0000004            5.6       173\n",
              "4  tt0000005            6.2      2541"
            ]
          },
          "execution_count": 11,
          "metadata": {},
          "output_type": "execute_result"
        }
      ],
      "source": [
        "import pandas as pd\n",
        "ratings = pd.read_csv('https://datasets.imdbws.com/title.ratings.tsv.gz', compression = 'gzip', sep = '\\t')\n",
        "ratings.head(5)"
      ]
    },
    {
      "cell_type": "code",
      "execution_count": 12,
      "metadata": {},
      "outputs": [
        {
          "data": {
            "text/html": [
              "<div>\n",
              "<style scoped>\n",
              "    .dataframe tbody tr th:only-of-type {\n",
              "        vertical-align: middle;\n",
              "    }\n",
              "\n",
              "    .dataframe tbody tr th {\n",
              "        vertical-align: top;\n",
              "    }\n",
              "\n",
              "    .dataframe thead th {\n",
              "        text-align: right;\n",
              "    }\n",
              "</style>\n",
              "<table border=\"1\" class=\"dataframe\">\n",
              "  <thead>\n",
              "    <tr style=\"text-align: right;\">\n",
              "      <th></th>\n",
              "      <th>tconst</th>\n",
              "      <th>parentTconst</th>\n",
              "      <th>seasonNumber</th>\n",
              "      <th>episodeNumber</th>\n",
              "    </tr>\n",
              "  </thead>\n",
              "  <tbody>\n",
              "    <tr>\n",
              "      <th>0</th>\n",
              "      <td>tt0020666</td>\n",
              "      <td>tt15180956</td>\n",
              "      <td>1</td>\n",
              "      <td>2</td>\n",
              "    </tr>\n",
              "    <tr>\n",
              "      <th>1</th>\n",
              "      <td>tt0020829</td>\n",
              "      <td>tt15180956</td>\n",
              "      <td>1</td>\n",
              "      <td>1</td>\n",
              "    </tr>\n",
              "    <tr>\n",
              "      <th>2</th>\n",
              "      <td>tt0021166</td>\n",
              "      <td>tt15180956</td>\n",
              "      <td>1</td>\n",
              "      <td>3</td>\n",
              "    </tr>\n",
              "    <tr>\n",
              "      <th>3</th>\n",
              "      <td>tt0021612</td>\n",
              "      <td>tt15180956</td>\n",
              "      <td>2</td>\n",
              "      <td>2</td>\n",
              "    </tr>\n",
              "    <tr>\n",
              "      <th>4</th>\n",
              "      <td>tt0021655</td>\n",
              "      <td>tt15180956</td>\n",
              "      <td>2</td>\n",
              "      <td>5</td>\n",
              "    </tr>\n",
              "  </tbody>\n",
              "</table>\n",
              "</div>"
            ],
            "text/plain": [
              "      tconst parentTconst seasonNumber episodeNumber\n",
              "0  tt0020666   tt15180956            1             2\n",
              "1  tt0020829   tt15180956            1             1\n",
              "2  tt0021166   tt15180956            1             3\n",
              "3  tt0021612   tt15180956            2             2\n",
              "4  tt0021655   tt15180956            2             5"
            ]
          },
          "execution_count": 12,
          "metadata": {},
          "output_type": "execute_result"
        }
      ],
      "source": [
        "title_episode = pd.read_csv('https://datasets.imdbws.com/title.episode.tsv.gz', compression = 'gzip', sep = '\\t')\n",
        "title_episode.head(5)"
      ]
    },
    {
      "cell_type": "code",
      "execution_count": 14,
      "metadata": {},
      "outputs": [
        {
          "name": "stdout",
          "output_type": "stream",
          "text": [
            "<class 'pandas.core.frame.DataFrame'>\n",
            "RangeIndex: 1238560 entries, 0 to 1238559\n",
            "Data columns (total 3 columns):\n",
            " #   Column         Non-Null Count    Dtype  \n",
            "---  ------         --------------    -----  \n",
            " 0   tconst         1238560 non-null  object \n",
            " 1   averageRating  1238560 non-null  float64\n",
            " 2   numVotes       1238560 non-null  int64  \n",
            "dtypes: float64(1), int64(1), object(1)\n",
            "memory usage: 28.3+ MB\n"
          ]
        }
      ],
      "source": [
        "# TITLE RATINGS - overview / data type\n",
        "ratings.info() \n",
        "\n",
        "# tconst - 1238560 - non-null - object (str)\n",
        "# averageRating - 1238560 - non-null - float64\n",
        "# numVotes - 1238560 - non-null - int64 "
      ]
    },
    {
      "cell_type": "code",
      "execution_count": 45,
      "metadata": {},
      "outputs": [
        {
          "data": {
            "text/plain": [
              "0"
            ]
          },
          "execution_count": 45,
          "metadata": {},
          "output_type": "execute_result"
        }
      ],
      "source": [
        "# TITLE Ratings ['averageRating'] - overview / exploration\n",
        "\n",
        "ratings.averageRating.mean() # 6.947754892778713 rating\n",
        "ratings.averageRating.max()  # 10.0\n",
        "ratings.averageRating.min()  # 1.0\n",
        "ratings.averageRating.isna().sum() # No missing values"
      ]
    },
    {
      "cell_type": "code",
      "execution_count": 51,
      "metadata": {},
      "outputs": [
        {
          "data": {
            "text/plain": [
              "0"
            ]
          },
          "execution_count": 51,
          "metadata": {},
          "output_type": "execute_result"
        }
      ],
      "source": [
        "# TITLE Ratings ['numVotes'] - overview / exploration\n",
        "\n",
        "ratings.numVotes.mean() # 1042.7339264952848 votes\n",
        "ratings.numVotes.max()  # 2651251 votes\n",
        "ratings.numVotes.min()  # 5 votes\n",
        "ratings.averageRating.isna().sum() # No missing values"
      ]
    },
    {
      "cell_type": "code",
      "execution_count": 15,
      "metadata": {},
      "outputs": [
        {
          "name": "stdout",
          "output_type": "stream",
          "text": [
            "<class 'pandas.core.frame.DataFrame'>\n",
            "RangeIndex: 7021363 entries, 0 to 7021362\n",
            "Data columns (total 4 columns):\n",
            " #   Column         Dtype \n",
            "---  ------         ----- \n",
            " 0   tconst         object\n",
            " 1   parentTconst   object\n",
            " 2   seasonNumber   object\n",
            " 3   episodeNumber  object\n",
            "dtypes: object(4)\n",
            "memory usage: 214.3+ MB\n"
          ]
        }
      ],
      "source": [
        "# TITLE_EPISODE - overview / data type\n",
        "title_episode.info() \n",
        "\n",
        "# 7021363 entries\n",
        "# tconst        - object - (str)\n",
        "# parentTconst  - object - (str)\n",
        "# seasonNumber  - object - (int)\n",
        "# episodeNumber - object - (int)"
      ]
    },
    {
      "cell_type": "code",
      "execution_count": 16,
      "metadata": {},
      "outputs": [
        {
          "data": {
            "text/html": [
              "<div>\n",
              "<style scoped>\n",
              "    .dataframe tbody tr th:only-of-type {\n",
              "        vertical-align: middle;\n",
              "    }\n",
              "\n",
              "    .dataframe tbody tr th {\n",
              "        vertical-align: top;\n",
              "    }\n",
              "\n",
              "    .dataframe thead th {\n",
              "        text-align: right;\n",
              "    }\n",
              "</style>\n",
              "<table border=\"1\" class=\"dataframe\">\n",
              "  <thead>\n",
              "    <tr style=\"text-align: right;\">\n",
              "      <th></th>\n",
              "      <th>tconst</th>\n",
              "      <th>parentTconst</th>\n",
              "      <th>seasonNumber</th>\n",
              "      <th>episodeNumber</th>\n",
              "    </tr>\n",
              "  </thead>\n",
              "  <tbody>\n",
              "    <tr>\n",
              "      <th>count</th>\n",
              "      <td>7021363</td>\n",
              "      <td>7021363</td>\n",
              "      <td>7021363</td>\n",
              "      <td>7021363</td>\n",
              "    </tr>\n",
              "    <tr>\n",
              "      <th>unique</th>\n",
              "      <td>7021363</td>\n",
              "      <td>179787</td>\n",
              "      <td>396</td>\n",
              "      <td>15721</td>\n",
              "    </tr>\n",
              "    <tr>\n",
              "      <th>top</th>\n",
              "      <td>tt0020666</td>\n",
              "      <td>tt12164062</td>\n",
              "      <td>1</td>\n",
              "      <td>\\N</td>\n",
              "    </tr>\n",
              "    <tr>\n",
              "      <th>freq</th>\n",
              "      <td>1</td>\n",
              "      <td>18593</td>\n",
              "      <td>3505995</td>\n",
              "      <td>1472990</td>\n",
              "    </tr>\n",
              "  </tbody>\n",
              "</table>\n",
              "</div>"
            ],
            "text/plain": [
              "           tconst parentTconst seasonNumber episodeNumber\n",
              "count     7021363      7021363      7021363       7021363\n",
              "unique    7021363       179787          396         15721\n",
              "top     tt0020666   tt12164062            1            \\N\n",
              "freq            1        18593      3505995       1472990"
            ]
          },
          "execution_count": 16,
          "metadata": {},
          "output_type": "execute_result"
        }
      ],
      "source": [
        "# TITLE EPISODE - overview / exploration\n",
        "title_episode.describe()"
      ]
    },
    {
      "cell_type": "code",
      "execution_count": 54,
      "metadata": {},
      "outputs": [],
      "source": [
        "# TITLE EPISODE ['parentTconst] - overview / exploration\n",
        "\n",
        "title_episode.parentTconst.value_counts() \n",
        "\n",
        "#No \\N values"
      ]
    },
    {
      "cell_type": "code",
      "execution_count": 52,
      "metadata": {},
      "outputs": [
        {
          "data": {
            "text/plain": [
              "1       3505995\n",
              "\\N      1472990\n",
              "2        546564\n",
              "3        311386\n",
              "4        210018\n",
              "         ...   \n",
              "1973          1\n",
              "222           1\n",
              "947           1\n",
              "2005          1\n",
              "1980          1\n",
              "Name: seasonNumber, Length: 396, dtype: int64"
            ]
          },
          "execution_count": 52,
          "metadata": {},
          "output_type": "execute_result"
        }
      ],
      "source": [
        "# TITLE EPISODE ['seasonNumber'] - overview / exploration\n",
        "\n",
        "title_episode.seasonNumber.value_counts()\n",
        "\n",
        "# \\N = 1472990 out of 702136 which means 21% of values are null"
      ]
    },
    {
      "cell_type": "code",
      "execution_count": 28,
      "metadata": {},
      "outputs": [
        {
          "data": {
            "text/plain": [
              "20.97869031981397"
            ]
          },
          "execution_count": 28,
          "metadata": {},
          "output_type": "execute_result"
        }
      ],
      "source": [
        "# TITLE EPISODE ['episodeNumber'] - overview / exploration\n",
        "\n",
        "title_episode['episodeNumber'].value_counts()\n",
        "\n",
        "# a = (1472990/7021363)*10\n",
        "# \\N = 1472990 out of 7021363 which means 21% of values are null"
      ]
    },
    {
      "cell_type": "code",
      "execution_count": 44,
      "metadata": {},
      "outputs": [
        {
          "data": {
            "text/plain": [
              "tconst           0\n",
              "parentTconst     0\n",
              "seasonNumber     0\n",
              "episodeNumber    0\n",
              "dtype: int64"
            ]
          },
          "execution_count": 44,
          "metadata": {},
          "output_type": "execute_result"
        }
      ],
      "source": [
        "#TITLE EPISODE - overview / check for empty rows\n",
        "\n",
        "title_episode.isnull().sum()\n",
        "\n",
        "# There are no rows with missing values (empty)"
      ]
    }
  ],
  "metadata": {
    "colab": {
      "provenance": []
    },
    "kernelspec": {
      "display_name": "Python 3.9.13 ('Data')",
      "language": "python",
      "name": "python3"
    },
    "language_info": {
      "codemirror_mode": {
        "name": "ipython",
        "version": 3
      },
      "file_extension": ".py",
      "mimetype": "text/x-python",
      "name": "python",
      "nbconvert_exporter": "python",
      "pygments_lexer": "ipython3",
      "version": "3.9.13"
    },
    "orig_nbformat": 4,
    "vscode": {
      "interpreter": {
        "hash": "25876271bee417cea62ac4a874d4e4ae52fe419c2f0f6d8a5704a6b7fa872526"
      }
    }
  },
  "nbformat": 4,
  "nbformat_minor": 0
}
