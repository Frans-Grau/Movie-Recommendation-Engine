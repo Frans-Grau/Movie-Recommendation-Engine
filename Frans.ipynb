{
  "cells": [
    {
      "cell_type": "code",
      "execution_count": 1,
      "metadata": {
        "id": "pakNYYubI0wb",
        "outputId": "140c0151-640a-48e8-c0a0-554b5a9cfffb"
      },
      "outputs": [],
      "source": [
        "import pandas as pd\n",
        "#pd.read_csv(\"https://drive.google.com/file/d/1NMDXXT-N8-pAaBkSnr9yg7QfcmuP4uD8/view?usp=sharing\", sep =\"\\t\")"
      ]
    }
  ],
  "metadata": {
    "colab": {
      "provenance": []
    },
    "kernelspec": {
      "display_name": "Python 3.10.7 64-bit",
      "language": "python",
      "name": "python3"
    },
    "language_info": {
      "codemirror_mode": {
        "name": "ipython",
        "version": 3
      },
      "file_extension": ".py",
      "mimetype": "text/x-python",
      "name": "python",
      "nbconvert_exporter": "python",
      "pygments_lexer": "ipython3",
      "version": "3.10.7"
    },
    "orig_nbformat": 4,
    "vscode": {
      "interpreter": {
        "hash": "d74960114c2e5d04a77495b49d6433637925ede632b126762ef4bc6304710b18"
      }
    }
  },
  "nbformat": 4,
  "nbformat_minor": 0
}
