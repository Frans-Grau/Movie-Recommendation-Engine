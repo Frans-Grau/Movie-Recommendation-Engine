{
  "cells": [
    {
      "cell_type": "code",
      "execution_count": 3,
      "metadata": {
        "id": "pakNYYubI0wb",
        "outputId": "140c0151-640a-48e8-c0a0-554b5a9cfffb"
      },
      "outputs": [],
      "source": [
        "import pandas as pd\n",
        "#pd.read_csv(\"https://drive.google.com/file/d/1NMDXXT-N8-pAaBkSnr9yg7QfcmuP4uD8/view?usp=sharing\", sep =\"\\t\")"
      ]
    },
    {
      "cell_type": "code",
      "execution_count": 12,
      "metadata": {},
      "outputs": [],
      "source": [
        "t1 = pd.read_csv(r'C:\\Users\\frans\\Downloads\\name.basics.tsv.gz',sep='\\t')\n",
        "t1"
      ]
    },
    {
      "cell_type": "code",
      "execution_count": 10,
      "metadata": {},
      "outputs": [
        {
          "data": {
            "text/html": [
              "<div>\n",
              "<style scoped>\n",
              "    .dataframe tbody tr th:only-of-type {\n",
              "        vertical-align: middle;\n",
              "    }\n",
              "\n",
              "    .dataframe tbody tr th {\n",
              "        vertical-align: top;\n",
              "    }\n",
              "\n",
              "    .dataframe thead th {\n",
              "        text-align: right;\n",
              "    }\n",
              "</style>\n",
              "<table border=\"1\" class=\"dataframe\">\n",
              "  <thead>\n",
              "    <tr style=\"text-align: right;\">\n",
              "      <th></th>\n",
              "      <th>nconst</th>\n",
              "      <th>primaryName</th>\n",
              "      <th>birthYear</th>\n",
              "      <th>deathYear</th>\n",
              "      <th>primaryProfession</th>\n",
              "      <th>knownForTitles</th>\n",
              "    </tr>\n",
              "  </thead>\n",
              "  <tbody>\n",
              "    <tr>\n",
              "      <th>count</th>\n",
              "      <td>12005705</td>\n",
              "      <td>12005704</td>\n",
              "      <td>12005705</td>\n",
              "      <td>12005705</td>\n",
              "      <td>9415758</td>\n",
              "      <td>12005705</td>\n",
              "    </tr>\n",
              "    <tr>\n",
              "      <th>unique</th>\n",
              "      <td>12005705</td>\n",
              "      <td>9341421</td>\n",
              "      <td>516</td>\n",
              "      <td>452</td>\n",
              "      <td>20955</td>\n",
              "      <td>4970073</td>\n",
              "    </tr>\n",
              "    <tr>\n",
              "      <th>top</th>\n",
              "      <td>nm0000001</td>\n",
              "      <td>Alex</td>\n",
              "      <td>\\N</td>\n",
              "      <td>\\N</td>\n",
              "      <td>actor</td>\n",
              "      <td>\\N</td>\n",
              "    </tr>\n",
              "    <tr>\n",
              "      <th>freq</th>\n",
              "      <td>1</td>\n",
              "      <td>379</td>\n",
              "      <td>11441936</td>\n",
              "      <td>11798501</td>\n",
              "      <td>2134072</td>\n",
              "      <td>2128221</td>\n",
              "    </tr>\n",
              "  </tbody>\n",
              "</table>\n",
              "</div>"
            ],
            "text/plain": [
              "           nconst primaryName birthYear deathYear primaryProfession  \\\n",
              "count    12005705    12005704  12005705  12005705           9415758   \n",
              "unique   12005705     9341421       516       452             20955   \n",
              "top     nm0000001        Alex        \\N        \\N             actor   \n",
              "freq            1         379  11441936  11798501           2134072   \n",
              "\n",
              "       knownForTitles  \n",
              "count        12005705  \n",
              "unique        4970073  \n",
              "top                \\N  \n",
              "freq          2128221  "
            ]
          },
          "execution_count": 10,
          "metadata": {},
          "output_type": "execute_result"
        }
      ],
      "source": [
        "t1.describe()"
      ]
    },
    {
      "cell_type": "code",
      "execution_count": 11,
      "metadata": {},
      "outputs": [
        {
          "name": "stdout",
          "output_type": "stream",
          "text": [
            "<class 'pandas.core.frame.DataFrame'>\n",
            "RangeIndex: 12005705 entries, 0 to 12005704\n",
            "Data columns (total 6 columns):\n",
            " #   Column             Dtype \n",
            "---  ------             ----- \n",
            " 0   nconst             object\n",
            " 1   primaryName        object\n",
            " 2   birthYear          object\n",
            " 3   deathYear          object\n",
            " 4   primaryProfession  object\n",
            " 5   knownForTitles     object\n",
            "dtypes: object(6)\n",
            "memory usage: 549.6+ MB\n"
          ]
        }
      ],
      "source": [
        "t1.info()"
      ]
    }
  ],
  "metadata": {
    "colab": {
      "provenance": []
    },
    "kernelspec": {
      "display_name": "Python 3.10.7 64-bit",
      "language": "python",
      "name": "python3"
    },
    "language_info": {
      "codemirror_mode": {
        "name": "ipython",
        "version": 3
      },
      "file_extension": ".py",
      "mimetype": "text/x-python",
      "name": "python",
      "nbconvert_exporter": "python",
      "pygments_lexer": "ipython3",
      "version": "3.10.7"
    },
    "orig_nbformat": 4,
    "vscode": {
      "interpreter": {
        "hash": "d74960114c2e5d04a77495b49d6433637925ede632b126762ef4bc6304710b18"
      }
    }
  },
  "nbformat": 4,
  "nbformat_minor": 0
}
