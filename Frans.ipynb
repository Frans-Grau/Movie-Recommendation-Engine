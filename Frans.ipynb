{
  "cells": [
    {
      "cell_type": "code",
      "execution_count": 8,
      "metadata": {
        "id": "pakNYYubI0wb",
        "outputId": "140c0151-640a-48e8-c0a0-554b5a9cfffb"
      },
      "outputs": [],
      "source": [
        "### TITLE RATINGS & TITLE EPISODE \n",
        "\n",
        "## TITLE RATINGS - Contains the IMDb rating and votes information for titles.\n",
        "# tconst (string) - alphanumeric unique identifier of the title\n",
        "# averageRating – weighted average of all the individual user ratings\n",
        "# numVotes - number of votes the title has received\n",
        "\n",
        "## TITLE EPISODE - Contains the tv episode information.\n",
        "# tconst (string) - alphanumeric identifier of episode\n",
        "# parentTconst (string) - alphanumeric identifier of the parent TV Series\n",
        "# seasonNumber (integer) – season number the episode belongs to\n",
        "# episodeNumber (integer) – episode number of the tconst in the TV series\n",
        "\n",
        "import pandas as pd"
      ]
    },
    {
      "cell_type": "code",
      "execution_count": 9,
      "metadata": {},
      "outputs": [
        {
          "data": {
            "text/html": [
              "<div>\n",
              "<style scoped>\n",
              "    .dataframe tbody tr th:only-of-type {\n",
              "        vertical-align: middle;\n",
              "    }\n",
              "\n",
              "    .dataframe tbody tr th {\n",
              "        vertical-align: top;\n",
              "    }\n",
              "\n",
              "    .dataframe thead th {\n",
              "        text-align: right;\n",
              "    }\n",
              "</style>\n",
              "<table border=\"1\" class=\"dataframe\">\n",
              "  <thead>\n",
              "    <tr style=\"text-align: right;\">\n",
              "      <th></th>\n",
              "      <th>tconst</th>\n",
              "      <th>averageRating</th>\n",
              "      <th>numVotes</th>\n",
              "    </tr>\n",
              "  </thead>\n",
              "  <tbody>\n",
              "    <tr>\n",
              "      <th>0</th>\n",
              "      <td>tt0000001</td>\n",
              "      <td>5.7</td>\n",
              "      <td>1919</td>\n",
              "    </tr>\n",
              "    <tr>\n",
              "      <th>1</th>\n",
              "      <td>tt0000002</td>\n",
              "      <td>5.8</td>\n",
              "      <td>260</td>\n",
              "    </tr>\n",
              "    <tr>\n",
              "      <th>2</th>\n",
              "      <td>tt0000003</td>\n",
              "      <td>6.5</td>\n",
              "      <td>1726</td>\n",
              "    </tr>\n",
              "    <tr>\n",
              "      <th>3</th>\n",
              "      <td>tt0000004</td>\n",
              "      <td>5.6</td>\n",
              "      <td>173</td>\n",
              "    </tr>\n",
              "    <tr>\n",
              "      <th>4</th>\n",
              "      <td>tt0000005</td>\n",
              "      <td>6.2</td>\n",
              "      <td>2541</td>\n",
              "    </tr>\n",
              "  </tbody>\n",
              "</table>\n",
              "</div>"
            ],
            "text/plain": [
              "      tconst  averageRating  numVotes\n",
              "0  tt0000001            5.7      1919\n",
              "1  tt0000002            5.8       260\n",
              "2  tt0000003            6.5      1726\n",
              "3  tt0000004            5.6       173\n",
              "4  tt0000005            6.2      2541"
            ]
          },
          "execution_count": 9,
          "metadata": {},
          "output_type": "execute_result"
        }
      ],
      "source": [
        "import pandas as pd\n",
        "ratings = pd.read_csv('https://datasets.imdbws.com/title.ratings.tsv.gz', compression = 'gzip', sep = '\\t')\n",
        "ratings.head(5)"
      ]
    },
    {
      "cell_type": "code",
      "execution_count": 10,
      "metadata": {},
      "outputs": [
        {
          "data": {
            "text/html": [
              "<div>\n",
              "<style scoped>\n",
              "    .dataframe tbody tr th:only-of-type {\n",
              "        vertical-align: middle;\n",
              "    }\n",
              "\n",
              "    .dataframe tbody tr th {\n",
              "        vertical-align: top;\n",
              "    }\n",
              "\n",
              "    .dataframe thead th {\n",
              "        text-align: right;\n",
              "    }\n",
              "</style>\n",
              "<table border=\"1\" class=\"dataframe\">\n",
              "  <thead>\n",
              "    <tr style=\"text-align: right;\">\n",
              "      <th></th>\n",
              "      <th>tconst</th>\n",
              "      <th>parentTconst</th>\n",
              "      <th>seasonNumber</th>\n",
              "      <th>episodeNumber</th>\n",
              "    </tr>\n",
              "  </thead>\n",
              "  <tbody>\n",
              "    <tr>\n",
              "      <th>0</th>\n",
              "      <td>tt0037582</td>\n",
              "      <td>tt6280432</td>\n",
              "      <td>\\N</td>\n",
              "      <td>\\N</td>\n",
              "    </tr>\n",
              "    <tr>\n",
              "      <th>1</th>\n",
              "      <td>tt0041951</td>\n",
              "      <td>tt0041038</td>\n",
              "      <td>1</td>\n",
              "      <td>9</td>\n",
              "    </tr>\n",
              "    <tr>\n",
              "      <th>2</th>\n",
              "      <td>tt0042816</td>\n",
              "      <td>tt0989125</td>\n",
              "      <td>1</td>\n",
              "      <td>17</td>\n",
              "    </tr>\n",
              "    <tr>\n",
              "      <th>3</th>\n",
              "      <td>tt0042889</td>\n",
              "      <td>tt0989125</td>\n",
              "      <td>\\N</td>\n",
              "      <td>\\N</td>\n",
              "    </tr>\n",
              "    <tr>\n",
              "      <th>4</th>\n",
              "      <td>tt0043426</td>\n",
              "      <td>tt0040051</td>\n",
              "      <td>3</td>\n",
              "      <td>42</td>\n",
              "    </tr>\n",
              "  </tbody>\n",
              "</table>\n",
              "</div>"
            ],
            "text/plain": [
              "      tconst parentTconst seasonNumber episodeNumber\n",
              "0  tt0037582    tt6280432           \\N            \\N\n",
              "1  tt0041951    tt0041038            1             9\n",
              "2  tt0042816    tt0989125            1            17\n",
              "3  tt0042889    tt0989125           \\N            \\N\n",
              "4  tt0043426    tt0040051            3            42"
            ]
          },
          "execution_count": 10,
          "metadata": {},
          "output_type": "execute_result"
        }
      ],
      "source": [
        "title_episode = pd.read_csv('https://datasets.imdbws.com/title.episode.tsv.gz', compression = 'gzip', sep = '\\t')\n",
        "title_episode.head(5)"
      ]
    },
    {
      "cell_type": "code",
      "execution_count": 11,
      "metadata": {},
      "outputs": [
        {
          "name": "stdout",
          "output_type": "stream",
          "text": [
            "<class 'pandas.core.frame.DataFrame'>\n",
            "RangeIndex: 1238835 entries, 0 to 1238834\n",
            "Data columns (total 3 columns):\n",
            " #   Column         Non-Null Count    Dtype  \n",
            "---  ------         --------------    -----  \n",
            " 0   tconst         1238835 non-null  object \n",
            " 1   averageRating  1238835 non-null  float64\n",
            " 2   numVotes       1238835 non-null  int64  \n",
            "dtypes: float64(1), int64(1), object(1)\n",
            "memory usage: 28.4+ MB\n"
          ]
        }
      ],
      "source": [
        "# TITLE RATINGS - overview / data type\n",
        "ratings.info() \n",
        "\n",
        "# tconst - 1238560 - non-null - object (str)\n",
        "# averageRating - 1238560 - non-null - float64\n",
        "# numVotes - 1238560 - non-null - int64 "
      ]
    },
    {
      "cell_type": "code",
      "execution_count": 12,
      "metadata": {},
      "outputs": [
        {
          "data": {
            "text/plain": [
              "0"
            ]
          },
          "execution_count": 12,
          "metadata": {},
          "output_type": "execute_result"
        }
      ],
      "source": [
        "# TITLE Ratings ['averageRating'] - overview / exploration\n",
        "\n",
        "ratings.averageRating.mean() # 6.947754892778713 rating\n",
        "ratings.averageRating.max()  # 10.0\n",
        "ratings.averageRating.min()  # 1.0\n",
        "ratings.averageRating.isna().sum() # No missing values"
      ]
    },
    {
      "cell_type": "code",
      "execution_count": 13,
      "metadata": {},
      "outputs": [
        {
          "data": {
            "text/plain": [
              "0"
            ]
          },
          "execution_count": 13,
          "metadata": {},
          "output_type": "execute_result"
        }
      ],
      "source": [
        "# TITLE Ratings ['numVotes'] - overview / exploration\n",
        "\n",
        "ratings.numVotes.mean() # 1042.7339264952848 votes\n",
        "ratings.numVotes.max()  # 2651251 votes\n",
        "ratings.numVotes.min()  # 5 votes\n",
        "ratings.averageRating.isna().sum() # No missing values"
      ]
    },
    {
      "cell_type": "code",
      "execution_count": 14,
      "metadata": {},
      "outputs": [
        {
          "name": "stdout",
          "output_type": "stream",
          "text": [
            "<class 'pandas.core.frame.DataFrame'>\n",
            "RangeIndex: 7022661 entries, 0 to 7022660\n",
            "Data columns (total 4 columns):\n",
            " #   Column         Dtype \n",
            "---  ------         ----- \n",
            " 0   tconst         object\n",
            " 1   parentTconst   object\n",
            " 2   seasonNumber   object\n",
            " 3   episodeNumber  object\n",
            "dtypes: object(4)\n",
            "memory usage: 214.3+ MB\n"
          ]
        }
      ],
      "source": [
        "# TITLE_EPISODE - overview / data type\n",
        "title_episode.info() \n",
        "\n",
        "# 7021363 entries\n",
        "# tconst        - object - (str)\n",
        "# parentTconst  - object - (str)\n",
        "# seasonNumber  - object - (int)\n",
        "# episodeNumber - object - (int)"
      ]
    },
    {
      "cell_type": "code",
      "execution_count": 15,
      "metadata": {},
      "outputs": [
        {
          "data": {
            "text/html": [
              "<div>\n",
              "<style scoped>\n",
              "    .dataframe tbody tr th:only-of-type {\n",
              "        vertical-align: middle;\n",
              "    }\n",
              "\n",
              "    .dataframe tbody tr th {\n",
              "        vertical-align: top;\n",
              "    }\n",
              "\n",
              "    .dataframe thead th {\n",
              "        text-align: right;\n",
              "    }\n",
              "</style>\n",
              "<table border=\"1\" class=\"dataframe\">\n",
              "  <thead>\n",
              "    <tr style=\"text-align: right;\">\n",
              "      <th></th>\n",
              "      <th>tconst</th>\n",
              "      <th>parentTconst</th>\n",
              "      <th>seasonNumber</th>\n",
              "      <th>episodeNumber</th>\n",
              "    </tr>\n",
              "  </thead>\n",
              "  <tbody>\n",
              "    <tr>\n",
              "      <th>count</th>\n",
              "      <td>7022661</td>\n",
              "      <td>7022661</td>\n",
              "      <td>7022661</td>\n",
              "      <td>7022661</td>\n",
              "    </tr>\n",
              "    <tr>\n",
              "      <th>unique</th>\n",
              "      <td>7022661</td>\n",
              "      <td>179827</td>\n",
              "      <td>396</td>\n",
              "      <td>15721</td>\n",
              "    </tr>\n",
              "    <tr>\n",
              "      <th>top</th>\n",
              "      <td>tt0037582</td>\n",
              "      <td>tt12164062</td>\n",
              "      <td>1</td>\n",
              "      <td>\\N</td>\n",
              "    </tr>\n",
              "    <tr>\n",
              "      <th>freq</th>\n",
              "      <td>1</td>\n",
              "      <td>18593</td>\n",
              "      <td>3507099</td>\n",
              "      <td>1472727</td>\n",
              "    </tr>\n",
              "  </tbody>\n",
              "</table>\n",
              "</div>"
            ],
            "text/plain": [
              "           tconst parentTconst seasonNumber episodeNumber\n",
              "count     7022661      7022661      7022661       7022661\n",
              "unique    7022661       179827          396         15721\n",
              "top     tt0037582   tt12164062            1            \\N\n",
              "freq            1        18593      3507099       1472727"
            ]
          },
          "execution_count": 15,
          "metadata": {},
          "output_type": "execute_result"
        }
      ],
      "source": [
        "# TITLE EPISODE - overview / exploration\n",
        "title_episode.describe()"
      ]
    },
    {
      "cell_type": "code",
      "execution_count": 16,
      "metadata": {},
      "outputs": [
        {
          "data": {
            "text/plain": [
              "tt12164062    18593\n",
              "tt0058796     14698\n",
              "tt0069658     12537\n",
              "tt0988827     10674\n",
              "tt0053494     10557\n",
              "              ...  \n",
              "tt7022634         1\n",
              "tt3599284         1\n",
              "tt7147238         1\n",
              "tt11908462        1\n",
              "tt14637262        1\n",
              "Name: parentTconst, Length: 179827, dtype: int64"
            ]
          },
          "execution_count": 16,
          "metadata": {},
          "output_type": "execute_result"
        }
      ],
      "source": [
        "# TITLE EPISODE ['parentTconst] - overview / exploration\n",
        "\n",
        "title_episode.parentTconst.value_counts() \n",
        "\n",
        "#No \\N values"
      ]
    },
    {
      "cell_type": "code",
      "execution_count": 17,
      "metadata": {},
      "outputs": [
        {
          "data": {
            "text/plain": [
              "1       3507099\n",
              "\\N      1472727\n",
              "2        546670\n",
              "3        311476\n",
              "4        210066\n",
              "         ...   \n",
              "1973          1\n",
              "222           1\n",
              "947           1\n",
              "2005          1\n",
              "1980          1\n",
              "Name: seasonNumber, Length: 396, dtype: int64"
            ]
          },
          "execution_count": 17,
          "metadata": {},
          "output_type": "execute_result"
        }
      ],
      "source": [
        "# TITLE EPISODE ['seasonNumber'] - overview / exploration\n",
        "\n",
        "title_episode.seasonNumber.value_counts()\n",
        "\n",
        "# \\N = 1472990 out of 702136 which means 21% of values are null"
      ]
    },
    {
      "cell_type": "code",
      "execution_count": 18,
      "metadata": {},
      "outputs": [
        {
          "data": {
            "text/plain": [
              "\\N       1472727\n",
              "1         260761\n",
              "2         234826\n",
              "3         224023\n",
              "4         209309\n",
              "          ...   \n",
              "15692          1\n",
              "15691          1\n",
              "15690          1\n",
              "15390          1\n",
              "18081          1\n",
              "Name: episodeNumber, Length: 15721, dtype: int64"
            ]
          },
          "execution_count": 18,
          "metadata": {},
          "output_type": "execute_result"
        }
      ],
      "source": [
        "# TITLE EPISODE ['episodeNumber'] - overview / exploration\n",
        "\n",
        "title_episode['episodeNumber'].value_counts()\n",
        "\n",
        "# a = (1472990/7021363)*100\n",
        "# \\N = 1472990 out of 7021363 which means 21% of values are null"
      ]
    },
    {
      "cell_type": "code",
      "execution_count": 19,
      "metadata": {},
      "outputs": [
        {
          "data": {
            "text/plain": [
              "tconst           0\n",
              "parentTconst     0\n",
              "seasonNumber     0\n",
              "episodeNumber    0\n",
              "dtype: int64"
            ]
          },
          "execution_count": 19,
          "metadata": {},
          "output_type": "execute_result"
        }
      ],
      "source": [
        "#TITLE EPISODE - overview / check for empty rows\n",
        "\n",
        "title_episode.isnull().sum()\n",
        "\n",
        "# There are no rows with missing values (empty)"
      ]
    },
    {
      "cell_type": "code",
      "execution_count": 20,
      "metadata": {},
      "outputs": [
        {
          "data": {
            "text/html": [
              "<div>\n",
              "<style scoped>\n",
              "    .dataframe tbody tr th:only-of-type {\n",
              "        vertical-align: middle;\n",
              "    }\n",
              "\n",
              "    .dataframe tbody tr th {\n",
              "        vertical-align: top;\n",
              "    }\n",
              "\n",
              "    .dataframe thead th {\n",
              "        text-align: right;\n",
              "    }\n",
              "</style>\n",
              "<table border=\"1\" class=\"dataframe\">\n",
              "  <thead>\n",
              "    <tr style=\"text-align: right;\">\n",
              "      <th></th>\n",
              "      <th>tconst</th>\n",
              "      <th>parentTconst</th>\n",
              "      <th>seasonNumber</th>\n",
              "      <th>episodeNumber</th>\n",
              "    </tr>\n",
              "  </thead>\n",
              "  <tbody>\n",
              "    <tr>\n",
              "      <th>2122170</th>\n",
              "      <td>tt13729658</td>\n",
              "      <td>tt12112118</td>\n",
              "      <td>1</td>\n",
              "      <td>1</td>\n",
              "    </tr>\n",
              "  </tbody>\n",
              "</table>\n",
              "</div>"
            ],
            "text/plain": [
              "             tconst parentTconst seasonNumber episodeNumber\n",
              "2122170  tt13729658   tt12112118            1             1"
            ]
          },
          "execution_count": 20,
          "metadata": {},
          "output_type": "execute_result"
        }
      ],
      "source": [
        "condition = title_episode['tconst'] == 'tt13729658'\n",
        "title_episode.loc[condition]"
      ]
    },
    {
      "cell_type": "code",
      "execution_count": 21,
      "metadata": {},
      "outputs": [
        {
          "data": {
            "text/html": [
              "<div>\n",
              "<style scoped>\n",
              "    .dataframe tbody tr th:only-of-type {\n",
              "        vertical-align: middle;\n",
              "    }\n",
              "\n",
              "    .dataframe tbody tr th {\n",
              "        vertical-align: top;\n",
              "    }\n",
              "\n",
              "    .dataframe thead th {\n",
              "        text-align: right;\n",
              "    }\n",
              "</style>\n",
              "<table border=\"1\" class=\"dataframe\">\n",
              "  <thead>\n",
              "    <tr style=\"text-align: right;\">\n",
              "      <th></th>\n",
              "      <th>tconst</th>\n",
              "      <th>averageRating</th>\n",
              "      <th>numVotes</th>\n",
              "    </tr>\n",
              "  </thead>\n",
              "  <tbody>\n",
              "    <tr>\n",
              "      <th>621152</th>\n",
              "      <td>tt13729658</td>\n",
              "      <td>7.1</td>\n",
              "      <td>54</td>\n",
              "    </tr>\n",
              "  </tbody>\n",
              "</table>\n",
              "</div>"
            ],
            "text/plain": [
              "            tconst  averageRating  numVotes\n",
              "621152  tt13729658            7.1        54"
            ]
          },
          "execution_count": 21,
          "metadata": {},
          "output_type": "execute_result"
        }
      ],
      "source": [
        "#condition = ratings['tconst'] tt0000002\n",
        "cond1 = ratings['tconst'] == 'tt13729658'\n",
        "ratings.loc[cond1]\n"
      ]
    },
    {
      "cell_type": "code",
      "execution_count": 22,
      "metadata": {},
      "outputs": [
        {
          "data": {
            "text/html": [
              "<div>\n",
              "<style scoped>\n",
              "    .dataframe tbody tr th:only-of-type {\n",
              "        vertical-align: middle;\n",
              "    }\n",
              "\n",
              "    .dataframe tbody tr th {\n",
              "        vertical-align: top;\n",
              "    }\n",
              "\n",
              "    .dataframe thead th {\n",
              "        text-align: right;\n",
              "    }\n",
              "</style>\n",
              "<table border=\"1\" class=\"dataframe\">\n",
              "  <thead>\n",
              "    <tr style=\"text-align: right;\">\n",
              "      <th></th>\n",
              "      <th>tconst</th>\n",
              "      <th>averageRating</th>\n",
              "      <th>numVotes</th>\n",
              "      <th>parentTconst</th>\n",
              "      <th>seasonNumber</th>\n",
              "      <th>episodeNumber</th>\n",
              "    </tr>\n",
              "  </thead>\n",
              "  <tbody>\n",
              "    <tr>\n",
              "      <th>0</th>\n",
              "      <td>tt0037582</td>\n",
              "      <td>6.6</td>\n",
              "      <td>467</td>\n",
              "      <td>tt6280432</td>\n",
              "      <td>\\N</td>\n",
              "      <td>\\N</td>\n",
              "    </tr>\n",
              "    <tr>\n",
              "      <th>1</th>\n",
              "      <td>tt0041951</td>\n",
              "      <td>7.5</td>\n",
              "      <td>78</td>\n",
              "      <td>tt0041038</td>\n",
              "      <td>1</td>\n",
              "      <td>9</td>\n",
              "    </tr>\n",
              "    <tr>\n",
              "      <th>2</th>\n",
              "      <td>tt0043631</td>\n",
              "      <td>6.8</td>\n",
              "      <td>11</td>\n",
              "      <td>tt0989125</td>\n",
              "      <td>2</td>\n",
              "      <td>16</td>\n",
              "    </tr>\n",
              "    <tr>\n",
              "      <th>3</th>\n",
              "      <td>tt0044093</td>\n",
              "      <td>4.5</td>\n",
              "      <td>17</td>\n",
              "      <td>tt0959862</td>\n",
              "      <td>1</td>\n",
              "      <td>6</td>\n",
              "    </tr>\n",
              "    <tr>\n",
              "      <th>4</th>\n",
              "      <td>tt0045960</td>\n",
              "      <td>6.9</td>\n",
              "      <td>177</td>\n",
              "      <td>tt0044284</td>\n",
              "      <td>2</td>\n",
              "      <td>3</td>\n",
              "    </tr>\n",
              "    <tr>\n",
              "      <th>...</th>\n",
              "      <td>...</td>\n",
              "      <td>...</td>\n",
              "      <td>...</td>\n",
              "      <td>...</td>\n",
              "      <td>...</td>\n",
              "      <td>...</td>\n",
              "    </tr>\n",
              "    <tr>\n",
              "      <th>596153</th>\n",
              "      <td>tt9916628</td>\n",
              "      <td>8.7</td>\n",
              "      <td>7</td>\n",
              "      <td>tt9893572</td>\n",
              "      <td>1</td>\n",
              "      <td>2</td>\n",
              "    </tr>\n",
              "    <tr>\n",
              "      <th>596154</th>\n",
              "      <td>tt9916682</td>\n",
              "      <td>6.4</td>\n",
              "      <td>6</td>\n",
              "      <td>tt0985991</td>\n",
              "      <td>3</td>\n",
              "      <td>44</td>\n",
              "    </tr>\n",
              "    <tr>\n",
              "      <th>596155</th>\n",
              "      <td>tt9916690</td>\n",
              "      <td>7.4</td>\n",
              "      <td>6</td>\n",
              "      <td>tt0985991</td>\n",
              "      <td>3</td>\n",
              "      <td>47</td>\n",
              "    </tr>\n",
              "    <tr>\n",
              "      <th>596156</th>\n",
              "      <td>tt9916766</td>\n",
              "      <td>6.7</td>\n",
              "      <td>21</td>\n",
              "      <td>tt1442550</td>\n",
              "      <td>10</td>\n",
              "      <td>15</td>\n",
              "    </tr>\n",
              "    <tr>\n",
              "      <th>596157</th>\n",
              "      <td>tt9916778</td>\n",
              "      <td>7.3</td>\n",
              "      <td>35</td>\n",
              "      <td>tt9595170</td>\n",
              "      <td>1</td>\n",
              "      <td>3</td>\n",
              "    </tr>\n",
              "  </tbody>\n",
              "</table>\n",
              "<p>596158 rows × 6 columns</p>\n",
              "</div>"
            ],
            "text/plain": [
              "           tconst  averageRating  numVotes parentTconst seasonNumber  \\\n",
              "0       tt0037582            6.6       467    tt6280432           \\N   \n",
              "1       tt0041951            7.5        78    tt0041038            1   \n",
              "2       tt0043631            6.8        11    tt0989125            2   \n",
              "3       tt0044093            4.5        17    tt0959862            1   \n",
              "4       tt0045960            6.9       177    tt0044284            2   \n",
              "...           ...            ...       ...          ...          ...   \n",
              "596153  tt9916628            8.7         7    tt9893572            1   \n",
              "596154  tt9916682            6.4         6    tt0985991            3   \n",
              "596155  tt9916690            7.4         6    tt0985991            3   \n",
              "596156  tt9916766            6.7        21    tt1442550           10   \n",
              "596157  tt9916778            7.3        35    tt9595170            1   \n",
              "\n",
              "       episodeNumber  \n",
              "0                 \\N  \n",
              "1                  9  \n",
              "2                 16  \n",
              "3                  6  \n",
              "4                  3  \n",
              "...              ...  \n",
              "596153             2  \n",
              "596154            44  \n",
              "596155            47  \n",
              "596156            15  \n",
              "596157             3  \n",
              "\n",
              "[596158 rows x 6 columns]"
            ]
          },
          "execution_count": 22,
          "metadata": {},
          "output_type": "execute_result"
        }
      ],
      "source": [
        "merge1 = pd.merge(ratings, title_episode, how=\"inner\", on='tconst')\n",
        "merge1\n",
        "# inner = 596158 rows × 6 columns\n",
        "# outer = 7665338 rows × 6 columns -> not all tconsts have season numeber and episode numb and not all episodes have ratings\n",
        "# left =  1238835 rows × 6 columns -> not all rated files have season and ep info\n",
        "# right "
      ]
    },
    {
      "cell_type": "code",
      "execution_count": 23,
      "metadata": {},
      "outputs": [],
      "source": [
        "import pickle\n",
        "merge1.to_pickle(\"frans-merge1.pickle\")\n",
        "merge_ratings_episode = pd.read_pickle(\"frans-merge1.pickle\")"
      ]
    },
    {
      "cell_type": "code",
      "execution_count": 24,
      "metadata": {},
      "outputs": [],
      "source": [
        "merge_ratings_episode = pd.read_pickle(\"frans-merge1.pickle\")"
      ]
    },
    {
      "cell_type": "code",
      "execution_count": 25,
      "metadata": {},
      "outputs": [
        {
          "data": {
            "text/html": [
              "<div>\n",
              "<style scoped>\n",
              "    .dataframe tbody tr th:only-of-type {\n",
              "        vertical-align: middle;\n",
              "    }\n",
              "\n",
              "    .dataframe tbody tr th {\n",
              "        vertical-align: top;\n",
              "    }\n",
              "\n",
              "    .dataframe thead th {\n",
              "        text-align: right;\n",
              "    }\n",
              "</style>\n",
              "<table border=\"1\" class=\"dataframe\">\n",
              "  <thead>\n",
              "    <tr style=\"text-align: right;\">\n",
              "      <th></th>\n",
              "      <th>tconst</th>\n",
              "      <th>averageRating</th>\n",
              "      <th>numVotes</th>\n",
              "      <th>parentTconst</th>\n",
              "      <th>seasonNumber</th>\n",
              "      <th>episodeNumber</th>\n",
              "    </tr>\n",
              "  </thead>\n",
              "  <tbody>\n",
              "    <tr>\n",
              "      <th>0</th>\n",
              "      <td>tt0037582</td>\n",
              "      <td>6.6</td>\n",
              "      <td>467</td>\n",
              "      <td>tt6280432</td>\n",
              "      <td>\\N</td>\n",
              "      <td>\\N</td>\n",
              "    </tr>\n",
              "    <tr>\n",
              "      <th>1</th>\n",
              "      <td>tt0041951</td>\n",
              "      <td>7.5</td>\n",
              "      <td>78</td>\n",
              "      <td>tt0041038</td>\n",
              "      <td>1</td>\n",
              "      <td>9</td>\n",
              "    </tr>\n",
              "    <tr>\n",
              "      <th>2</th>\n",
              "      <td>tt0043631</td>\n",
              "      <td>6.8</td>\n",
              "      <td>11</td>\n",
              "      <td>tt0989125</td>\n",
              "      <td>2</td>\n",
              "      <td>16</td>\n",
              "    </tr>\n",
              "    <tr>\n",
              "      <th>3</th>\n",
              "      <td>tt0044093</td>\n",
              "      <td>4.5</td>\n",
              "      <td>17</td>\n",
              "      <td>tt0959862</td>\n",
              "      <td>1</td>\n",
              "      <td>6</td>\n",
              "    </tr>\n",
              "    <tr>\n",
              "      <th>4</th>\n",
              "      <td>tt0045960</td>\n",
              "      <td>6.9</td>\n",
              "      <td>177</td>\n",
              "      <td>tt0044284</td>\n",
              "      <td>2</td>\n",
              "      <td>3</td>\n",
              "    </tr>\n",
              "  </tbody>\n",
              "</table>\n",
              "</div>"
            ],
            "text/plain": [
              "      tconst  averageRating  numVotes parentTconst seasonNumber episodeNumber\n",
              "0  tt0037582            6.6       467    tt6280432           \\N            \\N\n",
              "1  tt0041951            7.5        78    tt0041038            1             9\n",
              "2  tt0043631            6.8        11    tt0989125            2            16\n",
              "3  tt0044093            4.5        17    tt0959862            1             6\n",
              "4  tt0045960            6.9       177    tt0044284            2             3"
            ]
          },
          "execution_count": 25,
          "metadata": {},
          "output_type": "execute_result"
        }
      ],
      "source": [
        "merge_ratings_episode.head()"
      ]
    },
    {
      "cell_type": "code",
      "execution_count": 26,
      "metadata": {},
      "outputs": [
        {
          "data": {
            "text/plain": [
              "tconst           0\n",
              "averageRating    0\n",
              "numVotes         0\n",
              "parentTconst     0\n",
              "seasonNumber     0\n",
              "episodeNumber    0\n",
              "dtype: int64"
            ]
          },
          "execution_count": 26,
          "metadata": {},
          "output_type": "execute_result"
        }
      ],
      "source": [
        "cond1 = merge_ratings_episode['seasonNumber']=='\\\\N'\n",
        "cond2 = merge_ratings_episode['episodeNumber']=='\\\\N'\n",
        "merge_ratings_episode.loc[cond1] #14136 rows with \\\\N season numbers\n",
        "merge_ratings_episode.isna().sum()"
      ]
    }
  ],
  "metadata": {
    "colab": {
      "provenance": []
    },
    "kernelspec": {
      "display_name": "Python 3.9.13 ('Data')",
      "language": "python",
      "name": "python3"
    },
    "language_info": {
      "codemirror_mode": {
        "name": "ipython",
        "version": 3
      },
      "file_extension": ".py",
      "mimetype": "text/x-python",
      "name": "python",
      "nbconvert_exporter": "python",
      "pygments_lexer": "ipython3",
      "version": "3.9.13"
    },
    "orig_nbformat": 4,
    "vscode": {
      "interpreter": {
        "hash": "25876271bee417cea62ac4a874d4e4ae52fe419c2f0f6d8a5704a6b7fa872526"
      }
    }
  },
  "nbformat": 4,
  "nbformat_minor": 0
}
