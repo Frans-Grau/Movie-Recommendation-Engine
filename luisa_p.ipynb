{
  "nbformat": 4,
  "nbformat_minor": 0,
  "metadata": {
    "colab": {
      "provenance": [],
      "authorship_tag": "ABX9TyOw21MocIt9kPgmbiaNk9QX",
      "include_colab_link": true
    },
    "kernelspec": {
      "name": "python3",
      "display_name": "Python 3"
    },
    "language_info": {
      "name": "python"
    }
  },
  "cells": [
    {
      "cell_type": "markdown",
      "metadata": {
        "id": "view-in-github",
        "colab_type": "text"
      },
      "source": [
        "<a href=\"https://colab.research.google.com/github/LuisaPolicarpo/Project3/blob/main/luisa_p.ipynb\" target=\"_parent\"><img src=\"https://colab.research.google.com/assets/colab-badge.svg\" alt=\"Open In Colab\"/></a>"
      ]
    },
    {
      "cell_type": "code",
      "source": [
        "\n",
        "import pandas as pd\n",
        "import seaborn as sns\n",
        "import matplotlib.pyplot as plt\n",
        "import matplotlib.ticker as mtick\n",
        "import numpy as np\n",
        "#import sqlalchemy as sql\n",
        "import datetime\n",
        "\n",
        "from PIL import Image \n",
        "\n",
        "import pickle\n",
        "\n",
        "# !pip install -q streamlit"
      ],
      "metadata": {
        "id": "WMu6m2iCjDfa"
      },
      "execution_count": 1,
      "outputs": []
    },
    {
      "cell_type": "code",
      "source": [
        "col_list = ['nconst','primaryName','primaryProfession']\n",
        "name_b = pd.read_csv('https://datasets.imdbws.com/name.basics.tsv.gz', compression = 'gzip', sep = '\\t', usecols=col_list)"
      ],
      "metadata": {
        "id": "a-sRnVeAcXzA"
      },
      "execution_count": null,
      "outputs": []
    },
    {
      "cell_type": "code",
      "source": [
        "col_list2 = ['tconst','nconst']\n",
        "title_p = pd.read_csv('https://datasets.imdbws.com/title.principals.tsv.gz', compression = 'gzip', sep = '\\t', usecols=col_list2)"
      ],
      "metadata": {
        "id": "LUWeInJ_mtYN"
      },
      "execution_count": null,
      "outputs": []
    },
    {
      "cell_type": "code",
      "source": [
        "top_movies= pd.merge(title_p, name_b, how='inner', on=['nconst', 'nconst'])"
      ],
      "metadata": {
        "id": "KkqyZyZz62Bo"
      },
      "execution_count": null,
      "outputs": []
    },
    {
      "cell_type": "code",
      "source": [
        "col_list3 = ['tconst','averageRating','numVotes']\n",
        "title_ratings = pd.read_csv('https://datasets.imdbws.com/title.ratings.tsv.gz', compression = 'gzip', sep = '\\t', usecols=col_list3)"
      ],
      "metadata": {
        "id": "ZR44Twx81ZXS"
      },
      "execution_count": null,
      "outputs": []
    },
    {
      "cell_type": "code",
      "source": [
        "top_movies2= pd.merge(top_movies5, title_ratings, how='inner', on=['tconst', 'tconst'])"
      ],
      "metadata": {
        "id": "dTUL1I-d1vxe"
      },
      "execution_count": null,
      "outputs": []
    },
    {
      "cell_type": "code",
      "source": [
        "top_movies['wheighted'] = (top_movies['averageRating']*top_movies['numVotes'])/top_movies['numVotes'].sum()\n",
        "top_movies.sort_values(by=('wheighted'), ascending=False).head(10)"
      ],
      "metadata": {
        "id": "bBFX4M8RrNY6",
        "colab": {
          "base_uri": "https://localhost:8080/",
          "height": 363
        },
        "outputId": "a0adb716-b303-46de-c773-2088acecd3c2"
      },
      "execution_count": null,
      "outputs": [
        {
          "output_type": "execute_result",
          "data": {
            "text/plain": [
              "            tconst     nconst     primaryName primaryProfession  \\\n",
              "1200533  tt0111161  nm0555550     Niki Marvin          producer   \n",
              "1200524  tt0111161  nm0005683   Roger Deakins   cinematographer   \n",
              "1200533  tt0111161  nm0555550     Niki Marvin          director   \n",
              "1200532  tt0111161  nm0006669  William Sadler          producer   \n",
              "1200532  tt0111161  nm0006669  William Sadler        soundtrack   \n",
              "1200532  tt0111161  nm0006669  William Sadler             actor   \n",
              "1200531  tt0111161  nm0000209     Tim Robbins          director   \n",
              "1200531  tt0111161  nm0000209     Tim Robbins          producer   \n",
              "1200531  tt0111161  nm0000209     Tim Robbins             actor   \n",
              "1200530  tt0111161  nm0002353   Thomas Newman        soundtrack   \n",
              "\n",
              "         averageRating  numVotes  wheighted  \n",
              "1200533            9.3   2655549   0.000735  \n",
              "1200524            9.3   2655549   0.000735  \n",
              "1200533            9.3   2655549   0.000735  \n",
              "1200532            9.3   2655549   0.000735  \n",
              "1200532            9.3   2655549   0.000735  \n",
              "1200532            9.3   2655549   0.000735  \n",
              "1200531            9.3   2655549   0.000735  \n",
              "1200531            9.3   2655549   0.000735  \n",
              "1200531            9.3   2655549   0.000735  \n",
              "1200530            9.3   2655549   0.000735  "
            ],
            "text/html": [
              "\n",
              "  <div id=\"df-c9d9195d-ef47-49ee-8d85-7b4783f46f6f\">\n",
              "    <div class=\"colab-df-container\">\n",
              "      <div>\n",
              "<style scoped>\n",
              "    .dataframe tbody tr th:only-of-type {\n",
              "        vertical-align: middle;\n",
              "    }\n",
              "\n",
              "    .dataframe tbody tr th {\n",
              "        vertical-align: top;\n",
              "    }\n",
              "\n",
              "    .dataframe thead th {\n",
              "        text-align: right;\n",
              "    }\n",
              "</style>\n",
              "<table border=\"1\" class=\"dataframe\">\n",
              "  <thead>\n",
              "    <tr style=\"text-align: right;\">\n",
              "      <th></th>\n",
              "      <th>tconst</th>\n",
              "      <th>nconst</th>\n",
              "      <th>primaryName</th>\n",
              "      <th>primaryProfession</th>\n",
              "      <th>averageRating</th>\n",
              "      <th>numVotes</th>\n",
              "      <th>wheighted</th>\n",
              "    </tr>\n",
              "  </thead>\n",
              "  <tbody>\n",
              "    <tr>\n",
              "      <th>1200533</th>\n",
              "      <td>tt0111161</td>\n",
              "      <td>nm0555550</td>\n",
              "      <td>Niki Marvin</td>\n",
              "      <td>producer</td>\n",
              "      <td>9.3</td>\n",
              "      <td>2655549</td>\n",
              "      <td>0.000735</td>\n",
              "    </tr>\n",
              "    <tr>\n",
              "      <th>1200524</th>\n",
              "      <td>tt0111161</td>\n",
              "      <td>nm0005683</td>\n",
              "      <td>Roger Deakins</td>\n",
              "      <td>cinematographer</td>\n",
              "      <td>9.3</td>\n",
              "      <td>2655549</td>\n",
              "      <td>0.000735</td>\n",
              "    </tr>\n",
              "    <tr>\n",
              "      <th>1200533</th>\n",
              "      <td>tt0111161</td>\n",
              "      <td>nm0555550</td>\n",
              "      <td>Niki Marvin</td>\n",
              "      <td>director</td>\n",
              "      <td>9.3</td>\n",
              "      <td>2655549</td>\n",
              "      <td>0.000735</td>\n",
              "    </tr>\n",
              "    <tr>\n",
              "      <th>1200532</th>\n",
              "      <td>tt0111161</td>\n",
              "      <td>nm0006669</td>\n",
              "      <td>William Sadler</td>\n",
              "      <td>producer</td>\n",
              "      <td>9.3</td>\n",
              "      <td>2655549</td>\n",
              "      <td>0.000735</td>\n",
              "    </tr>\n",
              "    <tr>\n",
              "      <th>1200532</th>\n",
              "      <td>tt0111161</td>\n",
              "      <td>nm0006669</td>\n",
              "      <td>William Sadler</td>\n",
              "      <td>soundtrack</td>\n",
              "      <td>9.3</td>\n",
              "      <td>2655549</td>\n",
              "      <td>0.000735</td>\n",
              "    </tr>\n",
              "    <tr>\n",
              "      <th>1200532</th>\n",
              "      <td>tt0111161</td>\n",
              "      <td>nm0006669</td>\n",
              "      <td>William Sadler</td>\n",
              "      <td>actor</td>\n",
              "      <td>9.3</td>\n",
              "      <td>2655549</td>\n",
              "      <td>0.000735</td>\n",
              "    </tr>\n",
              "    <tr>\n",
              "      <th>1200531</th>\n",
              "      <td>tt0111161</td>\n",
              "      <td>nm0000209</td>\n",
              "      <td>Tim Robbins</td>\n",
              "      <td>director</td>\n",
              "      <td>9.3</td>\n",
              "      <td>2655549</td>\n",
              "      <td>0.000735</td>\n",
              "    </tr>\n",
              "    <tr>\n",
              "      <th>1200531</th>\n",
              "      <td>tt0111161</td>\n",
              "      <td>nm0000209</td>\n",
              "      <td>Tim Robbins</td>\n",
              "      <td>producer</td>\n",
              "      <td>9.3</td>\n",
              "      <td>2655549</td>\n",
              "      <td>0.000735</td>\n",
              "    </tr>\n",
              "    <tr>\n",
              "      <th>1200531</th>\n",
              "      <td>tt0111161</td>\n",
              "      <td>nm0000209</td>\n",
              "      <td>Tim Robbins</td>\n",
              "      <td>actor</td>\n",
              "      <td>9.3</td>\n",
              "      <td>2655549</td>\n",
              "      <td>0.000735</td>\n",
              "    </tr>\n",
              "    <tr>\n",
              "      <th>1200530</th>\n",
              "      <td>tt0111161</td>\n",
              "      <td>nm0002353</td>\n",
              "      <td>Thomas Newman</td>\n",
              "      <td>soundtrack</td>\n",
              "      <td>9.3</td>\n",
              "      <td>2655549</td>\n",
              "      <td>0.000735</td>\n",
              "    </tr>\n",
              "  </tbody>\n",
              "</table>\n",
              "</div>\n",
              "      <button class=\"colab-df-convert\" onclick=\"convertToInteractive('df-c9d9195d-ef47-49ee-8d85-7b4783f46f6f')\"\n",
              "              title=\"Convert this dataframe to an interactive table.\"\n",
              "              style=\"display:none;\">\n",
              "        \n",
              "  <svg xmlns=\"http://www.w3.org/2000/svg\" height=\"24px\"viewBox=\"0 0 24 24\"\n",
              "       width=\"24px\">\n",
              "    <path d=\"M0 0h24v24H0V0z\" fill=\"none\"/>\n",
              "    <path d=\"M18.56 5.44l.94 2.06.94-2.06 2.06-.94-2.06-.94-.94-2.06-.94 2.06-2.06.94zm-11 1L8.5 8.5l.94-2.06 2.06-.94-2.06-.94L8.5 2.5l-.94 2.06-2.06.94zm10 10l.94 2.06.94-2.06 2.06-.94-2.06-.94-.94-2.06-.94 2.06-2.06.94z\"/><path d=\"M17.41 7.96l-1.37-1.37c-.4-.4-.92-.59-1.43-.59-.52 0-1.04.2-1.43.59L10.3 9.45l-7.72 7.72c-.78.78-.78 2.05 0 2.83L4 21.41c.39.39.9.59 1.41.59.51 0 1.02-.2 1.41-.59l7.78-7.78 2.81-2.81c.8-.78.8-2.07 0-2.86zM5.41 20L4 18.59l7.72-7.72 1.47 1.35L5.41 20z\"/>\n",
              "  </svg>\n",
              "      </button>\n",
              "      \n",
              "  <style>\n",
              "    .colab-df-container {\n",
              "      display:flex;\n",
              "      flex-wrap:wrap;\n",
              "      gap: 12px;\n",
              "    }\n",
              "\n",
              "    .colab-df-convert {\n",
              "      background-color: #E8F0FE;\n",
              "      border: none;\n",
              "      border-radius: 50%;\n",
              "      cursor: pointer;\n",
              "      display: none;\n",
              "      fill: #1967D2;\n",
              "      height: 32px;\n",
              "      padding: 0 0 0 0;\n",
              "      width: 32px;\n",
              "    }\n",
              "\n",
              "    .colab-df-convert:hover {\n",
              "      background-color: #E2EBFA;\n",
              "      box-shadow: 0px 1px 2px rgba(60, 64, 67, 0.3), 0px 1px 3px 1px rgba(60, 64, 67, 0.15);\n",
              "      fill: #174EA6;\n",
              "    }\n",
              "\n",
              "    [theme=dark] .colab-df-convert {\n",
              "      background-color: #3B4455;\n",
              "      fill: #D2E3FC;\n",
              "    }\n",
              "\n",
              "    [theme=dark] .colab-df-convert:hover {\n",
              "      background-color: #434B5C;\n",
              "      box-shadow: 0px 1px 3px 1px rgba(0, 0, 0, 0.15);\n",
              "      filter: drop-shadow(0px 1px 2px rgba(0, 0, 0, 0.3));\n",
              "      fill: #FFFFFF;\n",
              "    }\n",
              "  </style>\n",
              "\n",
              "      <script>\n",
              "        const buttonEl =\n",
              "          document.querySelector('#df-c9d9195d-ef47-49ee-8d85-7b4783f46f6f button.colab-df-convert');\n",
              "        buttonEl.style.display =\n",
              "          google.colab.kernel.accessAllowed ? 'block' : 'none';\n",
              "\n",
              "        async function convertToInteractive(key) {\n",
              "          const element = document.querySelector('#df-c9d9195d-ef47-49ee-8d85-7b4783f46f6f');\n",
              "          const dataTable =\n",
              "            await google.colab.kernel.invokeFunction('convertToInteractive',\n",
              "                                                     [key], {});\n",
              "          if (!dataTable) return;\n",
              "\n",
              "          const docLinkHtml = 'Like what you see? Visit the ' +\n",
              "            '<a target=\"_blank\" href=https://colab.research.google.com/notebooks/data_table.ipynb>data table notebook</a>'\n",
              "            + ' to learn more about interactive tables.';\n",
              "          element.innerHTML = '';\n",
              "          dataTable['output_type'] = 'display_data';\n",
              "          await google.colab.output.renderOutput(dataTable, element);\n",
              "          const docLink = document.createElement('div');\n",
              "          docLink.innerHTML = docLinkHtml;\n",
              "          element.appendChild(docLink);\n",
              "        }\n",
              "      </script>\n",
              "    </div>\n",
              "  </div>\n",
              "  "
            ]
          },
          "metadata": {},
          "execution_count": 23
        }
      ]
    },
    {
      "cell_type": "code",
      "source": [
        "top_movies24= pd.merge(top_movies2, title_basics, how='inner', on=['tconst', 'tconst'])"
      ],
      "metadata": {
        "id": "noTsgCjYtOaF"
      },
      "execution_count": null,
      "outputs": []
    },
    {
      "cell_type": "code",
      "source": [
        "top_movies2[\"primaryProfession\"] = top_movies2.primaryProfession.str.split(',')\n",
        "top_movies2_split = top_movies2.explode(\"primaryProfession\")"
      ],
      "metadata": {
        "id": "WkVg8uoyrGo7"
      },
      "execution_count": null,
      "outputs": []
    },
    {
      "cell_type": "code",
      "source": [
        "top_movies = pd.read_pickle(\"/content/topm14.pickle\")"
      ],
      "metadata": {
        "id": "6Yt1LncZxndf"
      },
      "execution_count": null,
      "outputs": []
    },
    {
      "cell_type": "code",
      "source": [
        "top_movies"
      ],
      "metadata": {
        "id": "PxNuLhowyrxY",
        "outputId": "089c43aa-6b77-40c2-e592-c464e198dc07",
        "colab": {
          "base_uri": "https://localhost:8080/",
          "height": 424
        }
      },
      "execution_count": null,
      "outputs": [
        {
          "output_type": "execute_result",
          "data": {
            "text/plain": [
              "             tconst      nconst                primaryName  \\\n",
              "0         tt0000001   nm1588970                 Carmencita   \n",
              "1         tt0000001   nm0005690       William K.L. Dickson   \n",
              "2         tt0000001   nm0374658              William Heise   \n",
              "3         tt0000005   nm0005690       William K.L. Dickson   \n",
              "4         tt0000005   nm0443482             Charles Kayser   \n",
              "...             ...         ...                        ...   \n",
              "10364921  tt9914342  nm10537168             Adrien Montier   \n",
              "10364922  tt9914342  nm10537169        Maryline Peyrichoux   \n",
              "10364923  tt9914342  nm10537170              Léa Vera Toro   \n",
              "10364924  tt9914342  nm10537171         Maryline Perychoux   \n",
              "10364925  tt9914342   nm6611903  Natassia Jacquet-Apreleff   \n",
              "\n",
              "                          primaryProfession  averageRating  numVotes  \\\n",
              "0                                soundtrack            5.7      1921   \n",
              "1         cinematographer,director,producer            5.7      1921   \n",
              "2         cinematographer,director,producer            5.7      1921   \n",
              "3         cinematographer,director,producer            6.2      2543   \n",
              "4                                     actor            6.2      2543   \n",
              "...                                     ...            ...       ...   \n",
              "10364921                    director,writer            6.2         5   \n",
              "10364922                           director            6.2         5   \n",
              "10364923                    director,writer            6.2         5   \n",
              "10364924                             writer            6.2         5   \n",
              "10364925          composer,music_department            6.2         5   \n",
              "\n",
              "             wheighted  \n",
              "0         8.568788e-07  \n",
              "1         8.568788e-07  \n",
              "2         8.568788e-07  \n",
              "3         1.233830e-06  \n",
              "4         1.233830e-06  \n",
              "...                ...  \n",
              "10364921  2.425933e-09  \n",
              "10364922  2.425933e-09  \n",
              "10364923  2.425933e-09  \n",
              "10364924  2.425933e-09  \n",
              "10364925  2.425933e-09  \n",
              "\n",
              "[10364926 rows x 7 columns]"
            ],
            "text/html": [
              "\n",
              "  <div id=\"df-3f06bdd4-7039-4f3a-81d9-c4e83ee306ce\">\n",
              "    <div class=\"colab-df-container\">\n",
              "      <div>\n",
              "<style scoped>\n",
              "    .dataframe tbody tr th:only-of-type {\n",
              "        vertical-align: middle;\n",
              "    }\n",
              "\n",
              "    .dataframe tbody tr th {\n",
              "        vertical-align: top;\n",
              "    }\n",
              "\n",
              "    .dataframe thead th {\n",
              "        text-align: right;\n",
              "    }\n",
              "</style>\n",
              "<table border=\"1\" class=\"dataframe\">\n",
              "  <thead>\n",
              "    <tr style=\"text-align: right;\">\n",
              "      <th></th>\n",
              "      <th>tconst</th>\n",
              "      <th>nconst</th>\n",
              "      <th>primaryName</th>\n",
              "      <th>primaryProfession</th>\n",
              "      <th>averageRating</th>\n",
              "      <th>numVotes</th>\n",
              "      <th>wheighted</th>\n",
              "    </tr>\n",
              "  </thead>\n",
              "  <tbody>\n",
              "    <tr>\n",
              "      <th>0</th>\n",
              "      <td>tt0000001</td>\n",
              "      <td>nm1588970</td>\n",
              "      <td>Carmencita</td>\n",
              "      <td>soundtrack</td>\n",
              "      <td>5.7</td>\n",
              "      <td>1921</td>\n",
              "      <td>8.568788e-07</td>\n",
              "    </tr>\n",
              "    <tr>\n",
              "      <th>1</th>\n",
              "      <td>tt0000001</td>\n",
              "      <td>nm0005690</td>\n",
              "      <td>William K.L. Dickson</td>\n",
              "      <td>cinematographer,director,producer</td>\n",
              "      <td>5.7</td>\n",
              "      <td>1921</td>\n",
              "      <td>8.568788e-07</td>\n",
              "    </tr>\n",
              "    <tr>\n",
              "      <th>2</th>\n",
              "      <td>tt0000001</td>\n",
              "      <td>nm0374658</td>\n",
              "      <td>William Heise</td>\n",
              "      <td>cinematographer,director,producer</td>\n",
              "      <td>5.7</td>\n",
              "      <td>1921</td>\n",
              "      <td>8.568788e-07</td>\n",
              "    </tr>\n",
              "    <tr>\n",
              "      <th>3</th>\n",
              "      <td>tt0000005</td>\n",
              "      <td>nm0005690</td>\n",
              "      <td>William K.L. Dickson</td>\n",
              "      <td>cinematographer,director,producer</td>\n",
              "      <td>6.2</td>\n",
              "      <td>2543</td>\n",
              "      <td>1.233830e-06</td>\n",
              "    </tr>\n",
              "    <tr>\n",
              "      <th>4</th>\n",
              "      <td>tt0000005</td>\n",
              "      <td>nm0443482</td>\n",
              "      <td>Charles Kayser</td>\n",
              "      <td>actor</td>\n",
              "      <td>6.2</td>\n",
              "      <td>2543</td>\n",
              "      <td>1.233830e-06</td>\n",
              "    </tr>\n",
              "    <tr>\n",
              "      <th>...</th>\n",
              "      <td>...</td>\n",
              "      <td>...</td>\n",
              "      <td>...</td>\n",
              "      <td>...</td>\n",
              "      <td>...</td>\n",
              "      <td>...</td>\n",
              "      <td>...</td>\n",
              "    </tr>\n",
              "    <tr>\n",
              "      <th>10364921</th>\n",
              "      <td>tt9914342</td>\n",
              "      <td>nm10537168</td>\n",
              "      <td>Adrien Montier</td>\n",
              "      <td>director,writer</td>\n",
              "      <td>6.2</td>\n",
              "      <td>5</td>\n",
              "      <td>2.425933e-09</td>\n",
              "    </tr>\n",
              "    <tr>\n",
              "      <th>10364922</th>\n",
              "      <td>tt9914342</td>\n",
              "      <td>nm10537169</td>\n",
              "      <td>Maryline Peyrichoux</td>\n",
              "      <td>director</td>\n",
              "      <td>6.2</td>\n",
              "      <td>5</td>\n",
              "      <td>2.425933e-09</td>\n",
              "    </tr>\n",
              "    <tr>\n",
              "      <th>10364923</th>\n",
              "      <td>tt9914342</td>\n",
              "      <td>nm10537170</td>\n",
              "      <td>Léa Vera Toro</td>\n",
              "      <td>director,writer</td>\n",
              "      <td>6.2</td>\n",
              "      <td>5</td>\n",
              "      <td>2.425933e-09</td>\n",
              "    </tr>\n",
              "    <tr>\n",
              "      <th>10364924</th>\n",
              "      <td>tt9914342</td>\n",
              "      <td>nm10537171</td>\n",
              "      <td>Maryline Perychoux</td>\n",
              "      <td>writer</td>\n",
              "      <td>6.2</td>\n",
              "      <td>5</td>\n",
              "      <td>2.425933e-09</td>\n",
              "    </tr>\n",
              "    <tr>\n",
              "      <th>10364925</th>\n",
              "      <td>tt9914342</td>\n",
              "      <td>nm6611903</td>\n",
              "      <td>Natassia Jacquet-Apreleff</td>\n",
              "      <td>composer,music_department</td>\n",
              "      <td>6.2</td>\n",
              "      <td>5</td>\n",
              "      <td>2.425933e-09</td>\n",
              "    </tr>\n",
              "  </tbody>\n",
              "</table>\n",
              "<p>10364926 rows × 7 columns</p>\n",
              "</div>\n",
              "      <button class=\"colab-df-convert\" onclick=\"convertToInteractive('df-3f06bdd4-7039-4f3a-81d9-c4e83ee306ce')\"\n",
              "              title=\"Convert this dataframe to an interactive table.\"\n",
              "              style=\"display:none;\">\n",
              "        \n",
              "  <svg xmlns=\"http://www.w3.org/2000/svg\" height=\"24px\"viewBox=\"0 0 24 24\"\n",
              "       width=\"24px\">\n",
              "    <path d=\"M0 0h24v24H0V0z\" fill=\"none\"/>\n",
              "    <path d=\"M18.56 5.44l.94 2.06.94-2.06 2.06-.94-2.06-.94-.94-2.06-.94 2.06-2.06.94zm-11 1L8.5 8.5l.94-2.06 2.06-.94-2.06-.94L8.5 2.5l-.94 2.06-2.06.94zm10 10l.94 2.06.94-2.06 2.06-.94-2.06-.94-.94-2.06-.94 2.06-2.06.94z\"/><path d=\"M17.41 7.96l-1.37-1.37c-.4-.4-.92-.59-1.43-.59-.52 0-1.04.2-1.43.59L10.3 9.45l-7.72 7.72c-.78.78-.78 2.05 0 2.83L4 21.41c.39.39.9.59 1.41.59.51 0 1.02-.2 1.41-.59l7.78-7.78 2.81-2.81c.8-.78.8-2.07 0-2.86zM5.41 20L4 18.59l7.72-7.72 1.47 1.35L5.41 20z\"/>\n",
              "  </svg>\n",
              "      </button>\n",
              "      \n",
              "  <style>\n",
              "    .colab-df-container {\n",
              "      display:flex;\n",
              "      flex-wrap:wrap;\n",
              "      gap: 12px;\n",
              "    }\n",
              "\n",
              "    .colab-df-convert {\n",
              "      background-color: #E8F0FE;\n",
              "      border: none;\n",
              "      border-radius: 50%;\n",
              "      cursor: pointer;\n",
              "      display: none;\n",
              "      fill: #1967D2;\n",
              "      height: 32px;\n",
              "      padding: 0 0 0 0;\n",
              "      width: 32px;\n",
              "    }\n",
              "\n",
              "    .colab-df-convert:hover {\n",
              "      background-color: #E2EBFA;\n",
              "      box-shadow: 0px 1px 2px rgba(60, 64, 67, 0.3), 0px 1px 3px 1px rgba(60, 64, 67, 0.15);\n",
              "      fill: #174EA6;\n",
              "    }\n",
              "\n",
              "    [theme=dark] .colab-df-convert {\n",
              "      background-color: #3B4455;\n",
              "      fill: #D2E3FC;\n",
              "    }\n",
              "\n",
              "    [theme=dark] .colab-df-convert:hover {\n",
              "      background-color: #434B5C;\n",
              "      box-shadow: 0px 1px 3px 1px rgba(0, 0, 0, 0.15);\n",
              "      filter: drop-shadow(0px 1px 2px rgba(0, 0, 0, 0.3));\n",
              "      fill: #FFFFFF;\n",
              "    }\n",
              "  </style>\n",
              "\n",
              "      <script>\n",
              "        const buttonEl =\n",
              "          document.querySelector('#df-3f06bdd4-7039-4f3a-81d9-c4e83ee306ce button.colab-df-convert');\n",
              "        buttonEl.style.display =\n",
              "          google.colab.kernel.accessAllowed ? 'block' : 'none';\n",
              "\n",
              "        async function convertToInteractive(key) {\n",
              "          const element = document.querySelector('#df-3f06bdd4-7039-4f3a-81d9-c4e83ee306ce');\n",
              "          const dataTable =\n",
              "            await google.colab.kernel.invokeFunction('convertToInteractive',\n",
              "                                                     [key], {});\n",
              "          if (!dataTable) return;\n",
              "\n",
              "          const docLinkHtml = 'Like what you see? Visit the ' +\n",
              "            '<a target=\"_blank\" href=https://colab.research.google.com/notebooks/data_table.ipynb>data table notebook</a>'\n",
              "            + ' to learn more about interactive tables.';\n",
              "          element.innerHTML = '';\n",
              "          dataTable['output_type'] = 'display_data';\n",
              "          await google.colab.output.renderOutput(dataTable, element);\n",
              "          const docLink = document.createElement('div');\n",
              "          docLink.innerHTML = docLinkHtml;\n",
              "          element.appendChild(docLink);\n",
              "        }\n",
              "      </script>\n",
              "    </div>\n",
              "  </div>\n",
              "  "
            ]
          },
          "metadata": {},
          "execution_count": 26
        }
      ]
    },
    {
      "cell_type": "code",
      "source": [
        "top_movies[\"primaryProfession\"] = top_movies.primaryProfession.str.split(',')\n",
        "top_movies_split = top_movies.explode(\"primaryProfession\")"
      ],
      "metadata": {
        "colab": {
          "base_uri": "https://localhost:8080/",
          "height": 328
        },
        "id": "BdczFPCkO_fF",
        "outputId": "4f62ce7d-4d70-4b67-d4f6-d9a591538e3d"
      },
      "execution_count": null,
      "outputs": [
        {
          "output_type": "error",
          "ename": "KeyboardInterrupt",
          "evalue": "ignored",
          "traceback": [
            "\u001b[0;31m---------------------------------------------------------------------------\u001b[0m",
            "\u001b[0;31mKeyboardInterrupt\u001b[0m                         Traceback (most recent call last)",
            "\u001b[0;32m<ipython-input-28-b64c8ec7ff3d>\u001b[0m in \u001b[0;36m<module>\u001b[0;34m\u001b[0m\n\u001b[0;32m----> 1\u001b[0;31m \u001b[0mtop_movies\u001b[0m\u001b[0;34m[\u001b[0m\u001b[0;34m\"primaryProfession\"\u001b[0m\u001b[0;34m]\u001b[0m \u001b[0;34m=\u001b[0m \u001b[0mtop_movies\u001b[0m\u001b[0;34m.\u001b[0m\u001b[0mprimaryProfession\u001b[0m\u001b[0;34m.\u001b[0m\u001b[0mstr\u001b[0m\u001b[0;34m.\u001b[0m\u001b[0msplit\u001b[0m\u001b[0;34m(\u001b[0m\u001b[0;34m','\u001b[0m\u001b[0;34m)\u001b[0m\u001b[0;34m\u001b[0m\u001b[0;34m\u001b[0m\u001b[0m\n\u001b[0m\u001b[1;32m      2\u001b[0m \u001b[0mtop_movies_split\u001b[0m \u001b[0;34m=\u001b[0m \u001b[0mtop_movies\u001b[0m\u001b[0;34m.\u001b[0m\u001b[0mexplode\u001b[0m\u001b[0;34m(\u001b[0m\u001b[0;34m\"primaryProfession\"\u001b[0m\u001b[0;34m)\u001b[0m\u001b[0;34m\u001b[0m\u001b[0;34m\u001b[0m\u001b[0m\n",
            "\u001b[0;32m/usr/local/lib/python3.7/dist-packages/pandas/core/strings/accessor.py\u001b[0m in \u001b[0;36mwrapper\u001b[0;34m(self, *args, **kwargs)\u001b[0m\n\u001b[1;32m    114\u001b[0m                 )\n\u001b[1;32m    115\u001b[0m                 \u001b[0;32mraise\u001b[0m \u001b[0mTypeError\u001b[0m\u001b[0;34m(\u001b[0m\u001b[0mmsg\u001b[0m\u001b[0;34m)\u001b[0m\u001b[0;34m\u001b[0m\u001b[0;34m\u001b[0m\u001b[0m\n\u001b[0;32m--> 116\u001b[0;31m             \u001b[0;32mreturn\u001b[0m \u001b[0mfunc\u001b[0m\u001b[0;34m(\u001b[0m\u001b[0mself\u001b[0m\u001b[0;34m,\u001b[0m \u001b[0;34m*\u001b[0m\u001b[0margs\u001b[0m\u001b[0;34m,\u001b[0m \u001b[0;34m**\u001b[0m\u001b[0mkwargs\u001b[0m\u001b[0;34m)\u001b[0m\u001b[0;34m\u001b[0m\u001b[0;34m\u001b[0m\u001b[0m\n\u001b[0m\u001b[1;32m    117\u001b[0m \u001b[0;34m\u001b[0m\u001b[0m\n\u001b[1;32m    118\u001b[0m         \u001b[0mwrapper\u001b[0m\u001b[0;34m.\u001b[0m\u001b[0m__name__\u001b[0m \u001b[0;34m=\u001b[0m \u001b[0mfunc_name\u001b[0m\u001b[0;34m\u001b[0m\u001b[0;34m\u001b[0m\u001b[0m\n",
            "\u001b[0;32m/usr/local/lib/python3.7/dist-packages/pandas/core/strings/accessor.py\u001b[0m in \u001b[0;36msplit\u001b[0;34m(self, pat, n, expand)\u001b[0m\n\u001b[1;32m    787\u001b[0m     \u001b[0;34m@\u001b[0m\u001b[0mforbid_nonstring_types\u001b[0m\u001b[0;34m(\u001b[0m\u001b[0;34m[\u001b[0m\u001b[0;34m\"bytes\"\u001b[0m\u001b[0;34m]\u001b[0m\u001b[0;34m)\u001b[0m\u001b[0;34m\u001b[0m\u001b[0;34m\u001b[0m\u001b[0m\n\u001b[1;32m    788\u001b[0m     \u001b[0;32mdef\u001b[0m \u001b[0msplit\u001b[0m\u001b[0;34m(\u001b[0m\u001b[0mself\u001b[0m\u001b[0;34m,\u001b[0m \u001b[0mpat\u001b[0m\u001b[0;34m=\u001b[0m\u001b[0;32mNone\u001b[0m\u001b[0;34m,\u001b[0m \u001b[0mn\u001b[0m\u001b[0;34m=\u001b[0m\u001b[0;34m-\u001b[0m\u001b[0;36m1\u001b[0m\u001b[0;34m,\u001b[0m \u001b[0mexpand\u001b[0m\u001b[0;34m=\u001b[0m\u001b[0;32mFalse\u001b[0m\u001b[0;34m)\u001b[0m\u001b[0;34m:\u001b[0m\u001b[0;34m\u001b[0m\u001b[0;34m\u001b[0m\u001b[0m\n\u001b[0;32m--> 789\u001b[0;31m         \u001b[0mresult\u001b[0m \u001b[0;34m=\u001b[0m \u001b[0mself\u001b[0m\u001b[0;34m.\u001b[0m\u001b[0m_data\u001b[0m\u001b[0;34m.\u001b[0m\u001b[0marray\u001b[0m\u001b[0;34m.\u001b[0m\u001b[0m_str_split\u001b[0m\u001b[0;34m(\u001b[0m\u001b[0mpat\u001b[0m\u001b[0;34m,\u001b[0m \u001b[0mn\u001b[0m\u001b[0;34m,\u001b[0m \u001b[0mexpand\u001b[0m\u001b[0;34m)\u001b[0m\u001b[0;34m\u001b[0m\u001b[0;34m\u001b[0m\u001b[0m\n\u001b[0m\u001b[1;32m    790\u001b[0m         \u001b[0;32mreturn\u001b[0m \u001b[0mself\u001b[0m\u001b[0;34m.\u001b[0m\u001b[0m_wrap_result\u001b[0m\u001b[0;34m(\u001b[0m\u001b[0mresult\u001b[0m\u001b[0;34m,\u001b[0m \u001b[0mreturns_string\u001b[0m\u001b[0;34m=\u001b[0m\u001b[0mexpand\u001b[0m\u001b[0;34m,\u001b[0m \u001b[0mexpand\u001b[0m\u001b[0;34m=\u001b[0m\u001b[0mexpand\u001b[0m\u001b[0;34m)\u001b[0m\u001b[0;34m\u001b[0m\u001b[0;34m\u001b[0m\u001b[0m\n\u001b[1;32m    791\u001b[0m \u001b[0;34m\u001b[0m\u001b[0m\n",
            "\u001b[0;32m/usr/local/lib/python3.7/dist-packages/pandas/core/strings/object_array.py\u001b[0m in \u001b[0;36m_str_split\u001b[0;34m(self, pat, n, expand)\u001b[0m\n\u001b[1;32m    320\u001b[0m                 \u001b[0mregex\u001b[0m \u001b[0;34m=\u001b[0m \u001b[0mre\u001b[0m\u001b[0;34m.\u001b[0m\u001b[0mcompile\u001b[0m\u001b[0;34m(\u001b[0m\u001b[0mpat\u001b[0m\u001b[0;34m)\u001b[0m\u001b[0;34m\u001b[0m\u001b[0;34m\u001b[0m\u001b[0m\n\u001b[1;32m    321\u001b[0m                 \u001b[0mf\u001b[0m \u001b[0;34m=\u001b[0m \u001b[0;32mlambda\u001b[0m \u001b[0mx\u001b[0m\u001b[0;34m:\u001b[0m \u001b[0mregex\u001b[0m\u001b[0;34m.\u001b[0m\u001b[0msplit\u001b[0m\u001b[0;34m(\u001b[0m\u001b[0mx\u001b[0m\u001b[0;34m,\u001b[0m \u001b[0mmaxsplit\u001b[0m\u001b[0;34m=\u001b[0m\u001b[0mn\u001b[0m\u001b[0;34m)\u001b[0m\u001b[0;34m\u001b[0m\u001b[0;34m\u001b[0m\u001b[0m\n\u001b[0;32m--> 322\u001b[0;31m         \u001b[0;32mreturn\u001b[0m \u001b[0mself\u001b[0m\u001b[0;34m.\u001b[0m\u001b[0m_str_map\u001b[0m\u001b[0;34m(\u001b[0m\u001b[0mf\u001b[0m\u001b[0;34m,\u001b[0m \u001b[0mdtype\u001b[0m\u001b[0;34m=\u001b[0m\u001b[0mobject\u001b[0m\u001b[0;34m)\u001b[0m\u001b[0;34m\u001b[0m\u001b[0;34m\u001b[0m\u001b[0m\n\u001b[0m\u001b[1;32m    323\u001b[0m \u001b[0;34m\u001b[0m\u001b[0m\n\u001b[1;32m    324\u001b[0m     \u001b[0;32mdef\u001b[0m \u001b[0m_str_rsplit\u001b[0m\u001b[0;34m(\u001b[0m\u001b[0mself\u001b[0m\u001b[0;34m,\u001b[0m \u001b[0mpat\u001b[0m\u001b[0;34m=\u001b[0m\u001b[0;32mNone\u001b[0m\u001b[0;34m,\u001b[0m \u001b[0mn\u001b[0m\u001b[0;34m=\u001b[0m\u001b[0;34m-\u001b[0m\u001b[0;36m1\u001b[0m\u001b[0;34m)\u001b[0m\u001b[0;34m:\u001b[0m\u001b[0;34m\u001b[0m\u001b[0;34m\u001b[0m\u001b[0m\n",
            "\u001b[0;32m/usr/local/lib/python3.7/dist-packages/pandas/core/strings/object_array.py\u001b[0m in \u001b[0;36m_str_map\u001b[0;34m(self, f, na_value, dtype, convert)\u001b[0m\n\u001b[1;32m     67\u001b[0m         \u001b[0mmap_convert\u001b[0m \u001b[0;34m=\u001b[0m \u001b[0mconvert\u001b[0m \u001b[0;32mand\u001b[0m \u001b[0;32mnot\u001b[0m \u001b[0mnp\u001b[0m\u001b[0;34m.\u001b[0m\u001b[0mall\u001b[0m\u001b[0;34m(\u001b[0m\u001b[0mmask\u001b[0m\u001b[0;34m)\u001b[0m\u001b[0;34m\u001b[0m\u001b[0;34m\u001b[0m\u001b[0m\n\u001b[1;32m     68\u001b[0m         \u001b[0;32mtry\u001b[0m\u001b[0;34m:\u001b[0m\u001b[0;34m\u001b[0m\u001b[0;34m\u001b[0m\u001b[0m\n\u001b[0;32m---> 69\u001b[0;31m             \u001b[0mresult\u001b[0m \u001b[0;34m=\u001b[0m \u001b[0mlib\u001b[0m\u001b[0;34m.\u001b[0m\u001b[0mmap_infer_mask\u001b[0m\u001b[0;34m(\u001b[0m\u001b[0marr\u001b[0m\u001b[0;34m,\u001b[0m \u001b[0mf\u001b[0m\u001b[0;34m,\u001b[0m \u001b[0mmask\u001b[0m\u001b[0;34m.\u001b[0m\u001b[0mview\u001b[0m\u001b[0;34m(\u001b[0m\u001b[0mnp\u001b[0m\u001b[0;34m.\u001b[0m\u001b[0muint8\u001b[0m\u001b[0;34m)\u001b[0m\u001b[0;34m,\u001b[0m \u001b[0mmap_convert\u001b[0m\u001b[0;34m)\u001b[0m\u001b[0;34m\u001b[0m\u001b[0;34m\u001b[0m\u001b[0m\n\u001b[0m\u001b[1;32m     70\u001b[0m         \u001b[0;32mexcept\u001b[0m \u001b[0;34m(\u001b[0m\u001b[0mTypeError\u001b[0m\u001b[0;34m,\u001b[0m \u001b[0mAttributeError\u001b[0m\u001b[0;34m)\u001b[0m \u001b[0;32mas\u001b[0m \u001b[0me\u001b[0m\u001b[0;34m:\u001b[0m\u001b[0;34m\u001b[0m\u001b[0;34m\u001b[0m\u001b[0m\n\u001b[1;32m     71\u001b[0m             \u001b[0;31m# Reraise the exception if callable `f` got wrong number of args.\u001b[0m\u001b[0;34m\u001b[0m\u001b[0;34m\u001b[0m\u001b[0;34m\u001b[0m\u001b[0m\n",
            "\u001b[0;32m/usr/local/lib/python3.7/dist-packages/pandas/_libs/lib.pyx\u001b[0m in \u001b[0;36mpandas._libs.lib.map_infer_mask\u001b[0;34m()\u001b[0m\n",
            "\u001b[0;32m/usr/local/lib/python3.7/dist-packages/pandas/core/strings/object_array.py\u001b[0m in \u001b[0;36m<lambda>\u001b[0;34m(x)\u001b[0m\n\u001b[1;32m    314\u001b[0m                 \u001b[0;32mif\u001b[0m \u001b[0mn\u001b[0m \u001b[0;32mis\u001b[0m \u001b[0;32mNone\u001b[0m \u001b[0;32mor\u001b[0m \u001b[0mn\u001b[0m \u001b[0;34m==\u001b[0m \u001b[0;36m0\u001b[0m\u001b[0;34m:\u001b[0m\u001b[0;34m\u001b[0m\u001b[0;34m\u001b[0m\u001b[0m\n\u001b[1;32m    315\u001b[0m                     \u001b[0mn\u001b[0m \u001b[0;34m=\u001b[0m \u001b[0;34m-\u001b[0m\u001b[0;36m1\u001b[0m\u001b[0;34m\u001b[0m\u001b[0;34m\u001b[0m\u001b[0m\n\u001b[0;32m--> 316\u001b[0;31m                 \u001b[0mf\u001b[0m \u001b[0;34m=\u001b[0m \u001b[0;32mlambda\u001b[0m \u001b[0mx\u001b[0m\u001b[0;34m:\u001b[0m \u001b[0mx\u001b[0m\u001b[0;34m.\u001b[0m\u001b[0msplit\u001b[0m\u001b[0;34m(\u001b[0m\u001b[0mpat\u001b[0m\u001b[0;34m,\u001b[0m \u001b[0mn\u001b[0m\u001b[0;34m)\u001b[0m\u001b[0;34m\u001b[0m\u001b[0;34m\u001b[0m\u001b[0m\n\u001b[0m\u001b[1;32m    317\u001b[0m             \u001b[0;32melse\u001b[0m\u001b[0;34m:\u001b[0m\u001b[0;34m\u001b[0m\u001b[0;34m\u001b[0m\u001b[0m\n\u001b[1;32m    318\u001b[0m                 \u001b[0;32mif\u001b[0m \u001b[0mn\u001b[0m \u001b[0;32mis\u001b[0m \u001b[0;32mNone\u001b[0m \u001b[0;32mor\u001b[0m \u001b[0mn\u001b[0m \u001b[0;34m==\u001b[0m \u001b[0;34m-\u001b[0m\u001b[0;36m1\u001b[0m\u001b[0;34m:\u001b[0m\u001b[0;34m\u001b[0m\u001b[0;34m\u001b[0m\u001b[0m\n",
            "\u001b[0;31mKeyboardInterrupt\u001b[0m: "
          ]
        }
      ]
    },
    {
      "cell_type": "code",
      "source": [
        "top_movies_split.to_pickle('/content/tm.pickle')"
      ],
      "metadata": {
        "id": "oY8o6LHiPMyu"
      },
      "execution_count": null,
      "outputs": []
    },
    {
      "cell_type": "code",
      "source": [
        "top_movies = pd.read_pickle(\"/content/tm.pickle\")"
      ],
      "metadata": {
        "id": "wNXY2jYgPhXj"
      },
      "execution_count": null,
      "outputs": []
    },
    {
      "cell_type": "code",
      "source": [
        "top_movies.head()"
      ],
      "metadata": {
        "id": "0kzrjkqSAAtR",
        "outputId": "a4812f6c-cd38-4e5b-b5ee-0bf4ee6435ed",
        "colab": {
          "base_uri": "https://localhost:8080/",
          "height": 206
        }
      },
      "execution_count": null,
      "outputs": [
        {
          "output_type": "execute_result",
          "data": {
            "text/plain": [
              "      tconst     nconst           primaryName primaryProfession  \\\n",
              "0  tt0000001  nm1588970            Carmencita        soundtrack   \n",
              "1  tt0000001  nm0005690  William K.L. Dickson   cinematographer   \n",
              "2  tt0000001  nm0005690  William K.L. Dickson          director   \n",
              "3  tt0000001  nm0005690  William K.L. Dickson          producer   \n",
              "4  tt0000001  nm0374658         William Heise   cinematographer   \n",
              "\n",
              "   averageRating  numVotes     wheighted titleType  \n",
              "0            5.7      1921  8.568788e-07     short  \n",
              "1            5.7      1921  8.568788e-07     short  \n",
              "2            5.7      1921  8.568788e-07     short  \n",
              "3            5.7      1921  8.568788e-07     short  \n",
              "4            5.7      1921  8.568788e-07     short  "
            ],
            "text/html": [
              "\n",
              "  <div id=\"df-a9e7f72c-a01a-434d-b875-8c499fa9b441\">\n",
              "    <div class=\"colab-df-container\">\n",
              "      <div>\n",
              "<style scoped>\n",
              "    .dataframe tbody tr th:only-of-type {\n",
              "        vertical-align: middle;\n",
              "    }\n",
              "\n",
              "    .dataframe tbody tr th {\n",
              "        vertical-align: top;\n",
              "    }\n",
              "\n",
              "    .dataframe thead th {\n",
              "        text-align: right;\n",
              "    }\n",
              "</style>\n",
              "<table border=\"1\" class=\"dataframe\">\n",
              "  <thead>\n",
              "    <tr style=\"text-align: right;\">\n",
              "      <th></th>\n",
              "      <th>tconst</th>\n",
              "      <th>nconst</th>\n",
              "      <th>primaryName</th>\n",
              "      <th>primaryProfession</th>\n",
              "      <th>averageRating</th>\n",
              "      <th>numVotes</th>\n",
              "      <th>wheighted</th>\n",
              "      <th>titleType</th>\n",
              "    </tr>\n",
              "  </thead>\n",
              "  <tbody>\n",
              "    <tr>\n",
              "      <th>0</th>\n",
              "      <td>tt0000001</td>\n",
              "      <td>nm1588970</td>\n",
              "      <td>Carmencita</td>\n",
              "      <td>soundtrack</td>\n",
              "      <td>5.7</td>\n",
              "      <td>1921</td>\n",
              "      <td>8.568788e-07</td>\n",
              "      <td>short</td>\n",
              "    </tr>\n",
              "    <tr>\n",
              "      <th>1</th>\n",
              "      <td>tt0000001</td>\n",
              "      <td>nm0005690</td>\n",
              "      <td>William K.L. Dickson</td>\n",
              "      <td>cinematographer</td>\n",
              "      <td>5.7</td>\n",
              "      <td>1921</td>\n",
              "      <td>8.568788e-07</td>\n",
              "      <td>short</td>\n",
              "    </tr>\n",
              "    <tr>\n",
              "      <th>2</th>\n",
              "      <td>tt0000001</td>\n",
              "      <td>nm0005690</td>\n",
              "      <td>William K.L. Dickson</td>\n",
              "      <td>director</td>\n",
              "      <td>5.7</td>\n",
              "      <td>1921</td>\n",
              "      <td>8.568788e-07</td>\n",
              "      <td>short</td>\n",
              "    </tr>\n",
              "    <tr>\n",
              "      <th>3</th>\n",
              "      <td>tt0000001</td>\n",
              "      <td>nm0005690</td>\n",
              "      <td>William K.L. Dickson</td>\n",
              "      <td>producer</td>\n",
              "      <td>5.7</td>\n",
              "      <td>1921</td>\n",
              "      <td>8.568788e-07</td>\n",
              "      <td>short</td>\n",
              "    </tr>\n",
              "    <tr>\n",
              "      <th>4</th>\n",
              "      <td>tt0000001</td>\n",
              "      <td>nm0374658</td>\n",
              "      <td>William Heise</td>\n",
              "      <td>cinematographer</td>\n",
              "      <td>5.7</td>\n",
              "      <td>1921</td>\n",
              "      <td>8.568788e-07</td>\n",
              "      <td>short</td>\n",
              "    </tr>\n",
              "  </tbody>\n",
              "</table>\n",
              "</div>\n",
              "      <button class=\"colab-df-convert\" onclick=\"convertToInteractive('df-a9e7f72c-a01a-434d-b875-8c499fa9b441')\"\n",
              "              title=\"Convert this dataframe to an interactive table.\"\n",
              "              style=\"display:none;\">\n",
              "        \n",
              "  <svg xmlns=\"http://www.w3.org/2000/svg\" height=\"24px\"viewBox=\"0 0 24 24\"\n",
              "       width=\"24px\">\n",
              "    <path d=\"M0 0h24v24H0V0z\" fill=\"none\"/>\n",
              "    <path d=\"M18.56 5.44l.94 2.06.94-2.06 2.06-.94-2.06-.94-.94-2.06-.94 2.06-2.06.94zm-11 1L8.5 8.5l.94-2.06 2.06-.94-2.06-.94L8.5 2.5l-.94 2.06-2.06.94zm10 10l.94 2.06.94-2.06 2.06-.94-2.06-.94-.94-2.06-.94 2.06-2.06.94z\"/><path d=\"M17.41 7.96l-1.37-1.37c-.4-.4-.92-.59-1.43-.59-.52 0-1.04.2-1.43.59L10.3 9.45l-7.72 7.72c-.78.78-.78 2.05 0 2.83L4 21.41c.39.39.9.59 1.41.59.51 0 1.02-.2 1.41-.59l7.78-7.78 2.81-2.81c.8-.78.8-2.07 0-2.86zM5.41 20L4 18.59l7.72-7.72 1.47 1.35L5.41 20z\"/>\n",
              "  </svg>\n",
              "      </button>\n",
              "      \n",
              "  <style>\n",
              "    .colab-df-container {\n",
              "      display:flex;\n",
              "      flex-wrap:wrap;\n",
              "      gap: 12px;\n",
              "    }\n",
              "\n",
              "    .colab-df-convert {\n",
              "      background-color: #E8F0FE;\n",
              "      border: none;\n",
              "      border-radius: 50%;\n",
              "      cursor: pointer;\n",
              "      display: none;\n",
              "      fill: #1967D2;\n",
              "      height: 32px;\n",
              "      padding: 0 0 0 0;\n",
              "      width: 32px;\n",
              "    }\n",
              "\n",
              "    .colab-df-convert:hover {\n",
              "      background-color: #E2EBFA;\n",
              "      box-shadow: 0px 1px 2px rgba(60, 64, 67, 0.3), 0px 1px 3px 1px rgba(60, 64, 67, 0.15);\n",
              "      fill: #174EA6;\n",
              "    }\n",
              "\n",
              "    [theme=dark] .colab-df-convert {\n",
              "      background-color: #3B4455;\n",
              "      fill: #D2E3FC;\n",
              "    }\n",
              "\n",
              "    [theme=dark] .colab-df-convert:hover {\n",
              "      background-color: #434B5C;\n",
              "      box-shadow: 0px 1px 3px 1px rgba(0, 0, 0, 0.15);\n",
              "      filter: drop-shadow(0px 1px 2px rgba(0, 0, 0, 0.3));\n",
              "      fill: #FFFFFF;\n",
              "    }\n",
              "  </style>\n",
              "\n",
              "      <script>\n",
              "        const buttonEl =\n",
              "          document.querySelector('#df-a9e7f72c-a01a-434d-b875-8c499fa9b441 button.colab-df-convert');\n",
              "        buttonEl.style.display =\n",
              "          google.colab.kernel.accessAllowed ? 'block' : 'none';\n",
              "\n",
              "        async function convertToInteractive(key) {\n",
              "          const element = document.querySelector('#df-a9e7f72c-a01a-434d-b875-8c499fa9b441');\n",
              "          const dataTable =\n",
              "            await google.colab.kernel.invokeFunction('convertToInteractive',\n",
              "                                                     [key], {});\n",
              "          if (!dataTable) return;\n",
              "\n",
              "          const docLinkHtml = 'Like what you see? Visit the ' +\n",
              "            '<a target=\"_blank\" href=https://colab.research.google.com/notebooks/data_table.ipynb>data table notebook</a>'\n",
              "            + ' to learn more about interactive tables.';\n",
              "          element.innerHTML = '';\n",
              "          dataTable['output_type'] = 'display_data';\n",
              "          await google.colab.output.renderOutput(dataTable, element);\n",
              "          const docLink = document.createElement('div');\n",
              "          docLink.innerHTML = docLinkHtml;\n",
              "          element.appendChild(docLink);\n",
              "        }\n",
              "      </script>\n",
              "    </div>\n",
              "  </div>\n",
              "  "
            ]
          },
          "metadata": {},
          "execution_count": 39
        }
      ]
    },
    {
      "cell_type": "code",
      "source": [
        "col_list5 = ['tconst','titleType']\n",
        "title_basics = pd.read_csv('https://datasets.imdbws.com/title.basics.tsv.gz', compression = 'gzip', sep = '\\t', usecols=col_list5)"
      ],
      "metadata": {
        "id": "US3ZWKN6ybNX"
      },
      "execution_count": null,
      "outputs": []
    },
    {
      "cell_type": "code",
      "source": [
        "top_movies27= pd.merge(top_movies, title_basics, how='inner', on=['tconst', 'tconst'])"
      ],
      "metadata": {
        "id": "167tCPGbzXyb"
      },
      "execution_count": null,
      "outputs": []
    },
    {
      "cell_type": "code",
      "source": [
        "top_movies.head()"
      ],
      "metadata": {
        "id": "whMEbnmM0k4L",
        "outputId": "9b289bc7-becf-4dee-e3d0-e704b1a20293",
        "colab": {
          "base_uri": "https://localhost:8080/",
          "height": 206
        }
      },
      "execution_count": 3,
      "outputs": [
        {
          "output_type": "execute_result",
          "data": {
            "text/plain": [
              "      tconst     nconst           primaryName  \\\n",
              "0  tt0000001  nm1588970            Carmencita   \n",
              "1  tt0000001  nm0005690  William K.L. Dickson   \n",
              "2  tt0000001  nm0374658         William Heise   \n",
              "3  tt0000005  nm0005690  William K.L. Dickson   \n",
              "4  tt0000005  nm0443482        Charles Kayser   \n",
              "\n",
              "                   primaryProfession  averageRating  numVotes titleType  \n",
              "0                         soundtrack            5.7      1921     short  \n",
              "1  cinematographer,director,producer            5.7      1921     short  \n",
              "2  cinematographer,director,producer            5.7      1921     short  \n",
              "3  cinematographer,director,producer            6.2      2544     short  \n",
              "4                              actor            6.2      2544     short  "
            ],
            "text/html": [
              "\n",
              "  <div id=\"df-f15472f7-99f0-42c0-be25-74415568cf06\">\n",
              "    <div class=\"colab-df-container\">\n",
              "      <div>\n",
              "<style scoped>\n",
              "    .dataframe tbody tr th:only-of-type {\n",
              "        vertical-align: middle;\n",
              "    }\n",
              "\n",
              "    .dataframe tbody tr th {\n",
              "        vertical-align: top;\n",
              "    }\n",
              "\n",
              "    .dataframe thead th {\n",
              "        text-align: right;\n",
              "    }\n",
              "</style>\n",
              "<table border=\"1\" class=\"dataframe\">\n",
              "  <thead>\n",
              "    <tr style=\"text-align: right;\">\n",
              "      <th></th>\n",
              "      <th>tconst</th>\n",
              "      <th>nconst</th>\n",
              "      <th>primaryName</th>\n",
              "      <th>primaryProfession</th>\n",
              "      <th>averageRating</th>\n",
              "      <th>numVotes</th>\n",
              "      <th>titleType</th>\n",
              "    </tr>\n",
              "  </thead>\n",
              "  <tbody>\n",
              "    <tr>\n",
              "      <th>0</th>\n",
              "      <td>tt0000001</td>\n",
              "      <td>nm1588970</td>\n",
              "      <td>Carmencita</td>\n",
              "      <td>soundtrack</td>\n",
              "      <td>5.7</td>\n",
              "      <td>1921</td>\n",
              "      <td>short</td>\n",
              "    </tr>\n",
              "    <tr>\n",
              "      <th>1</th>\n",
              "      <td>tt0000001</td>\n",
              "      <td>nm0005690</td>\n",
              "      <td>William K.L. Dickson</td>\n",
              "      <td>cinematographer,director,producer</td>\n",
              "      <td>5.7</td>\n",
              "      <td>1921</td>\n",
              "      <td>short</td>\n",
              "    </tr>\n",
              "    <tr>\n",
              "      <th>2</th>\n",
              "      <td>tt0000001</td>\n",
              "      <td>nm0374658</td>\n",
              "      <td>William Heise</td>\n",
              "      <td>cinematographer,director,producer</td>\n",
              "      <td>5.7</td>\n",
              "      <td>1921</td>\n",
              "      <td>short</td>\n",
              "    </tr>\n",
              "    <tr>\n",
              "      <th>3</th>\n",
              "      <td>tt0000005</td>\n",
              "      <td>nm0005690</td>\n",
              "      <td>William K.L. Dickson</td>\n",
              "      <td>cinematographer,director,producer</td>\n",
              "      <td>6.2</td>\n",
              "      <td>2544</td>\n",
              "      <td>short</td>\n",
              "    </tr>\n",
              "    <tr>\n",
              "      <th>4</th>\n",
              "      <td>tt0000005</td>\n",
              "      <td>nm0443482</td>\n",
              "      <td>Charles Kayser</td>\n",
              "      <td>actor</td>\n",
              "      <td>6.2</td>\n",
              "      <td>2544</td>\n",
              "      <td>short</td>\n",
              "    </tr>\n",
              "  </tbody>\n",
              "</table>\n",
              "</div>\n",
              "      <button class=\"colab-df-convert\" onclick=\"convertToInteractive('df-f15472f7-99f0-42c0-be25-74415568cf06')\"\n",
              "              title=\"Convert this dataframe to an interactive table.\"\n",
              "              style=\"display:none;\">\n",
              "        \n",
              "  <svg xmlns=\"http://www.w3.org/2000/svg\" height=\"24px\"viewBox=\"0 0 24 24\"\n",
              "       width=\"24px\">\n",
              "    <path d=\"M0 0h24v24H0V0z\" fill=\"none\"/>\n",
              "    <path d=\"M18.56 5.44l.94 2.06.94-2.06 2.06-.94-2.06-.94-.94-2.06-.94 2.06-2.06.94zm-11 1L8.5 8.5l.94-2.06 2.06-.94-2.06-.94L8.5 2.5l-.94 2.06-2.06.94zm10 10l.94 2.06.94-2.06 2.06-.94-2.06-.94-.94-2.06-.94 2.06-2.06.94z\"/><path d=\"M17.41 7.96l-1.37-1.37c-.4-.4-.92-.59-1.43-.59-.52 0-1.04.2-1.43.59L10.3 9.45l-7.72 7.72c-.78.78-.78 2.05 0 2.83L4 21.41c.39.39.9.59 1.41.59.51 0 1.02-.2 1.41-.59l7.78-7.78 2.81-2.81c.8-.78.8-2.07 0-2.86zM5.41 20L4 18.59l7.72-7.72 1.47 1.35L5.41 20z\"/>\n",
              "  </svg>\n",
              "      </button>\n",
              "      \n",
              "  <style>\n",
              "    .colab-df-container {\n",
              "      display:flex;\n",
              "      flex-wrap:wrap;\n",
              "      gap: 12px;\n",
              "    }\n",
              "\n",
              "    .colab-df-convert {\n",
              "      background-color: #E8F0FE;\n",
              "      border: none;\n",
              "      border-radius: 50%;\n",
              "      cursor: pointer;\n",
              "      display: none;\n",
              "      fill: #1967D2;\n",
              "      height: 32px;\n",
              "      padding: 0 0 0 0;\n",
              "      width: 32px;\n",
              "    }\n",
              "\n",
              "    .colab-df-convert:hover {\n",
              "      background-color: #E2EBFA;\n",
              "      box-shadow: 0px 1px 2px rgba(60, 64, 67, 0.3), 0px 1px 3px 1px rgba(60, 64, 67, 0.15);\n",
              "      fill: #174EA6;\n",
              "    }\n",
              "\n",
              "    [theme=dark] .colab-df-convert {\n",
              "      background-color: #3B4455;\n",
              "      fill: #D2E3FC;\n",
              "    }\n",
              "\n",
              "    [theme=dark] .colab-df-convert:hover {\n",
              "      background-color: #434B5C;\n",
              "      box-shadow: 0px 1px 3px 1px rgba(0, 0, 0, 0.15);\n",
              "      filter: drop-shadow(0px 1px 2px rgba(0, 0, 0, 0.3));\n",
              "      fill: #FFFFFF;\n",
              "    }\n",
              "  </style>\n",
              "\n",
              "      <script>\n",
              "        const buttonEl =\n",
              "          document.querySelector('#df-f15472f7-99f0-42c0-be25-74415568cf06 button.colab-df-convert');\n",
              "        buttonEl.style.display =\n",
              "          google.colab.kernel.accessAllowed ? 'block' : 'none';\n",
              "\n",
              "        async function convertToInteractive(key) {\n",
              "          const element = document.querySelector('#df-f15472f7-99f0-42c0-be25-74415568cf06');\n",
              "          const dataTable =\n",
              "            await google.colab.kernel.invokeFunction('convertToInteractive',\n",
              "                                                     [key], {});\n",
              "          if (!dataTable) return;\n",
              "\n",
              "          const docLinkHtml = 'Like what you see? Visit the ' +\n",
              "            '<a target=\"_blank\" href=https://colab.research.google.com/notebooks/data_table.ipynb>data table notebook</a>'\n",
              "            + ' to learn more about interactive tables.';\n",
              "          element.innerHTML = '';\n",
              "          dataTable['output_type'] = 'display_data';\n",
              "          await google.colab.output.renderOutput(dataTable, element);\n",
              "          const docLink = document.createElement('div');\n",
              "          docLink.innerHTML = docLinkHtml;\n",
              "          element.appendChild(docLink);\n",
              "        }\n",
              "      </script>\n",
              "    </div>\n",
              "  </div>\n",
              "  "
            ]
          },
          "metadata": {},
          "execution_count": 3
        }
      ]
    },
    {
      "cell_type": "code",
      "source": [
        "top_movies27.to_pickle('/content/tm3.pickle')"
      ],
      "metadata": {
        "id": "kQ45MXLHznx7"
      },
      "execution_count": null,
      "outputs": []
    },
    {
      "cell_type": "code",
      "source": [
        "top_movies = pd.read_pickle(\"/content/imdb3.pickle\")"
      ],
      "metadata": {
        "id": "7vIo5bglz0Wt"
      },
      "execution_count": 2,
      "outputs": []
    },
    {
      "cell_type": "code",
      "source": [
        "top_movies['wheighted'] = (top_movies['averageRating']*top_movies['numVotes'])/top_movies['numVotes'].sum()\n",
        "top_movies.sort_values(by=('wheighted'), ascending=False).head(10)"
      ],
      "metadata": {
        "id": "lKxwXQrQxAKj",
        "outputId": "92fb3c0a-c675-40c5-f10f-2adb2bffafd1",
        "colab": {
          "base_uri": "https://localhost:8080/",
          "height": 363
        }
      },
      "execution_count": 4,
      "outputs": [
        {
          "output_type": "execute_result",
          "data": {
            "text/plain": [
              "            tconst     nconst            primaryName  \\\n",
              "1202650  tt0111161  nm0002353          Thomas Newman   \n",
              "1202649  tt0111161  nm0001104         Frank Darabont   \n",
              "1202648  tt0111161  nm0348409             Bob Gunton   \n",
              "1202647  tt0111161  nm0290358  Richard Francis-Bruce   \n",
              "1202646  tt0111161  nm0000175           Stephen King   \n",
              "1202645  tt0111161  nm0000151         Morgan Freeman   \n",
              "1202644  tt0111161  nm0005683          Roger Deakins   \n",
              "1202652  tt0111161  nm0006669         William Sadler   \n",
              "1202653  tt0111161  nm0555550            Niki Marvin   \n",
              "1202651  tt0111161  nm0000209            Tim Robbins   \n",
              "\n",
              "                                       primaryProfession  averageRating  \\\n",
              "1202650             music_department,composer,soundtrack            9.3   \n",
              "1202649                         writer,producer,director            9.3   \n",
              "1202648                                 actor,soundtrack            9.3   \n",
              "1202647     editor,editorial_department,sound_department            9.3   \n",
              "1202646                            writer,producer,actor            9.3   \n",
              "1202645                        actor,producer,soundtrack            9.3   \n",
              "1202644  cinematographer,camera_department,miscellaneous            9.3   \n",
              "1202652                        actor,soundtrack,producer            9.3   \n",
              "1202653                         producer,director,writer            9.3   \n",
              "1202651                          actor,producer,director            9.3   \n",
              "\n",
              "         numVotes titleType  wheighted  \n",
              "1202650   2656662     movie   0.001932  \n",
              "1202649   2656662     movie   0.001932  \n",
              "1202648   2656662     movie   0.001932  \n",
              "1202647   2656662     movie   0.001932  \n",
              "1202646   2656662     movie   0.001932  \n",
              "1202645   2656662     movie   0.001932  \n",
              "1202644   2656662     movie   0.001932  \n",
              "1202652   2656662     movie   0.001932  \n",
              "1202653   2656662     movie   0.001932  \n",
              "1202651   2656662     movie   0.001932  "
            ],
            "text/html": [
              "\n",
              "  <div id=\"df-d6fcc216-2e70-4695-b29f-c9f9d7831d65\">\n",
              "    <div class=\"colab-df-container\">\n",
              "      <div>\n",
              "<style scoped>\n",
              "    .dataframe tbody tr th:only-of-type {\n",
              "        vertical-align: middle;\n",
              "    }\n",
              "\n",
              "    .dataframe tbody tr th {\n",
              "        vertical-align: top;\n",
              "    }\n",
              "\n",
              "    .dataframe thead th {\n",
              "        text-align: right;\n",
              "    }\n",
              "</style>\n",
              "<table border=\"1\" class=\"dataframe\">\n",
              "  <thead>\n",
              "    <tr style=\"text-align: right;\">\n",
              "      <th></th>\n",
              "      <th>tconst</th>\n",
              "      <th>nconst</th>\n",
              "      <th>primaryName</th>\n",
              "      <th>primaryProfession</th>\n",
              "      <th>averageRating</th>\n",
              "      <th>numVotes</th>\n",
              "      <th>titleType</th>\n",
              "      <th>wheighted</th>\n",
              "    </tr>\n",
              "  </thead>\n",
              "  <tbody>\n",
              "    <tr>\n",
              "      <th>1202650</th>\n",
              "      <td>tt0111161</td>\n",
              "      <td>nm0002353</td>\n",
              "      <td>Thomas Newman</td>\n",
              "      <td>music_department,composer,soundtrack</td>\n",
              "      <td>9.3</td>\n",
              "      <td>2656662</td>\n",
              "      <td>movie</td>\n",
              "      <td>0.001932</td>\n",
              "    </tr>\n",
              "    <tr>\n",
              "      <th>1202649</th>\n",
              "      <td>tt0111161</td>\n",
              "      <td>nm0001104</td>\n",
              "      <td>Frank Darabont</td>\n",
              "      <td>writer,producer,director</td>\n",
              "      <td>9.3</td>\n",
              "      <td>2656662</td>\n",
              "      <td>movie</td>\n",
              "      <td>0.001932</td>\n",
              "    </tr>\n",
              "    <tr>\n",
              "      <th>1202648</th>\n",
              "      <td>tt0111161</td>\n",
              "      <td>nm0348409</td>\n",
              "      <td>Bob Gunton</td>\n",
              "      <td>actor,soundtrack</td>\n",
              "      <td>9.3</td>\n",
              "      <td>2656662</td>\n",
              "      <td>movie</td>\n",
              "      <td>0.001932</td>\n",
              "    </tr>\n",
              "    <tr>\n",
              "      <th>1202647</th>\n",
              "      <td>tt0111161</td>\n",
              "      <td>nm0290358</td>\n",
              "      <td>Richard Francis-Bruce</td>\n",
              "      <td>editor,editorial_department,sound_department</td>\n",
              "      <td>9.3</td>\n",
              "      <td>2656662</td>\n",
              "      <td>movie</td>\n",
              "      <td>0.001932</td>\n",
              "    </tr>\n",
              "    <tr>\n",
              "      <th>1202646</th>\n",
              "      <td>tt0111161</td>\n",
              "      <td>nm0000175</td>\n",
              "      <td>Stephen King</td>\n",
              "      <td>writer,producer,actor</td>\n",
              "      <td>9.3</td>\n",
              "      <td>2656662</td>\n",
              "      <td>movie</td>\n",
              "      <td>0.001932</td>\n",
              "    </tr>\n",
              "    <tr>\n",
              "      <th>1202645</th>\n",
              "      <td>tt0111161</td>\n",
              "      <td>nm0000151</td>\n",
              "      <td>Morgan Freeman</td>\n",
              "      <td>actor,producer,soundtrack</td>\n",
              "      <td>9.3</td>\n",
              "      <td>2656662</td>\n",
              "      <td>movie</td>\n",
              "      <td>0.001932</td>\n",
              "    </tr>\n",
              "    <tr>\n",
              "      <th>1202644</th>\n",
              "      <td>tt0111161</td>\n",
              "      <td>nm0005683</td>\n",
              "      <td>Roger Deakins</td>\n",
              "      <td>cinematographer,camera_department,miscellaneous</td>\n",
              "      <td>9.3</td>\n",
              "      <td>2656662</td>\n",
              "      <td>movie</td>\n",
              "      <td>0.001932</td>\n",
              "    </tr>\n",
              "    <tr>\n",
              "      <th>1202652</th>\n",
              "      <td>tt0111161</td>\n",
              "      <td>nm0006669</td>\n",
              "      <td>William Sadler</td>\n",
              "      <td>actor,soundtrack,producer</td>\n",
              "      <td>9.3</td>\n",
              "      <td>2656662</td>\n",
              "      <td>movie</td>\n",
              "      <td>0.001932</td>\n",
              "    </tr>\n",
              "    <tr>\n",
              "      <th>1202653</th>\n",
              "      <td>tt0111161</td>\n",
              "      <td>nm0555550</td>\n",
              "      <td>Niki Marvin</td>\n",
              "      <td>producer,director,writer</td>\n",
              "      <td>9.3</td>\n",
              "      <td>2656662</td>\n",
              "      <td>movie</td>\n",
              "      <td>0.001932</td>\n",
              "    </tr>\n",
              "    <tr>\n",
              "      <th>1202651</th>\n",
              "      <td>tt0111161</td>\n",
              "      <td>nm0000209</td>\n",
              "      <td>Tim Robbins</td>\n",
              "      <td>actor,producer,director</td>\n",
              "      <td>9.3</td>\n",
              "      <td>2656662</td>\n",
              "      <td>movie</td>\n",
              "      <td>0.001932</td>\n",
              "    </tr>\n",
              "  </tbody>\n",
              "</table>\n",
              "</div>\n",
              "      <button class=\"colab-df-convert\" onclick=\"convertToInteractive('df-d6fcc216-2e70-4695-b29f-c9f9d7831d65')\"\n",
              "              title=\"Convert this dataframe to an interactive table.\"\n",
              "              style=\"display:none;\">\n",
              "        \n",
              "  <svg xmlns=\"http://www.w3.org/2000/svg\" height=\"24px\"viewBox=\"0 0 24 24\"\n",
              "       width=\"24px\">\n",
              "    <path d=\"M0 0h24v24H0V0z\" fill=\"none\"/>\n",
              "    <path d=\"M18.56 5.44l.94 2.06.94-2.06 2.06-.94-2.06-.94-.94-2.06-.94 2.06-2.06.94zm-11 1L8.5 8.5l.94-2.06 2.06-.94-2.06-.94L8.5 2.5l-.94 2.06-2.06.94zm10 10l.94 2.06.94-2.06 2.06-.94-2.06-.94-.94-2.06-.94 2.06-2.06.94z\"/><path d=\"M17.41 7.96l-1.37-1.37c-.4-.4-.92-.59-1.43-.59-.52 0-1.04.2-1.43.59L10.3 9.45l-7.72 7.72c-.78.78-.78 2.05 0 2.83L4 21.41c.39.39.9.59 1.41.59.51 0 1.02-.2 1.41-.59l7.78-7.78 2.81-2.81c.8-.78.8-2.07 0-2.86zM5.41 20L4 18.59l7.72-7.72 1.47 1.35L5.41 20z\"/>\n",
              "  </svg>\n",
              "      </button>\n",
              "      \n",
              "  <style>\n",
              "    .colab-df-container {\n",
              "      display:flex;\n",
              "      flex-wrap:wrap;\n",
              "      gap: 12px;\n",
              "    }\n",
              "\n",
              "    .colab-df-convert {\n",
              "      background-color: #E8F0FE;\n",
              "      border: none;\n",
              "      border-radius: 50%;\n",
              "      cursor: pointer;\n",
              "      display: none;\n",
              "      fill: #1967D2;\n",
              "      height: 32px;\n",
              "      padding: 0 0 0 0;\n",
              "      width: 32px;\n",
              "    }\n",
              "\n",
              "    .colab-df-convert:hover {\n",
              "      background-color: #E2EBFA;\n",
              "      box-shadow: 0px 1px 2px rgba(60, 64, 67, 0.3), 0px 1px 3px 1px rgba(60, 64, 67, 0.15);\n",
              "      fill: #174EA6;\n",
              "    }\n",
              "\n",
              "    [theme=dark] .colab-df-convert {\n",
              "      background-color: #3B4455;\n",
              "      fill: #D2E3FC;\n",
              "    }\n",
              "\n",
              "    [theme=dark] .colab-df-convert:hover {\n",
              "      background-color: #434B5C;\n",
              "      box-shadow: 0px 1px 3px 1px rgba(0, 0, 0, 0.15);\n",
              "      filter: drop-shadow(0px 1px 2px rgba(0, 0, 0, 0.3));\n",
              "      fill: #FFFFFF;\n",
              "    }\n",
              "  </style>\n",
              "\n",
              "      <script>\n",
              "        const buttonEl =\n",
              "          document.querySelector('#df-d6fcc216-2e70-4695-b29f-c9f9d7831d65 button.colab-df-convert');\n",
              "        buttonEl.style.display =\n",
              "          google.colab.kernel.accessAllowed ? 'block' : 'none';\n",
              "\n",
              "        async function convertToInteractive(key) {\n",
              "          const element = document.querySelector('#df-d6fcc216-2e70-4695-b29f-c9f9d7831d65');\n",
              "          const dataTable =\n",
              "            await google.colab.kernel.invokeFunction('convertToInteractive',\n",
              "                                                     [key], {});\n",
              "          if (!dataTable) return;\n",
              "\n",
              "          const docLinkHtml = 'Like what you see? Visit the ' +\n",
              "            '<a target=\"_blank\" href=https://colab.research.google.com/notebooks/data_table.ipynb>data table notebook</a>'\n",
              "            + ' to learn more about interactive tables.';\n",
              "          element.innerHTML = '';\n",
              "          dataTable['output_type'] = 'display_data';\n",
              "          await google.colab.output.renderOutput(dataTable, element);\n",
              "          const docLink = document.createElement('div');\n",
              "          docLink.innerHTML = docLinkHtml;\n",
              "          element.appendChild(docLink);\n",
              "        }\n",
              "      </script>\n",
              "    </div>\n",
              "  </div>\n",
              "  "
            ]
          },
          "metadata": {},
          "execution_count": 4
        }
      ]
    },
    {
      "cell_type": "code",
      "source": [
        "top_movies[\"primaryProfession\"] = top_movies.primaryProfession.str.split(',')\n",
        "top_movies_split = top_movies.explode(\"primaryProfession\")"
      ],
      "metadata": {
        "id": "xdIb2jx2xGTH"
      },
      "execution_count": 5,
      "outputs": []
    },
    {
      "cell_type": "code",
      "source": [
        "top_movies_split.head()"
      ],
      "metadata": {
        "id": "XSp0QyTfxSsm",
        "outputId": "75053604-92f0-4ebb-be5b-4bc17a38a600",
        "colab": {
          "base_uri": "https://localhost:8080/",
          "height": 206
        }
      },
      "execution_count": 6,
      "outputs": [
        {
          "output_type": "execute_result",
          "data": {
            "text/plain": [
              "      tconst     nconst           primaryName primaryProfession  \\\n",
              "0  tt0000001  nm1588970            Carmencita        soundtrack   \n",
              "1  tt0000001  nm0005690  William K.L. Dickson   cinematographer   \n",
              "1  tt0000001  nm0005690  William K.L. Dickson          director   \n",
              "1  tt0000001  nm0005690  William K.L. Dickson          producer   \n",
              "2  tt0000001  nm0374658         William Heise   cinematographer   \n",
              "\n",
              "   averageRating  numVotes titleType     wheighted  \n",
              "0            5.7      1921     short  8.562052e-07  \n",
              "1            5.7      1921     short  8.562052e-07  \n",
              "1            5.7      1921     short  8.562052e-07  \n",
              "1            5.7      1921     short  8.562052e-07  \n",
              "2            5.7      1921     short  8.562052e-07  "
            ],
            "text/html": [
              "\n",
              "  <div id=\"df-faaf9832-334c-4a35-826f-8677876ce0dc\">\n",
              "    <div class=\"colab-df-container\">\n",
              "      <div>\n",
              "<style scoped>\n",
              "    .dataframe tbody tr th:only-of-type {\n",
              "        vertical-align: middle;\n",
              "    }\n",
              "\n",
              "    .dataframe tbody tr th {\n",
              "        vertical-align: top;\n",
              "    }\n",
              "\n",
              "    .dataframe thead th {\n",
              "        text-align: right;\n",
              "    }\n",
              "</style>\n",
              "<table border=\"1\" class=\"dataframe\">\n",
              "  <thead>\n",
              "    <tr style=\"text-align: right;\">\n",
              "      <th></th>\n",
              "      <th>tconst</th>\n",
              "      <th>nconst</th>\n",
              "      <th>primaryName</th>\n",
              "      <th>primaryProfession</th>\n",
              "      <th>averageRating</th>\n",
              "      <th>numVotes</th>\n",
              "      <th>titleType</th>\n",
              "      <th>wheighted</th>\n",
              "    </tr>\n",
              "  </thead>\n",
              "  <tbody>\n",
              "    <tr>\n",
              "      <th>0</th>\n",
              "      <td>tt0000001</td>\n",
              "      <td>nm1588970</td>\n",
              "      <td>Carmencita</td>\n",
              "      <td>soundtrack</td>\n",
              "      <td>5.7</td>\n",
              "      <td>1921</td>\n",
              "      <td>short</td>\n",
              "      <td>8.562052e-07</td>\n",
              "    </tr>\n",
              "    <tr>\n",
              "      <th>1</th>\n",
              "      <td>tt0000001</td>\n",
              "      <td>nm0005690</td>\n",
              "      <td>William K.L. Dickson</td>\n",
              "      <td>cinematographer</td>\n",
              "      <td>5.7</td>\n",
              "      <td>1921</td>\n",
              "      <td>short</td>\n",
              "      <td>8.562052e-07</td>\n",
              "    </tr>\n",
              "    <tr>\n",
              "      <th>1</th>\n",
              "      <td>tt0000001</td>\n",
              "      <td>nm0005690</td>\n",
              "      <td>William K.L. Dickson</td>\n",
              "      <td>director</td>\n",
              "      <td>5.7</td>\n",
              "      <td>1921</td>\n",
              "      <td>short</td>\n",
              "      <td>8.562052e-07</td>\n",
              "    </tr>\n",
              "    <tr>\n",
              "      <th>1</th>\n",
              "      <td>tt0000001</td>\n",
              "      <td>nm0005690</td>\n",
              "      <td>William K.L. Dickson</td>\n",
              "      <td>producer</td>\n",
              "      <td>5.7</td>\n",
              "      <td>1921</td>\n",
              "      <td>short</td>\n",
              "      <td>8.562052e-07</td>\n",
              "    </tr>\n",
              "    <tr>\n",
              "      <th>2</th>\n",
              "      <td>tt0000001</td>\n",
              "      <td>nm0374658</td>\n",
              "      <td>William Heise</td>\n",
              "      <td>cinematographer</td>\n",
              "      <td>5.7</td>\n",
              "      <td>1921</td>\n",
              "      <td>short</td>\n",
              "      <td>8.562052e-07</td>\n",
              "    </tr>\n",
              "  </tbody>\n",
              "</table>\n",
              "</div>\n",
              "      <button class=\"colab-df-convert\" onclick=\"convertToInteractive('df-faaf9832-334c-4a35-826f-8677876ce0dc')\"\n",
              "              title=\"Convert this dataframe to an interactive table.\"\n",
              "              style=\"display:none;\">\n",
              "        \n",
              "  <svg xmlns=\"http://www.w3.org/2000/svg\" height=\"24px\"viewBox=\"0 0 24 24\"\n",
              "       width=\"24px\">\n",
              "    <path d=\"M0 0h24v24H0V0z\" fill=\"none\"/>\n",
              "    <path d=\"M18.56 5.44l.94 2.06.94-2.06 2.06-.94-2.06-.94-.94-2.06-.94 2.06-2.06.94zm-11 1L8.5 8.5l.94-2.06 2.06-.94-2.06-.94L8.5 2.5l-.94 2.06-2.06.94zm10 10l.94 2.06.94-2.06 2.06-.94-2.06-.94-.94-2.06-.94 2.06-2.06.94z\"/><path d=\"M17.41 7.96l-1.37-1.37c-.4-.4-.92-.59-1.43-.59-.52 0-1.04.2-1.43.59L10.3 9.45l-7.72 7.72c-.78.78-.78 2.05 0 2.83L4 21.41c.39.39.9.59 1.41.59.51 0 1.02-.2 1.41-.59l7.78-7.78 2.81-2.81c.8-.78.8-2.07 0-2.86zM5.41 20L4 18.59l7.72-7.72 1.47 1.35L5.41 20z\"/>\n",
              "  </svg>\n",
              "      </button>\n",
              "      \n",
              "  <style>\n",
              "    .colab-df-container {\n",
              "      display:flex;\n",
              "      flex-wrap:wrap;\n",
              "      gap: 12px;\n",
              "    }\n",
              "\n",
              "    .colab-df-convert {\n",
              "      background-color: #E8F0FE;\n",
              "      border: none;\n",
              "      border-radius: 50%;\n",
              "      cursor: pointer;\n",
              "      display: none;\n",
              "      fill: #1967D2;\n",
              "      height: 32px;\n",
              "      padding: 0 0 0 0;\n",
              "      width: 32px;\n",
              "    }\n",
              "\n",
              "    .colab-df-convert:hover {\n",
              "      background-color: #E2EBFA;\n",
              "      box-shadow: 0px 1px 2px rgba(60, 64, 67, 0.3), 0px 1px 3px 1px rgba(60, 64, 67, 0.15);\n",
              "      fill: #174EA6;\n",
              "    }\n",
              "\n",
              "    [theme=dark] .colab-df-convert {\n",
              "      background-color: #3B4455;\n",
              "      fill: #D2E3FC;\n",
              "    }\n",
              "\n",
              "    [theme=dark] .colab-df-convert:hover {\n",
              "      background-color: #434B5C;\n",
              "      box-shadow: 0px 1px 3px 1px rgba(0, 0, 0, 0.15);\n",
              "      filter: drop-shadow(0px 1px 2px rgba(0, 0, 0, 0.3));\n",
              "      fill: #FFFFFF;\n",
              "    }\n",
              "  </style>\n",
              "\n",
              "      <script>\n",
              "        const buttonEl =\n",
              "          document.querySelector('#df-faaf9832-334c-4a35-826f-8677876ce0dc button.colab-df-convert');\n",
              "        buttonEl.style.display =\n",
              "          google.colab.kernel.accessAllowed ? 'block' : 'none';\n",
              "\n",
              "        async function convertToInteractive(key) {\n",
              "          const element = document.querySelector('#df-faaf9832-334c-4a35-826f-8677876ce0dc');\n",
              "          const dataTable =\n",
              "            await google.colab.kernel.invokeFunction('convertToInteractive',\n",
              "                                                     [key], {});\n",
              "          if (!dataTable) return;\n",
              "\n",
              "          const docLinkHtml = 'Like what you see? Visit the ' +\n",
              "            '<a target=\"_blank\" href=https://colab.research.google.com/notebooks/data_table.ipynb>data table notebook</a>'\n",
              "            + ' to learn more about interactive tables.';\n",
              "          element.innerHTML = '';\n",
              "          dataTable['output_type'] = 'display_data';\n",
              "          await google.colab.output.renderOutput(dataTable, element);\n",
              "          const docLink = document.createElement('div');\n",
              "          docLink.innerHTML = docLinkHtml;\n",
              "          element.appendChild(docLink);\n",
              "        }\n",
              "      </script>\n",
              "    </div>\n",
              "  </div>\n",
              "  "
            ]
          },
          "metadata": {},
          "execution_count": 6
        }
      ]
    },
    {
      "cell_type": "code",
      "source": [
        "top_movies_split.to_pickle('/content/tm4.pickle')\n"
      ],
      "metadata": {
        "id": "mgp_L8tWxWvF"
      },
      "execution_count": 7,
      "outputs": []
    },
    {
      "cell_type": "code",
      "source": [
        "top_movies_split = pd.read_pickle(\"/content/tm4.pickle\")"
      ],
      "metadata": {
        "id": "jo8no_YyxnVB"
      },
      "execution_count": 2,
      "outputs": []
    },
    {
      "cell_type": "code",
      "source": [
        "actors['primaryProfession'].value_counts()"
      ],
      "metadata": {
        "id": "oofPh_x5yTeC",
        "outputId": "dbfc5851-91c5-440c-c86f-a1c8aa6beb65",
        "colab": {
          "base_uri": "https://localhost:8080/"
        }
      },
      "execution_count": 38,
      "outputs": [
        {
          "output_type": "execute_result",
          "data": {
            "text/plain": [
              "actor                250\n",
              "producer             250\n",
              "soundtrack           250\n",
              "script_department     24\n",
              "miscellaneous         24\n",
              "writer                24\n",
              "Name: primaryProfession, dtype: int64"
            ]
          },
          "metadata": {},
          "execution_count": 38
        }
      ]
    },
    {
      "cell_type": "code",
      "source": [
        "condition_ms = title_basics.loc[((title_basics['titleType'] == 'movie') | (title_basics['titleType'] =='short')) & (title_basics['startYear'] <= '2022')]"
      ],
      "metadata": {
        "id": "Kl4O9rh-0rSX",
        "outputId": "068d0c15-e398-46f4-b1bf-997c28803886",
        "colab": {
          "base_uri": "https://localhost:8080/",
          "height": 165
        }
      },
      "execution_count": 39,
      "outputs": [
        {
          "output_type": "error",
          "ename": "NameError",
          "evalue": "ignored",
          "traceback": [
            "\u001b[0;31m---------------------------------------------------------------------------\u001b[0m",
            "\u001b[0;31mNameError\u001b[0m                                 Traceback (most recent call last)",
            "\u001b[0;32m<ipython-input-39-7cb835173644>\u001b[0m in \u001b[0;36m<module>\u001b[0;34m\u001b[0m\n\u001b[0;32m----> 1\u001b[0;31m \u001b[0mcondition_ms\u001b[0m \u001b[0;34m=\u001b[0m \u001b[0mtitle_basics\u001b[0m\u001b[0;34m.\u001b[0m\u001b[0mloc\u001b[0m\u001b[0;34m[\u001b[0m\u001b[0;34m(\u001b[0m\u001b[0;34m(\u001b[0m\u001b[0mtitle_basics\u001b[0m\u001b[0;34m[\u001b[0m\u001b[0;34m'titleType'\u001b[0m\u001b[0;34m]\u001b[0m \u001b[0;34m==\u001b[0m \u001b[0;34m'movie'\u001b[0m\u001b[0;34m)\u001b[0m \u001b[0;34m|\u001b[0m \u001b[0;34m(\u001b[0m\u001b[0mtitle_basics\u001b[0m\u001b[0;34m[\u001b[0m\u001b[0;34m'titleType'\u001b[0m\u001b[0;34m]\u001b[0m \u001b[0;34m==\u001b[0m\u001b[0;34m'short'\u001b[0m\u001b[0;34m)\u001b[0m\u001b[0;34m)\u001b[0m \u001b[0;34m&\u001b[0m \u001b[0;34m(\u001b[0m\u001b[0mtitle_basics\u001b[0m\u001b[0;34m[\u001b[0m\u001b[0;34m'startYear'\u001b[0m\u001b[0;34m]\u001b[0m \u001b[0;34m<=\u001b[0m \u001b[0;34m'2022'\u001b[0m\u001b[0;34m)\u001b[0m\u001b[0;34m]\u001b[0m\u001b[0;34m\u001b[0m\u001b[0;34m\u001b[0m\u001b[0m\n\u001b[0m",
            "\u001b[0;31mNameError\u001b[0m: name 'title_basics' is not defined"
          ]
        }
      ]
    },
    {
      "cell_type": "code",
      "source": [
        "condition = top_movies_split['primaryProfession'] == 'actor'\n",
        "\n",
        "actors = top_movies_split[condition][['nconst','primaryName','tconst','averageRating','wheighted','primaryProfession','titleType']]\n",
        "\n",
        "condition2 = actors['titleType'] == 'movie'\n",
        "condition3 = actors['titleType'] == 'short'\n",
        "actors_ms = actors[condition2 | condition3 ][['nconst','primaryName','tconst','averageRating','wheighted','primaryProfession','titleType']]"
      ],
      "metadata": {
        "id": "M5taUyGYijBA"
      },
      "execution_count": 42,
      "outputs": []
    },
    {
      "cell_type": "code",
      "source": [
        "actors_ms['titleType'].value_counts()"
      ],
      "metadata": {
        "id": "0NOVJ5F71byo",
        "outputId": "977838f9-f58f-4225-995c-8d298f244a29",
        "colab": {
          "base_uri": "https://localhost:8080/"
        }
      },
      "execution_count": 43,
      "outputs": [
        {
          "output_type": "execute_result",
          "data": {
            "text/plain": [
              "movie    902027\n",
              "short    309812\n",
              "Name: titleType, dtype: int64"
            ]
          },
          "metadata": {},
          "execution_count": 43
        }
      ]
    },
    {
      "cell_type": "code",
      "source": [
        "actors[\"averageRating\"].mean()\n"
      ],
      "metadata": {
        "id": "kUiyJ7HO79rk",
        "outputId": "e38cdc32-6801-4f1b-f152-234d7909e388",
        "colab": {
          "base_uri": "https://localhost:8080/"
        }
      },
      "execution_count": null,
      "outputs": [
        {
          "output_type": "execute_result",
          "data": {
            "text/plain": [
              "6.915578399448448"
            ]
          },
          "metadata": {},
          "execution_count": 11
        }
      ]
    },
    {
      "cell_type": "code",
      "source": [
        "condition2 = actors_ms['wheighted'] > actors_ms[\"wheighted\"].mean()\n",
        "\n",
        "t_actors = actors_ms[condition2][['nconst','primaryName','tconst','averageRating','wheighted','primaryProfession','titleType']]"
      ],
      "metadata": {
        "id": "4zuGmnpS8Fa7"
      },
      "execution_count": 44,
      "outputs": []
    },
    {
      "cell_type": "code",
      "source": [
        "actorst = t_actors.groupby('primaryName')['tconst'].count().reset_index(name='count_actors_movie') \n",
        "tp = actorst.sort_values(by=('count_actors_movie'), ascending=False)\n",
        "\n",
        "top = actorst.sort_values(by=('count_actors_movie'), ascending=False).head(10)"
      ],
      "metadata": {
        "id": "DaP1xOxE7eT3"
      },
      "execution_count": 45,
      "outputs": []
    },
    {
      "cell_type": "code",
      "source": [
        "sns.set(rc={'figure.figsize':(12,8)})\n",
        "sns.set_style(\"white\")\n",
        "ax = sns.barplot(data=top, y=\"primaryName\", x=\"count_actors_movie\", color ='steelblue')\n",
        "ax.set(title = 'TOP ACTORS')\n",
        "ax.set(xlabel='Nº movies', ylabel='Actors')\n",
        "\n",
        "# ax = sns.barplot(data=top, y=\"primaryName\", x=\"count_actors_movie\",color=\"seagreen\")\n",
        "\n",
        "fig03 = ax.get_figure()\n",
        "fig03.savefig(\"sns_titles.png\", bbox_inches = \"tight\")"
      ],
      "metadata": {
        "id": "N-e96EyskOqY",
        "outputId": "e2cea02d-c1a5-4086-b5d1-5bfbed8aba23",
        "colab": {
          "base_uri": "https://localhost:8080/",
          "height": 518
        }
      },
      "execution_count": 50,
      "outputs": [
        {
          "output_type": "display_data",
          "data": {
            "text/plain": [
              "<Figure size 864x576 with 1 Axes>"
            ],
            "image/png": "[encoded data removed]"
          },
          "metadata": {}
        }
      ]
    },
    {
      "cell_type": "code",
      "source": [
        "top "
      ],
      "metadata": {
        "colab": {
          "base_uri": "https://localhost:8080/",
          "height": 363
        },
        "id": "ZXPCe6RzS4AF",
        "outputId": "878fff3d-c6e5-4326-9670-eb228d3c0d6a"
      },
      "execution_count": null,
      "outputs": [
        {
          "output_type": "execute_result",
          "data": {
            "text/plain": [
              "             primaryName  count_actors_movie\n",
              "19440     Robert De Niro                  89\n",
              "16844       Nicolas Cage                  88\n",
              "22522          Tim Bevan                  76\n",
              "473         Akshay Kumar                  73\n",
              "3196        Bruce Willis                  72\n",
              "20411  Samuel L. Jackson                  72\n",
              "22769          Tom Hanks                  67\n",
              "3056        Brian Grazer                  66\n",
              "4396      Clint Eastwood                  65\n",
              "15500      Michael Caine                  63"
            ],
            "text/html": [
              "\n",
              "  <div id=\"df-ba422daf-4af2-4c91-a247-f2c3a5c4bbc1\">\n",
              "    <div class=\"colab-df-container\">\n",
              "      <div>\n",
              "<style scoped>\n",
              "    .dataframe tbody tr th:only-of-type {\n",
              "        vertical-align: middle;\n",
              "    }\n",
              "\n",
              "    .dataframe tbody tr th {\n",
              "        vertical-align: top;\n",
              "    }\n",
              "\n",
              "    .dataframe thead th {\n",
              "        text-align: right;\n",
              "    }\n",
              "</style>\n",
              "<table border=\"1\" class=\"dataframe\">\n",
              "  <thead>\n",
              "    <tr style=\"text-align: right;\">\n",
              "      <th></th>\n",
              "      <th>primaryName</th>\n",
              "      <th>count_actors_movie</th>\n",
              "    </tr>\n",
              "  </thead>\n",
              "  <tbody>\n",
              "    <tr>\n",
              "      <th>19440</th>\n",
              "      <td>Robert De Niro</td>\n",
              "      <td>89</td>\n",
              "    </tr>\n",
              "    <tr>\n",
              "      <th>16844</th>\n",
              "      <td>Nicolas Cage</td>\n",
              "      <td>88</td>\n",
              "    </tr>\n",
              "    <tr>\n",
              "      <th>22522</th>\n",
              "      <td>Tim Bevan</td>\n",
              "      <td>76</td>\n",
              "    </tr>\n",
              "    <tr>\n",
              "      <th>473</th>\n",
              "      <td>Akshay Kumar</td>\n",
              "      <td>73</td>\n",
              "    </tr>\n",
              "    <tr>\n",
              "      <th>3196</th>\n",
              "      <td>Bruce Willis</td>\n",
              "      <td>72</td>\n",
              "    </tr>\n",
              "    <tr>\n",
              "      <th>20411</th>\n",
              "      <td>Samuel L. Jackson</td>\n",
              "      <td>72</td>\n",
              "    </tr>\n",
              "    <tr>\n",
              "      <th>22769</th>\n",
              "      <td>Tom Hanks</td>\n",
              "      <td>67</td>\n",
              "    </tr>\n",
              "    <tr>\n",
              "      <th>3056</th>\n",
              "      <td>Brian Grazer</td>\n",
              "      <td>66</td>\n",
              "    </tr>\n",
              "    <tr>\n",
              "      <th>4396</th>\n",
              "      <td>Clint Eastwood</td>\n",
              "      <td>65</td>\n",
              "    </tr>\n",
              "    <tr>\n",
              "      <th>15500</th>\n",
              "      <td>Michael Caine</td>\n",
              "      <td>63</td>\n",
              "    </tr>\n",
              "  </tbody>\n",
              "</table>\n",
              "</div>\n",
              "      <button class=\"colab-df-convert\" onclick=\"convertToInteractive('df-ba422daf-4af2-4c91-a247-f2c3a5c4bbc1')\"\n",
              "              title=\"Convert this dataframe to an interactive table.\"\n",
              "              style=\"display:none;\">\n",
              "        \n",
              "  <svg xmlns=\"http://www.w3.org/2000/svg\" height=\"24px\"viewBox=\"0 0 24 24\"\n",
              "       width=\"24px\">\n",
              "    <path d=\"M0 0h24v24H0V0z\" fill=\"none\"/>\n",
              "    <path d=\"M18.56 5.44l.94 2.06.94-2.06 2.06-.94-2.06-.94-.94-2.06-.94 2.06-2.06.94zm-11 1L8.5 8.5l.94-2.06 2.06-.94-2.06-.94L8.5 2.5l-.94 2.06-2.06.94zm10 10l.94 2.06.94-2.06 2.06-.94-2.06-.94-.94-2.06-.94 2.06-2.06.94z\"/><path d=\"M17.41 7.96l-1.37-1.37c-.4-.4-.92-.59-1.43-.59-.52 0-1.04.2-1.43.59L10.3 9.45l-7.72 7.72c-.78.78-.78 2.05 0 2.83L4 21.41c.39.39.9.59 1.41.59.51 0 1.02-.2 1.41-.59l7.78-7.78 2.81-2.81c.8-.78.8-2.07 0-2.86zM5.41 20L4 18.59l7.72-7.72 1.47 1.35L5.41 20z\"/>\n",
              "  </svg>\n",
              "      </button>\n",
              "      \n",
              "  <style>\n",
              "    .colab-df-container {\n",
              "      display:flex;\n",
              "      flex-wrap:wrap;\n",
              "      gap: 12px;\n",
              "    }\n",
              "\n",
              "    .colab-df-convert {\n",
              "      background-color: #E8F0FE;\n",
              "      border: none;\n",
              "      border-radius: 50%;\n",
              "      cursor: pointer;\n",
              "      display: none;\n",
              "      fill: #1967D2;\n",
              "      height: 32px;\n",
              "      padding: 0 0 0 0;\n",
              "      width: 32px;\n",
              "    }\n",
              "\n",
              "    .colab-df-convert:hover {\n",
              "      background-color: #E2EBFA;\n",
              "      box-shadow: 0px 1px 2px rgba(60, 64, 67, 0.3), 0px 1px 3px 1px rgba(60, 64, 67, 0.15);\n",
              "      fill: #174EA6;\n",
              "    }\n",
              "\n",
              "    [theme=dark] .colab-df-convert {\n",
              "      background-color: #3B4455;\n",
              "      fill: #D2E3FC;\n",
              "    }\n",
              "\n",
              "    [theme=dark] .colab-df-convert:hover {\n",
              "      background-color: #434B5C;\n",
              "      box-shadow: 0px 1px 3px 1px rgba(0, 0, 0, 0.15);\n",
              "      filter: drop-shadow(0px 1px 2px rgba(0, 0, 0, 0.3));\n",
              "      fill: #FFFFFF;\n",
              "    }\n",
              "  </style>\n",
              "\n",
              "      <script>\n",
              "        const buttonEl =\n",
              "          document.querySelector('#df-ba422daf-4af2-4c91-a247-f2c3a5c4bbc1 button.colab-df-convert');\n",
              "        buttonEl.style.display =\n",
              "          google.colab.kernel.accessAllowed ? 'block' : 'none';\n",
              "\n",
              "        async function convertToInteractive(key) {\n",
              "          const element = document.querySelector('#df-ba422daf-4af2-4c91-a247-f2c3a5c4bbc1');\n",
              "          const dataTable =\n",
              "            await google.colab.kernel.invokeFunction('convertToInteractive',\n",
              "                                                     [key], {});\n",
              "          if (!dataTable) return;\n",
              "\n",
              "          const docLinkHtml = 'Like what you see? Visit the ' +\n",
              "            '<a target=\"_blank\" href=https://colab.research.google.com/notebooks/data_table.ipynb>data table notebook</a>'\n",
              "            + ' to learn more about interactive tables.';\n",
              "          element.innerHTML = '';\n",
              "          dataTable['output_type'] = 'display_data';\n",
              "          await google.colab.output.renderOutput(dataTable, element);\n",
              "          const docLink = document.createElement('div');\n",
              "          docLink.innerHTML = docLinkHtml;\n",
              "          element.appendChild(docLink);\n",
              "        }\n",
              "      </script>\n",
              "    </div>\n",
              "  </div>\n",
              "  "
            ]
          },
          "metadata": {},
          "execution_count": 20
        }
      ]
    },
    {
      "cell_type": "code",
      "source": [
        "actor = str(input(\"Choose an actor \"))\n",
        "result=tp.loc[tp['primaryName'] == actor, 'count_actors_movie']\n",
        "if result.empty:\n",
        "  print(\"actor is not on the list\")\n",
        "else:\n",
        "  print(result)"
      ],
      "metadata": {
        "colab": {
          "base_uri": "https://localhost:8080/"
        },
        "id": "NPQNG5vgIQ-w",
        "outputId": "52f92c11-25a4-4bd9-91f1-f5326bfa9831"
      },
      "execution_count": null,
      "outputs": [
        {
          "output_type": "stream",
          "name": "stdout",
          "text": [
            "Choose an actor Brian Grazer\n",
            "3056    66\n",
            "Name: count_actors_movie, dtype: int64\n"
          ]
        }
      ]
    },
    {
      "cell_type": "code",
      "source": [
        "condition45 = top_movies_split['primaryProfession'] == 'actress'\n",
        "actress= top_movies_split[condition45][['nconst','primaryName','tconst','averageRating','wheighted','primaryProfession','titleType']]"
      ],
      "metadata": {
        "id": "8JfjIoLRkjMM"
      },
      "execution_count": 34,
      "outputs": []
    },
    {
      "cell_type": "code",
      "source": [
        "condition2 = actress['titleType'] == 'movie'\n",
        "condition3 = actress['titleType'] == 'short'\n",
        "actress_ms = actress[condition2 | condition3 ][['nconst','primaryName','tconst','averageRating','wheighted','primaryProfession','titleType']]"
      ],
      "metadata": {
        "id": "Yhu6Ctkg6Yjk"
      },
      "execution_count": 35,
      "outputs": []
    },
    {
      "cell_type": "code",
      "source": [
        "actress_ms['titleType'].value_counts()"
      ],
      "metadata": {
        "id": "olwo77tU8vyD",
        "outputId": "5a503d03-0094-49fa-f626-01936b7937e7",
        "colab": {
          "base_uri": "https://localhost:8080/"
        }
      },
      "execution_count": 36,
      "outputs": [
        {
          "output_type": "execute_result",
          "data": {
            "text/plain": [
              "actress    589630\n",
              "Name: primaryProfession, dtype: int64"
            ]
          },
          "metadata": {},
          "execution_count": 36
        }
      ]
    },
    {
      "cell_type": "code",
      "source": [
        "condition4 = actress_ms['wheighted'] > actress_ms[\"wheighted\"].mean()\n",
        "\n",
        "t_actress = actress_ms[condition4][['nconst','primaryName','tconst','averageRating','wheighted','primaryProfession','titleType']]\n",
        "\n",
        "actress_t = t_actress.groupby('primaryName')['tconst'].count().reset_index(name='count_actress_movie') \n",
        "\n",
        "top_w = actress_t.sort_values(by=('count_actress_movie'), ascending=False).head(10)\n"
      ],
      "metadata": {
        "id": "NYgOHS3ccpzN"
      },
      "execution_count": 36,
      "outputs": []
    },
    {
      "cell_type": "code",
      "source": [
        "sns.set(rc={'figure.figsize':(12,8)})\n",
        "sns.set_style(\"white\")\n",
        "ax2 = sns.barplot(data=top_w, y=\"primaryName\", x=\"count_actress_movie\", color ='steelblue')\n",
        "ax2.set(title = 'TOP ACTRESSES')\n",
        "ax2.set(xlabel='Nº movies', ylabel='Actresses')\n"
      ],
      "metadata": {
        "colab": {
          "base_uri": "https://localhost:8080/",
          "height": 535
        },
        "id": "xmhKKpoQcuf9",
        "outputId": "f9a23bbe-4266-4004-c453-7f573dc95424"
      },
      "execution_count": 51,
      "outputs": [
        {
          "output_type": "execute_result",
          "data": {
            "text/plain": [
              "[Text(0, 0.5, 'Actresses'), Text(0.5, 0, 'Nº movies')]"
            ]
          },
          "metadata": {},
          "execution_count": 51
        },
        {
          "output_type": "display_data",
          "data": {
            "text/plain": [
              "<Figure size 864x576 with 1 Axes>"
            ],
            "image/png": "[encoded data removed]"
          },
          "metadata": {}
        }
      ]
    },
    {
      "cell_type": "code",
      "source": [
        "condition4 = top_movies_split['primaryProfession'] == 'writer'\n",
        "writer = top_movies_split[condition4][['nconst','primaryName','tconst','averageRating','wheighted','primaryProfession','titleType']]"
      ],
      "metadata": {
        "id": "hYqt_j2Tk0I_"
      },
      "execution_count": 18,
      "outputs": []
    },
    {
      "cell_type": "code",
      "source": [
        "condition2 = writer['titleType'] == 'movie'\n",
        "condition3 = writer['titleType'] == 'short'\n",
        "writer_ms = writer[condition2 | condition3 ][['nconst','primaryName','tconst','averageRating','wheighted','primaryProfession','titleType']]"
      ],
      "metadata": {
        "id": "1w76ta8Ctkw8"
      },
      "execution_count": 19,
      "outputs": []
    },
    {
      "cell_type": "code",
      "source": [
        "writer_ms['primaryProfession'].value_counts()"
      ],
      "metadata": {
        "id": "-WSWQfgOtQRd",
        "outputId": "7bc2e653-a598-42b5-e04e-abe9354237a3",
        "colab": {
          "base_uri": "https://localhost:8080/"
        }
      },
      "execution_count": 20,
      "outputs": [
        {
          "output_type": "execute_result",
          "data": {
            "text/plain": [
              "writer    1018760\n",
              "Name: primaryProfession, dtype: int64"
            ]
          },
          "metadata": {},
          "execution_count": 20
        }
      ]
    },
    {
      "cell_type": "code",
      "source": [
        "condition4 = writer_ms['wheighted'] > writer_ms['wheighted'].mean()\n",
        "t_writer = writer_ms[condition4][['nconst','primaryName','tconst','averageRating','wheighted','primaryProfession','titleType']]"
      ],
      "metadata": {
        "id": "sH7QqsUWeChS"
      },
      "execution_count": 21,
      "outputs": []
    },
    {
      "cell_type": "code",
      "source": [
        "top_w = t_writer.groupby('primaryName')['tconst'].count().reset_index(name='count_writer_movie') \n",
        "\n",
        "top_w = top_w .sort_values(by=('count_writer_movie'), ascending=False).head(10)\n"
      ],
      "metadata": {
        "id": "rWLnYZGxeLYh"
      },
      "execution_count": 53,
      "outputs": []
    },
    {
      "cell_type": "code",
      "source": [
        "top_w "
      ],
      "metadata": {
        "id": "f5hQeaSVvBe9",
        "outputId": "726c9fec-c506-4b6e-b85e-d7f6d67d8f97",
        "colab": {
          "base_uri": "https://localhost:8080/",
          "height": 363
        }
      },
      "execution_count": 54,
      "outputs": [
        {
          "output_type": "execute_result",
          "data": {
            "text/plain": [
              "               primaryName  count_writer_movie\n",
              "3011          Brian Grazer                  65\n",
              "24484          Woody Allen                  57\n",
              "22012         Stephen King                  54\n",
              "24406  William Shakespeare                  54\n",
              "14352           Luc Besson                  53\n",
              "11459          John Cusack                  53\n",
              "22469   Sylvester Stallone                  51\n",
              "1694      Antonio Banderas                  51\n",
              "225           Adam Sandler                  47\n",
              "6972           Ethan Hawke                  47"
            ],
            "text/html": [
              "\n",
              "  <div id=\"df-b5138be3-a271-486e-8cc1-14d575090a20\">\n",
              "    <div class=\"colab-df-container\">\n",
              "      <div>\n",
              "<style scoped>\n",
              "    .dataframe tbody tr th:only-of-type {\n",
              "        vertical-align: middle;\n",
              "    }\n",
              "\n",
              "    .dataframe tbody tr th {\n",
              "        vertical-align: top;\n",
              "    }\n",
              "\n",
              "    .dataframe thead th {\n",
              "        text-align: right;\n",
              "    }\n",
              "</style>\n",
              "<table border=\"1\" class=\"dataframe\">\n",
              "  <thead>\n",
              "    <tr style=\"text-align: right;\">\n",
              "      <th></th>\n",
              "      <th>primaryName</th>\n",
              "      <th>count_writer_movie</th>\n",
              "    </tr>\n",
              "  </thead>\n",
              "  <tbody>\n",
              "    <tr>\n",
              "      <th>3011</th>\n",
              "      <td>Brian Grazer</td>\n",
              "      <td>65</td>\n",
              "    </tr>\n",
              "    <tr>\n",
              "      <th>24484</th>\n",
              "      <td>Woody Allen</td>\n",
              "      <td>57</td>\n",
              "    </tr>\n",
              "    <tr>\n",
              "      <th>22012</th>\n",
              "      <td>Stephen King</td>\n",
              "      <td>54</td>\n",
              "    </tr>\n",
              "    <tr>\n",
              "      <th>24406</th>\n",
              "      <td>William Shakespeare</td>\n",
              "      <td>54</td>\n",
              "    </tr>\n",
              "    <tr>\n",
              "      <th>14352</th>\n",
              "      <td>Luc Besson</td>\n",
              "      <td>53</td>\n",
              "    </tr>\n",
              "    <tr>\n",
              "      <th>11459</th>\n",
              "      <td>John Cusack</td>\n",
              "      <td>53</td>\n",
              "    </tr>\n",
              "    <tr>\n",
              "      <th>22469</th>\n",
              "      <td>Sylvester Stallone</td>\n",
              "      <td>51</td>\n",
              "    </tr>\n",
              "    <tr>\n",
              "      <th>1694</th>\n",
              "      <td>Antonio Banderas</td>\n",
              "      <td>51</td>\n",
              "    </tr>\n",
              "    <tr>\n",
              "      <th>225</th>\n",
              "      <td>Adam Sandler</td>\n",
              "      <td>47</td>\n",
              "    </tr>\n",
              "    <tr>\n",
              "      <th>6972</th>\n",
              "      <td>Ethan Hawke</td>\n",
              "      <td>47</td>\n",
              "    </tr>\n",
              "  </tbody>\n",
              "</table>\n",
              "</div>\n",
              "      <button class=\"colab-df-convert\" onclick=\"convertToInteractive('df-b5138be3-a271-486e-8cc1-14d575090a20')\"\n",
              "              title=\"Convert this dataframe to an interactive table.\"\n",
              "              style=\"display:none;\">\n",
              "        \n",
              "  <svg xmlns=\"http://www.w3.org/2000/svg\" height=\"24px\"viewBox=\"0 0 24 24\"\n",
              "       width=\"24px\">\n",
              "    <path d=\"M0 0h24v24H0V0z\" fill=\"none\"/>\n",
              "    <path d=\"M18.56 5.44l.94 2.06.94-2.06 2.06-.94-2.06-.94-.94-2.06-.94 2.06-2.06.94zm-11 1L8.5 8.5l.94-2.06 2.06-.94-2.06-.94L8.5 2.5l-.94 2.06-2.06.94zm10 10l.94 2.06.94-2.06 2.06-.94-2.06-.94-.94-2.06-.94 2.06-2.06.94z\"/><path d=\"M17.41 7.96l-1.37-1.37c-.4-.4-.92-.59-1.43-.59-.52 0-1.04.2-1.43.59L10.3 9.45l-7.72 7.72c-.78.78-.78 2.05 0 2.83L4 21.41c.39.39.9.59 1.41.59.51 0 1.02-.2 1.41-.59l7.78-7.78 2.81-2.81c.8-.78.8-2.07 0-2.86zM5.41 20L4 18.59l7.72-7.72 1.47 1.35L5.41 20z\"/>\n",
              "  </svg>\n",
              "      </button>\n",
              "      \n",
              "  <style>\n",
              "    .colab-df-container {\n",
              "      display:flex;\n",
              "      flex-wrap:wrap;\n",
              "      gap: 12px;\n",
              "    }\n",
              "\n",
              "    .colab-df-convert {\n",
              "      background-color: #E8F0FE;\n",
              "      border: none;\n",
              "      border-radius: 50%;\n",
              "      cursor: pointer;\n",
              "      display: none;\n",
              "      fill: #1967D2;\n",
              "      height: 32px;\n",
              "      padding: 0 0 0 0;\n",
              "      width: 32px;\n",
              "    }\n",
              "\n",
              "    .colab-df-convert:hover {\n",
              "      background-color: #E2EBFA;\n",
              "      box-shadow: 0px 1px 2px rgba(60, 64, 67, 0.3), 0px 1px 3px 1px rgba(60, 64, 67, 0.15);\n",
              "      fill: #174EA6;\n",
              "    }\n",
              "\n",
              "    [theme=dark] .colab-df-convert {\n",
              "      background-color: #3B4455;\n",
              "      fill: #D2E3FC;\n",
              "    }\n",
              "\n",
              "    [theme=dark] .colab-df-convert:hover {\n",
              "      background-color: #434B5C;\n",
              "      box-shadow: 0px 1px 3px 1px rgba(0, 0, 0, 0.15);\n",
              "      filter: drop-shadow(0px 1px 2px rgba(0, 0, 0, 0.3));\n",
              "      fill: #FFFFFF;\n",
              "    }\n",
              "  </style>\n",
              "\n",
              "      <script>\n",
              "        const buttonEl =\n",
              "          document.querySelector('#df-b5138be3-a271-486e-8cc1-14d575090a20 button.colab-df-convert');\n",
              "        buttonEl.style.display =\n",
              "          google.colab.kernel.accessAllowed ? 'block' : 'none';\n",
              "\n",
              "        async function convertToInteractive(key) {\n",
              "          const element = document.querySelector('#df-b5138be3-a271-486e-8cc1-14d575090a20');\n",
              "          const dataTable =\n",
              "            await google.colab.kernel.invokeFunction('convertToInteractive',\n",
              "                                                     [key], {});\n",
              "          if (!dataTable) return;\n",
              "\n",
              "          const docLinkHtml = 'Like what you see? Visit the ' +\n",
              "            '<a target=\"_blank\" href=https://colab.research.google.com/notebooks/data_table.ipynb>data table notebook</a>'\n",
              "            + ' to learn more about interactive tables.';\n",
              "          element.innerHTML = '';\n",
              "          dataTable['output_type'] = 'display_data';\n",
              "          await google.colab.output.renderOutput(dataTable, element);\n",
              "          const docLink = document.createElement('div');\n",
              "          docLink.innerHTML = docLinkHtml;\n",
              "          element.appendChild(docLink);\n",
              "        }\n",
              "      </script>\n",
              "    </div>\n",
              "  </div>\n",
              "  "
            ]
          },
          "metadata": {},
          "execution_count": 54
        }
      ]
    },
    {
      "cell_type": "code",
      "source": [
        "sns.set(rc={'figure.figsize':(12,8)})\n",
        "sns.set_style(\"white\")\n",
        "ax3 = sns.barplot(data=top_w, y=\"primaryName\", x=\"count_writer_movie\", color ='steelblue')\n",
        "ax3.set(title = 'TOP WRITERs')\n",
        "ax3.set(xlabel='Nº movies', ylabel='Writers')"
      ],
      "metadata": {
        "colab": {
          "base_uri": "https://localhost:8080/",
          "height": 535
        },
        "id": "mhO9gkfieZEB",
        "outputId": "ade4a75c-e819-4525-be24-27c903eb66c6"
      },
      "execution_count": 55,
      "outputs": [
        {
          "output_type": "execute_result",
          "data": {
            "text/plain": [
              "[Text(0, 0.5, 'Writers'), Text(0.5, 0, 'Nº movies')]"
            ]
          },
          "metadata": {},
          "execution_count": 55
        },
        {
          "output_type": "display_data",
          "data": {
            "text/plain": [
              "<Figure size 864x576 with 1 Axes>"
            ],
            "image/png": "[encoded data removed]"
          },
          "metadata": {}
        }
      ]
    },
    {
      "cell_type": "code",
      "source": [
        "condition55 = top_movies_split['primaryProfession'] == 'director'\n",
        "director = top_movies_split[condition55][['nconst','primaryName','tconst','averageRating','wheighted','primaryProfession','titleType']]\n",
        "director['primaryProfession'].value_counts()"
      ],
      "metadata": {
        "colab": {
          "base_uri": "https://localhost:8080/"
        },
        "id": "DEOZExSTk8mz",
        "outputId": "38df4217-35e7-47e4-e0d9-9c49dc852600"
      },
      "execution_count": 12,
      "outputs": [
        {
          "output_type": "execute_result",
          "data": {
            "text/plain": [
              "director    2266464\n",
              "Name: primaryProfession, dtype: int64"
            ]
          },
          "metadata": {},
          "execution_count": 12
        }
      ]
    },
    {
      "cell_type": "code",
      "source": [
        "condition26 = director['titleType'] == 'movie'\n",
        "condition36 = director['titleType'] == 'short'\n",
        "director_ms= director[condition26 | condition36 ][['nconst','primaryName','tconst','averageRating','wheighted','primaryProfession','titleType']]"
      ],
      "metadata": {
        "id": "45LlQxTnumrT"
      },
      "execution_count": 13,
      "outputs": []
    },
    {
      "cell_type": "code",
      "source": [
        "condition6 = director_ms['wheighted'] > director_ms[\"wheighted\"].mean()\n",
        "t_director = director_ms[condition6][['nconst','primaryName','tconst','averageRating','wheighted','primaryProfession','titleType']]"
      ],
      "metadata": {
        "id": "ezk-tCAXenM6"
      },
      "execution_count": 14,
      "outputs": []
    },
    {
      "cell_type": "code",
      "source": [
        "t_director['titleType'].value_counts()"
      ],
      "metadata": {
        "id": "gHS5bBjRu1Fu",
        "outputId": "b10350ea-8689-4081-a14b-27f4279032d4",
        "colab": {
          "base_uri": "https://localhost:8080/"
        }
      },
      "execution_count": 15,
      "outputs": [
        {
          "output_type": "execute_result",
          "data": {
            "text/plain": [
              "movie    49309\n",
              "short      699\n",
              "Name: titleType, dtype: int64"
            ]
          },
          "metadata": {},
          "execution_count": 15
        }
      ]
    },
    {
      "cell_type": "code",
      "source": [
        "director_t = t_director.groupby('primaryName')['tconst'].count().reset_index(name='count_director_movie') \n",
        "\n",
        "top_d = director_t.sort_values(by=('count_director_movie'), ascending=False).head(10)\n",
        "top_d"
      ],
      "metadata": {
        "colab": {
          "base_uri": "https://localhost:8080/",
          "height": 363
        },
        "id": "KBSEsa8Qe_In",
        "outputId": "b6077816-47e2-4a6c-a0db-93d88201b6a2"
      },
      "execution_count": 16,
      "outputs": [
        {
          "output_type": "execute_result",
          "data": {
            "text/plain": [
              "          primaryName  count_director_movie\n",
              "3104   Clint Eastwood                    66\n",
              "17104     Woody Allen                    58\n",
              "9998       Luc Besson                    55\n",
              "3520     Danny DeVito                    51\n",
              "11018      Mel Gibson                    50\n",
              "169     Aditya Chopra                    49\n",
              "13426  Randall Emmett                    48\n",
              "14006  Robert Redford                    48\n",
              "7041    James Stewart                    46\n",
              "1258   Anurag Kashyap                    46"
            ],
            "text/html": [
              "\n",
              "  <div id=\"df-8b6cfaab-b5ae-448f-a705-17aa303b1c86\">\n",
              "    <div class=\"colab-df-container\">\n",
              "      <div>\n",
              "<style scoped>\n",
              "    .dataframe tbody tr th:only-of-type {\n",
              "        vertical-align: middle;\n",
              "    }\n",
              "\n",
              "    .dataframe tbody tr th {\n",
              "        vertical-align: top;\n",
              "    }\n",
              "\n",
              "    .dataframe thead th {\n",
              "        text-align: right;\n",
              "    }\n",
              "</style>\n",
              "<table border=\"1\" class=\"dataframe\">\n",
              "  <thead>\n",
              "    <tr style=\"text-align: right;\">\n",
              "      <th></th>\n",
              "      <th>primaryName</th>\n",
              "      <th>count_director_movie</th>\n",
              "    </tr>\n",
              "  </thead>\n",
              "  <tbody>\n",
              "    <tr>\n",
              "      <th>3104</th>\n",
              "      <td>Clint Eastwood</td>\n",
              "      <td>66</td>\n",
              "    </tr>\n",
              "    <tr>\n",
              "      <th>17104</th>\n",
              "      <td>Woody Allen</td>\n",
              "      <td>58</td>\n",
              "    </tr>\n",
              "    <tr>\n",
              "      <th>9998</th>\n",
              "      <td>Luc Besson</td>\n",
              "      <td>55</td>\n",
              "    </tr>\n",
              "    <tr>\n",
              "      <th>3520</th>\n",
              "      <td>Danny DeVito</td>\n",
              "      <td>51</td>\n",
              "    </tr>\n",
              "    <tr>\n",
              "      <th>11018</th>\n",
              "      <td>Mel Gibson</td>\n",
              "      <td>50</td>\n",
              "    </tr>\n",
              "    <tr>\n",
              "      <th>169</th>\n",
              "      <td>Aditya Chopra</td>\n",
              "      <td>49</td>\n",
              "    </tr>\n",
              "    <tr>\n",
              "      <th>13426</th>\n",
              "      <td>Randall Emmett</td>\n",
              "      <td>48</td>\n",
              "    </tr>\n",
              "    <tr>\n",
              "      <th>14006</th>\n",
              "      <td>Robert Redford</td>\n",
              "      <td>48</td>\n",
              "    </tr>\n",
              "    <tr>\n",
              "      <th>7041</th>\n",
              "      <td>James Stewart</td>\n",
              "      <td>46</td>\n",
              "    </tr>\n",
              "    <tr>\n",
              "      <th>1258</th>\n",
              "      <td>Anurag Kashyap</td>\n",
              "      <td>46</td>\n",
              "    </tr>\n",
              "  </tbody>\n",
              "</table>\n",
              "</div>\n",
              "      <button class=\"colab-df-convert\" onclick=\"convertToInteractive('df-8b6cfaab-b5ae-448f-a705-17aa303b1c86')\"\n",
              "              title=\"Convert this dataframe to an interactive table.\"\n",
              "              style=\"display:none;\">\n",
              "        \n",
              "  <svg xmlns=\"http://www.w3.org/2000/svg\" height=\"24px\"viewBox=\"0 0 24 24\"\n",
              "       width=\"24px\">\n",
              "    <path d=\"M0 0h24v24H0V0z\" fill=\"none\"/>\n",
              "    <path d=\"M18.56 5.44l.94 2.06.94-2.06 2.06-.94-2.06-.94-.94-2.06-.94 2.06-2.06.94zm-11 1L8.5 8.5l.94-2.06 2.06-.94-2.06-.94L8.5 2.5l-.94 2.06-2.06.94zm10 10l.94 2.06.94-2.06 2.06-.94-2.06-.94-.94-2.06-.94 2.06-2.06.94z\"/><path d=\"M17.41 7.96l-1.37-1.37c-.4-.4-.92-.59-1.43-.59-.52 0-1.04.2-1.43.59L10.3 9.45l-7.72 7.72c-.78.78-.78 2.05 0 2.83L4 21.41c.39.39.9.59 1.41.59.51 0 1.02-.2 1.41-.59l7.78-7.78 2.81-2.81c.8-.78.8-2.07 0-2.86zM5.41 20L4 18.59l7.72-7.72 1.47 1.35L5.41 20z\"/>\n",
              "  </svg>\n",
              "      </button>\n",
              "      \n",
              "  <style>\n",
              "    .colab-df-container {\n",
              "      display:flex;\n",
              "      flex-wrap:wrap;\n",
              "      gap: 12px;\n",
              "    }\n",
              "\n",
              "    .colab-df-convert {\n",
              "      background-color: #E8F0FE;\n",
              "      border: none;\n",
              "      border-radius: 50%;\n",
              "      cursor: pointer;\n",
              "      display: none;\n",
              "      fill: #1967D2;\n",
              "      height: 32px;\n",
              "      padding: 0 0 0 0;\n",
              "      width: 32px;\n",
              "    }\n",
              "\n",
              "    .colab-df-convert:hover {\n",
              "      background-color: #E2EBFA;\n",
              "      box-shadow: 0px 1px 2px rgba(60, 64, 67, 0.3), 0px 1px 3px 1px rgba(60, 64, 67, 0.15);\n",
              "      fill: #174EA6;\n",
              "    }\n",
              "\n",
              "    [theme=dark] .colab-df-convert {\n",
              "      background-color: #3B4455;\n",
              "      fill: #D2E3FC;\n",
              "    }\n",
              "\n",
              "    [theme=dark] .colab-df-convert:hover {\n",
              "      background-color: #434B5C;\n",
              "      box-shadow: 0px 1px 3px 1px rgba(0, 0, 0, 0.15);\n",
              "      filter: drop-shadow(0px 1px 2px rgba(0, 0, 0, 0.3));\n",
              "      fill: #FFFFFF;\n",
              "    }\n",
              "  </style>\n",
              "\n",
              "      <script>\n",
              "        const buttonEl =\n",
              "          document.querySelector('#df-8b6cfaab-b5ae-448f-a705-17aa303b1c86 button.colab-df-convert');\n",
              "        buttonEl.style.display =\n",
              "          google.colab.kernel.accessAllowed ? 'block' : 'none';\n",
              "\n",
              "        async function convertToInteractive(key) {\n",
              "          const element = document.querySelector('#df-8b6cfaab-b5ae-448f-a705-17aa303b1c86');\n",
              "          const dataTable =\n",
              "            await google.colab.kernel.invokeFunction('convertToInteractive',\n",
              "                                                     [key], {});\n",
              "          if (!dataTable) return;\n",
              "\n",
              "          const docLinkHtml = 'Like what you see? Visit the ' +\n",
              "            '<a target=\"_blank\" href=https://colab.research.google.com/notebooks/data_table.ipynb>data table notebook</a>'\n",
              "            + ' to learn more about interactive tables.';\n",
              "          element.innerHTML = '';\n",
              "          dataTable['output_type'] = 'display_data';\n",
              "          await google.colab.output.renderOutput(dataTable, element);\n",
              "          const docLink = document.createElement('div');\n",
              "          docLink.innerHTML = docLinkHtml;\n",
              "          element.appendChild(docLink);\n",
              "        }\n",
              "      </script>\n",
              "    </div>\n",
              "  </div>\n",
              "  "
            ]
          },
          "metadata": {},
          "execution_count": 16
        }
      ]
    },
    {
      "cell_type": "code",
      "source": [
        "sns.set(rc={'figure.figsize':(12,8)})\n",
        "sns.set_style(\"white\")\n",
        "ax4 = sns.barplot(data=top_d, y=\"primaryName\", x=\"count_director_movie\",color ='steelblue')\n",
        "ax4.set(title = 'TOP DIRECTORS')\n",
        "ax4.set(xlabel='Nº movies', ylabel='Directors')"
      ],
      "metadata": {
        "colab": {
          "base_uri": "https://localhost:8080/",
          "height": 535
        },
        "id": "PMp3p4Zqe5aq",
        "outputId": "4c49830b-b5b5-4961-e154-acea0137e1fa"
      },
      "execution_count": 61,
      "outputs": [
        {
          "output_type": "execute_result",
          "data": {
            "text/plain": [
              "[Text(0, 0.5, 'Directors'), Text(0.5, 0, 'Nº movies')]"
            ]
          },
          "metadata": {},
          "execution_count": 61
        },
        {
          "output_type": "display_data",
          "data": {
            "text/plain": [
              "<Figure size 864x576 with 1 Axes>"
            ],
            "image/png": "[encoded data removed]"
          },
          "metadata": {}
        }
      ]
    }
  ]
}