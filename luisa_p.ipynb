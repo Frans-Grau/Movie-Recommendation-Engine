{
  "nbformat": 4,
  "nbformat_minor": 0,
  "metadata": {
    "colab": {
      "provenance": [],
      "authorship_tag": "ABX9TyN3V8QbYO0qrgUkgyR//GdU",
      "include_colab_link": true
    },
    "kernelspec": {
      "name": "python3",
      "display_name": "Python 3"
    },
    "language_info": {
      "name": "python"
    }
  },
  "cells": [
    {
      "cell_type": "markdown",
      "metadata": {
        "id": "view-in-github",
        "colab_type": "text"
      },
      "source": [
        "<a href=\"https://colab.research.google.com/github/LuisaPolicarpo/Project3/blob/main/luisa_p.ipynb\" target=\"_parent\"><img src=\"https://colab.research.google.com/assets/colab-badge.svg\" alt=\"Open In Colab\"/></a>"
      ]
    },
    {
      "cell_type": "code",
      "source": [
        "\n",
        "import pandas as pd\n",
        "import seaborn as sns\n",
        "import matplotlib.pyplot as plt\n",
        "import matplotlib.ticker as mtick\n",
        "import numpy as np\n",
        "#import sqlalchemy as sql\n",
        "import datetime\n",
        "\n",
        "from PIL import Image \n",
        "\n",
        "import pickle\n",
        "\n",
        "# !pip install -q streamlit"
      ],
      "metadata": {
        "id": "WMu6m2iCjDfa"
      },
      "execution_count": 1,
      "outputs": []
    },
    {
      "cell_type": "code",
      "source": [
        "col_list = ['nconst','primaryName','primaryProfession']\n",
        "name_b = pd.read_csv('https://datasets.imdbws.com/name.basics.tsv.gz', compression = 'gzip', sep = '\\t', usecols=col_list)"
      ],
      "metadata": {
        "id": "a-sRnVeAcXzA"
      },
      "execution_count": 2,
      "outputs": []
    },
    {
      "cell_type": "code",
      "source": [
        "col_list2 = ['tconst','nconst']\n",
        "title_p = pd.read_csv('https://datasets.imdbws.com/title.principals.tsv.gz', compression = 'gzip', sep = '\\t', usecols=col_list2)"
      ],
      "metadata": {
        "id": "LUWeInJ_mtYN"
      },
      "execution_count": 3,
      "outputs": []
    },
    {
      "cell_type": "code",
      "source": [
        "top_movies= pd.merge(title_p, name_b, how='inner', on=['nconst', 'nconst'])"
      ],
      "metadata": {
        "id": "KkqyZyZz62Bo"
      },
      "execution_count": 4,
      "outputs": []
    },
    {
      "cell_type": "code",
      "source": [
        "top_movies.to_pickle('/content/tmg.pickle')"
      ],
      "metadata": {
        "id": "Yke3TweDUTwP"
      },
      "execution_count": 5,
      "outputs": []
    },
    {
      "cell_type": "code",
      "source": [
        "top_movies5 = pd.read_pickle(\"/content/tmg.pickle\")"
      ],
      "metadata": {
        "id": "mnchx4UDUZb7"
      },
      "execution_count": 2,
      "outputs": []
    },
    {
      "cell_type": "code",
      "source": [
        "col_list3 = ['tconst','averageRating','numVotes']\n",
        "title_ratings = pd.read_csv('https://datasets.imdbws.com/title.ratings.tsv.gz', compression = 'gzip', sep = '\\t', usecols=col_list3)"
      ],
      "metadata": {
        "id": "ZR44Twx81ZXS"
      },
      "execution_count": 3,
      "outputs": []
    },
    {
      "cell_type": "code",
      "source": [
        "top_movies2= pd.merge(top_movies5, title_ratings, how='inner', on=['tconst', 'tconst'])"
      ],
      "metadata": {
        "id": "dTUL1I-d1vxe"
      },
      "execution_count": 4,
      "outputs": []
    },
    {
      "cell_type": "code",
      "source": [
        "top_movies2.to_pickle('/content/tmg4.pickle')"
      ],
      "metadata": {
        "id": "CPhhVWSUVjjT"
      },
      "execution_count": 5,
      "outputs": []
    },
    {
      "cell_type": "code",
      "source": [
        "top_movies = pd.read_pickle(\"/content/tmg4.pickle\")"
      ],
      "metadata": {
        "id": "jTacsAf3Vme4"
      },
      "execution_count": 6,
      "outputs": []
    },
    {
      "cell_type": "code",
      "source": [
        "top_movies['wheighted'] = (top_movies['averageRating']*top_movies['numVotes'])/top_movies['numVotes'].sum()\n",
        "top_movies.sort_values(by=('wheighted'), ascending=False).head(10)"
      ],
      "metadata": {
        "id": "bBFX4M8RrNY6",
        "colab": {
          "base_uri": "https://localhost:8080/",
          "height": 363
        },
        "outputId": "22b2b3fc-1f83-4579-c77f-658634ac5694"
      },
      "execution_count": 7,
      "outputs": [
        {
          "output_type": "execute_result",
          "data": {
            "text/plain": [
              "            tconst     nconst            primaryName  \\\n",
              "1203141  tt0111161  nm0555550            Niki Marvin   \n",
              "1203140  tt0111161  nm0006669         William Sadler   \n",
              "1203134  tt0111161  nm0000175           Stephen King   \n",
              "1203133  tt0111161  nm0000151         Morgan Freeman   \n",
              "1203132  tt0111161  nm0005683          Roger Deakins   \n",
              "1203139  tt0111161  nm0000209            Tim Robbins   \n",
              "1203138  tt0111161  nm0002353          Thomas Newman   \n",
              "1203135  tt0111161  nm0290358  Richard Francis-Bruce   \n",
              "1203136  tt0111161  nm0348409             Bob Gunton   \n",
              "1203137  tt0111161  nm0001104         Frank Darabont   \n",
              "\n",
              "                                       primaryProfession  averageRating  \\\n",
              "1203141                         producer,director,writer            9.3   \n",
              "1203140                        actor,soundtrack,producer            9.3   \n",
              "1203134                            writer,producer,actor            9.3   \n",
              "1203133                        actor,producer,soundtrack            9.3   \n",
              "1203132  cinematographer,camera_department,miscellaneous            9.3   \n",
              "1203139                          actor,producer,director            9.3   \n",
              "1203138             music_department,composer,soundtrack            9.3   \n",
              "1203135     editor,editorial_department,sound_department            9.3   \n",
              "1203136                                 actor,soundtrack            9.3   \n",
              "1203137                         writer,producer,director            9.3   \n",
              "\n",
              "         numVotes  wheighted  \n",
              "1203141   2658388   0.001931  \n",
              "1203140   2658388   0.001931  \n",
              "1203134   2658388   0.001931  \n",
              "1203133   2658388   0.001931  \n",
              "1203132   2658388   0.001931  \n",
              "1203139   2658388   0.001931  \n",
              "1203138   2658388   0.001931  \n",
              "1203135   2658388   0.001931  \n",
              "1203136   2658388   0.001931  \n",
              "1203137   2658388   0.001931  "
            ],
            "text/html": [
              "\n",
              "  <div id=\"df-02fc4eca-974c-453b-9468-e1e2a1c83411\">\n",
              "    <div class=\"colab-df-container\">\n",
              "      <div>\n",
              "<style scoped>\n",
              "    .dataframe tbody tr th:only-of-type {\n",
              "        vertical-align: middle;\n",
              "    }\n",
              "\n",
              "    .dataframe tbody tr th {\n",
              "        vertical-align: top;\n",
              "    }\n",
              "\n",
              "    .dataframe thead th {\n",
              "        text-align: right;\n",
              "    }\n",
              "</style>\n",
              "<table border=\"1\" class=\"dataframe\">\n",
              "  <thead>\n",
              "    <tr style=\"text-align: right;\">\n",
              "      <th></th>\n",
              "      <th>tconst</th>\n",
              "      <th>nconst</th>\n",
              "      <th>primaryName</th>\n",
              "      <th>primaryProfession</th>\n",
              "      <th>averageRating</th>\n",
              "      <th>numVotes</th>\n",
              "      <th>wheighted</th>\n",
              "    </tr>\n",
              "  </thead>\n",
              "  <tbody>\n",
              "    <tr>\n",
              "      <th>1203141</th>\n",
              "      <td>tt0111161</td>\n",
              "      <td>nm0555550</td>\n",
              "      <td>Niki Marvin</td>\n",
              "      <td>producer,director,writer</td>\n",
              "      <td>9.3</td>\n",
              "      <td>2658388</td>\n",
              "      <td>0.001931</td>\n",
              "    </tr>\n",
              "    <tr>\n",
              "      <th>1203140</th>\n",
              "      <td>tt0111161</td>\n",
              "      <td>nm0006669</td>\n",
              "      <td>William Sadler</td>\n",
              "      <td>actor,soundtrack,producer</td>\n",
              "      <td>9.3</td>\n",
              "      <td>2658388</td>\n",
              "      <td>0.001931</td>\n",
              "    </tr>\n",
              "    <tr>\n",
              "      <th>1203134</th>\n",
              "      <td>tt0111161</td>\n",
              "      <td>nm0000175</td>\n",
              "      <td>Stephen King</td>\n",
              "      <td>writer,producer,actor</td>\n",
              "      <td>9.3</td>\n",
              "      <td>2658388</td>\n",
              "      <td>0.001931</td>\n",
              "    </tr>\n",
              "    <tr>\n",
              "      <th>1203133</th>\n",
              "      <td>tt0111161</td>\n",
              "      <td>nm0000151</td>\n",
              "      <td>Morgan Freeman</td>\n",
              "      <td>actor,producer,soundtrack</td>\n",
              "      <td>9.3</td>\n",
              "      <td>2658388</td>\n",
              "      <td>0.001931</td>\n",
              "    </tr>\n",
              "    <tr>\n",
              "      <th>1203132</th>\n",
              "      <td>tt0111161</td>\n",
              "      <td>nm0005683</td>\n",
              "      <td>Roger Deakins</td>\n",
              "      <td>cinematographer,camera_department,miscellaneous</td>\n",
              "      <td>9.3</td>\n",
              "      <td>2658388</td>\n",
              "      <td>0.001931</td>\n",
              "    </tr>\n",
              "    <tr>\n",
              "      <th>1203139</th>\n",
              "      <td>tt0111161</td>\n",
              "      <td>nm0000209</td>\n",
              "      <td>Tim Robbins</td>\n",
              "      <td>actor,producer,director</td>\n",
              "      <td>9.3</td>\n",
              "      <td>2658388</td>\n",
              "      <td>0.001931</td>\n",
              "    </tr>\n",
              "    <tr>\n",
              "      <th>1203138</th>\n",
              "      <td>tt0111161</td>\n",
              "      <td>nm0002353</td>\n",
              "      <td>Thomas Newman</td>\n",
              "      <td>music_department,composer,soundtrack</td>\n",
              "      <td>9.3</td>\n",
              "      <td>2658388</td>\n",
              "      <td>0.001931</td>\n",
              "    </tr>\n",
              "    <tr>\n",
              "      <th>1203135</th>\n",
              "      <td>tt0111161</td>\n",
              "      <td>nm0290358</td>\n",
              "      <td>Richard Francis-Bruce</td>\n",
              "      <td>editor,editorial_department,sound_department</td>\n",
              "      <td>9.3</td>\n",
              "      <td>2658388</td>\n",
              "      <td>0.001931</td>\n",
              "    </tr>\n",
              "    <tr>\n",
              "      <th>1203136</th>\n",
              "      <td>tt0111161</td>\n",
              "      <td>nm0348409</td>\n",
              "      <td>Bob Gunton</td>\n",
              "      <td>actor,soundtrack</td>\n",
              "      <td>9.3</td>\n",
              "      <td>2658388</td>\n",
              "      <td>0.001931</td>\n",
              "    </tr>\n",
              "    <tr>\n",
              "      <th>1203137</th>\n",
              "      <td>tt0111161</td>\n",
              "      <td>nm0001104</td>\n",
              "      <td>Frank Darabont</td>\n",
              "      <td>writer,producer,director</td>\n",
              "      <td>9.3</td>\n",
              "      <td>2658388</td>\n",
              "      <td>0.001931</td>\n",
              "    </tr>\n",
              "  </tbody>\n",
              "</table>\n",
              "</div>\n",
              "      <button class=\"colab-df-convert\" onclick=\"convertToInteractive('df-02fc4eca-974c-453b-9468-e1e2a1c83411')\"\n",
              "              title=\"Convert this dataframe to an interactive table.\"\n",
              "              style=\"display:none;\">\n",
              "        \n",
              "  <svg xmlns=\"http://www.w3.org/2000/svg\" height=\"24px\"viewBox=\"0 0 24 24\"\n",
              "       width=\"24px\">\n",
              "    <path d=\"M0 0h24v24H0V0z\" fill=\"none\"/>\n",
              "    <path d=\"M18.56 5.44l.94 2.06.94-2.06 2.06-.94-2.06-.94-.94-2.06-.94 2.06-2.06.94zm-11 1L8.5 8.5l.94-2.06 2.06-.94-2.06-.94L8.5 2.5l-.94 2.06-2.06.94zm10 10l.94 2.06.94-2.06 2.06-.94-2.06-.94-.94-2.06-.94 2.06-2.06.94z\"/><path d=\"M17.41 7.96l-1.37-1.37c-.4-.4-.92-.59-1.43-.59-.52 0-1.04.2-1.43.59L10.3 9.45l-7.72 7.72c-.78.78-.78 2.05 0 2.83L4 21.41c.39.39.9.59 1.41.59.51 0 1.02-.2 1.41-.59l7.78-7.78 2.81-2.81c.8-.78.8-2.07 0-2.86zM5.41 20L4 18.59l7.72-7.72 1.47 1.35L5.41 20z\"/>\n",
              "  </svg>\n",
              "      </button>\n",
              "      \n",
              "  <style>\n",
              "    .colab-df-container {\n",
              "      display:flex;\n",
              "      flex-wrap:wrap;\n",
              "      gap: 12px;\n",
              "    }\n",
              "\n",
              "    .colab-df-convert {\n",
              "      background-color: #E8F0FE;\n",
              "      border: none;\n",
              "      border-radius: 50%;\n",
              "      cursor: pointer;\n",
              "      display: none;\n",
              "      fill: #1967D2;\n",
              "      height: 32px;\n",
              "      padding: 0 0 0 0;\n",
              "      width: 32px;\n",
              "    }\n",
              "\n",
              "    .colab-df-convert:hover {\n",
              "      background-color: #E2EBFA;\n",
              "      box-shadow: 0px 1px 2px rgba(60, 64, 67, 0.3), 0px 1px 3px 1px rgba(60, 64, 67, 0.15);\n",
              "      fill: #174EA6;\n",
              "    }\n",
              "\n",
              "    [theme=dark] .colab-df-convert {\n",
              "      background-color: #3B4455;\n",
              "      fill: #D2E3FC;\n",
              "    }\n",
              "\n",
              "    [theme=dark] .colab-df-convert:hover {\n",
              "      background-color: #434B5C;\n",
              "      box-shadow: 0px 1px 3px 1px rgba(0, 0, 0, 0.15);\n",
              "      filter: drop-shadow(0px 1px 2px rgba(0, 0, 0, 0.3));\n",
              "      fill: #FFFFFF;\n",
              "    }\n",
              "  </style>\n",
              "\n",
              "      <script>\n",
              "        const buttonEl =\n",
              "          document.querySelector('#df-02fc4eca-974c-453b-9468-e1e2a1c83411 button.colab-df-convert');\n",
              "        buttonEl.style.display =\n",
              "          google.colab.kernel.accessAllowed ? 'block' : 'none';\n",
              "\n",
              "        async function convertToInteractive(key) {\n",
              "          const element = document.querySelector('#df-02fc4eca-974c-453b-9468-e1e2a1c83411');\n",
              "          const dataTable =\n",
              "            await google.colab.kernel.invokeFunction('convertToInteractive',\n",
              "                                                     [key], {});\n",
              "          if (!dataTable) return;\n",
              "\n",
              "          const docLinkHtml = 'Like what you see? Visit the ' +\n",
              "            '<a target=\"_blank\" href=https://colab.research.google.com/notebooks/data_table.ipynb>data table notebook</a>'\n",
              "            + ' to learn more about interactive tables.';\n",
              "          element.innerHTML = '';\n",
              "          dataTable['output_type'] = 'display_data';\n",
              "          await google.colab.output.renderOutput(dataTable, element);\n",
              "          const docLink = document.createElement('div');\n",
              "          docLink.innerHTML = docLinkHtml;\n",
              "          element.appendChild(docLink);\n",
              "        }\n",
              "      </script>\n",
              "    </div>\n",
              "  </div>\n",
              "  "
            ]
          },
          "metadata": {},
          "execution_count": 7
        }
      ]
    },
    {
      "cell_type": "code",
      "source": [
        "col_list5 = ['tconst','titleType','startYear']\n",
        "title_basics = pd.read_csv('https://datasets.imdbws.com/title.basics.tsv.gz', compression = 'gzip', sep = '\\t', usecols=col_list5)"
      ],
      "metadata": {
        "id": "US3ZWKN6ybNX"
      },
      "execution_count": 9,
      "outputs": []
    },
    {
      "cell_type": "code",
      "source": [
        "top_movies2= pd.merge(top_movies, title_basics, how='inner', on=['tconst', 'tconst'])"
      ],
      "metadata": {
        "id": "noTsgCjYtOaF"
      },
      "execution_count": 10,
      "outputs": []
    },
    {
      "cell_type": "code",
      "source": [
        "top_movies2.to_pickle('/content/tmg6.pickle')"
      ],
      "metadata": {
        "id": "7gPN0sXYWgl6"
      },
      "execution_count": 11,
      "outputs": []
    },
    {
      "cell_type": "code",
      "source": [
        "top_movies = pd.read_pickle(\"/content/tmg6.pickle\")"
      ],
      "metadata": {
        "id": "4HPadxAMWkSt"
      },
      "execution_count": 2,
      "outputs": []
    },
    {
      "cell_type": "code",
      "source": [
        "top_movies[\"primaryProfession\"] = top_movies.primaryProfession.str.split(',')\n",
        "top_movies_split = top_movies.explode(\"primaryProfession\")"
      ],
      "metadata": {
        "id": "xdIb2jx2xGTH"
      },
      "execution_count": 3,
      "outputs": []
    },
    {
      "cell_type": "code",
      "source": [
        "top_movies_split.head()"
      ],
      "metadata": {
        "id": "0fVym6sXXUky",
        "outputId": "f3b6d091-f21b-4af6-c393-954609c14f37",
        "colab": {
          "base_uri": "https://localhost:8080/",
          "height": 206
        }
      },
      "execution_count": 9,
      "outputs": [
        {
          "output_type": "execute_result",
          "data": {
            "text/plain": [
              "      tconst     nconst           primaryName primaryProfession  \\\n",
              "0  tt0000001  nm1588970            Carmencita        soundtrack   \n",
              "1  tt0000001  nm0005690  William K.L. Dickson   cinematographer   \n",
              "1  tt0000001  nm0005690  William K.L. Dickson          director   \n",
              "1  tt0000001  nm0005690  William K.L. Dickson          producer   \n",
              "2  tt0000001  nm0374658         William Heise   cinematographer   \n",
              "\n",
              "   averageRating  numVotes     wheighted titleType startYear  \n",
              "0            5.7      1922  8.555826e-07     short      1894  \n",
              "1            5.7      1922  8.555826e-07     short      1894  \n",
              "1            5.7      1922  8.555826e-07     short      1894  \n",
              "1            5.7      1922  8.555826e-07     short      1894  \n",
              "2            5.7      1922  8.555826e-07     short      1894  "
            ],
            "text/html": [
              "\n",
              "  <div id=\"df-d119fce6-85aa-4a1f-af2b-f08bbdb13952\">\n",
              "    <div class=\"colab-df-container\">\n",
              "      <div>\n",
              "<style scoped>\n",
              "    .dataframe tbody tr th:only-of-type {\n",
              "        vertical-align: middle;\n",
              "    }\n",
              "\n",
              "    .dataframe tbody tr th {\n",
              "        vertical-align: top;\n",
              "    }\n",
              "\n",
              "    .dataframe thead th {\n",
              "        text-align: right;\n",
              "    }\n",
              "</style>\n",
              "<table border=\"1\" class=\"dataframe\">\n",
              "  <thead>\n",
              "    <tr style=\"text-align: right;\">\n",
              "      <th></th>\n",
              "      <th>tconst</th>\n",
              "      <th>nconst</th>\n",
              "      <th>primaryName</th>\n",
              "      <th>primaryProfession</th>\n",
              "      <th>averageRating</th>\n",
              "      <th>numVotes</th>\n",
              "      <th>wheighted</th>\n",
              "      <th>titleType</th>\n",
              "      <th>startYear</th>\n",
              "    </tr>\n",
              "  </thead>\n",
              "  <tbody>\n",
              "    <tr>\n",
              "      <th>0</th>\n",
              "      <td>tt0000001</td>\n",
              "      <td>nm1588970</td>\n",
              "      <td>Carmencita</td>\n",
              "      <td>soundtrack</td>\n",
              "      <td>5.7</td>\n",
              "      <td>1922</td>\n",
              "      <td>8.555826e-07</td>\n",
              "      <td>short</td>\n",
              "      <td>1894</td>\n",
              "    </tr>\n",
              "    <tr>\n",
              "      <th>1</th>\n",
              "      <td>tt0000001</td>\n",
              "      <td>nm0005690</td>\n",
              "      <td>William K.L. Dickson</td>\n",
              "      <td>cinematographer</td>\n",
              "      <td>5.7</td>\n",
              "      <td>1922</td>\n",
              "      <td>8.555826e-07</td>\n",
              "      <td>short</td>\n",
              "      <td>1894</td>\n",
              "    </tr>\n",
              "    <tr>\n",
              "      <th>1</th>\n",
              "      <td>tt0000001</td>\n",
              "      <td>nm0005690</td>\n",
              "      <td>William K.L. Dickson</td>\n",
              "      <td>director</td>\n",
              "      <td>5.7</td>\n",
              "      <td>1922</td>\n",
              "      <td>8.555826e-07</td>\n",
              "      <td>short</td>\n",
              "      <td>1894</td>\n",
              "    </tr>\n",
              "    <tr>\n",
              "      <th>1</th>\n",
              "      <td>tt0000001</td>\n",
              "      <td>nm0005690</td>\n",
              "      <td>William K.L. Dickson</td>\n",
              "      <td>producer</td>\n",
              "      <td>5.7</td>\n",
              "      <td>1922</td>\n",
              "      <td>8.555826e-07</td>\n",
              "      <td>short</td>\n",
              "      <td>1894</td>\n",
              "    </tr>\n",
              "    <tr>\n",
              "      <th>2</th>\n",
              "      <td>tt0000001</td>\n",
              "      <td>nm0374658</td>\n",
              "      <td>William Heise</td>\n",
              "      <td>cinematographer</td>\n",
              "      <td>5.7</td>\n",
              "      <td>1922</td>\n",
              "      <td>8.555826e-07</td>\n",
              "      <td>short</td>\n",
              "      <td>1894</td>\n",
              "    </tr>\n",
              "  </tbody>\n",
              "</table>\n",
              "</div>\n",
              "      <button class=\"colab-df-convert\" onclick=\"convertToInteractive('df-d119fce6-85aa-4a1f-af2b-f08bbdb13952')\"\n",
              "              title=\"Convert this dataframe to an interactive table.\"\n",
              "              style=\"display:none;\">\n",
              "        \n",
              "  <svg xmlns=\"http://www.w3.org/2000/svg\" height=\"24px\"viewBox=\"0 0 24 24\"\n",
              "       width=\"24px\">\n",
              "    <path d=\"M0 0h24v24H0V0z\" fill=\"none\"/>\n",
              "    <path d=\"M18.56 5.44l.94 2.06.94-2.06 2.06-.94-2.06-.94-.94-2.06-.94 2.06-2.06.94zm-11 1L8.5 8.5l.94-2.06 2.06-.94-2.06-.94L8.5 2.5l-.94 2.06-2.06.94zm10 10l.94 2.06.94-2.06 2.06-.94-2.06-.94-.94-2.06-.94 2.06-2.06.94z\"/><path d=\"M17.41 7.96l-1.37-1.37c-.4-.4-.92-.59-1.43-.59-.52 0-1.04.2-1.43.59L10.3 9.45l-7.72 7.72c-.78.78-.78 2.05 0 2.83L4 21.41c.39.39.9.59 1.41.59.51 0 1.02-.2 1.41-.59l7.78-7.78 2.81-2.81c.8-.78.8-2.07 0-2.86zM5.41 20L4 18.59l7.72-7.72 1.47 1.35L5.41 20z\"/>\n",
              "  </svg>\n",
              "      </button>\n",
              "      \n",
              "  <style>\n",
              "    .colab-df-container {\n",
              "      display:flex;\n",
              "      flex-wrap:wrap;\n",
              "      gap: 12px;\n",
              "    }\n",
              "\n",
              "    .colab-df-convert {\n",
              "      background-color: #E8F0FE;\n",
              "      border: none;\n",
              "      border-radius: 50%;\n",
              "      cursor: pointer;\n",
              "      display: none;\n",
              "      fill: #1967D2;\n",
              "      height: 32px;\n",
              "      padding: 0 0 0 0;\n",
              "      width: 32px;\n",
              "    }\n",
              "\n",
              "    .colab-df-convert:hover {\n",
              "      background-color: #E2EBFA;\n",
              "      box-shadow: 0px 1px 2px rgba(60, 64, 67, 0.3), 0px 1px 3px 1px rgba(60, 64, 67, 0.15);\n",
              "      fill: #174EA6;\n",
              "    }\n",
              "\n",
              "    [theme=dark] .colab-df-convert {\n",
              "      background-color: #3B4455;\n",
              "      fill: #D2E3FC;\n",
              "    }\n",
              "\n",
              "    [theme=dark] .colab-df-convert:hover {\n",
              "      background-color: #434B5C;\n",
              "      box-shadow: 0px 1px 3px 1px rgba(0, 0, 0, 0.15);\n",
              "      filter: drop-shadow(0px 1px 2px rgba(0, 0, 0, 0.3));\n",
              "      fill: #FFFFFF;\n",
              "    }\n",
              "  </style>\n",
              "\n",
              "      <script>\n",
              "        const buttonEl =\n",
              "          document.querySelector('#df-d119fce6-85aa-4a1f-af2b-f08bbdb13952 button.colab-df-convert');\n",
              "        buttonEl.style.display =\n",
              "          google.colab.kernel.accessAllowed ? 'block' : 'none';\n",
              "\n",
              "        async function convertToInteractive(key) {\n",
              "          const element = document.querySelector('#df-d119fce6-85aa-4a1f-af2b-f08bbdb13952');\n",
              "          const dataTable =\n",
              "            await google.colab.kernel.invokeFunction('convertToInteractive',\n",
              "                                                     [key], {});\n",
              "          if (!dataTable) return;\n",
              "\n",
              "          const docLinkHtml = 'Like what you see? Visit the ' +\n",
              "            '<a target=\"_blank\" href=https://colab.research.google.com/notebooks/data_table.ipynb>data table notebook</a>'\n",
              "            + ' to learn more about interactive tables.';\n",
              "          element.innerHTML = '';\n",
              "          dataTable['output_type'] = 'display_data';\n",
              "          await google.colab.output.renderOutput(dataTable, element);\n",
              "          const docLink = document.createElement('div');\n",
              "          docLink.innerHTML = docLinkHtml;\n",
              "          element.appendChild(docLink);\n",
              "        }\n",
              "      </script>\n",
              "    </div>\n",
              "  </div>\n",
              "  "
            ]
          },
          "metadata": {},
          "execution_count": 9
        }
      ]
    },
    {
      "cell_type": "code",
      "source": [
        "# condition_ms = top_movies_split.loc[((top_movies_split['titleType'] == 'movie') | (top_movies_split['titleType'] =='short')) & (top_movies_split['startYear'] <= '2022')]"
      ],
      "metadata": {
        "id": "Kl4O9rh-0rSX"
      },
      "execution_count": 7,
      "outputs": []
    },
    {
      "cell_type": "code",
      "source": [
        "condition = top_movies_split['primaryProfession'] == 'actor'\n",
        "\n",
        "actors = top_movies_split[condition][['nconst','primaryName','tconst','averageRating','wheighted','primaryProfession','titleType','startYear']]\n",
        "\n",
        "condition2 = actors['titleType'] == 'movie'\n",
        "condition3 = actors['titleType'] == 'short'\n",
        "condition4 = actors['startYear'] <= '2022'\n",
        "actors_ms = actors[condition2 | condition3 & condition4][['nconst','primaryName','tconst','averageRating','wheighted','primaryProfession','titleType','startYear']]"
      ],
      "metadata": {
        "id": "M5taUyGYijBA"
      },
      "execution_count": 31,
      "outputs": []
    },
    {
      "cell_type": "code",
      "source": [
        "condition2 = actors_ms['wheighted'] > actors_ms[\"wheighted\"].mean()\n",
        "\n",
        "t_actors = actors_ms[condition2][['nconst','primaryName','tconst','averageRating','wheighted','primaryProfession','titleType']]"
      ],
      "metadata": {
        "id": "4zuGmnpS8Fa7"
      },
      "execution_count": 32,
      "outputs": []
    },
    {
      "cell_type": "code",
      "source": [
        "actorst = t_actors.groupby('primaryName')['tconst'].count().reset_index(name='count_actors_movie') \n",
        "tp = actorst.sort_values(by=('count_actors_movie'), ascending=False)\n",
        "\n",
        "top = actorst.sort_values(by=('count_actors_movie'), ascending=False).head(10)"
      ],
      "metadata": {
        "id": "DaP1xOxE7eT3"
      },
      "execution_count": 33,
      "outputs": []
    },
    {
      "cell_type": "code",
      "source": [
        "sns.set(rc={'figure.figsize':(12,8)})\n",
        "sns.set_style(\"white\")\n",
        "ax = sns.barplot(data=top, y=\"primaryName\", x=\"count_actors_movie\", color ='steelblue')\n",
        "ax.set(title = 'TOP ACTORS')\n",
        "ax.set(xlabel='Nº movies', ylabel='Actors')\n",
        "\n",
        "# ax = sns.barplot(data=top, y=\"primaryName\", x=\"count_actors_movie\",color=\"seagreen\")\n",
        "\n",
        "fig03 = ax.get_figure()\n",
        "fig03.savefig(\"sns_titles.png\", bbox_inches = \"tight\")"
      ],
      "metadata": {
        "id": "N-e96EyskOqY",
        "outputId": "bf7fcad9-2643-4130-ef5e-cc1670d9d3b6",
        "colab": {
          "base_uri": "https://localhost:8080/",
          "height": 518
        }
      },
      "execution_count": 34,
      "outputs": [
        {
          "output_type": "display_data",
          "data": {
            "text/plain": [
              "<Figure size 864x576 with 1 Axes>"
            ],
            "image/png": "[encoded data removed]"
          },
          "metadata": {}
        }
      ]
    },
    {
      "cell_type": "code",
      "source": [
        "top "
      ],
      "metadata": {
        "colab": {
          "base_uri": "https://localhost:8080/",
          "height": 363
        },
        "id": "ZXPCe6RzS4AF",
        "outputId": "663a2851-124d-4074-cbbf-d0b1f991f9a6"
      },
      "execution_count": 35,
      "outputs": [
        {
          "output_type": "execute_result",
          "data": {
            "text/plain": [
              "             primaryName  count_actors_movie\n",
              "19450     Robert De Niro                  89\n",
              "16853       Nicolas Cage                  88\n",
              "22537          Tim Bevan                  76\n",
              "474         Akshay Kumar                  73\n",
              "3194        Bruce Willis                  72\n",
              "20425  Samuel L. Jackson                  72\n",
              "22784          Tom Hanks                  67\n",
              "3054        Brian Grazer                  66\n",
              "4394      Clint Eastwood                  65\n",
              "15510      Michael Caine                  63"
            ],
            "text/html": [
              "\n",
              "  <div id=\"df-fc41b29c-ad7a-4e50-afe0-0abd41e17756\">\n",
              "    <div class=\"colab-df-container\">\n",
              "      <div>\n",
              "<style scoped>\n",
              "    .dataframe tbody tr th:only-of-type {\n",
              "        vertical-align: middle;\n",
              "    }\n",
              "\n",
              "    .dataframe tbody tr th {\n",
              "        vertical-align: top;\n",
              "    }\n",
              "\n",
              "    .dataframe thead th {\n",
              "        text-align: right;\n",
              "    }\n",
              "</style>\n",
              "<table border=\"1\" class=\"dataframe\">\n",
              "  <thead>\n",
              "    <tr style=\"text-align: right;\">\n",
              "      <th></th>\n",
              "      <th>primaryName</th>\n",
              "      <th>count_actors_movie</th>\n",
              "    </tr>\n",
              "  </thead>\n",
              "  <tbody>\n",
              "    <tr>\n",
              "      <th>19450</th>\n",
              "      <td>Robert De Niro</td>\n",
              "      <td>89</td>\n",
              "    </tr>\n",
              "    <tr>\n",
              "      <th>16853</th>\n",
              "      <td>Nicolas Cage</td>\n",
              "      <td>88</td>\n",
              "    </tr>\n",
              "    <tr>\n",
              "      <th>22537</th>\n",
              "      <td>Tim Bevan</td>\n",
              "      <td>76</td>\n",
              "    </tr>\n",
              "    <tr>\n",
              "      <th>474</th>\n",
              "      <td>Akshay Kumar</td>\n",
              "      <td>73</td>\n",
              "    </tr>\n",
              "    <tr>\n",
              "      <th>3194</th>\n",
              "      <td>Bruce Willis</td>\n",
              "      <td>72</td>\n",
              "    </tr>\n",
              "    <tr>\n",
              "      <th>20425</th>\n",
              "      <td>Samuel L. Jackson</td>\n",
              "      <td>72</td>\n",
              "    </tr>\n",
              "    <tr>\n",
              "      <th>22784</th>\n",
              "      <td>Tom Hanks</td>\n",
              "      <td>67</td>\n",
              "    </tr>\n",
              "    <tr>\n",
              "      <th>3054</th>\n",
              "      <td>Brian Grazer</td>\n",
              "      <td>66</td>\n",
              "    </tr>\n",
              "    <tr>\n",
              "      <th>4394</th>\n",
              "      <td>Clint Eastwood</td>\n",
              "      <td>65</td>\n",
              "    </tr>\n",
              "    <tr>\n",
              "      <th>15510</th>\n",
              "      <td>Michael Caine</td>\n",
              "      <td>63</td>\n",
              "    </tr>\n",
              "  </tbody>\n",
              "</table>\n",
              "</div>\n",
              "      <button class=\"colab-df-convert\" onclick=\"convertToInteractive('df-fc41b29c-ad7a-4e50-afe0-0abd41e17756')\"\n",
              "              title=\"Convert this dataframe to an interactive table.\"\n",
              "              style=\"display:none;\">\n",
              "        \n",
              "  <svg xmlns=\"http://www.w3.org/2000/svg\" height=\"24px\"viewBox=\"0 0 24 24\"\n",
              "       width=\"24px\">\n",
              "    <path d=\"M0 0h24v24H0V0z\" fill=\"none\"/>\n",
              "    <path d=\"M18.56 5.44l.94 2.06.94-2.06 2.06-.94-2.06-.94-.94-2.06-.94 2.06-2.06.94zm-11 1L8.5 8.5l.94-2.06 2.06-.94-2.06-.94L8.5 2.5l-.94 2.06-2.06.94zm10 10l.94 2.06.94-2.06 2.06-.94-2.06-.94-.94-2.06-.94 2.06-2.06.94z\"/><path d=\"M17.41 7.96l-1.37-1.37c-.4-.4-.92-.59-1.43-.59-.52 0-1.04.2-1.43.59L10.3 9.45l-7.72 7.72c-.78.78-.78 2.05 0 2.83L4 21.41c.39.39.9.59 1.41.59.51 0 1.02-.2 1.41-.59l7.78-7.78 2.81-2.81c.8-.78.8-2.07 0-2.86zM5.41 20L4 18.59l7.72-7.72 1.47 1.35L5.41 20z\"/>\n",
              "  </svg>\n",
              "      </button>\n",
              "      \n",
              "  <style>\n",
              "    .colab-df-container {\n",
              "      display:flex;\n",
              "      flex-wrap:wrap;\n",
              "      gap: 12px;\n",
              "    }\n",
              "\n",
              "    .colab-df-convert {\n",
              "      background-color: #E8F0FE;\n",
              "      border: none;\n",
              "      border-radius: 50%;\n",
              "      cursor: pointer;\n",
              "      display: none;\n",
              "      fill: #1967D2;\n",
              "      height: 32px;\n",
              "      padding: 0 0 0 0;\n",
              "      width: 32px;\n",
              "    }\n",
              "\n",
              "    .colab-df-convert:hover {\n",
              "      background-color: #E2EBFA;\n",
              "      box-shadow: 0px 1px 2px rgba(60, 64, 67, 0.3), 0px 1px 3px 1px rgba(60, 64, 67, 0.15);\n",
              "      fill: #174EA6;\n",
              "    }\n",
              "\n",
              "    [theme=dark] .colab-df-convert {\n",
              "      background-color: #3B4455;\n",
              "      fill: #D2E3FC;\n",
              "    }\n",
              "\n",
              "    [theme=dark] .colab-df-convert:hover {\n",
              "      background-color: #434B5C;\n",
              "      box-shadow: 0px 1px 3px 1px rgba(0, 0, 0, 0.15);\n",
              "      filter: drop-shadow(0px 1px 2px rgba(0, 0, 0, 0.3));\n",
              "      fill: #FFFFFF;\n",
              "    }\n",
              "  </style>\n",
              "\n",
              "      <script>\n",
              "        const buttonEl =\n",
              "          document.querySelector('#df-fc41b29c-ad7a-4e50-afe0-0abd41e17756 button.colab-df-convert');\n",
              "        buttonEl.style.display =\n",
              "          google.colab.kernel.accessAllowed ? 'block' : 'none';\n",
              "\n",
              "        async function convertToInteractive(key) {\n",
              "          const element = document.querySelector('#df-fc41b29c-ad7a-4e50-afe0-0abd41e17756');\n",
              "          const dataTable =\n",
              "            await google.colab.kernel.invokeFunction('convertToInteractive',\n",
              "                                                     [key], {});\n",
              "          if (!dataTable) return;\n",
              "\n",
              "          const docLinkHtml = 'Like what you see? Visit the ' +\n",
              "            '<a target=\"_blank\" href=https://colab.research.google.com/notebooks/data_table.ipynb>data table notebook</a>'\n",
              "            + ' to learn more about interactive tables.';\n",
              "          element.innerHTML = '';\n",
              "          dataTable['output_type'] = 'display_data';\n",
              "          await google.colab.output.renderOutput(dataTable, element);\n",
              "          const docLink = document.createElement('div');\n",
              "          docLink.innerHTML = docLinkHtml;\n",
              "          element.appendChild(docLink);\n",
              "        }\n",
              "      </script>\n",
              "    </div>\n",
              "  </div>\n",
              "  "
            ]
          },
          "metadata": {},
          "execution_count": 35
        }
      ]
    },
    {
      "cell_type": "code",
      "source": [
        "actor = str(input(\"Choose an actor \"))\n",
        "result=tp.loc[tp['primaryName'] == actor, 'count_actors_movie']\n",
        "if result.empty:\n",
        "  print(\"actor is not on the list\")\n",
        "else:\n",
        "  print(result)"
      ],
      "metadata": {
        "colab": {
          "base_uri": "https://localhost:8080/"
        },
        "id": "NPQNG5vgIQ-w",
        "outputId": "52f92c11-25a4-4bd9-91f1-f5326bfa9831"
      },
      "execution_count": null,
      "outputs": [
        {
          "output_type": "stream",
          "name": "stdout",
          "text": [
            "Choose an actor Brian Grazer\n",
            "3056    66\n",
            "Name: count_actors_movie, dtype: int64\n"
          ]
        }
      ]
    },
    {
      "cell_type": "code",
      "source": [
        "condition45 = top_movies_split['primaryProfession'] == 'actress'\n",
        "actress= top_movies_split[condition45][['nconst','primaryName','tconst','averageRating','wheighted','primaryProfession','titleType','startYear']]"
      ],
      "metadata": {
        "id": "8JfjIoLRkjMM"
      },
      "execution_count": 36,
      "outputs": []
    },
    {
      "cell_type": "code",
      "source": [
        "condition2 = actress['titleType'] == 'movie'\n",
        "condition3 = actress['titleType'] == 'short'\n",
        "condition4 = actress['startYear'] <= '2022'\n",
        "actress_ms = actress[condition2 | condition3 & condition4][['nconst','primaryName','tconst','averageRating','wheighted','primaryProfession','titleType','startYear']]\n"
      ],
      "metadata": {
        "id": "Yhu6Ctkg6Yjk"
      },
      "execution_count": 40,
      "outputs": []
    },
    {
      "cell_type": "code",
      "source": [
        "actress_ms['primaryProfession'].value_counts()"
      ],
      "metadata": {
        "id": "olwo77tU8vyD",
        "outputId": "f980fc74-e372-4e7e-80a0-60ecfb2f1ffb",
        "colab": {
          "base_uri": "https://localhost:8080/"
        }
      },
      "execution_count": 41,
      "outputs": [
        {
          "output_type": "execute_result",
          "data": {
            "text/plain": [
              "actress    590109\n",
              "Name: primaryProfession, dtype: int64"
            ]
          },
          "metadata": {},
          "execution_count": 41
        }
      ]
    },
    {
      "cell_type": "code",
      "source": [
        "condition4 = actress_ms['wheighted'] > actress_ms[\"wheighted\"].mean()\n",
        "\n",
        "t_actress = actress_ms[condition4][['nconst','primaryName','tconst','averageRating','wheighted','primaryProfession','titleType']]\n",
        "\n",
        "actress_t = t_actress.groupby('primaryName')['tconst'].count().reset_index(name='count_actress_movie') \n",
        "\n",
        "top_a = actress_t.sort_values(by=('count_actress_movie'), ascending=False).head(10)\n"
      ],
      "metadata": {
        "id": "NYgOHS3ccpzN"
      },
      "execution_count": 42,
      "outputs": []
    },
    {
      "cell_type": "code",
      "source": [
        "sns.set(rc={'figure.figsize':(12,8)})\n",
        "sns.set_style(\"white\")\n",
        "ax2 = sns.barplot(data=top_a, y=\"primaryName\", x=\"count_actress_movie\", color ='steelblue')\n",
        "ax2.set(title = 'TOP ACTRESSES')\n",
        "ax2.set(xlabel='Nº movies', ylabel='Actresses')\n"
      ],
      "metadata": {
        "colab": {
          "base_uri": "https://localhost:8080/",
          "height": 535
        },
        "id": "xmhKKpoQcuf9",
        "outputId": "26624026-3cb8-46a7-bc37-27bb18e9b47c"
      },
      "execution_count": 43,
      "outputs": [
        {
          "output_type": "execute_result",
          "data": {
            "text/plain": [
              "[Text(0, 0.5, 'Actresses'), Text(0.5, 0, 'Nº movies')]"
            ]
          },
          "metadata": {},
          "execution_count": 43
        },
        {
          "output_type": "display_data",
          "data": {
            "text/plain": [
              "<Figure size 864x576 with 1 Axes>"
            ],
            "image/png": "[encoded data removed]"
          },
          "metadata": {}
        }
      ]
    },
    {
      "cell_type": "code",
      "source": [
        "condition4 = top_movies_split['primaryProfession'] == 'writer'\n",
        "writer = top_movies_split[condition4][['nconst','primaryName','tconst','averageRating','wheighted','primaryProfession','titleType','startYear']]"
      ],
      "metadata": {
        "id": "hYqt_j2Tk0I_"
      },
      "execution_count": 45,
      "outputs": []
    },
    {
      "cell_type": "code",
      "source": [
        "condition4 = writer['startYear'] <= '2022'\n",
        "\n",
        "condition2 = writer['titleType'] == 'movie'\n",
        "condition3 = writer['titleType'] == 'short'\n",
        "writer_ms = writer[condition2 | condition3 & condition4][['nconst','primaryName','tconst','averageRating','wheighted','primaryProfession','titleType','startYear']]"
      ],
      "metadata": {
        "id": "1w76ta8Ctkw8"
      },
      "execution_count": 46,
      "outputs": []
    },
    {
      "cell_type": "code",
      "source": [
        "writer_ms['titleType'].value_counts()"
      ],
      "metadata": {
        "colab": {
          "base_uri": "https://localhost:8080/"
        },
        "id": "-WSWQfgOtQRd",
        "outputId": "e9dae107-c771-46ce-f346-36d2ffd87887"
      },
      "execution_count": 50,
      "outputs": [
        {
          "output_type": "execute_result",
          "data": {
            "text/plain": [
              "movie    763521\n",
              "short    256119\n",
              "Name: titleType, dtype: int64"
            ]
          },
          "metadata": {},
          "execution_count": 50
        }
      ]
    },
    {
      "cell_type": "code",
      "source": [
        "condition4 = writer_ms['wheighted'] > writer_ms['wheighted'].mean()\n",
        "t_writer = writer_ms[condition4][['nconst','primaryName','tconst','averageRating','wheighted','primaryProfession','titleType','startYear']]"
      ],
      "metadata": {
        "id": "sH7QqsUWeChS"
      },
      "execution_count": 55,
      "outputs": []
    },
    {
      "cell_type": "code",
      "source": [
        "top_w = t_writer.groupby('primaryName')['tconst'].count().reset_index(name='count_writer_movie') \n",
        "\n",
        "top_w = top_w .sort_values(by=('count_writer_movie'), ascending=False).head(10)\n"
      ],
      "metadata": {
        "id": "rWLnYZGxeLYh"
      },
      "execution_count": 56,
      "outputs": []
    },
    {
      "cell_type": "code",
      "source": [
        "top_w "
      ],
      "metadata": {
        "colab": {
          "base_uri": "https://localhost:8080/",
          "height": 363
        },
        "id": "f5hQeaSVvBe9",
        "outputId": "fa0f08a4-a350-4d2d-d288-d85535bd02b1"
      },
      "execution_count": 57,
      "outputs": [
        {
          "output_type": "execute_result",
          "data": {
            "text/plain": [
              "               primaryName  count_writer_movie\n",
              "3015          Brian Grazer                  65\n",
              "24505          Woody Allen                  57\n",
              "24427  William Shakespeare                  55\n",
              "22032         Stephen King                  54\n",
              "11473          John Cusack                  53\n",
              "14367           Luc Besson                  53\n",
              "22489   Sylvester Stallone                  51\n",
              "1696      Antonio Banderas                  51\n",
              "225           Adam Sandler                  47\n",
              "6979           Ethan Hawke                  47"
            ],
            "text/html": [
              "\n",
              "  <div id=\"df-9dafb31c-9e1a-4041-9b4c-0d9f33b7b041\">\n",
              "    <div class=\"colab-df-container\">\n",
              "      <div>\n",
              "<style scoped>\n",
              "    .dataframe tbody tr th:only-of-type {\n",
              "        vertical-align: middle;\n",
              "    }\n",
              "\n",
              "    .dataframe tbody tr th {\n",
              "        vertical-align: top;\n",
              "    }\n",
              "\n",
              "    .dataframe thead th {\n",
              "        text-align: right;\n",
              "    }\n",
              "</style>\n",
              "<table border=\"1\" class=\"dataframe\">\n",
              "  <thead>\n",
              "    <tr style=\"text-align: right;\">\n",
              "      <th></th>\n",
              "      <th>primaryName</th>\n",
              "      <th>count_writer_movie</th>\n",
              "    </tr>\n",
              "  </thead>\n",
              "  <tbody>\n",
              "    <tr>\n",
              "      <th>3015</th>\n",
              "      <td>Brian Grazer</td>\n",
              "      <td>65</td>\n",
              "    </tr>\n",
              "    <tr>\n",
              "      <th>24505</th>\n",
              "      <td>Woody Allen</td>\n",
              "      <td>57</td>\n",
              "    </tr>\n",
              "    <tr>\n",
              "      <th>24427</th>\n",
              "      <td>William Shakespeare</td>\n",
              "      <td>55</td>\n",
              "    </tr>\n",
              "    <tr>\n",
              "      <th>22032</th>\n",
              "      <td>Stephen King</td>\n",
              "      <td>54</td>\n",
              "    </tr>\n",
              "    <tr>\n",
              "      <th>11473</th>\n",
              "      <td>John Cusack</td>\n",
              "      <td>53</td>\n",
              "    </tr>\n",
              "    <tr>\n",
              "      <th>14367</th>\n",
              "      <td>Luc Besson</td>\n",
              "      <td>53</td>\n",
              "    </tr>\n",
              "    <tr>\n",
              "      <th>22489</th>\n",
              "      <td>Sylvester Stallone</td>\n",
              "      <td>51</td>\n",
              "    </tr>\n",
              "    <tr>\n",
              "      <th>1696</th>\n",
              "      <td>Antonio Banderas</td>\n",
              "      <td>51</td>\n",
              "    </tr>\n",
              "    <tr>\n",
              "      <th>225</th>\n",
              "      <td>Adam Sandler</td>\n",
              "      <td>47</td>\n",
              "    </tr>\n",
              "    <tr>\n",
              "      <th>6979</th>\n",
              "      <td>Ethan Hawke</td>\n",
              "      <td>47</td>\n",
              "    </tr>\n",
              "  </tbody>\n",
              "</table>\n",
              "</div>\n",
              "      <button class=\"colab-df-convert\" onclick=\"convertToInteractive('df-9dafb31c-9e1a-4041-9b4c-0d9f33b7b041')\"\n",
              "              title=\"Convert this dataframe to an interactive table.\"\n",
              "              style=\"display:none;\">\n",
              "        \n",
              "  <svg xmlns=\"http://www.w3.org/2000/svg\" height=\"24px\"viewBox=\"0 0 24 24\"\n",
              "       width=\"24px\">\n",
              "    <path d=\"M0 0h24v24H0V0z\" fill=\"none\"/>\n",
              "    <path d=\"M18.56 5.44l.94 2.06.94-2.06 2.06-.94-2.06-.94-.94-2.06-.94 2.06-2.06.94zm-11 1L8.5 8.5l.94-2.06 2.06-.94-2.06-.94L8.5 2.5l-.94 2.06-2.06.94zm10 10l.94 2.06.94-2.06 2.06-.94-2.06-.94-.94-2.06-.94 2.06-2.06.94z\"/><path d=\"M17.41 7.96l-1.37-1.37c-.4-.4-.92-.59-1.43-.59-.52 0-1.04.2-1.43.59L10.3 9.45l-7.72 7.72c-.78.78-.78 2.05 0 2.83L4 21.41c.39.39.9.59 1.41.59.51 0 1.02-.2 1.41-.59l7.78-7.78 2.81-2.81c.8-.78.8-2.07 0-2.86zM5.41 20L4 18.59l7.72-7.72 1.47 1.35L5.41 20z\"/>\n",
              "  </svg>\n",
              "      </button>\n",
              "      \n",
              "  <style>\n",
              "    .colab-df-container {\n",
              "      display:flex;\n",
              "      flex-wrap:wrap;\n",
              "      gap: 12px;\n",
              "    }\n",
              "\n",
              "    .colab-df-convert {\n",
              "      background-color: #E8F0FE;\n",
              "      border: none;\n",
              "      border-radius: 50%;\n",
              "      cursor: pointer;\n",
              "      display: none;\n",
              "      fill: #1967D2;\n",
              "      height: 32px;\n",
              "      padding: 0 0 0 0;\n",
              "      width: 32px;\n",
              "    }\n",
              "\n",
              "    .colab-df-convert:hover {\n",
              "      background-color: #E2EBFA;\n",
              "      box-shadow: 0px 1px 2px rgba(60, 64, 67, 0.3), 0px 1px 3px 1px rgba(60, 64, 67, 0.15);\n",
              "      fill: #174EA6;\n",
              "    }\n",
              "\n",
              "    [theme=dark] .colab-df-convert {\n",
              "      background-color: #3B4455;\n",
              "      fill: #D2E3FC;\n",
              "    }\n",
              "\n",
              "    [theme=dark] .colab-df-convert:hover {\n",
              "      background-color: #434B5C;\n",
              "      box-shadow: 0px 1px 3px 1px rgba(0, 0, 0, 0.15);\n",
              "      filter: drop-shadow(0px 1px 2px rgba(0, 0, 0, 0.3));\n",
              "      fill: #FFFFFF;\n",
              "    }\n",
              "  </style>\n",
              "\n",
              "      <script>\n",
              "        const buttonEl =\n",
              "          document.querySelector('#df-9dafb31c-9e1a-4041-9b4c-0d9f33b7b041 button.colab-df-convert');\n",
              "        buttonEl.style.display =\n",
              "          google.colab.kernel.accessAllowed ? 'block' : 'none';\n",
              "\n",
              "        async function convertToInteractive(key) {\n",
              "          const element = document.querySelector('#df-9dafb31c-9e1a-4041-9b4c-0d9f33b7b041');\n",
              "          const dataTable =\n",
              "            await google.colab.kernel.invokeFunction('convertToInteractive',\n",
              "                                                     [key], {});\n",
              "          if (!dataTable) return;\n",
              "\n",
              "          const docLinkHtml = 'Like what you see? Visit the ' +\n",
              "            '<a target=\"_blank\" href=https://colab.research.google.com/notebooks/data_table.ipynb>data table notebook</a>'\n",
              "            + ' to learn more about interactive tables.';\n",
              "          element.innerHTML = '';\n",
              "          dataTable['output_type'] = 'display_data';\n",
              "          await google.colab.output.renderOutput(dataTable, element);\n",
              "          const docLink = document.createElement('div');\n",
              "          docLink.innerHTML = docLinkHtml;\n",
              "          element.appendChild(docLink);\n",
              "        }\n",
              "      </script>\n",
              "    </div>\n",
              "  </div>\n",
              "  "
            ]
          },
          "metadata": {},
          "execution_count": 57
        }
      ]
    },
    {
      "cell_type": "code",
      "source": [
        "sns.set(rc={'figure.figsize':(12,8)})\n",
        "sns.set_style(\"white\")\n",
        "ax3 = sns.barplot(data=top_w, y=\"primaryName\", x=\"count_writer_movie\", color ='steelblue')\n",
        "ax3.set(title = 'TOP WRITERS')\n",
        "ax3.set(xlabel='Nº movies', ylabel='Writers')"
      ],
      "metadata": {
        "colab": {
          "base_uri": "https://localhost:8080/",
          "height": 535
        },
        "id": "mhO9gkfieZEB",
        "outputId": "af45c83e-97df-4e23-cd40-1b06aba4b4b9"
      },
      "execution_count": 54,
      "outputs": [
        {
          "output_type": "execute_result",
          "data": {
            "text/plain": [
              "[Text(0, 0.5, 'Writers'), Text(0.5, 0, 'Nº movies')]"
            ]
          },
          "metadata": {},
          "execution_count": 54
        },
        {
          "output_type": "display_data",
          "data": {
            "text/plain": [
              "<Figure size 864x576 with 1 Axes>"
            ],
            "image/png": "[encoded data removed]"
          },
          "metadata": {}
        }
      ]
    },
    {
      "cell_type": "code",
      "source": [
        "condition55 = top_movies_split['primaryProfession'] == 'director'\n",
        "director = top_movies_split[condition55][['nconst','primaryName','tconst','averageRating','wheighted','primaryProfession','titleType','startYear']]\n",
        "director['primaryProfession'].value_counts()"
      ],
      "metadata": {
        "colab": {
          "base_uri": "https://localhost:8080/"
        },
        "id": "DEOZExSTk8mz",
        "outputId": "a6b2bb3a-67c2-45d9-add1-2963c6f142a5"
      },
      "execution_count": 64,
      "outputs": [
        {
          "output_type": "execute_result",
          "data": {
            "text/plain": [
              "director    2269436\n",
              "Name: primaryProfession, dtype: int64"
            ]
          },
          "metadata": {},
          "execution_count": 64
        }
      ]
    },
    {
      "cell_type": "code",
      "source": [
        "condition26 = director['titleType'] == 'movie'\n",
        "condition36 = director['titleType'] == 'short'\n",
        "condition4 = director['startYear'] <= '2022'\n",
        "\n",
        "director_ms = director[condition26 | condition36 & condition4][['nconst','primaryName','tconst','averageRating','wheighted','primaryProfession','titleType','startYear']]\n"
      ],
      "metadata": {
        "id": "45LlQxTnumrT"
      },
      "execution_count": 66,
      "outputs": []
    },
    {
      "cell_type": "code",
      "source": [
        "director_ms['titleType'].value_counts()"
      ],
      "metadata": {
        "id": "dzSPvpuubOif",
        "outputId": "665c05cf-3cb1-4e89-8746-338e6ca43cb0",
        "colab": {
          "base_uri": "https://localhost:8080/"
        }
      },
      "execution_count": 67,
      "outputs": [
        {
          "output_type": "execute_result",
          "data": {
            "text/plain": [
              "movie    625471\n",
              "short    247020\n",
              "Name: titleType, dtype: int64"
            ]
          },
          "metadata": {},
          "execution_count": 67
        }
      ]
    },
    {
      "cell_type": "code",
      "source": [
        "condition6 = director_ms['wheighted'] > director_ms[\"wheighted\"].mean()\n",
        "t_director = director_ms[condition6][['nconst','primaryName','tconst','averageRating','wheighted','primaryProfession','titleType']]"
      ],
      "metadata": {
        "id": "ezk-tCAXenM6"
      },
      "execution_count": 68,
      "outputs": []
    },
    {
      "cell_type": "code",
      "source": [
        "t_director['titleType'].value_counts()"
      ],
      "metadata": {
        "colab": {
          "base_uri": "https://localhost:8080/"
        },
        "id": "gHS5bBjRu1Fu",
        "outputId": "7db0f71d-db9b-4d8c-b63e-374d9fe46f87"
      },
      "execution_count": 69,
      "outputs": [
        {
          "output_type": "execute_result",
          "data": {
            "text/plain": [
              "movie    49383\n",
              "short      700\n",
              "Name: titleType, dtype: int64"
            ]
          },
          "metadata": {},
          "execution_count": 69
        }
      ]
    },
    {
      "cell_type": "code",
      "source": [
        "director_t = t_director.groupby('primaryName')['tconst'].count().reset_index(name='count_director_movie') \n",
        "\n",
        "top_d = director_t.sort_values(by=('count_director_movie'), ascending=False).head(10)\n",
        "top_d"
      ],
      "metadata": {
        "colab": {
          "base_uri": "https://localhost:8080/",
          "height": 363
        },
        "id": "KBSEsa8Qe_In",
        "outputId": "79587729-4c14-4fbe-fa82-f25d41972450"
      },
      "execution_count": 70,
      "outputs": [
        {
          "output_type": "execute_result",
          "data": {
            "text/plain": [
              "          primaryName  count_director_movie\n",
              "3107   Clint Eastwood                    66\n",
              "17129     Woody Allen                    58\n",
              "10014      Luc Besson                    55\n",
              "3526     Danny DeVito                    51\n",
              "11036      Mel Gibson                    51\n",
              "169     Aditya Chopra                    49\n",
              "14027  Robert Redford                    48\n",
              "13447  Randall Emmett                    48\n",
              "1259   Anurag Kashyap                    46\n",
              "13828    Ridley Scott                    46"
            ],
            "text/html": [
              "\n",
              "  <div id=\"df-006ef1aa-b030-4794-afa3-aa1d1280e886\">\n",
              "    <div class=\"colab-df-container\">\n",
              "      <div>\n",
              "<style scoped>\n",
              "    .dataframe tbody tr th:only-of-type {\n",
              "        vertical-align: middle;\n",
              "    }\n",
              "\n",
              "    .dataframe tbody tr th {\n",
              "        vertical-align: top;\n",
              "    }\n",
              "\n",
              "    .dataframe thead th {\n",
              "        text-align: right;\n",
              "    }\n",
              "</style>\n",
              "<table border=\"1\" class=\"dataframe\">\n",
              "  <thead>\n",
              "    <tr style=\"text-align: right;\">\n",
              "      <th></th>\n",
              "      <th>primaryName</th>\n",
              "      <th>count_director_movie</th>\n",
              "    </tr>\n",
              "  </thead>\n",
              "  <tbody>\n",
              "    <tr>\n",
              "      <th>3107</th>\n",
              "      <td>Clint Eastwood</td>\n",
              "      <td>66</td>\n",
              "    </tr>\n",
              "    <tr>\n",
              "      <th>17129</th>\n",
              "      <td>Woody Allen</td>\n",
              "      <td>58</td>\n",
              "    </tr>\n",
              "    <tr>\n",
              "      <th>10014</th>\n",
              "      <td>Luc Besson</td>\n",
              "      <td>55</td>\n",
              "    </tr>\n",
              "    <tr>\n",
              "      <th>3526</th>\n",
              "      <td>Danny DeVito</td>\n",
              "      <td>51</td>\n",
              "    </tr>\n",
              "    <tr>\n",
              "      <th>11036</th>\n",
              "      <td>Mel Gibson</td>\n",
              "      <td>51</td>\n",
              "    </tr>\n",
              "    <tr>\n",
              "      <th>169</th>\n",
              "      <td>Aditya Chopra</td>\n",
              "      <td>49</td>\n",
              "    </tr>\n",
              "    <tr>\n",
              "      <th>14027</th>\n",
              "      <td>Robert Redford</td>\n",
              "      <td>48</td>\n",
              "    </tr>\n",
              "    <tr>\n",
              "      <th>13447</th>\n",
              "      <td>Randall Emmett</td>\n",
              "      <td>48</td>\n",
              "    </tr>\n",
              "    <tr>\n",
              "      <th>1259</th>\n",
              "      <td>Anurag Kashyap</td>\n",
              "      <td>46</td>\n",
              "    </tr>\n",
              "    <tr>\n",
              "      <th>13828</th>\n",
              "      <td>Ridley Scott</td>\n",
              "      <td>46</td>\n",
              "    </tr>\n",
              "  </tbody>\n",
              "</table>\n",
              "</div>\n",
              "      <button class=\"colab-df-convert\" onclick=\"convertToInteractive('df-006ef1aa-b030-4794-afa3-aa1d1280e886')\"\n",
              "              title=\"Convert this dataframe to an interactive table.\"\n",
              "              style=\"display:none;\">\n",
              "        \n",
              "  <svg xmlns=\"http://www.w3.org/2000/svg\" height=\"24px\"viewBox=\"0 0 24 24\"\n",
              "       width=\"24px\">\n",
              "    <path d=\"M0 0h24v24H0V0z\" fill=\"none\"/>\n",
              "    <path d=\"M18.56 5.44l.94 2.06.94-2.06 2.06-.94-2.06-.94-.94-2.06-.94 2.06-2.06.94zm-11 1L8.5 8.5l.94-2.06 2.06-.94-2.06-.94L8.5 2.5l-.94 2.06-2.06.94zm10 10l.94 2.06.94-2.06 2.06-.94-2.06-.94-.94-2.06-.94 2.06-2.06.94z\"/><path d=\"M17.41 7.96l-1.37-1.37c-.4-.4-.92-.59-1.43-.59-.52 0-1.04.2-1.43.59L10.3 9.45l-7.72 7.72c-.78.78-.78 2.05 0 2.83L4 21.41c.39.39.9.59 1.41.59.51 0 1.02-.2 1.41-.59l7.78-7.78 2.81-2.81c.8-.78.8-2.07 0-2.86zM5.41 20L4 18.59l7.72-7.72 1.47 1.35L5.41 20z\"/>\n",
              "  </svg>\n",
              "      </button>\n",
              "      \n",
              "  <style>\n",
              "    .colab-df-container {\n",
              "      display:flex;\n",
              "      flex-wrap:wrap;\n",
              "      gap: 12px;\n",
              "    }\n",
              "\n",
              "    .colab-df-convert {\n",
              "      background-color: #E8F0FE;\n",
              "      border: none;\n",
              "      border-radius: 50%;\n",
              "      cursor: pointer;\n",
              "      display: none;\n",
              "      fill: #1967D2;\n",
              "      height: 32px;\n",
              "      padding: 0 0 0 0;\n",
              "      width: 32px;\n",
              "    }\n",
              "\n",
              "    .colab-df-convert:hover {\n",
              "      background-color: #E2EBFA;\n",
              "      box-shadow: 0px 1px 2px rgba(60, 64, 67, 0.3), 0px 1px 3px 1px rgba(60, 64, 67, 0.15);\n",
              "      fill: #174EA6;\n",
              "    }\n",
              "\n",
              "    [theme=dark] .colab-df-convert {\n",
              "      background-color: #3B4455;\n",
              "      fill: #D2E3FC;\n",
              "    }\n",
              "\n",
              "    [theme=dark] .colab-df-convert:hover {\n",
              "      background-color: #434B5C;\n",
              "      box-shadow: 0px 1px 3px 1px rgba(0, 0, 0, 0.15);\n",
              "      filter: drop-shadow(0px 1px 2px rgba(0, 0, 0, 0.3));\n",
              "      fill: #FFFFFF;\n",
              "    }\n",
              "  </style>\n",
              "\n",
              "      <script>\n",
              "        const buttonEl =\n",
              "          document.querySelector('#df-006ef1aa-b030-4794-afa3-aa1d1280e886 button.colab-df-convert');\n",
              "        buttonEl.style.display =\n",
              "          google.colab.kernel.accessAllowed ? 'block' : 'none';\n",
              "\n",
              "        async function convertToInteractive(key) {\n",
              "          const element = document.querySelector('#df-006ef1aa-b030-4794-afa3-aa1d1280e886');\n",
              "          const dataTable =\n",
              "            await google.colab.kernel.invokeFunction('convertToInteractive',\n",
              "                                                     [key], {});\n",
              "          if (!dataTable) return;\n",
              "\n",
              "          const docLinkHtml = 'Like what you see? Visit the ' +\n",
              "            '<a target=\"_blank\" href=https://colab.research.google.com/notebooks/data_table.ipynb>data table notebook</a>'\n",
              "            + ' to learn more about interactive tables.';\n",
              "          element.innerHTML = '';\n",
              "          dataTable['output_type'] = 'display_data';\n",
              "          await google.colab.output.renderOutput(dataTable, element);\n",
              "          const docLink = document.createElement('div');\n",
              "          docLink.innerHTML = docLinkHtml;\n",
              "          element.appendChild(docLink);\n",
              "        }\n",
              "      </script>\n",
              "    </div>\n",
              "  </div>\n",
              "  "
            ]
          },
          "metadata": {},
          "execution_count": 70
        }
      ]
    },
    {
      "cell_type": "code",
      "source": [
        "sns.set(rc={'figure.figsize':(12,8)})\n",
        "sns.set_style(\"white\")\n",
        "ax4 = sns.barplot(data=top_d, y=\"primaryName\", x=\"count_director_movie\",color ='steelblue')\n",
        "ax4.set(title = 'TOP DIRECTORS')\n",
        "ax4.set(xlabel='Nº movies', ylabel='Directors')"
      ],
      "metadata": {
        "colab": {
          "base_uri": "https://localhost:8080/",
          "height": 535
        },
        "id": "PMp3p4Zqe5aq",
        "outputId": "d1cbfc54-ae6c-4f17-fbf2-ae32961e0a37"
      },
      "execution_count": 71,
      "outputs": [
        {
          "output_type": "execute_result",
          "data": {
            "text/plain": [
              "[Text(0, 0.5, 'Directors'), Text(0.5, 0, 'Nº movies')]"
            ]
          },
          "metadata": {},
          "execution_count": 71
        },
        {
          "output_type": "display_data",
          "data": {
            "text/plain": [
              "<Figure size 864x576 with 1 Axes>"
            ],
            "image/png": "[encoded data removed]"
          },
          "metadata": {}
        }
      ]
    }
  ]
}