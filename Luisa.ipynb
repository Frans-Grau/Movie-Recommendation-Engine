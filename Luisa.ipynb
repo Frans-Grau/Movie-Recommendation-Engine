{
 "cells": [
  {
   "cell_type": "code",
   "execution_count": null,
   "metadata": {},
   "outputs": [],
   "source": []
  }
 ],
 "metadata": {
  "kernelspec": {
   "display_name": "Python 3.10.7 64-bit",
   "language": "python",
   "name": "python3"
  },
  "language_info": {
   "name": "python",
   "version": "3.10.7"
  },
  "orig_nbformat": 4,
  "vscode": {
   "interpreter": {
    "hash": "d74960114c2e5d04a77495b49d6433637925ede632b126762ef4bc6304710b18"
   }
  }
 },
 "nbformat": 4,
 "nbformat_minor": 2
}
